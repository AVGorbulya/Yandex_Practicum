{
 "cells": [
  {
   "cell_type": "markdown",
   "id": "454f17c0",
   "metadata": {},
   "source": [
    "# Исследование надежности заемщиков"
   ]
  },
  {
   "cell_type": "markdown",
   "id": "390e2213",
   "metadata": {
    "toc": true
   },
   "source": [
    "<h1>Содержание<span class=\"tocSkip\"></span></h1>\n",
    "<div class=\"toc\"><ul class=\"toc-item\"><li><span><a href=\"#Цели,-план-и-методы-исследования-проекта-&quot;Исследование-надежности-заемщиков&quot;.\" data-toc-modified-id=\"Цели,-план-и-методы-исследования-проекта-&quot;Исследование-надежности-заемщиков&quot;.-1\"><span class=\"toc-item-num\">1&nbsp;&nbsp;</span>Цели, план и методы исследования проекта \"Исследование надежности заемщиков\".</a></span><ul class=\"toc-item\"><li><span><a href=\"#Главные-вопросы-на-которые-предстоит-ответить-в-рамках-данного-ислледования,-явялются:\" data-toc-modified-id=\"Главные-вопросы-на-которые-предстоит-ответить-в-рамках-данного-ислледования,-явялются:-1.1\"><span class=\"toc-item-num\">1.1&nbsp;&nbsp;</span>Главные вопросы на которые предстоит ответить в рамках данного ислледования, явялются:</a></span></li><li><span><a href=\"#План-исследования\" data-toc-modified-id=\"План-исследования-1.2\"><span class=\"toc-item-num\">1.2&nbsp;&nbsp;</span>План исследования</a></span><ul class=\"toc-item\"><li><span><a href=\"#Проведем-предобработку-данных-датафрема,-в-том-числе:\" data-toc-modified-id=\"Проведем-предобработку-данных-датафрема,-в-том-числе:-1.2.1\"><span class=\"toc-item-num\">1.2.1&nbsp;&nbsp;</span>Проведем предобработку данных датафрема, в том числе:</a></span></li><li><span><a href=\"#Во-второй-части-проведем-анализ-данных-обработанного-датафрема-для-получения-ответов-на-поставленные-в-целях-исследования-вопросы.\" data-toc-modified-id=\"Во-второй-части-проведем-анализ-данных-обработанного-датафрема-для-получения-ответов-на-поставленные-в-целях-исследования-вопросы.-1.2.2\"><span class=\"toc-item-num\">1.2.2&nbsp;&nbsp;</span>Во второй части проведем анализ данных обработанного датафрема для получения ответов на поставленные в целях исследования вопросы.</a></span></li><li><span><a href=\"#Подготовим-итоговые-выводы-по-проекту.\" data-toc-modified-id=\"Подготовим-итоговые-выводы-по-проекту.-1.2.3\"><span class=\"toc-item-num\">1.2.3&nbsp;&nbsp;</span>Подготовим итоговые выводы по проекту.</a></span></li></ul></li></ul></li><li><span><a href=\"#Загрузка-и-предобработка-данных\" data-toc-modified-id=\"Загрузка-и-предобработка-данных-2\"><span class=\"toc-item-num\">2&nbsp;&nbsp;</span>Загрузка и предобработка данных</a></span><ul class=\"toc-item\"><li><span><a href=\"#Предобработка-данных\" data-toc-modified-id=\"Предобработка-данных-2.1\"><span class=\"toc-item-num\">2.1&nbsp;&nbsp;</span>Предобработка данных</a></span><ul class=\"toc-item\"><li><span><a href=\"#Удаление-пропусков\" data-toc-modified-id=\"Удаление-пропусков-2.1.1\"><span class=\"toc-item-num\">2.1.1&nbsp;&nbsp;</span>Удаление пропусков</a></span></li></ul></li><li><span><a href=\"#Обработка-аномальных-значений\" data-toc-modified-id=\"Обработка-аномальных-значений-2.2\"><span class=\"toc-item-num\">2.2&nbsp;&nbsp;</span>Обработка аномальных значений</a></span></li><li><span><a href=\"#Удаление-пропусков-(продолжение)\" data-toc-modified-id=\"Удаление-пропусков-(продолжение)-2.3\"><span class=\"toc-item-num\">2.3&nbsp;&nbsp;</span>Удаление пропусков (продолжение)</a></span></li><li><span><a href=\"#Изменение-типов-данных\" data-toc-modified-id=\"Изменение-типов-данных-2.4\"><span class=\"toc-item-num\">2.4&nbsp;&nbsp;</span>Изменение типов данных</a></span></li><li><span><a href=\"#Обработка-дубликатов\" data-toc-modified-id=\"Обработка-дубликатов-2.5\"><span class=\"toc-item-num\">2.5&nbsp;&nbsp;</span>Обработка дубликатов</a></span></li><li><span><a href=\"#Категоризация-данных\" data-toc-modified-id=\"Категоризация-данных-2.6\"><span class=\"toc-item-num\">2.6&nbsp;&nbsp;</span>Категоризация данных</a></span></li></ul></li><li><span><a href=\"#Исселедваотельский-анализ-данных\" data-toc-modified-id=\"Исселедваотельский-анализ-данных-3\"><span class=\"toc-item-num\">3&nbsp;&nbsp;</span>Исселедваотельский анализ данных</a></span><ul class=\"toc-item\"><li><span><a href=\"#Есть-ли-зависимость-между-количеством-детей-и-возвратом-кредита-в-срок?\" data-toc-modified-id=\"Есть-ли-зависимость-между-количеством-детей-и-возвратом-кредита-в-срок?-3.1\"><span class=\"toc-item-num\">3.1&nbsp;&nbsp;</span>Есть ли зависимость между количеством детей и возвратом кредита в срок?</a></span></li><li><span><a href=\"#Есть-ли-зависимость-между-семейным-положением-и-возвратом-кредита-в-срок?\" data-toc-modified-id=\"Есть-ли-зависимость-между-семейным-положением-и-возвратом-кредита-в-срок?-3.2\"><span class=\"toc-item-num\">3.2&nbsp;&nbsp;</span>Есть ли зависимость между семейным положением и возвратом кредита в срок?</a></span></li><li><span><a href=\"#Есть-ли-зависимость-между-уровнем-дохода-и-возвратом-кредита-в-срок?\" data-toc-modified-id=\"Есть-ли-зависимость-между-уровнем-дохода-и-возвратом-кредита-в-срок?-3.3\"><span class=\"toc-item-num\">3.3&nbsp;&nbsp;</span>Есть ли зависимость между уровнем дохода и возвратом кредита в срок?</a></span></li><li><span><a href=\"#Как-разные-цели-кредита-влияют-на-его-возврат-в-срок?\" data-toc-modified-id=\"Как-разные-цели-кредита-влияют-на-его-возврат-в-срок?-3.4\"><span class=\"toc-item-num\">3.4&nbsp;&nbsp;</span>Как разные цели кредита влияют на его возврат в срок?</a></span><ul class=\"toc-item\"><li><span><a href=\"#Получение-образования---одна-из-групп-с-высоким-процентом-невозврата-в-срок,-рассмотрим-эту-группу-сгруппировав-получателей-займа-на-получение-образования-по-уровню-образования\" data-toc-modified-id=\"Получение-образования---одна-из-групп-с-высоким-процентом-невозврата-в-срок,-рассмотрим-эту-группу-сгруппировав-получателей-займа-на-получение-образования-по-уровню-образования-3.4.1\"><span class=\"toc-item-num\">3.4.1&nbsp;&nbsp;</span>Получение образования - одна из групп с высоким процентом невозврата в срок, рассмотрим эту группу сгруппировав получателей займа на получение образования по уровню образования</a></span></li></ul></li><li><span><a href=\"#Приведите-возможные-причины-появления-пропусков-в-исходных-данных.\" data-toc-modified-id=\"Приведите-возможные-причины-появления-пропусков-в-исходных-данных.-3.5\"><span class=\"toc-item-num\">3.5&nbsp;&nbsp;</span>Приведите возможные причины появления пропусков в исходных данных.</a></span></li><li><span><a href=\"#Объясните,-почему-заполнить-пропуски-медианным-значением-—-лучшее-решение-для-количественных-переменных.\" data-toc-modified-id=\"Объясните,-почему-заполнить-пропуски-медианным-значением-—-лучшее-решение-для-количественных-переменных.-3.6\"><span class=\"toc-item-num\">3.6&nbsp;&nbsp;</span>Объясните, почему заполнить пропуски медианным значением — лучшее решение для количественных переменных.</a></span></li></ul></li><li><span><a href=\"#Общий-вывод\" data-toc-modified-id=\"Общий-вывод-4\"><span class=\"toc-item-num\">4&nbsp;&nbsp;</span>Общий вывод</a></span><ul class=\"toc-item\"><li><span><a href=\"#В-первой-части-проведена-предобработка-датафрема,-в-том-числе:\" data-toc-modified-id=\"В-первой-части-проведена-предобработка-датафрема,-в-том-числе:-4.1\"><span class=\"toc-item-num\">4.1&nbsp;&nbsp;</span>В первой части проведена предобработка датафрема, в том числе:</a></span></li><li><span><a href=\"#Во-второй-части-исследования-проведен-анализ-данных-на-предмет-оценки-следущих-вопросов:\" data-toc-modified-id=\"Во-второй-части-исследования-проведен-анализ-данных-на-предмет-оценки-следущих-вопросов:-4.2\"><span class=\"toc-item-num\">4.2&nbsp;&nbsp;</span>Во-второй части исследования проведен анализ данных на предмет оценки следущих вопросов:</a></span></li></ul></li></ul></div>"
   ]
  },
  {
   "cell_type": "markdown",
   "id": "26843729",
   "metadata": {},
   "source": [
    "## Цели, план и методы исследования проекта \"Исследование надежности заемщиков\".\n",
    "\n",
    "### Главные вопросы на которые предстоит ответить в рамках данного ислледования, явялются:\n",
    "\n",
    "        1. Есть ли зависимость между количеством детей и возвратом кредита в срок?\n",
    "        2. Есть ли зависимость между семейным положением и возвратом кредита в срок?\n",
    "        3. Есть ли зависимость между уровнем дохода и возвратом кредита в срок?\n",
    "        4. Как разные цели кредита влияют на его возврат в срок?\n",
    "        5. Возможные причины появления пропусков в исходных данных.\n",
    "        6. Почему заполнить пропуски медианным значением — лучшее решение для количественных переменных?\n",
    "\n",
    "### План исследования\n",
    "\n",
    " #### Проведем предобработку данных датафрема, в том числе:\n",
    "     - найдем пропуски значений и опеределим метод их заполнения, если это возможно;\n",
    "     - выявим аномалии, экстремальные или нелогичные значения, выберем метод исправления или удаления, если исправить невозможно и показатели артефактов несущесвтенно влияют на данные;\n",
    "     - проанализируем типы данных в столбцах и исправим, при необходимости;\n",
    "     - проанализируем датафрейм на предмет наличия явных и неявных дубликатов: приведем значения в столбцах напиванные строчными и заглавными буквами к нижнему регистру, затем найдем все явные дубликаты и удалим их;\n",
    "     - для дальнейшего анализа (вопросы 3,4) и группировки данных по уровню дохода и целям кредита, создадим две дополнительных колонки, в одной из которых распределим всех заемщиков на пять групп по уровню дохода, во-второй, унифицируем название целей кредита, исходя из представленной информации от заемщиков.\n",
    "#### Во второй части проведем анализ данных обработанного датафрема для получения ответов на поставленные в целях исследования вопросы.\n",
    "     - Для этого по вопросам 1-4 сформируем сгруппированные по указанным в вопросах критериям (дети, семейное положение, доход, цели займа) срезы данных и рассчитаем процент невозвратов в срок по каждой группе, входящей в срез. \n",
    "     - Проанализируем полученные результаты, при необходимостиб перегрупперуем данные для более корректного анализа и сформируем выводы по каждому вопросу.\n",
    " \n",
    "#### Подготовим итоговые выводы по проекту. "
   ]
  },
  {
   "cell_type": "markdown",
   "id": "26613308",
   "metadata": {},
   "source": [
    "## Загрузка и предобработка данных"
   ]
  },
  {
   "cell_type": "code",
   "execution_count": 43,
   "id": "c3143507",
   "metadata": {},
   "outputs": [],
   "source": [
    "import pandas as pd"
   ]
  },
  {
   "cell_type": "code",
   "execution_count": 44,
   "id": "77a68a90",
   "metadata": {
    "deletable": false,
    "id": "77a68a90"
   },
   "outputs": [],
   "source": [
    "path = 'C:\\\\Users\\\\GAV\\\\Desktop\\\\Study\\\\BA\\\\PythonScripts\\\\Portfolio\\\\Total\\\\0_Итог\\\\Datasets\\\\data.csv'\n",
    "\n",
    "data = pd.read_csv(path)"
   ]
  },
  {
   "cell_type": "code",
   "execution_count": 45,
   "id": "b0451a9a",
   "metadata": {
    "deletable": false,
    "id": "b0451a9a",
    "outputId": "1a8f3ef2-d323-4ec2-ddf7-89670b5944c4"
   },
   "outputs": [
    {
     "data": {
      "text/html": [
       "<div>\n",
       "<style scoped>\n",
       "    .dataframe tbody tr th:only-of-type {\n",
       "        vertical-align: middle;\n",
       "    }\n",
       "\n",
       "    .dataframe tbody tr th {\n",
       "        vertical-align: top;\n",
       "    }\n",
       "\n",
       "    .dataframe thead th {\n",
       "        text-align: right;\n",
       "    }\n",
       "</style>\n",
       "<table border=\"1\" class=\"dataframe\">\n",
       "  <thead>\n",
       "    <tr style=\"text-align: right;\">\n",
       "      <th></th>\n",
       "      <th>children</th>\n",
       "      <th>days_employed</th>\n",
       "      <th>dob_years</th>\n",
       "      <th>education</th>\n",
       "      <th>education_id</th>\n",
       "      <th>family_status</th>\n",
       "      <th>family_status_id</th>\n",
       "      <th>gender</th>\n",
       "      <th>income_type</th>\n",
       "      <th>debt</th>\n",
       "      <th>total_income</th>\n",
       "      <th>purpose</th>\n",
       "    </tr>\n",
       "  </thead>\n",
       "  <tbody>\n",
       "    <tr>\n",
       "      <th>0</th>\n",
       "      <td>1</td>\n",
       "      <td>-8437.673028</td>\n",
       "      <td>42</td>\n",
       "      <td>высшее</td>\n",
       "      <td>0</td>\n",
       "      <td>женат / замужем</td>\n",
       "      <td>0</td>\n",
       "      <td>F</td>\n",
       "      <td>сотрудник</td>\n",
       "      <td>0</td>\n",
       "      <td>253875.639453</td>\n",
       "      <td>покупка жилья</td>\n",
       "    </tr>\n",
       "    <tr>\n",
       "      <th>1</th>\n",
       "      <td>1</td>\n",
       "      <td>-4024.803754</td>\n",
       "      <td>36</td>\n",
       "      <td>среднее</td>\n",
       "      <td>1</td>\n",
       "      <td>женат / замужем</td>\n",
       "      <td>0</td>\n",
       "      <td>F</td>\n",
       "      <td>сотрудник</td>\n",
       "      <td>0</td>\n",
       "      <td>112080.014102</td>\n",
       "      <td>приобретение автомобиля</td>\n",
       "    </tr>\n",
       "    <tr>\n",
       "      <th>2</th>\n",
       "      <td>0</td>\n",
       "      <td>-5623.422610</td>\n",
       "      <td>33</td>\n",
       "      <td>Среднее</td>\n",
       "      <td>1</td>\n",
       "      <td>женат / замужем</td>\n",
       "      <td>0</td>\n",
       "      <td>M</td>\n",
       "      <td>сотрудник</td>\n",
       "      <td>0</td>\n",
       "      <td>145885.952297</td>\n",
       "      <td>покупка жилья</td>\n",
       "    </tr>\n",
       "    <tr>\n",
       "      <th>3</th>\n",
       "      <td>3</td>\n",
       "      <td>-4124.747207</td>\n",
       "      <td>32</td>\n",
       "      <td>среднее</td>\n",
       "      <td>1</td>\n",
       "      <td>женат / замужем</td>\n",
       "      <td>0</td>\n",
       "      <td>M</td>\n",
       "      <td>сотрудник</td>\n",
       "      <td>0</td>\n",
       "      <td>267628.550329</td>\n",
       "      <td>дополнительное образование</td>\n",
       "    </tr>\n",
       "    <tr>\n",
       "      <th>4</th>\n",
       "      <td>0</td>\n",
       "      <td>340266.072047</td>\n",
       "      <td>53</td>\n",
       "      <td>среднее</td>\n",
       "      <td>1</td>\n",
       "      <td>гражданский брак</td>\n",
       "      <td>1</td>\n",
       "      <td>F</td>\n",
       "      <td>пенсионер</td>\n",
       "      <td>0</td>\n",
       "      <td>158616.077870</td>\n",
       "      <td>сыграть свадьбу</td>\n",
       "    </tr>\n",
       "  </tbody>\n",
       "</table>\n",
       "</div>"
      ],
      "text/plain": [
       "   children  days_employed  dob_years education  education_id  \\\n",
       "0         1   -8437.673028         42    высшее             0   \n",
       "1         1   -4024.803754         36   среднее             1   \n",
       "2         0   -5623.422610         33   Среднее             1   \n",
       "3         3   -4124.747207         32   среднее             1   \n",
       "4         0  340266.072047         53   среднее             1   \n",
       "\n",
       "      family_status  family_status_id gender income_type  debt   total_income  \\\n",
       "0   женат / замужем                 0      F   сотрудник     0  253875.639453   \n",
       "1   женат / замужем                 0      F   сотрудник     0  112080.014102   \n",
       "2   женат / замужем                 0      M   сотрудник     0  145885.952297   \n",
       "3   женат / замужем                 0      M   сотрудник     0  267628.550329   \n",
       "4  гражданский брак                 1      F   пенсионер     0  158616.077870   \n",
       "\n",
       "                      purpose  \n",
       "0               покупка жилья  \n",
       "1     приобретение автомобиля  \n",
       "2               покупка жилья  \n",
       "3  дополнительное образование  \n",
       "4             сыграть свадьбу  "
      ]
     },
     "execution_count": 45,
     "metadata": {},
     "output_type": "execute_result"
    }
   ],
   "source": [
    "data.head()"
   ]
  },
  {
   "cell_type": "code",
   "execution_count": 46,
   "id": "ab3f863b",
   "metadata": {
    "deletable": false,
    "id": "ab3f863b",
    "outputId": "15376089-8dad-46c9-b520-c05248d43158"
   },
   "outputs": [
    {
     "name": "stdout",
     "output_type": "stream",
     "text": [
      "<class 'pandas.core.frame.DataFrame'>\n",
      "RangeIndex: 21525 entries, 0 to 21524\n",
      "Data columns (total 12 columns):\n",
      " #   Column            Non-Null Count  Dtype  \n",
      "---  ------            --------------  -----  \n",
      " 0   children          21525 non-null  int64  \n",
      " 1   days_employed     19351 non-null  float64\n",
      " 2   dob_years         21525 non-null  int64  \n",
      " 3   education         21525 non-null  object \n",
      " 4   education_id      21525 non-null  int64  \n",
      " 5   family_status     21525 non-null  object \n",
      " 6   family_status_id  21525 non-null  int64  \n",
      " 7   gender            21525 non-null  object \n",
      " 8   income_type       21525 non-null  object \n",
      " 9   debt              21525 non-null  int64  \n",
      " 10  total_income      19351 non-null  float64\n",
      " 11  purpose           21525 non-null  object \n",
      "dtypes: float64(2), int64(5), object(5)\n",
      "memory usage: 2.0+ MB\n"
     ]
    }
   ],
   "source": [
    "data.info()"
   ]
  },
  {
   "cell_type": "markdown",
   "id": "60e3e22d",
   "metadata": {},
   "source": [
    "### Предобработка данных"
   ]
  },
  {
   "cell_type": "markdown",
   "id": "03dc170c",
   "metadata": {},
   "source": [
    "#### Удаление пропусков"
   ]
  },
  {
   "cell_type": "code",
   "execution_count": 47,
   "id": "2dc372b2",
   "metadata": {
    "deletable": false,
    "id": "2dc372b2",
    "outputId": "81f4d817-781c-465c-ed15-91ce4446810d"
   },
   "outputs": [
    {
     "data": {
      "text/plain": [
       "children               0\n",
       "days_employed       2174\n",
       "dob_years              0\n",
       "education              0\n",
       "education_id           0\n",
       "family_status          0\n",
       "family_status_id       0\n",
       "gender                 0\n",
       "income_type            0\n",
       "debt                   0\n",
       "total_income        2174\n",
       "purpose                0\n",
       "dtype: int64"
      ]
     },
     "execution_count": 47,
     "metadata": {},
     "output_type": "execute_result"
    }
   ],
   "source": [
    "data.isna().sum()"
   ]
  },
  {
   "cell_type": "markdown",
   "id": "14f011b1",
   "metadata": {},
   "source": [
    "**В двух столбцах есть пропущенные значения. Один из них — `days_employed`. Пропуски в этом столбце вы обработаете на следующем этапе. Другой столбец с пропущенными значениями — `total_income` — хранит данные о доходах. На сумму дохода сильнее всего влияет тип занятости, поэтому заполнить пропуски в этом столбце нужно медианным значением по каждому типу из столбца `income_type`. Например, у человека с типом занятости `сотрудник` пропуск в столбце `total_income` должен быть заполнен медианным доходом среди всех записей с тем же типом.**"
   ]
  },
  {
   "cell_type": "code",
   "execution_count": 48,
   "id": "bdabfb6e",
   "metadata": {
    "deletable": false,
    "id": "bdabfb6e"
   },
   "outputs": [],
   "source": [
    "for t in data['income_type'].unique():\n",
    "    data.loc[(data['income_type'] == t) & (data['total_income'].isna()), 'total_income'] = \\\n",
    "    data.loc[(data['income_type'] == t), 'total_income'].median()"
   ]
  },
  {
   "cell_type": "markdown",
   "id": "5be34059",
   "metadata": {
    "deletable": false,
    "editable": false,
    "id": "5be34059"
   },
   "source": [
    "### Обработка аномальных значений"
   ]
  },
  {
   "cell_type": "markdown",
   "id": "a87606cb",
   "metadata": {},
   "source": [
    "**В данных могут встречаться артефакты (аномалии) — значения, которые не отражают действительность и появились по какой-то ошибке. таким артефактом будет отрицательное количество дней трудового стажа в столбце `days_employed`. Для реальных данных это нормально. Обработайте значения в этом столбце: замените все отрицательные значения положительными с помощью метода `abs()`.**"
   ]
  },
  {
   "cell_type": "code",
   "execution_count": 49,
   "id": "020c46cc",
   "metadata": {
    "deletable": false,
    "id": "020c46cc"
   },
   "outputs": [],
   "source": [
    "data['days_employed'] = data['days_employed'].abs()"
   ]
  },
  {
   "cell_type": "markdown",
   "id": "45538a3a",
   "metadata": {},
   "source": [
    "**Для каждого типа занятости выведите медианное значение трудового стажа `days_employed` в днях.**"
   ]
  },
  {
   "cell_type": "code",
   "execution_count": 50,
   "id": "cd3e6328",
   "metadata": {
    "deletable": false,
    "id": "cd3e6328",
    "outputId": "801ef80e-522b-4668-f34e-565af7432bcf"
   },
   "outputs": [
    {
     "data": {
      "text/plain": [
       "income_type\n",
       "безработный        366413.652744\n",
       "в декрете            3296.759962\n",
       "госслужащий          2689.368353\n",
       "компаньон            1547.382223\n",
       "пенсионер          365213.306266\n",
       "предприниматель       520.848083\n",
       "сотрудник            1574.202821\n",
       "студент               578.751554\n",
       "Name: days_employed, dtype: float64"
      ]
     },
     "execution_count": 50,
     "metadata": {},
     "output_type": "execute_result"
    }
   ],
   "source": [
    "data.groupby('income_type')['days_employed'].agg('median')"
   ]
  },
  {
   "cell_type": "markdown",
   "id": "90c5f058",
   "metadata": {
    "deletable": false,
    "editable": false,
    "id": "90c5f058"
   },
   "source": [
    "У двух типов (безработные и пенсионеры) получатся аномально большие значения. Исправить такие значения сложно, поэтому оставьте их как есть."
   ]
  },
  {
   "cell_type": "markdown",
   "id": "9652e50d",
   "metadata": {},
   "source": [
    "**Выведите перечень уникальных значений столбца `children`.**"
   ]
  },
  {
   "cell_type": "code",
   "execution_count": 51,
   "id": "dbb37b8e",
   "metadata": {
    "deletable": false,
    "id": "dbb37b8e",
    "outputId": "6975b15c-7f95-4697-d16d-a0c79b657b03"
   },
   "outputs": [
    {
     "data": {
      "text/plain": [
       "array([ 1,  0,  3,  2, -1,  4, 20,  5], dtype=int64)"
      ]
     },
     "execution_count": 51,
     "metadata": {},
     "output_type": "execute_result"
    }
   ],
   "source": [
    "data['children'].unique()"
   ]
  },
  {
   "cell_type": "markdown",
   "id": "2b8b0715",
   "metadata": {},
   "source": [
    "**В столбце `children` есть два аномальных значения. Удалите строки, в которых встречаются такие аномальные значения из датафрейма `data`.**"
   ]
  },
  {
   "cell_type": "code",
   "execution_count": 52,
   "id": "20009df8",
   "metadata": {
    "deletable": false,
    "id": "20009df8"
   },
   "outputs": [],
   "source": [
    "data = data[(data['children'] != -1) & (data['children'] != 20)]"
   ]
  },
  {
   "cell_type": "markdown",
   "id": "8c6ac9f1",
   "metadata": {},
   "source": [
    "**Ещё раз выведите перечень уникальных значений столбца `children`, чтобы убедиться, что артефакты удалены.**"
   ]
  },
  {
   "cell_type": "code",
   "execution_count": 53,
   "id": "07337b81",
   "metadata": {
    "deletable": false,
    "id": "07337b81",
    "outputId": "b2097101-d49d-44d9-901b-32a65c9463d1"
   },
   "outputs": [
    {
     "data": {
      "text/plain": [
       "array([1, 0, 3, 2, 4, 5], dtype=int64)"
      ]
     },
     "execution_count": 53,
     "metadata": {},
     "output_type": "execute_result"
    }
   ],
   "source": [
    "data['children'].unique()"
   ]
  },
  {
   "cell_type": "markdown",
   "id": "ee3f52d4",
   "metadata": {
    "deletable": false,
    "editable": false,
    "id": "ee3f52d4"
   },
   "source": [
    "### Удаление пропусков (продолжение)"
   ]
  },
  {
   "cell_type": "markdown",
   "id": "a700b0e4",
   "metadata": {},
   "source": [
    "**Заполните пропуски в столбце `days_employed` медианными значениями по каждого типа занятости `income_type`.**"
   ]
  },
  {
   "cell_type": "code",
   "execution_count": 54,
   "id": "61946b83",
   "metadata": {
    "deletable": false,
    "id": "61946b83"
   },
   "outputs": [],
   "source": [
    "for t in data['income_type'].unique():\n",
    "    data.loc[(data['income_type'] == t) & (data['days_employed'].isna()), 'days_employed'] = \\\n",
    "    data.loc[(data['income_type'] == t), 'days_employed'].median()"
   ]
  },
  {
   "cell_type": "markdown",
   "id": "550dcd9b",
   "metadata": {},
   "source": [
    "**Убедитесь, что все пропуски заполнены. Проверьте себя и ещё раз выведите количество пропущенных значений для каждого столбца с помощью двух методов.**"
   ]
  },
  {
   "cell_type": "code",
   "execution_count": 55,
   "id": "937c7014",
   "metadata": {
    "deletable": false,
    "id": "937c7014",
    "outputId": "8da1e4e1-358e-4e87-98c9-f261bce0a7b2"
   },
   "outputs": [
    {
     "data": {
      "text/plain": [
       "children            0\n",
       "days_employed       0\n",
       "dob_years           0\n",
       "education           0\n",
       "education_id        0\n",
       "family_status       0\n",
       "family_status_id    0\n",
       "gender              0\n",
       "income_type         0\n",
       "debt                0\n",
       "total_income        0\n",
       "purpose             0\n",
       "dtype: int64"
      ]
     },
     "execution_count": 55,
     "metadata": {},
     "output_type": "execute_result"
    }
   ],
   "source": [
    "data.isna().sum()"
   ]
  },
  {
   "cell_type": "markdown",
   "id": "d522e295",
   "metadata": {
    "deletable": false,
    "editable": false,
    "id": "d522e295"
   },
   "source": [
    "### Изменение типов данных"
   ]
  },
  {
   "cell_type": "markdown",
   "id": "c229c581",
   "metadata": {},
   "source": [
    "**Замените вещественный тип данных в столбце `total_income` на целочисленный с помощью метода `astype()`.**"
   ]
  },
  {
   "cell_type": "code",
   "execution_count": 56,
   "id": "31036462",
   "metadata": {
    "deletable": false,
    "id": "31036462"
   },
   "outputs": [],
   "source": [
    "data['total_income'] = data['total_income'].astype(int)"
   ]
  },
  {
   "cell_type": "markdown",
   "id": "b8e3d1d9",
   "metadata": {
    "deletable": false,
    "editable": false,
    "id": "b8e3d1d9"
   },
   "source": [
    "### Обработка дубликатов"
   ]
  },
  {
   "cell_type": "markdown",
   "id": "9be53c49",
   "metadata": {},
   "source": [
    "**Обработайте неявные дубликаты в столбце `education`. В этом столбце есть одни и те же значения, но записанные по-разному: с использованием заглавных и строчных букв. Приведите их к нижнему регистру.**"
   ]
  },
  {
   "cell_type": "code",
   "execution_count": 57,
   "id": "d89e73e1",
   "metadata": {
    "deletable": false,
    "id": "d89e73e1"
   },
   "outputs": [],
   "source": [
    "data['education'] = data['education'].str.lower()"
   ]
  },
  {
   "cell_type": "markdown",
   "id": "01d4500e",
   "metadata": {},
   "source": [
    "**Выведите на экран количество строк-дубликатов в данных. Если такие строки присутствуют, удалите их.**"
   ]
  },
  {
   "cell_type": "code",
   "execution_count": 58,
   "id": "e10efb23",
   "metadata": {
    "deletable": false,
    "id": "e10efb23",
    "outputId": "9684deba-1934-42d1-99e1-cda61740f822"
   },
   "outputs": [
    {
     "data": {
      "text/plain": [
       "71"
      ]
     },
     "execution_count": 58,
     "metadata": {},
     "output_type": "execute_result"
    }
   ],
   "source": [
    "data.duplicated().sum()"
   ]
  },
  {
   "cell_type": "code",
   "execution_count": 59,
   "id": "df853f20",
   "metadata": {
    "deletable": false,
    "id": "df853f20"
   },
   "outputs": [],
   "source": [
    "data = data.drop_duplicates()"
   ]
  },
  {
   "cell_type": "markdown",
   "id": "627be38f",
   "metadata": {
    "deletable": false,
    "editable": false,
    "id": "627be38f"
   },
   "source": [
    "### Категоризация данных"
   ]
  },
  {
   "cell_type": "markdown",
   "id": "4684c3e0",
   "metadata": {},
   "source": [
    "**На основании диапазонов, указанных ниже, создайте в датафрейме `data` столбец `total_income_category` с категориями:**\n",
    "\n",
    "- 0–30000 — `'E'`;\n",
    "- 30001–50000 — `'D'`;\n",
    "- 50001–200000 — `'C'`;\n",
    "- 200001–1000000 — `'B'`;\n",
    "- 1000001 и выше — `'A'`.\n",
    "\n",
    "\n",
    "**Например, кредитополучателю с доходом 25000 нужно назначить категорию `'E'`, а клиенту, получающему 235000, — `'B'`. Используйте собственную функцию с именем `categorize_income()` и метод `apply()`.**"
   ]
  },
  {
   "cell_type": "code",
   "execution_count": 60,
   "id": "78965238",
   "metadata": {
    "deletable": false,
    "id": "78965238"
   },
   "outputs": [],
   "source": [
    "def categorize_income(income):\n",
    "    try:\n",
    "        if 0 <= income <= 30000:\n",
    "            return 'E - до 0,03 млн. руб.'\n",
    "        elif 30001 <= income <= 50000:\n",
    "            return 'D- от 0,03 до 0,05 млн. руб.'\n",
    "        elif 50001 <= income <= 200000:\n",
    "            return 'C- от 0,05 до 0,2 млн. руб.'\n",
    "        elif 200001 <= income <= 1000000:\n",
    "            return 'B - от 0,2 до 1 млн. руб.'\n",
    "        elif income >= 1000001:\n",
    "            return 'A - больше 1 млн. руб.'\n",
    "    except:\n",
    "        pass"
   ]
  },
  {
   "cell_type": "code",
   "execution_count": 61,
   "id": "0980ada1",
   "metadata": {
    "deletable": false,
    "id": "0980ada1"
   },
   "outputs": [],
   "source": [
    "data['total_income_category'] = data['total_income'].apply(categorize_income)"
   ]
  },
  {
   "cell_type": "markdown",
   "id": "9917bba0",
   "metadata": {},
   "source": [
    "**Выведите на экран перечень уникальных целей взятия кредита из столбца `purpose`.**"
   ]
  },
  {
   "cell_type": "code",
   "execution_count": 62,
   "id": "ee07b65e",
   "metadata": {},
   "outputs": [
    {
     "data": {
      "text/plain": [
       "array(['покупка жилья', 'приобретение автомобиля',\n",
       "       'дополнительное образование', 'сыграть свадьбу',\n",
       "       'операции с жильем', 'образование', 'на проведение свадьбы',\n",
       "       'покупка жилья для семьи', 'покупка недвижимости',\n",
       "       'покупка коммерческой недвижимости', 'покупка жилой недвижимости',\n",
       "       'строительство собственной недвижимости', 'недвижимость',\n",
       "       'строительство недвижимости', 'на покупку подержанного автомобиля',\n",
       "       'на покупку своего автомобиля',\n",
       "       'операции с коммерческой недвижимостью',\n",
       "       'строительство жилой недвижимости', 'жилье',\n",
       "       'операции со своей недвижимостью', 'автомобили',\n",
       "       'заняться образованием', 'сделка с подержанным автомобилем',\n",
       "       'получение образования', 'автомобиль', 'свадьба',\n",
       "       'получение дополнительного образования', 'покупка своего жилья',\n",
       "       'операции с недвижимостью', 'получение высшего образования',\n",
       "       'свой автомобиль', 'сделка с автомобилем',\n",
       "       'профильное образование', 'высшее образование',\n",
       "       'покупка жилья для сдачи', 'на покупку автомобиля', 'ремонт жилью',\n",
       "       'заняться высшим образованием'], dtype=object)"
      ]
     },
     "execution_count": 62,
     "metadata": {},
     "output_type": "execute_result"
    }
   ],
   "source": [
    "data['purpose'].unique()"
   ]
  },
  {
   "cell_type": "markdown",
   "id": "52b79d56",
   "metadata": {},
   "source": [
    "**Создайте функцию, которая на основании данных из столбца `purpose` сформирует новый столбец `purpose_category`, в который войдут следующие категории:**\n",
    "\n",
    "- `'операции с автомобилем'`,\n",
    "- `'операции с недвижимостью'`,\n",
    "- `'проведение свадьбы'`,\n",
    "- `'получение образования'`.\n",
    "\n",
    "**Например, если в столбце `purpose` находится подстрока `'на покупку автомобиля'`, то в столбце `purpose_category` должна появиться строка `'операции с автомобилем'`.**\n",
    "\n",
    "**Используйте собственную функцию с именем `categorize_purpose()` и метод `apply()`. Изучите данные в столбце `purpose` и определите, какие подстроки помогут вам правильно определить категорию.**"
   ]
  },
  {
   "cell_type": "code",
   "execution_count": 63,
   "id": "be41da5d",
   "metadata": {
    "deletable": false,
    "id": "be41da5d"
   },
   "outputs": [],
   "source": [
    "def categorize_purpose(row):\n",
    "    try:\n",
    "        if 'автом' in row:\n",
    "            return 'операции с автомобилем'\n",
    "        elif 'жил' in row or 'недвиж' in row:\n",
    "            return 'операции с недвижимостью'\n",
    "        elif 'свад' in row:\n",
    "            return 'проведение свадьбы'\n",
    "        elif 'образов' in row:\n",
    "            return 'получение образования'\n",
    "    except:\n",
    "        return 'нет категории'"
   ]
  },
  {
   "cell_type": "code",
   "execution_count": 64,
   "id": "94c4a19a",
   "metadata": {
    "deletable": false,
    "id": "94c4a19a"
   },
   "outputs": [],
   "source": [
    "data['purpose_category'] = data['purpose'].apply(categorize_purpose)"
   ]
  },
  {
   "cell_type": "markdown",
   "id": "3d596c34",
   "metadata": {},
   "source": [
    "## Исселедваотельский анализ данных"
   ]
  },
  {
   "cell_type": "markdown",
   "id": "648db036",
   "metadata": {},
   "source": [
    "### Есть ли зависимость между количеством детей и возвратом кредита в срок?"
   ]
  },
  {
   "cell_type": "code",
   "execution_count": 65,
   "id": "63179cd0",
   "metadata": {},
   "outputs": [],
   "source": [
    "#создадим функцию для группировки срезов данных по необходимым для последующего анализа критериям (дети, семейное положение, доход, цели кредита)\n",
    "def group_and_agg(dataframe, group_by_column, aggregation_column):\n",
    "    # расчитаем общее количество заемщиков по каждой группе и количество невозвратов по ним же.\n",
    "    grouped = dataframe.groupby(group_by_column).agg({aggregation_column: ['count', 'sum']})\n",
    "    # рассчитаем долю каждой группы в общем количестве заемщиков в колонке 'struct_%'\n",
    "    grouped['struct_%'] = (grouped['debt']['count'] /grouped['debt']['count'].sum()).multiply(100)\n",
    "    # расчитаем в столбце 'non_repayment_%' процент тех, кто имел задолженность по возврату кредитов для каждой групппы\n",
    "    grouped['non_repayment_%'] = (grouped['debt']['sum'] /grouped['debt']['count']).multiply(100)\n",
    "    return grouped"
   ]
  },
  {
   "cell_type": "code",
   "execution_count": 66,
   "id": "040e52fd",
   "metadata": {},
   "outputs": [
    {
     "data": {
      "text/html": [
       "<div>\n",
       "<style scoped>\n",
       "    .dataframe tbody tr th:only-of-type {\n",
       "        vertical-align: middle;\n",
       "    }\n",
       "\n",
       "    .dataframe tbody tr th {\n",
       "        vertical-align: top;\n",
       "    }\n",
       "\n",
       "    .dataframe thead tr th {\n",
       "        text-align: left;\n",
       "    }\n",
       "\n",
       "    .dataframe thead tr:last-of-type th {\n",
       "        text-align: right;\n",
       "    }\n",
       "</style>\n",
       "<table border=\"1\" class=\"dataframe\">\n",
       "  <thead>\n",
       "    <tr>\n",
       "      <th></th>\n",
       "      <th colspan=\"2\" halign=\"left\">debt</th>\n",
       "      <th>struct_%</th>\n",
       "      <th>non_repayment_%</th>\n",
       "    </tr>\n",
       "    <tr>\n",
       "      <th></th>\n",
       "      <th>count</th>\n",
       "      <th>sum</th>\n",
       "      <th></th>\n",
       "      <th></th>\n",
       "    </tr>\n",
       "    <tr>\n",
       "      <th>children</th>\n",
       "      <th></th>\n",
       "      <th></th>\n",
       "      <th></th>\n",
       "      <th></th>\n",
       "    </tr>\n",
       "  </thead>\n",
       "  <tbody>\n",
       "    <tr>\n",
       "      <th>0</th>\n",
       "      <td>14091</td>\n",
       "      <td>1063</td>\n",
       "      <td>66.058788</td>\n",
       "      <td>7.543822</td>\n",
       "    </tr>\n",
       "    <tr>\n",
       "      <th>1</th>\n",
       "      <td>4808</td>\n",
       "      <td>444</td>\n",
       "      <td>22.539965</td>\n",
       "      <td>9.234609</td>\n",
       "    </tr>\n",
       "    <tr>\n",
       "      <th>2</th>\n",
       "      <td>2052</td>\n",
       "      <td>194</td>\n",
       "      <td>9.619802</td>\n",
       "      <td>9.454191</td>\n",
       "    </tr>\n",
       "    <tr>\n",
       "      <th>3</th>\n",
       "      <td>330</td>\n",
       "      <td>27</td>\n",
       "      <td>1.547044</td>\n",
       "      <td>8.181818</td>\n",
       "    </tr>\n",
       "    <tr>\n",
       "      <th>4</th>\n",
       "      <td>41</td>\n",
       "      <td>4</td>\n",
       "      <td>0.192209</td>\n",
       "      <td>9.756098</td>\n",
       "    </tr>\n",
       "    <tr>\n",
       "      <th>5</th>\n",
       "      <td>9</td>\n",
       "      <td>0</td>\n",
       "      <td>0.042192</td>\n",
       "      <td>0.000000</td>\n",
       "    </tr>\n",
       "  </tbody>\n",
       "</table>\n",
       "</div>"
      ],
      "text/plain": [
       "           debt         struct_% non_repayment_%\n",
       "          count   sum                           \n",
       "children                                        \n",
       "0         14091  1063  66.058788        7.543822\n",
       "1          4808   444  22.539965        9.234609\n",
       "2          2052   194   9.619802        9.454191\n",
       "3           330    27   1.547044        8.181818\n",
       "4            41     4   0.192209        9.756098\n",
       "5             9     0   0.042192        0.000000"
      ]
     },
     "execution_count": 66,
     "metadata": {},
     "output_type": "execute_result"
    }
   ],
   "source": [
    "# Вызов функции группировки по критерию 'children'\n",
    "child_grouped = group_and_agg(data, 'children', 'debt')\n",
    "child_grouped"
   ]
  },
  {
   "cell_type": "code",
   "execution_count": 67,
   "id": "7fcff25e",
   "metadata": {
    "deletable": false,
    "id": "7fcff25e",
    "scrolled": true
   },
   "outputs": [
    {
     "data": {
      "text/html": [
       "<div>\n",
       "<style scoped>\n",
       "    .dataframe tbody tr th:only-of-type {\n",
       "        vertical-align: middle;\n",
       "    }\n",
       "\n",
       "    .dataframe tbody tr th {\n",
       "        vertical-align: top;\n",
       "    }\n",
       "\n",
       "    .dataframe thead tr th {\n",
       "        text-align: left;\n",
       "    }\n",
       "\n",
       "    .dataframe thead tr:last-of-type th {\n",
       "        text-align: right;\n",
       "    }\n",
       "</style>\n",
       "<table border=\"1\" class=\"dataframe\">\n",
       "  <thead>\n",
       "    <tr>\n",
       "      <th></th>\n",
       "      <th colspan=\"2\" halign=\"left\">Заемщики</th>\n",
       "      <th>Структура заемщиков по группам,%</th>\n",
       "      <th>Доля неплательщиков,%</th>\n",
       "    </tr>\n",
       "    <tr>\n",
       "      <th></th>\n",
       "      <th>Кол-во заемщиков</th>\n",
       "      <th>Кол-во просрочек</th>\n",
       "      <th></th>\n",
       "      <th></th>\n",
       "    </tr>\n",
       "    <tr>\n",
       "      <th>children</th>\n",
       "      <th></th>\n",
       "      <th></th>\n",
       "      <th></th>\n",
       "      <th></th>\n",
       "    </tr>\n",
       "  </thead>\n",
       "  <tbody>\n",
       "    <tr>\n",
       "      <th>0</th>\n",
       "      <td>14091</td>\n",
       "      <td>1063</td>\n",
       "      <td>66.058788</td>\n",
       "      <td>7.543822</td>\n",
       "    </tr>\n",
       "    <tr>\n",
       "      <th>1</th>\n",
       "      <td>4808</td>\n",
       "      <td>444</td>\n",
       "      <td>22.539965</td>\n",
       "      <td>9.234609</td>\n",
       "    </tr>\n",
       "    <tr>\n",
       "      <th>2</th>\n",
       "      <td>2052</td>\n",
       "      <td>194</td>\n",
       "      <td>9.619802</td>\n",
       "      <td>9.454191</td>\n",
       "    </tr>\n",
       "    <tr>\n",
       "      <th>3</th>\n",
       "      <td>330</td>\n",
       "      <td>27</td>\n",
       "      <td>1.547044</td>\n",
       "      <td>8.181818</td>\n",
       "    </tr>\n",
       "    <tr>\n",
       "      <th>4</th>\n",
       "      <td>41</td>\n",
       "      <td>4</td>\n",
       "      <td>0.192209</td>\n",
       "      <td>9.756098</td>\n",
       "    </tr>\n",
       "    <tr>\n",
       "      <th>5</th>\n",
       "      <td>9</td>\n",
       "      <td>0</td>\n",
       "      <td>0.042192</td>\n",
       "      <td>0.000000</td>\n",
       "    </tr>\n",
       "  </tbody>\n",
       "</table>\n",
       "</div>"
      ],
      "text/plain": [
       "                 Заемщики                  Структура заемщиков по группам,%  \\\n",
       "         Кол-во заемщиков Кол-во просрочек                                    \n",
       "children                                                                      \n",
       "0                   14091             1063                        66.058788   \n",
       "1                    4808              444                        22.539965   \n",
       "2                    2052              194                         9.619802   \n",
       "3                     330               27                         1.547044   \n",
       "4                      41                4                         0.192209   \n",
       "5                       9                0                         0.042192   \n",
       "\n",
       "         Доля неплательщиков,%  \n",
       "                                \n",
       "children                        \n",
       "0                     7.543822  \n",
       "1                     9.234609  \n",
       "2                     9.454191  \n",
       "3                     8.181818  \n",
       "4                     9.756098  \n",
       "5                     0.000000  "
      ]
     },
     "execution_count": 67,
     "metadata": {},
     "output_type": "execute_result"
    }
   ],
   "source": [
    "# переименуем столбы для наглядности\n",
    "child_grouped = child_grouped.rename(columns={'debt':'Заемщики','count':'Кол-во заемщиков', 'sum':'Кол-во просрочек','struct_%':'Структура заемщиков по группам,%', 'non_repayment_%':'Доля неплательщиков,%'})\n",
    "child_grouped"
   ]
  },
  {
   "cell_type": "markdown",
   "id": "2eb9088e",
   "metadata": {
    "deletable": false,
    "id": "2eb9088e"
   },
   "source": [
    "**Вывод:** "
   ]
  },
  {
   "cell_type": "markdown",
   "id": "b3808698",
   "metadata": {},
   "source": [
    "1. Для ответа на вопрос, есть ли зависимость между количеством детей и возвратом кредита в срок датафрейм был сгруппирован по количеству детей и рассчитан процен невозврата задолженности в срок по каждой группе: с детьми и без детей."
   ]
  },
  {
   "cell_type": "markdown",
   "id": "48f2e655",
   "metadata": {},
   "source": [
    "2. Наиболее существеную долю заемщиков с детьми занимают группы с 1-2 детьми, доля займов с 3-5 детьми менее 5%, поэтому для анализа наиболее важны показатели групп 1-2 ребенком."
   ]
  },
  {
   "cell_type": "markdown",
   "id": "a4191b79",
   "metadata": {},
   "source": [
    "3. Исходя из представленной таблицы процент невозврата в срок заемщиков без детей составляет 7,54%, а процент невозврата в срок с 1-2 детьми возрастает до 9,2% - 9,45% (выше минимум на 22%, чем без детей)"
   ]
  },
  {
   "cell_type": "markdown",
   "id": "a12f8219",
   "metadata": {},
   "source": [
    "  4. Таким образом, есть прямая зависимость, что заемщики с детьми чаще не возвращают заем в срок, чем заемщики без детей. \n",
    "    При этом, разброс между заемщиками с 1-м ребенком и 2-мя детьми 9,2% против 9,45%, всего 0,25%. То есть, с увеличеним количества детей, не выявлено существеннго увеличения процента невозврата задолженности в срок."
   ]
  },
  {
   "cell_type": "markdown",
   "id": "74c9b3a7",
   "metadata": {},
   "source": [
    "### Есть ли зависимость между семейным положением и возвратом кредита в срок?"
   ]
  },
  {
   "cell_type": "code",
   "execution_count": 68,
   "id": "0eb3caf1",
   "metadata": {},
   "outputs": [
    {
     "data": {
      "text/html": [
       "<div>\n",
       "<style scoped>\n",
       "    .dataframe tbody tr th:only-of-type {\n",
       "        vertical-align: middle;\n",
       "    }\n",
       "\n",
       "    .dataframe tbody tr th {\n",
       "        vertical-align: top;\n",
       "    }\n",
       "\n",
       "    .dataframe thead tr th {\n",
       "        text-align: left;\n",
       "    }\n",
       "\n",
       "    .dataframe thead tr:last-of-type th {\n",
       "        text-align: right;\n",
       "    }\n",
       "</style>\n",
       "<table border=\"1\" class=\"dataframe\">\n",
       "  <thead>\n",
       "    <tr>\n",
       "      <th></th>\n",
       "      <th colspan=\"2\" halign=\"left\">debt</th>\n",
       "      <th>struct_%</th>\n",
       "      <th>non_repayment_%</th>\n",
       "    </tr>\n",
       "    <tr>\n",
       "      <th></th>\n",
       "      <th>count</th>\n",
       "      <th>sum</th>\n",
       "      <th></th>\n",
       "      <th></th>\n",
       "    </tr>\n",
       "    <tr>\n",
       "      <th>family_status</th>\n",
       "      <th></th>\n",
       "      <th></th>\n",
       "      <th></th>\n",
       "      <th></th>\n",
       "    </tr>\n",
       "  </thead>\n",
       "  <tbody>\n",
       "    <tr>\n",
       "      <th>Не женат / не замужем</th>\n",
       "      <td>2796</td>\n",
       "      <td>273</td>\n",
       "      <td>13.107684</td>\n",
       "      <td>9.763948</td>\n",
       "    </tr>\n",
       "    <tr>\n",
       "      <th>в разводе</th>\n",
       "      <td>1189</td>\n",
       "      <td>84</td>\n",
       "      <td>5.574047</td>\n",
       "      <td>7.064760</td>\n",
       "    </tr>\n",
       "    <tr>\n",
       "      <th>вдовец / вдова</th>\n",
       "      <td>951</td>\n",
       "      <td>63</td>\n",
       "      <td>4.458300</td>\n",
       "      <td>6.624606</td>\n",
       "    </tr>\n",
       "    <tr>\n",
       "      <th>гражданский брак</th>\n",
       "      <td>4134</td>\n",
       "      <td>385</td>\n",
       "      <td>19.380245</td>\n",
       "      <td>9.313014</td>\n",
       "    </tr>\n",
       "    <tr>\n",
       "      <th>женат / замужем</th>\n",
       "      <td>12261</td>\n",
       "      <td>927</td>\n",
       "      <td>57.479724</td>\n",
       "      <td>7.560558</td>\n",
       "    </tr>\n",
       "  </tbody>\n",
       "</table>\n",
       "</div>"
      ],
      "text/plain": [
       "                        debt        struct_% non_repayment_%\n",
       "                       count  sum                           \n",
       "family_status                                               \n",
       "Не женат / не замужем   2796  273  13.107684        9.763948\n",
       "в разводе               1189   84   5.574047        7.064760\n",
       "вдовец / вдова           951   63   4.458300        6.624606\n",
       "гражданский брак        4134  385  19.380245        9.313014\n",
       "женат / замужем        12261  927  57.479724        7.560558"
      ]
     },
     "execution_count": 68,
     "metadata": {},
     "output_type": "execute_result"
    }
   ],
   "source": [
    "# Вызов функции группировки по критерию 'family_status'\n",
    "family_grouped = group_and_agg(data, 'family_status', 'debt')\n",
    "family_grouped"
   ]
  },
  {
   "cell_type": "markdown",
   "id": "8a7c016b",
   "metadata": {},
   "source": [
    "Для дальнейшего анализа объединим группы \"в разводе\" и \"вдовец/вдова\" с \"не женат/не замужем\", по следующим причинам:\n",
    "    1. фактически это люди ведущие свое домашнее хозяйство в одиночку; \n",
    "    2. стутс чкловека \"не женат/не замужем\" не исключают того, что этот человек разведен/вдовец/вдова;\n",
    "    3. доли этих групп в общей структуре заемщиков наименьшие.\n",
    "Группу \"гражданский брак\" оставим без объединения с группой \"женат/замужем\", так как группа занимает существенную долю в структуре заемщиков и процент невозврата в срок кредитов существенно отличается от группы \"женат/замужем\"."
   ]
  },
  {
   "cell_type": "code",
   "execution_count": 69,
   "id": "079b4795",
   "metadata": {
    "scrolled": true
   },
   "outputs": [
    {
     "data": {
      "text/plain": [
       "array(['женат / замужем', 'гражданский брак', 'Не женат / не замужем'],\n",
       "      dtype=object)"
      ]
     },
     "execution_count": 69,
     "metadata": {},
     "output_type": "execute_result"
    }
   ],
   "source": [
    "#объединим группы \"в разводе\" и \"вдовец/вдова\" с \"не женат/не замужем\", \n",
    "family_status_new = data \n",
    "family_status_new.loc[(family_status_new['family_status'] == 'в разводе') | (family_status_new['family_status'] == 'вдовец / вдова'), 'family_status'] = 'Не женат / не замужем' \n",
    "family_status_new['family_status'].unique()"
   ]
  },
  {
   "cell_type": "code",
   "execution_count": 70,
   "id": "63f96588",
   "metadata": {},
   "outputs": [
    {
     "data": {
      "text/html": [
       "<div>\n",
       "<style scoped>\n",
       "    .dataframe tbody tr th:only-of-type {\n",
       "        vertical-align: middle;\n",
       "    }\n",
       "\n",
       "    .dataframe tbody tr th {\n",
       "        vertical-align: top;\n",
       "    }\n",
       "\n",
       "    .dataframe thead tr th {\n",
       "        text-align: left;\n",
       "    }\n",
       "\n",
       "    .dataframe thead tr:last-of-type th {\n",
       "        text-align: right;\n",
       "    }\n",
       "</style>\n",
       "<table border=\"1\" class=\"dataframe\">\n",
       "  <thead>\n",
       "    <tr>\n",
       "      <th></th>\n",
       "      <th colspan=\"2\" halign=\"left\">debt</th>\n",
       "      <th>struct_%</th>\n",
       "      <th>non_repayment_%</th>\n",
       "    </tr>\n",
       "    <tr>\n",
       "      <th></th>\n",
       "      <th>count</th>\n",
       "      <th>sum</th>\n",
       "      <th></th>\n",
       "      <th></th>\n",
       "    </tr>\n",
       "    <tr>\n",
       "      <th>family_status</th>\n",
       "      <th></th>\n",
       "      <th></th>\n",
       "      <th></th>\n",
       "      <th></th>\n",
       "    </tr>\n",
       "  </thead>\n",
       "  <tbody>\n",
       "    <tr>\n",
       "      <th>Не женат / не замужем</th>\n",
       "      <td>4936</td>\n",
       "      <td>420</td>\n",
       "      <td>23.140031</td>\n",
       "      <td>8.508914</td>\n",
       "    </tr>\n",
       "    <tr>\n",
       "      <th>гражданский брак</th>\n",
       "      <td>4134</td>\n",
       "      <td>385</td>\n",
       "      <td>19.380245</td>\n",
       "      <td>9.313014</td>\n",
       "    </tr>\n",
       "    <tr>\n",
       "      <th>женат / замужем</th>\n",
       "      <td>12261</td>\n",
       "      <td>927</td>\n",
       "      <td>57.479724</td>\n",
       "      <td>7.560558</td>\n",
       "    </tr>\n",
       "  </tbody>\n",
       "</table>\n",
       "</div>"
      ],
      "text/plain": [
       "                        debt        struct_% non_repayment_%\n",
       "                       count  sum                           \n",
       "family_status                                               \n",
       "Не женат / не замужем   4936  420  23.140031        8.508914\n",
       "гражданский брак        4134  385  19.380245        9.313014\n",
       "женат / замужем        12261  927  57.479724        7.560558"
      ]
     },
     "execution_count": 70,
     "metadata": {},
     "output_type": "execute_result"
    }
   ],
   "source": [
    "# Вызов функции группировки по критерию 'family_status'\n",
    "family_grouped = group_and_agg(data, 'family_status', 'debt')\n",
    "family_grouped"
   ]
  },
  {
   "cell_type": "code",
   "execution_count": 71,
   "id": "5e67a516",
   "metadata": {},
   "outputs": [
    {
     "data": {
      "text/html": [
       "<div>\n",
       "<style scoped>\n",
       "    .dataframe tbody tr th:only-of-type {\n",
       "        vertical-align: middle;\n",
       "    }\n",
       "\n",
       "    .dataframe tbody tr th {\n",
       "        vertical-align: top;\n",
       "    }\n",
       "\n",
       "    .dataframe thead tr th {\n",
       "        text-align: left;\n",
       "    }\n",
       "\n",
       "    .dataframe thead tr:last-of-type th {\n",
       "        text-align: right;\n",
       "    }\n",
       "</style>\n",
       "<table border=\"1\" class=\"dataframe\">\n",
       "  <thead>\n",
       "    <tr>\n",
       "      <th></th>\n",
       "      <th colspan=\"2\" halign=\"left\">Заемщики</th>\n",
       "      <th>Структура заемщиков по группам,%</th>\n",
       "      <th>Доля неплательщиков,%</th>\n",
       "    </tr>\n",
       "    <tr>\n",
       "      <th></th>\n",
       "      <th>Кол-во заемщиков</th>\n",
       "      <th>Кол-во просрочек</th>\n",
       "      <th></th>\n",
       "      <th></th>\n",
       "    </tr>\n",
       "    <tr>\n",
       "      <th>family_status</th>\n",
       "      <th></th>\n",
       "      <th></th>\n",
       "      <th></th>\n",
       "      <th></th>\n",
       "    </tr>\n",
       "  </thead>\n",
       "  <tbody>\n",
       "    <tr>\n",
       "      <th>Не женат / не замужем</th>\n",
       "      <td>4936</td>\n",
       "      <td>420</td>\n",
       "      <td>23.140031</td>\n",
       "      <td>8.508914</td>\n",
       "    </tr>\n",
       "    <tr>\n",
       "      <th>гражданский брак</th>\n",
       "      <td>4134</td>\n",
       "      <td>385</td>\n",
       "      <td>19.380245</td>\n",
       "      <td>9.313014</td>\n",
       "    </tr>\n",
       "    <tr>\n",
       "      <th>женат / замужем</th>\n",
       "      <td>12261</td>\n",
       "      <td>927</td>\n",
       "      <td>57.479724</td>\n",
       "      <td>7.560558</td>\n",
       "    </tr>\n",
       "  </tbody>\n",
       "</table>\n",
       "</div>"
      ],
      "text/plain": [
       "                              Заемщики                   \\\n",
       "                      Кол-во заемщиков Кол-во просрочек   \n",
       "family_status                                             \n",
       "Не женат / не замужем             4936              420   \n",
       "гражданский брак                  4134              385   \n",
       "женат / замужем                  12261              927   \n",
       "\n",
       "                      Структура заемщиков по группам,% Доля неплательщиков,%  \n",
       "                                                                              \n",
       "family_status                                                                 \n",
       "Не женат / не замужем                        23.140031              8.508914  \n",
       "гражданский брак                             19.380245              9.313014  \n",
       "женат / замужем                              57.479724              7.560558  "
      ]
     },
     "execution_count": 71,
     "metadata": {},
     "output_type": "execute_result"
    }
   ],
   "source": [
    "# переименуем столбы для наглядности\n",
    "family_grouped = family_grouped.rename(columns={'debt':'Заемщики','count':'Кол-во заемщиков', 'sum':'Кол-во просрочек','struct_%':'Структура заемщиков по группам,%', 'non_repayment_%':'Доля неплательщиков,%'})\n",
    "family_grouped"
   ]
  },
  {
   "cell_type": "markdown",
   "id": "c389ca63",
   "metadata": {
    "deletable": false,
    "id": "c389ca63"
   },
   "source": [
    "**Вывод:** "
   ]
  },
  {
   "cell_type": "markdown",
   "id": "80bbdce2",
   "metadata": {},
   "source": [
    "1. Для ответа на вопрос, есть ли зависимость между семейным положением и возвратом кредита в срок датафрейм был сгруппирован по семейному статусу и рассчитан процен невозврата задолженности в срок по каждой группе."
   ]
  },
  {
   "cell_type": "markdown",
   "id": "be59018d",
   "metadata": {},
   "source": [
    "2. В рамках анализа две группы \"в разводе\" и \"вдовец/вдова\" были объединены \"не женат/не замужем\", так как: \n",
    "    1. фактически это люди ведущие свое домашнее хозяйство в одиночку; \n",
    "    2. стутс чкловека \"не женат/не замужем\" не исключают того, что этот человек разведен/вдовец/вдова;\n",
    "    3. доли этих групп в общей структуре заемщиков наименьшие.\n",
    "\n",
    "В итоге анализировали 3 группы: 'женат / замужем', 'гражданский брак', 'Не женат / не замужем'"
   ]
  },
  {
   "cell_type": "markdown",
   "id": "5057fb16",
   "metadata": {},
   "source": [
    "3. Исходя из анализа итоговой таблицы:\n",
    "    1. наименьший процент невозврата в срок заемщиков из группы 'женат / замужем'- 7,56%, \n",
    "    2. процент невозврата в срок заемщиков из группы 'Не женат / не замужем' - 8,5%, \n",
    "    3. процент невозврата в срок заемщиков из группы 'гражданский брак' самый высокий - 9,3%"
   ]
  },
  {
   "cell_type": "markdown",
   "id": "6c795f64",
   "metadata": {},
   "source": [
    "    4.Таким образом, есть прямая зависимость, между семейным положением и возвратом кредита в срок.\n",
    "     Наименьший процент невозврата в срок у заемщиков официально зарегистрированных в браке - 7,56%, далее идет группа не женатых/не замужних людей, процент невозврата в срок которых - 8,5%, что выше на 12,4% от группы людей с зарегистрированным в браком и наибольщая доля невозварата в срок у заемщиков в гражданском браке - 9,3%, выше на 23% от группы людей с зарегистрированным в браком)."
   ]
  },
  {
   "cell_type": "markdown",
   "id": "9529de68",
   "metadata": {},
   "source": [
    "### Есть ли зависимость между уровнем дохода и возвратом кредита в срок?"
   ]
  },
  {
   "cell_type": "code",
   "execution_count": 72,
   "id": "c2e21cbc",
   "metadata": {},
   "outputs": [
    {
     "data": {
      "text/html": [
       "<div>\n",
       "<style scoped>\n",
       "    .dataframe tbody tr th:only-of-type {\n",
       "        vertical-align: middle;\n",
       "    }\n",
       "\n",
       "    .dataframe tbody tr th {\n",
       "        vertical-align: top;\n",
       "    }\n",
       "\n",
       "    .dataframe thead tr th {\n",
       "        text-align: left;\n",
       "    }\n",
       "\n",
       "    .dataframe thead tr:last-of-type th {\n",
       "        text-align: right;\n",
       "    }\n",
       "</style>\n",
       "<table border=\"1\" class=\"dataframe\">\n",
       "  <thead>\n",
       "    <tr>\n",
       "      <th></th>\n",
       "      <th colspan=\"2\" halign=\"left\">debt</th>\n",
       "      <th>struct_%</th>\n",
       "      <th>non_repayment_%</th>\n",
       "    </tr>\n",
       "    <tr>\n",
       "      <th></th>\n",
       "      <th>count</th>\n",
       "      <th>sum</th>\n",
       "      <th></th>\n",
       "      <th></th>\n",
       "    </tr>\n",
       "    <tr>\n",
       "      <th>total_income_category</th>\n",
       "      <th></th>\n",
       "      <th></th>\n",
       "      <th></th>\n",
       "      <th></th>\n",
       "    </tr>\n",
       "  </thead>\n",
       "  <tbody>\n",
       "    <tr>\n",
       "      <th>A - больше 1 млн. руб.</th>\n",
       "      <td>25</td>\n",
       "      <td>2</td>\n",
       "      <td>0.117200</td>\n",
       "      <td>8.000000</td>\n",
       "    </tr>\n",
       "    <tr>\n",
       "      <th>B - от 0,2 до 1 млн. руб.</th>\n",
       "      <td>5014</td>\n",
       "      <td>354</td>\n",
       "      <td>23.505696</td>\n",
       "      <td>7.060231</td>\n",
       "    </tr>\n",
       "    <tr>\n",
       "      <th>C- от 0,05 до 0,2 млн. руб.</th>\n",
       "      <td>15921</td>\n",
       "      <td>1353</td>\n",
       "      <td>74.637851</td>\n",
       "      <td>8.498210</td>\n",
       "    </tr>\n",
       "    <tr>\n",
       "      <th>D- от 0,03 до 0,05 млн. руб.</th>\n",
       "      <td>349</td>\n",
       "      <td>21</td>\n",
       "      <td>1.636116</td>\n",
       "      <td>6.017192</td>\n",
       "    </tr>\n",
       "    <tr>\n",
       "      <th>E - до 0,03 млн. руб.</th>\n",
       "      <td>22</td>\n",
       "      <td>2</td>\n",
       "      <td>0.103136</td>\n",
       "      <td>9.090909</td>\n",
       "    </tr>\n",
       "  </tbody>\n",
       "</table>\n",
       "</div>"
      ],
      "text/plain": [
       "                               debt         struct_% non_repayment_%\n",
       "                              count   sum                           \n",
       "total_income_category                                               \n",
       "A - больше 1 млн. руб.           25     2   0.117200        8.000000\n",
       "B - от 0,2 до 1 млн. руб.      5014   354  23.505696        7.060231\n",
       "C- от 0,05 до 0,2 млн. руб.   15921  1353  74.637851        8.498210\n",
       "D- от 0,03 до 0,05 млн. руб.    349    21   1.636116        6.017192\n",
       "E - до 0,03 млн. руб.            22     2   0.103136        9.090909"
      ]
     },
     "execution_count": 72,
     "metadata": {},
     "output_type": "execute_result"
    }
   ],
   "source": [
    "# Вызов функции группировки по критерию 'total_income_category'\n",
    "icome_grouped = group_and_agg(data, 'total_income_category', 'debt')\n",
    "icome_grouped"
   ]
  },
  {
   "cell_type": "markdown",
   "id": "1275a9c3",
   "metadata": {},
   "source": [
    "1. Наиболее сущесвтенная доля заемшиков в группах 'B' и 'C', они занимают порядка 98% от всех заемщиков, остальные группы все вместе составляют мнее 2% от все базы, анализировать их отдельно невозможно, так как выборка слишком мала, можно сделать необоснованные выводы.\n",
    "2. Объединим группы 'D' и 'E'  с группоу 'C', а группу 'А' с группой 'B' для дальнейшего анализа, сформируем две группы: группа 'А' с доходом от 0,2 млн. рую и выше и группу 'B' с доходом до 0,2 млн. руб."
   ]
  },
  {
   "cell_type": "code",
   "execution_count": 73,
   "id": "6e320d2e",
   "metadata": {},
   "outputs": [],
   "source": [
    "def categorize_income_new(income):\n",
    "    try:\n",
    "        if 0 <= income <= 200000:\n",
    "            return 'B - до 0,2 млн. руб.'\n",
    "        elif income >= 200001:\n",
    "            return 'A - от 0,2 млн. руб. и выше'\n",
    "    except:\n",
    "        pass"
   ]
  },
  {
   "cell_type": "code",
   "execution_count": 74,
   "id": "653f8dad",
   "metadata": {},
   "outputs": [],
   "source": [
    "data['income_category_group'] = data['total_income'].apply(categorize_income_new)"
   ]
  },
  {
   "cell_type": "code",
   "execution_count": 75,
   "id": "b328ec3a",
   "metadata": {},
   "outputs": [
    {
     "data": {
      "text/html": [
       "<div>\n",
       "<style scoped>\n",
       "    .dataframe tbody tr th:only-of-type {\n",
       "        vertical-align: middle;\n",
       "    }\n",
       "\n",
       "    .dataframe tbody tr th {\n",
       "        vertical-align: top;\n",
       "    }\n",
       "\n",
       "    .dataframe thead tr th {\n",
       "        text-align: left;\n",
       "    }\n",
       "\n",
       "    .dataframe thead tr:last-of-type th {\n",
       "        text-align: right;\n",
       "    }\n",
       "</style>\n",
       "<table border=\"1\" class=\"dataframe\">\n",
       "  <thead>\n",
       "    <tr>\n",
       "      <th></th>\n",
       "      <th colspan=\"2\" halign=\"left\">debt</th>\n",
       "      <th>struct_%</th>\n",
       "      <th>non_repayment_%</th>\n",
       "    </tr>\n",
       "    <tr>\n",
       "      <th></th>\n",
       "      <th>count</th>\n",
       "      <th>sum</th>\n",
       "      <th></th>\n",
       "      <th></th>\n",
       "    </tr>\n",
       "    <tr>\n",
       "      <th>income_category_group</th>\n",
       "      <th></th>\n",
       "      <th></th>\n",
       "      <th></th>\n",
       "      <th></th>\n",
       "    </tr>\n",
       "  </thead>\n",
       "  <tbody>\n",
       "    <tr>\n",
       "      <th>A - от 0,2 млн. руб. и выше</th>\n",
       "      <td>5039</td>\n",
       "      <td>356</td>\n",
       "      <td>23.622896</td>\n",
       "      <td>7.064894</td>\n",
       "    </tr>\n",
       "    <tr>\n",
       "      <th>B - до 0,2 млн. руб.</th>\n",
       "      <td>16292</td>\n",
       "      <td>1376</td>\n",
       "      <td>76.377104</td>\n",
       "      <td>8.445863</td>\n",
       "    </tr>\n",
       "  </tbody>\n",
       "</table>\n",
       "</div>"
      ],
      "text/plain": [
       "                              debt         struct_% non_repayment_%\n",
       "                             count   sum                           \n",
       "income_category_group                                              \n",
       "A - от 0,2 млн. руб. и выше   5039   356  23.622896        7.064894\n",
       "B - до 0,2 млн. руб.         16292  1376  76.377104        8.445863"
      ]
     },
     "execution_count": 75,
     "metadata": {},
     "output_type": "execute_result"
    }
   ],
   "source": [
    "# Вызов функции группировки по критерию 'income_category_group'\n",
    "icome_grouped = group_and_agg(data, 'income_category_group', 'debt')\n",
    "icome_grouped"
   ]
  },
  {
   "cell_type": "code",
   "execution_count": 76,
   "id": "89765d90",
   "metadata": {},
   "outputs": [
    {
     "data": {
      "text/html": [
       "<div>\n",
       "<style scoped>\n",
       "    .dataframe tbody tr th:only-of-type {\n",
       "        vertical-align: middle;\n",
       "    }\n",
       "\n",
       "    .dataframe tbody tr th {\n",
       "        vertical-align: top;\n",
       "    }\n",
       "\n",
       "    .dataframe thead tr th {\n",
       "        text-align: left;\n",
       "    }\n",
       "\n",
       "    .dataframe thead tr:last-of-type th {\n",
       "        text-align: right;\n",
       "    }\n",
       "</style>\n",
       "<table border=\"1\" class=\"dataframe\">\n",
       "  <thead>\n",
       "    <tr>\n",
       "      <th></th>\n",
       "      <th colspan=\"2\" halign=\"left\">Заемщики</th>\n",
       "      <th>Структура заемщиков по группам,%</th>\n",
       "      <th>Доля неплательщиков,%</th>\n",
       "    </tr>\n",
       "    <tr>\n",
       "      <th></th>\n",
       "      <th>Кол-во заемщиков</th>\n",
       "      <th>Кол-во просрочек</th>\n",
       "      <th></th>\n",
       "      <th></th>\n",
       "    </tr>\n",
       "    <tr>\n",
       "      <th>income_category_group</th>\n",
       "      <th></th>\n",
       "      <th></th>\n",
       "      <th></th>\n",
       "      <th></th>\n",
       "    </tr>\n",
       "  </thead>\n",
       "  <tbody>\n",
       "    <tr>\n",
       "      <th>A - от 0,2 млн. руб. и выше</th>\n",
       "      <td>5039</td>\n",
       "      <td>356</td>\n",
       "      <td>23.622896</td>\n",
       "      <td>7.064894</td>\n",
       "    </tr>\n",
       "    <tr>\n",
       "      <th>B - до 0,2 млн. руб.</th>\n",
       "      <td>16292</td>\n",
       "      <td>1376</td>\n",
       "      <td>76.377104</td>\n",
       "      <td>8.445863</td>\n",
       "    </tr>\n",
       "  </tbody>\n",
       "</table>\n",
       "</div>"
      ],
      "text/plain": [
       "                                    Заемщики                   \\\n",
       "                            Кол-во заемщиков Кол-во просрочек   \n",
       "income_category_group                                           \n",
       "A - от 0,2 млн. руб. и выше             5039              356   \n",
       "B - до 0,2 млн. руб.                   16292             1376   \n",
       "\n",
       "                            Структура заемщиков по группам,%  \\\n",
       "                                                               \n",
       "income_category_group                                          \n",
       "A - от 0,2 млн. руб. и выше                        23.622896   \n",
       "B - до 0,2 млн. руб.                               76.377104   \n",
       "\n",
       "                            Доля неплательщиков,%  \n",
       "                                                   \n",
       "income_category_group                              \n",
       "A - от 0,2 млн. руб. и выше              7.064894  \n",
       "B - до 0,2 млн. руб.                     8.445863  "
      ]
     },
     "execution_count": 76,
     "metadata": {},
     "output_type": "execute_result"
    }
   ],
   "source": [
    "# переименуем столбы для наглядности\n",
    "icome_grouped = icome_grouped.rename(columns={'debt':'Заемщики','count':'Кол-во заемщиков', 'sum':'Кол-во просрочек','struct_%':'Структура заемщиков по группам,%', 'non_repayment_%':'Доля неплательщиков,%'})\n",
    "icome_grouped"
   ]
  },
  {
   "cell_type": "markdown",
   "id": "6dd14b57",
   "metadata": {
    "deletable": false,
    "id": "6dd14b57"
   },
   "source": [
    "**Вывод:** "
   ]
  },
  {
   "cell_type": "markdown",
   "id": "ce93e0d4",
   "metadata": {},
   "source": [
    "1. Для ответа на вопрос, есть ли зависимость между уровнем дохода и возвратом кредита в срок датафрейм был сгруппирован по группам дохода и рассчитан процент невозврата задолженности в срок по каждой группе."
   ]
  },
  {
   "cell_type": "markdown",
   "id": "bba69a0a",
   "metadata": {},
   "source": [
    "2. В рамках анализа было выявлено, что две группы \"B - от 0,2 до 1 млн. руб.\" и \"C- от 0,05 до 0,2 млн. руб.\" занимают в структуре порядка 98% от всего количесва заемщиков, остальные группы в связи с их малочисленностью были объединены следующим образом: группы 'D' и 'E'  с группоу 'C', а группу 'А' с группой 'B' и для анализа, сформированы две группы: группа 'А' с доходом от 0,2 млн. рую и выше и группу 'B' с доходом до 0,2 млн. руб."
   ]
  },
  {
   "cell_type": "markdown",
   "id": "d68e72ae",
   "metadata": {},
   "source": [
    "  3. В результате выявлена следующая зависмость у группы с доходом от 0,2 млн. руб и выше процент невозварата задолженности в срок составил 7,06%, а у группы с доходом до 0,2 млн. руб. 8,45%, что на 19,6% выше, то есть чем выше доход, тем процент невозварата займа в срок меньше."
   ]
  },
  {
   "cell_type": "markdown",
   "id": "1dcc9b12",
   "metadata": {},
   "source": [
    "### Как разные цели кредита влияют на его возврат в срок?"
   ]
  },
  {
   "cell_type": "code",
   "execution_count": 77,
   "id": "7343d040",
   "metadata": {},
   "outputs": [
    {
     "data": {
      "text/html": [
       "<div>\n",
       "<style scoped>\n",
       "    .dataframe tbody tr th:only-of-type {\n",
       "        vertical-align: middle;\n",
       "    }\n",
       "\n",
       "    .dataframe tbody tr th {\n",
       "        vertical-align: top;\n",
       "    }\n",
       "\n",
       "    .dataframe thead tr th {\n",
       "        text-align: left;\n",
       "    }\n",
       "\n",
       "    .dataframe thead tr:last-of-type th {\n",
       "        text-align: right;\n",
       "    }\n",
       "</style>\n",
       "<table border=\"1\" class=\"dataframe\">\n",
       "  <thead>\n",
       "    <tr>\n",
       "      <th></th>\n",
       "      <th colspan=\"2\" halign=\"left\">debt</th>\n",
       "      <th>struct_%</th>\n",
       "      <th>non_repayment_%</th>\n",
       "    </tr>\n",
       "    <tr>\n",
       "      <th></th>\n",
       "      <th>count</th>\n",
       "      <th>sum</th>\n",
       "      <th></th>\n",
       "      <th></th>\n",
       "    </tr>\n",
       "    <tr>\n",
       "      <th>purpose_category</th>\n",
       "      <th></th>\n",
       "      <th></th>\n",
       "      <th></th>\n",
       "      <th></th>\n",
       "    </tr>\n",
       "  </thead>\n",
       "  <tbody>\n",
       "    <tr>\n",
       "      <th>операции с автомобилем</th>\n",
       "      <td>4279</td>\n",
       "      <td>400</td>\n",
       "      <td>20.060007</td>\n",
       "      <td>9.347978</td>\n",
       "    </tr>\n",
       "    <tr>\n",
       "      <th>операции с недвижимостью</th>\n",
       "      <td>10751</td>\n",
       "      <td>780</td>\n",
       "      <td>50.400825</td>\n",
       "      <td>7.255139</td>\n",
       "    </tr>\n",
       "    <tr>\n",
       "      <th>получение образования</th>\n",
       "      <td>3988</td>\n",
       "      <td>369</td>\n",
       "      <td>18.695795</td>\n",
       "      <td>9.252758</td>\n",
       "    </tr>\n",
       "    <tr>\n",
       "      <th>проведение свадьбы</th>\n",
       "      <td>2313</td>\n",
       "      <td>183</td>\n",
       "      <td>10.843373</td>\n",
       "      <td>7.911803</td>\n",
       "    </tr>\n",
       "  </tbody>\n",
       "</table>\n",
       "</div>"
      ],
      "text/plain": [
       "                           debt        struct_% non_repayment_%\n",
       "                          count  sum                           \n",
       "purpose_category                                               \n",
       "операции с автомобилем     4279  400  20.060007        9.347978\n",
       "операции с недвижимостью  10751  780  50.400825        7.255139\n",
       "получение образования      3988  369  18.695795        9.252758\n",
       "проведение свадьбы         2313  183  10.843373        7.911803"
      ]
     },
     "execution_count": 77,
     "metadata": {},
     "output_type": "execute_result"
    }
   ],
   "source": [
    "# Вызов функции группировки по критерию 'purpose_category'\n",
    "goals_grouped = group_and_agg(data, 'purpose_category', 'debt')\n",
    "goals_grouped"
   ]
  },
  {
   "cell_type": "markdown",
   "id": "965e9c83",
   "metadata": {},
   "source": []
  },
  {
   "cell_type": "markdown",
   "id": "2753f195",
   "metadata": {},
   "source": [
    "#### Получение образования - одна из групп с высоким процентом невозврата в срок, рассмотрим эту группу сгруппировав получателей займа на получение образования по уровню образования"
   ]
  },
  {
   "cell_type": "code",
   "execution_count": 78,
   "id": "8cc56f98",
   "metadata": {},
   "outputs": [
    {
     "data": {
      "text/html": [
       "<div>\n",
       "<style scoped>\n",
       "    .dataframe tbody tr th:only-of-type {\n",
       "        vertical-align: middle;\n",
       "    }\n",
       "\n",
       "    .dataframe tbody tr th {\n",
       "        vertical-align: top;\n",
       "    }\n",
       "\n",
       "    .dataframe thead tr th {\n",
       "        text-align: left;\n",
       "    }\n",
       "\n",
       "    .dataframe thead tr:last-of-type th {\n",
       "        text-align: right;\n",
       "    }\n",
       "</style>\n",
       "<table border=\"1\" class=\"dataframe\">\n",
       "  <thead>\n",
       "    <tr>\n",
       "      <th></th>\n",
       "      <th colspan=\"2\" halign=\"left\">debt</th>\n",
       "      <th>struct_%</th>\n",
       "      <th>non_repayment_%</th>\n",
       "    </tr>\n",
       "    <tr>\n",
       "      <th></th>\n",
       "      <th>count</th>\n",
       "      <th>sum</th>\n",
       "      <th></th>\n",
       "      <th></th>\n",
       "    </tr>\n",
       "    <tr>\n",
       "      <th>education</th>\n",
       "      <th></th>\n",
       "      <th></th>\n",
       "      <th></th>\n",
       "      <th></th>\n",
       "    </tr>\n",
       "  </thead>\n",
       "  <tbody>\n",
       "    <tr>\n",
       "      <th>высшее</th>\n",
       "      <td>928</td>\n",
       "      <td>55</td>\n",
       "      <td>23.269809</td>\n",
       "      <td>5.926724</td>\n",
       "    </tr>\n",
       "    <tr>\n",
       "      <th>начальное</th>\n",
       "      <td>55</td>\n",
       "      <td>5</td>\n",
       "      <td>1.379137</td>\n",
       "      <td>9.090909</td>\n",
       "    </tr>\n",
       "    <tr>\n",
       "      <th>неоконченное высшее</th>\n",
       "      <td>131</td>\n",
       "      <td>12</td>\n",
       "      <td>3.284855</td>\n",
       "      <td>9.160305</td>\n",
       "    </tr>\n",
       "    <tr>\n",
       "      <th>среднее</th>\n",
       "      <td>2873</td>\n",
       "      <td>297</td>\n",
       "      <td>72.041123</td>\n",
       "      <td>10.337626</td>\n",
       "    </tr>\n",
       "    <tr>\n",
       "      <th>ученая степень</th>\n",
       "      <td>1</td>\n",
       "      <td>0</td>\n",
       "      <td>0.025075</td>\n",
       "      <td>0.000000</td>\n",
       "    </tr>\n",
       "  </tbody>\n",
       "</table>\n",
       "</div>"
      ],
      "text/plain": [
       "                     debt        struct_% non_repayment_%\n",
       "                    count  sum                           \n",
       "education                                                \n",
       "высшее                928   55  23.269809        5.926724\n",
       "начальное              55    5   1.379137        9.090909\n",
       "неоконченное высшее   131   12   3.284855        9.160305\n",
       "среднее              2873  297  72.041123       10.337626\n",
       "ученая степень          1    0   0.025075        0.000000"
      ]
     },
     "execution_count": 78,
     "metadata": {},
     "output_type": "execute_result"
    }
   ],
   "source": [
    "#выгрузим данные по заемщикам с целью займа 'получение образования' \n",
    "education_groupp = data.loc[data['purpose_category'] == 'получение образования']\n",
    "# Вызов функции группировки по критерию 'education'\n",
    "education_groupp = group_and_agg(education_groupp, 'education', 'debt')\n",
    "education_groupp"
   ]
  },
  {
   "cell_type": "markdown",
   "id": "2ff6ccaf",
   "metadata": {},
   "source": [
    "Из таблицы выше видно, что наибольший процент задержек по замам у заемщиков без высшего образования от 9% до 10,33%."
   ]
  },
  {
   "cell_type": "code",
   "execution_count": 79,
   "id": "3d601bb5",
   "metadata": {},
   "outputs": [
    {
     "data": {
      "text/html": [
       "<div>\n",
       "<style scoped>\n",
       "    .dataframe tbody tr th:only-of-type {\n",
       "        vertical-align: middle;\n",
       "    }\n",
       "\n",
       "    .dataframe tbody tr th {\n",
       "        vertical-align: top;\n",
       "    }\n",
       "\n",
       "    .dataframe thead tr th {\n",
       "        text-align: left;\n",
       "    }\n",
       "\n",
       "    .dataframe thead tr:last-of-type th {\n",
       "        text-align: right;\n",
       "    }\n",
       "</style>\n",
       "<table border=\"1\" class=\"dataframe\">\n",
       "  <thead>\n",
       "    <tr>\n",
       "      <th></th>\n",
       "      <th colspan=\"2\" halign=\"left\">Заемщики</th>\n",
       "      <th>Структура заемщиков по группам,%</th>\n",
       "      <th>Доля неплательщиков,%</th>\n",
       "    </tr>\n",
       "    <tr>\n",
       "      <th></th>\n",
       "      <th>Кол-во заемщиков</th>\n",
       "      <th>Кол-во просрочек</th>\n",
       "      <th></th>\n",
       "      <th></th>\n",
       "    </tr>\n",
       "    <tr>\n",
       "      <th>purpose_category</th>\n",
       "      <th></th>\n",
       "      <th></th>\n",
       "      <th></th>\n",
       "      <th></th>\n",
       "    </tr>\n",
       "  </thead>\n",
       "  <tbody>\n",
       "    <tr>\n",
       "      <th>операции с автомобилем</th>\n",
       "      <td>4279</td>\n",
       "      <td>400</td>\n",
       "      <td>20.060007</td>\n",
       "      <td>9.347978</td>\n",
       "    </tr>\n",
       "    <tr>\n",
       "      <th>операции с недвижимостью</th>\n",
       "      <td>10751</td>\n",
       "      <td>780</td>\n",
       "      <td>50.400825</td>\n",
       "      <td>7.255139</td>\n",
       "    </tr>\n",
       "    <tr>\n",
       "      <th>получение образования</th>\n",
       "      <td>3988</td>\n",
       "      <td>369</td>\n",
       "      <td>18.695795</td>\n",
       "      <td>9.252758</td>\n",
       "    </tr>\n",
       "    <tr>\n",
       "      <th>проведение свадьбы</th>\n",
       "      <td>2313</td>\n",
       "      <td>183</td>\n",
       "      <td>10.843373</td>\n",
       "      <td>7.911803</td>\n",
       "    </tr>\n",
       "  </tbody>\n",
       "</table>\n",
       "</div>"
      ],
      "text/plain": [
       "                                 Заемщики                   \\\n",
       "                         Кол-во заемщиков Кол-во просрочек   \n",
       "purpose_category                                             \n",
       "операции с автомобилем               4279              400   \n",
       "операции с недвижимостью            10751              780   \n",
       "получение образования                3988              369   \n",
       "проведение свадьбы                   2313              183   \n",
       "\n",
       "                         Структура заемщиков по группам,%  \\\n",
       "                                                            \n",
       "purpose_category                                            \n",
       "операции с автомобилем                          20.060007   \n",
       "операции с недвижимостью                        50.400825   \n",
       "получение образования                           18.695795   \n",
       "проведение свадьбы                              10.843373   \n",
       "\n",
       "                         Доля неплательщиков,%  \n",
       "                                                \n",
       "purpose_category                                \n",
       "операции с автомобилем                9.347978  \n",
       "операции с недвижимостью              7.255139  \n",
       "получение образования                 9.252758  \n",
       "проведение свадьбы                    7.911803  "
      ]
     },
     "execution_count": 79,
     "metadata": {},
     "output_type": "execute_result"
    }
   ],
   "source": [
    "# переименуем столбы для наглядности\n",
    "goals_grouped = goals_grouped.rename(columns={'debt':'Заемщики','count':'Кол-во заемщиков', 'sum':'Кол-во просрочек','struct_%':'Структура заемщиков по группам,%', 'non_repayment_%':'Доля неплательщиков,%'})\n",
    "goals_grouped"
   ]
  },
  {
   "cell_type": "markdown",
   "id": "cf05ed63",
   "metadata": {
    "deletable": false,
    "id": "cf05ed63"
   },
   "source": [
    "**Вывод:** "
   ]
  },
  {
   "cell_type": "markdown",
   "id": "032ab338",
   "metadata": {},
   "source": [
    "1. Наименьший процент невозвратов в срок по займам для операций с недвижимостью 7,25%. Скорее всего это объясняется тем, что заем выдается под залог невижимости. Для подтверждения необходима дополнительная информация по условиям предоставляемых займов для операций с недвижимостью."
   ]
  },
  {
   "cell_type": "markdown",
   "id": "2e1fc5c0",
   "metadata": {},
   "source": [
    "2. Вторая цель с наименьшим процентом невозврата в срок - это проведение свадьбы - 7,91%. Этот результат перекликается с анализом возврата кредита в срок в зависмиости от семейного положения, в той части анализ показал 7,56% неаозвратов в срок по группе 'жента/замужем'."
   ]
  },
  {
   "cell_type": "markdown",
   "id": "16bfdfcf",
   "metadata": {},
   "source": [
    "3. Наиболее рискованные цели с точки зрения своевременности возврата займа в срок:\n",
    "- на получение образования (9,25%). На получение образования в большинстве своем берут займ заемщики  без высшего образования, со средним и неоконченным высшим, что увеличивает риск задержки по выплате займа в срок, так по групппе заемшиков со средним образованием невыплаты в срок достигают 10,3% \n",
    "- на операции с автомобилем (9,34%)."
   ]
  },
  {
   "cell_type": "markdown",
   "id": "46c1f10b",
   "metadata": {},
   "source": [
    "### Приведите возможные причины появления пропусков в исходных данных."
   ]
  },
  {
   "cell_type": "markdown",
   "id": "3697d2a9",
   "metadata": {
    "deletable": false,
    "id": "3697d2a9"
   },
   "source": [
    "*Ответ:* Причинами появления пропусков в исходных данных могут быть как:\n",
    "1. Технологические ошибки, которые возникают при копировании, считывании, смене формата, записи данных. \n",
    "2. Пропуски связанные с человеческим фактором, если данные вносятся вручную и/или нет четких инструкций по заполнению формата данных."
   ]
  },
  {
   "cell_type": "markdown",
   "id": "9382a57a",
   "metadata": {},
   "source": [
    "В анализируемом датафрейме пропуски были обнаружены в двух колонках 'days_employed' и 'total_income' в одинаковом количестве 2174, так как у двух разных колонок одинаковое количество пропусков, то скорее всего проблема в выгрузке данных, а не в их ручном заполнеии заполнении."
   ]
  },
  {
   "cell_type": "markdown",
   "id": "3137d257",
   "metadata": {},
   "source": [
    "### Объясните, почему заполнить пропуски медианным значением — лучшее решение для количественных переменных."
   ]
  },
  {
   "cell_type": "markdown",
   "id": "cf40012a",
   "metadata": {
    "deletable": false,
    "id": "cf40012a"
   },
   "source": [
    "*Ответ:* Медиана  —  это такое число в выборке, что ровно половина элементов больше него, а другая половина —  меньше. Применение медианы позволяет исключить влияние на средний показатель экстремальных значений в выборке, в отличие, например,\n",
    "от среднего значения. Пэтому, если медиана применяется к однородной выборке, элементы котрой обладают одинаковыми признаками, то применение медианы позволит наиболее точно заполнить пропуски количественных переменных."
   ]
  },
  {
   "cell_type": "markdown",
   "id": "57bc304e",
   "metadata": {},
   "source": [
    "## Общий вывод"
   ]
  },
  {
   "cell_type": "markdown",
   "id": "1ab75d1c",
   "metadata": {
    "deletable": false,
    "id": "1ab75d1c"
   },
   "source": [
    "Проведен анализ представленной базы данных на предмет исследования надежности заемщиков. Работа была проведена в два этапа."
   ]
  },
  {
   "cell_type": "markdown",
   "id": "42e983b4",
   "metadata": {},
   "source": [
    "### В первой части проведена предобработка датафрема, в том числе:\n",
    "    - найдены пропуски значений в колонках 'days_employed' и 'total_income' в колчестве 2174 шт., это  порядка 10% от общей базы, что существенно, поэтому эти пропуски были заполнены медианными значениями как наиболее подходящие показатели для таких количественных переменных как 'days_employed' и 'total_income', при этом медиана была рссчитана по группам, отдельно для каждого типа занятости/('income_type');\n",
    "    - одинаковое количество пропусков 2174 в двух колонках с таким разными данными как 'days_employed' и 'total_income', скорее всего говорит о возможном техническом сбое при выгрузке/загрузке данных; \n",
    "     - выявленные аномалии с данными о количестве детей были удалены, т.к. не были сущесвтенными для датафрейма;\n",
    "     - выявлена аномалия в медианном количестве дней_работы/'days_employed' по типам_занятости/('income_type') - пенсионеры/безработныне, аномалия не корректировалась, т.к. показатели не участвовали в данном анализе;\n",
    "     - тип данных в столбцах 'total_income' приведен к целочисленному значению для более наглядного представления данных о доходах;\n",
    "     - устранены явные и нефвные дубликаты в данных;\n",
    "     - подготовлена в отдельной колонке дополнительная информация для группировки заемщиков по 5 группам доходов, а также в отдельной колонке унифицированы названия целей кредита, исходя из представленной информации от заемщиков.\n"
   ]
  },
  {
   "cell_type": "markdown",
   "id": "63fa45c3",
   "metadata": {},
   "source": [
    "### Во-второй части исследования проведен анализ данных на предмет оценки следущих вопросов:"
   ]
  },
  {
   "cell_type": "markdown",
   "id": "42687214",
   "metadata": {},
   "source": [
    "    • Есть ли зависимость между количеством детей и возвратом кредита в срок? \n",
    " \n",
    "     Ответ: \n",
    "Да, выявлена зависимость, в том что заемщики с детьми чаще не возвращают заем в срок, чем заемщики без детей. При этом, разброс между заемщиками с 1-м ребенком и 2-мя детьми 9,2% против 9,45%, всего 0,25%. То есть, с увеличеним количества детей, не выявлено существеннго увеличения процента невозврата задолженности в срок."
   ]
  },
  {
   "cell_type": "markdown",
   "id": "d9350fb0",
   "metadata": {},
   "source": [
    "     • Есть ли зависимость между семейным положением и возвратом кредита в срок?\n",
    "     Ответ:\n",
    "Да, выявлена зависимость, между семейным положением и возвратом кредита в срок.\n",
    "Наименьший процент невозврата в срок у заемщиков официально зарегистрированных в браке - 7,56%, далее идет группа не женатых/не замужних заемщиков, процент невозврата в срок которых - 8,5%, что выше на 12,4% от группы людей с зарегистрированным в браком и наибольщая доля невозварата в срок у заемщиков в гражданском браке - 9,3%, выше на 23% от группы людей с зарегистрированным в браком."
   ]
  },
  {
   "cell_type": "markdown",
   "id": "7f1d0c7d",
   "metadata": {},
   "source": [
    "    •\tЕсть ли зависимость между уровнем дохода и возвратом кредита в срок?\n",
    "    Ответ:\n",
    "В результате выявлена следующая зависмость у группы с доходом от 0,2 млн. руб и выше процент невозварата задолженности в срок составил 7,06%, а у группы с доходом до 0,2 млн. руб. 8,45%, что на 19,6% выше, то есть чем выше доход, тем доля невозваратов займов в срок снижается."
   ]
  },
  {
   "cell_type": "markdown",
   "id": "d1391d30",
   "metadata": {},
   "source": [
    "    •  Как разные цели кредита влияют на его возврат в срок?\n",
    "  Ответ:\n",
    "1. Наименьший процент невозвратов в срок по займам для операций с недвижимостью 7,25%.\n",
    "2. Вторая цель с наименьшим процентом невозврата в срок - это проведение свадьбы - 7,91%. Этот результат составим с уровнем с неаозвратов в срок по группе 'жента/замужем' - 7,56%, выявленном при анализе возвратов займов в срок в зависмиости от семейного положения.\n",
    "3. Наиболее рискованные цели с точки зрения своевременности возврата займа в срок:\n",
    "    - на получение образования (9,25%);\n",
    "    - на операции с автомобилем (9,34%)."
   ]
  }
 ],
 "metadata": {
  "ExecuteTimeLog": [
   {
    "duration": 525,
    "start_time": "2023-11-05T18:00:42.952Z"
   },
   {
    "duration": 25,
    "start_time": "2023-11-05T18:00:43.479Z"
   },
   {
    "duration": 27,
    "start_time": "2023-11-05T18:00:43.507Z"
   },
   {
    "duration": 11,
    "start_time": "2023-11-05T18:00:43.536Z"
   },
   {
    "duration": 45,
    "start_time": "2023-11-05T18:00:43.549Z"
   },
   {
    "duration": 4,
    "start_time": "2023-11-05T18:00:43.595Z"
   },
   {
    "duration": 31,
    "start_time": "2023-11-05T18:00:43.600Z"
   },
   {
    "duration": 5,
    "start_time": "2023-11-05T18:00:43.633Z"
   },
   {
    "duration": 8,
    "start_time": "2023-11-05T18:00:43.639Z"
   },
   {
    "duration": 5,
    "start_time": "2023-11-05T18:00:43.649Z"
   },
   {
    "duration": 69,
    "start_time": "2023-11-05T18:00:43.655Z"
   },
   {
    "duration": 12,
    "start_time": "2023-11-05T18:00:43.726Z"
   },
   {
    "duration": 3,
    "start_time": "2023-11-05T18:00:43.740Z"
   },
   {
    "duration": 20,
    "start_time": "2023-11-05T18:00:43.746Z"
   },
   {
    "duration": 21,
    "start_time": "2023-11-05T18:00:43.768Z"
   },
   {
    "duration": 40,
    "start_time": "2023-11-05T18:00:43.790Z"
   },
   {
    "duration": 3,
    "start_time": "2023-11-05T18:00:43.832Z"
   },
   {
    "duration": 15,
    "start_time": "2023-11-05T18:00:43.836Z"
   },
   {
    "duration": 6,
    "start_time": "2023-11-05T18:00:43.853Z"
   },
   {
    "duration": 4,
    "start_time": "2023-11-05T18:00:43.860Z"
   },
   {
    "duration": 10,
    "start_time": "2023-11-05T18:00:43.866Z"
   },
   {
    "duration": 13,
    "start_time": "2023-11-05T18:00:43.878Z"
   },
   {
    "duration": 10,
    "start_time": "2023-11-05T18:00:43.893Z"
   },
   {
    "duration": 19,
    "start_time": "2023-11-05T18:00:43.905Z"
   },
   {
    "duration": 7,
    "start_time": "2023-11-05T18:00:43.925Z"
   },
   {
    "duration": 79,
    "start_time": "2023-11-05T18:05:53.390Z"
   },
   {
    "duration": 17,
    "start_time": "2023-11-05T18:05:53.471Z"
   },
   {
    "duration": 70,
    "start_time": "2023-11-05T18:05:53.490Z"
   },
   {
    "duration": 84,
    "start_time": "2023-11-05T18:05:53.562Z"
   },
   {
    "duration": 88,
    "start_time": "2023-11-05T18:05:53.648Z"
   },
   {
    "duration": 7,
    "start_time": "2023-11-05T18:05:53.738Z"
   },
   {
    "duration": 71,
    "start_time": "2023-11-05T18:05:53.747Z"
   },
   {
    "duration": 24,
    "start_time": "2023-11-05T18:05:53.820Z"
   },
   {
    "duration": 38,
    "start_time": "2023-11-05T18:05:53.846Z"
   },
   {
    "duration": 36,
    "start_time": "2023-11-05T18:05:53.886Z"
   },
   {
    "duration": 86,
    "start_time": "2023-11-05T18:05:53.924Z"
   },
   {
    "duration": 31,
    "start_time": "2023-11-05T18:05:54.012Z"
   },
   {
    "duration": 65,
    "start_time": "2023-11-05T18:05:54.045Z"
   },
   {
    "duration": 36,
    "start_time": "2023-11-05T18:05:54.113Z"
   },
   {
    "duration": 55,
    "start_time": "2023-11-05T18:05:54.151Z"
   },
   {
    "duration": 31,
    "start_time": "2023-11-05T18:05:54.208Z"
   },
   {
    "duration": 7,
    "start_time": "2023-11-05T18:05:54.241Z"
   },
   {
    "duration": 33,
    "start_time": "2023-11-05T18:05:54.250Z"
   },
   {
    "duration": 83,
    "start_time": "2023-11-05T18:05:54.285Z"
   },
   {
    "duration": 50,
    "start_time": "2023-11-05T18:05:54.370Z"
   },
   {
    "duration": 53,
    "start_time": "2023-11-05T18:05:54.422Z"
   },
   {
    "duration": 29,
    "start_time": "2023-11-05T18:05:54.477Z"
   },
   {
    "duration": 28,
    "start_time": "2023-11-05T18:05:54.508Z"
   },
   {
    "duration": 10,
    "start_time": "2023-11-05T18:05:54.538Z"
   },
   {
    "duration": 22,
    "start_time": "2023-11-05T18:05:54.550Z"
   },
   {
    "duration": 523,
    "start_time": "2023-11-07T15:00:23.070Z"
   },
   {
    "duration": 24,
    "start_time": "2023-11-07T15:00:23.594Z"
   },
   {
    "duration": 14,
    "start_time": "2023-11-07T15:00:23.619Z"
   },
   {
    "duration": 9,
    "start_time": "2023-11-07T15:00:23.634Z"
   },
   {
    "duration": 43,
    "start_time": "2023-11-07T15:00:23.645Z"
   },
   {
    "duration": 3,
    "start_time": "2023-11-07T15:00:23.689Z"
   },
   {
    "duration": 13,
    "start_time": "2023-11-07T15:00:23.694Z"
   },
   {
    "duration": 3,
    "start_time": "2023-11-07T15:00:23.709Z"
   },
   {
    "duration": 9,
    "start_time": "2023-11-07T15:00:23.714Z"
   },
   {
    "duration": 4,
    "start_time": "2023-11-07T15:00:23.724Z"
   },
   {
    "duration": 33,
    "start_time": "2023-11-07T15:00:23.799Z"
   },
   {
    "duration": 9,
    "start_time": "2023-11-07T15:00:23.834Z"
   },
   {
    "duration": 3,
    "start_time": "2023-11-07T15:00:23.844Z"
   },
   {
    "duration": 11,
    "start_time": "2023-11-07T15:00:23.848Z"
   },
   {
    "duration": 24,
    "start_time": "2023-11-07T15:00:23.861Z"
   },
   {
    "duration": 15,
    "start_time": "2023-11-07T15:00:23.887Z"
   },
   {
    "duration": 4,
    "start_time": "2023-11-07T15:00:23.903Z"
   },
   {
    "duration": 12,
    "start_time": "2023-11-07T15:00:23.908Z"
   },
   {
    "duration": 5,
    "start_time": "2023-11-07T15:00:23.921Z"
   },
   {
    "duration": 3,
    "start_time": "2023-11-07T15:00:23.928Z"
   },
   {
    "duration": 22,
    "start_time": "2023-11-07T15:00:23.932Z"
   },
   {
    "duration": 15,
    "start_time": "2023-11-07T15:00:23.955Z"
   },
   {
    "duration": 24,
    "start_time": "2023-11-07T15:00:23.971Z"
   },
   {
    "duration": 11,
    "start_time": "2023-11-07T15:00:24.167Z"
   },
   {
    "duration": 50,
    "start_time": "2023-11-07T15:00:24.180Z"
   },
   {
    "duration": 15,
    "start_time": "2023-11-07T15:00:24.231Z"
   },
   {
    "duration": 18,
    "start_time": "2023-11-07T15:00:24.248Z"
   },
   {
    "duration": 18,
    "start_time": "2023-11-07T15:00:24.268Z"
   },
   {
    "duration": 19,
    "start_time": "2023-11-07T15:00:24.288Z"
   },
   {
    "duration": 2,
    "start_time": "2023-11-07T15:00:24.309Z"
   },
   {
    "duration": 10,
    "start_time": "2023-11-07T15:00:24.313Z"
   },
   {
    "duration": 22,
    "start_time": "2023-11-07T15:00:24.324Z"
   },
   {
    "duration": 25,
    "start_time": "2023-11-07T15:00:24.347Z"
   },
   {
    "duration": 50,
    "start_time": "2023-11-07T15:00:24.373Z"
   },
   {
    "duration": 23,
    "start_time": "2023-11-07T15:00:24.425Z"
   },
   {
    "duration": 34,
    "start_time": "2023-11-07T15:00:24.449Z"
   }
  ],
  "celltoolbar": "Edit Metadata",
  "colab": {
   "provenance": []
  },
  "kernelspec": {
   "display_name": "Python 3 (ipykernel)",
   "language": "python",
   "name": "python3"
  },
  "language_info": {
   "codemirror_mode": {
    "name": "ipython",
    "version": 3
   },
   "file_extension": ".py",
   "mimetype": "text/x-python",
   "name": "python",
   "nbconvert_exporter": "python",
   "pygments_lexer": "ipython3",
   "version": "3.9.18"
  },
  "toc": {
   "base_numbering": 1,
   "nav_menu": {},
   "number_sections": true,
   "sideBar": true,
   "skip_h1_title": true,
   "title_cell": "Содержание",
   "title_sidebar": "Contents",
   "toc_cell": true,
   "toc_position": {
    "height": "calc(100% - 180px)",
    "left": "10px",
    "top": "150px",
    "width": "240.01px"
   },
   "toc_section_display": true,
   "toc_window_display": true
  }
 },
 "nbformat": 4,
 "nbformat_minor": 5
}
