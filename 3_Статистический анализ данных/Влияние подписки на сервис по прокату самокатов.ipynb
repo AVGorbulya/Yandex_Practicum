{
 "cells": [
  {
   "cell_type": "markdown",
   "id": "8d0556bc",
   "metadata": {
    "toc": true
   },
   "source": [
    "<h1>Содержание<span class=\"tocSkip\"></span></h1>\n",
    "<div class=\"toc\"><ul class=\"toc-item\"><li><span><a href=\"#Описание,-цель,-вводная-информация-и-план-исследования\" data-toc-modified-id=\"Описание,-цель,-вводная-информация-и-план-исследования-1\"><span class=\"toc-item-num\">1&nbsp;&nbsp;</span>Описание, цель, вводная информация и план исследования</a></span><ul class=\"toc-item\"><li><span><a href=\"#Цель-проекта\" data-toc-modified-id=\"Цель-проекта-1.1\"><span class=\"toc-item-num\">1.1&nbsp;&nbsp;</span>Цель проекта</a></span></li><li><span><a href=\"#Вводная-информация-и-описание-источников-данных\" data-toc-modified-id=\"Вводная-информация-и-описание-источников-данных-1.2\"><span class=\"toc-item-num\">1.2&nbsp;&nbsp;</span>Вводная информация и описание источников данных</a></span></li><li><span><a href=\"#План-исследования\" data-toc-modified-id=\"План-исследования-1.3\"><span class=\"toc-item-num\">1.3&nbsp;&nbsp;</span>План исследования</a></span></li><li><span><a href=\"#Загрузка-и-предобработка--данных:\" data-toc-modified-id=\"Загрузка-и-предобработка--данных:-1.4\"><span class=\"toc-item-num\">1.4&nbsp;&nbsp;</span>Загрузка и предобработка  данных:</a></span></li><li><span><a href=\"#Исследовательский-анализ-данных\" data-toc-modified-id=\"Исследовательский-анализ-данных-1.5\"><span class=\"toc-item-num\">1.5&nbsp;&nbsp;</span>Исследовательский анализ данных</a></span></li><li><span><a href=\"#Объединение-данных\" data-toc-modified-id=\"Объединение-данных-1.6\"><span class=\"toc-item-num\">1.6&nbsp;&nbsp;</span>Объединение данных</a></span></li><li><span><a href=\"#Подсчёт-выручки\" data-toc-modified-id=\"Подсчёт-выручки-1.7\"><span class=\"toc-item-num\">1.7&nbsp;&nbsp;</span>Подсчёт выручки</a></span></li><li><span><a href=\"#Проверка-гипотез\" data-toc-modified-id=\"Проверка-гипотез-1.8\"><span class=\"toc-item-num\">1.8&nbsp;&nbsp;</span>Проверка гипотез</a></span></li><li><span><a href=\"#Итоговые-выводы-по-проекту\" data-toc-modified-id=\"Итоговые-выводы-по-проекту-1.9\"><span class=\"toc-item-num\">1.9&nbsp;&nbsp;</span>Итоговые выводы по проекту</a></span></li></ul></li><li><span><a href=\"#Загрузка-и-предобработка--данных\" data-toc-modified-id=\"Загрузка-и-предобработка--данных-2\"><span class=\"toc-item-num\">2&nbsp;&nbsp;</span>Загрузка и предобработка  данных</a></span><ul class=\"toc-item\"><li><span><a href=\"#Загрузка-данных\" data-toc-modified-id=\"Загрузка-данных-2.1\"><span class=\"toc-item-num\">2.1&nbsp;&nbsp;</span>Загрузка данных</a></span></li><li><span><a href=\"#Предобработка-данных\" data-toc-modified-id=\"Предобработка-данных-2.2\"><span class=\"toc-item-num\">2.2&nbsp;&nbsp;</span>Предобработка данных</a></span></li><li><span><a href=\"#Исследовательский-анализ-данных\" data-toc-modified-id=\"Исследовательский-анализ-данных-2.3\"><span class=\"toc-item-num\">2.3&nbsp;&nbsp;</span>Исследовательский анализ данных</a></span><ul class=\"toc-item\"><li><span><a href=\"#Анализ-частоты-встречаемости-городов\" data-toc-modified-id=\"Анализ-частоты-встречаемости-городов-2.3.1\"><span class=\"toc-item-num\">2.3.1&nbsp;&nbsp;</span>Анализ частоты встречаемости городов</a></span></li><li><span><a href=\"#Соотношение-пользователей-с-подпиской-и-без-подписки.\" data-toc-modified-id=\"Соотношение-пользователей-с-подпиской-и-без-подписки.-2.3.2\"><span class=\"toc-item-num\">2.3.2&nbsp;&nbsp;</span>Соотношение пользователей с подпиской и без подписки.</a></span></li><li><span><a href=\"#Анализ-возраста-пользователей\" data-toc-modified-id=\"Анализ-возраста-пользователей-2.3.3\"><span class=\"toc-item-num\">2.3.3&nbsp;&nbsp;</span>Анализ возраста пользователей</a></span></li><li><span><a href=\"#Расстояние,-которое-пользователь-преодолевает-за-одну-поездку.\" data-toc-modified-id=\"Расстояние,-которое-пользователь-преодолевает-за-одну-поездку.-2.3.4\"><span class=\"toc-item-num\">2.3.4&nbsp;&nbsp;</span>Расстояние, которое пользователь преодолевает за одну поездку.</a></span></li><li><span><a href=\"#Анализ-продолжительности-поездок\" data-toc-modified-id=\"Анализ-продолжительности-поездок-2.3.5\"><span class=\"toc-item-num\">2.3.5&nbsp;&nbsp;</span>Анализ продолжительности поездок</a></span></li><li><span><a href=\"#Выводы-по-разделу-Исследовательский-анализ-данных\" data-toc-modified-id=\"Выводы-по-разделу-Исследовательский-анализ-данных-2.3.6\"><span class=\"toc-item-num\">2.3.6&nbsp;&nbsp;</span>Выводы по разделу Исследовательский анализ данных</a></span></li></ul></li><li><span><a href=\"#Объединение-данных\" data-toc-modified-id=\"Объединение-данных-2.4\"><span class=\"toc-item-num\">2.4&nbsp;&nbsp;</span>Объединение данных</a></span><ul class=\"toc-item\"><li><span><a href=\"#Объединение-данных-о-пользователях,-поездках-и-подписках-в-один-датафрейм.\" data-toc-modified-id=\"Объединение-данных-о-пользователях,-поездках-и-подписках-в-один-датафрейм.-2.4.1\"><span class=\"toc-item-num\">2.4.1&nbsp;&nbsp;</span>Объединение данных о пользователях, поездках и подписках в один датафрейм.</a></span></li><li><span><a href=\"#Создание-отдельных-датафреймов\" data-toc-modified-id=\"Создание-отдельных-датафреймов-2.4.2\"><span class=\"toc-item-num\">2.4.2&nbsp;&nbsp;</span>Создание отдельных датафреймов</a></span></li><li><span><a href=\"#Визуализация-информации-о-расстоянии-и-времени-поездок-для-пользователей-с-подпиской-и-без.\" data-toc-modified-id=\"Визуализация-информации-о-расстоянии-и-времени-поездок-для-пользователей-с-подпиской-и-без.-2.4.3\"><span class=\"toc-item-num\">2.4.3&nbsp;&nbsp;</span>Визуализация информации о расстоянии и времени поездок для пользователей с подпиской и без.</a></span><ul class=\"toc-item\"><li><span><a href=\"#Рассмотрим-дистанцию-поездок-пользователей-с-подпиской-и-без-подписки\" data-toc-modified-id=\"Рассмотрим-дистанцию-поездок-пользователей-с-подпиской-и-без-подписки-2.4.3.1\"><span class=\"toc-item-num\">2.4.3.1&nbsp;&nbsp;</span>Рассмотрим дистанцию поездок пользователей с подпиской и без подписки</a></span></li><li><span><a href=\"#Рассмотрим-длительность-поездки-пользователей-с-подпиской-и-без-подписки\" data-toc-modified-id=\"Рассмотрим-длительность-поездки-пользователей-с-подпиской-и-без-подписки-2.4.3.2\"><span class=\"toc-item-num\">2.4.3.2&nbsp;&nbsp;</span>Рассмотрим длительность поездки пользователей с подпиской и без подписки</a></span></li></ul></li><li><span><a href=\"#Вывод-по-разделу-Объединение-данных\" data-toc-modified-id=\"Вывод-по-разделу-Объединение-данных-2.4.4\"><span class=\"toc-item-num\">2.4.4&nbsp;&nbsp;</span>Вывод по разделу Объединение данных</a></span></li></ul></li><li><span><a href=\"#Подсчёт-выручки\" data-toc-modified-id=\"Подсчёт-выручки-2.5\"><span class=\"toc-item-num\">2.5&nbsp;&nbsp;</span>Подсчёт выручки</a></span><ul class=\"toc-item\"><li><span><a href=\"#Датафрейм--для-расчета-выручки\" data-toc-modified-id=\"Датафрейм--для-расчета-выручки-2.5.1\"><span class=\"toc-item-num\">2.5.1&nbsp;&nbsp;</span>Датафрейм  для расчета выручки</a></span></li><li><span><a href=\"#Расчет-выручки-по-каждому-пользователю\" data-toc-modified-id=\"Расчет-выручки-по-каждому-пользователю-2.5.2\"><span class=\"toc-item-num\">2.5.2&nbsp;&nbsp;</span>Расчет выручки по каждому пользователю</a></span></li><li><span><a href=\"#Вывод-по-разделу-Подсчет-выручки\" data-toc-modified-id=\"Вывод-по-разделу-Подсчет-выручки-2.5.3\"><span class=\"toc-item-num\">2.5.3&nbsp;&nbsp;</span>Вывод по разделу Подсчет выручки</a></span></li></ul></li><li><span><a href=\"#Проверка-гипотез\" data-toc-modified-id=\"Проверка-гипотез-2.6\"><span class=\"toc-item-num\">2.6&nbsp;&nbsp;</span>Проверка гипотез</a></span><ul class=\"toc-item\"><li><span><a href=\"#Гипотеза-о-длительности-поездок-пользователей-с-подпиской\" data-toc-modified-id=\"Гипотеза-о-длительности-поездок-пользователей-с-подпиской-2.6.1\"><span class=\"toc-item-num\">2.6.1&nbsp;&nbsp;</span>Гипотеза о длительности поездок пользователей с подпиской</a></span></li><li><span><a href=\"#Гипотеза-о-дальности-поездок-пользователей-с-подпиской\" data-toc-modified-id=\"Гипотеза-о-дальности-поездок-пользователей-с-подпиской-2.6.2\"><span class=\"toc-item-num\">2.6.2&nbsp;&nbsp;</span>Гипотеза о дальности поездок пользователей с подпиской</a></span></li><li><span><a href=\"#Гипотеза-о-выручке-от-пользователей--с-подпиской\" data-toc-modified-id=\"Гипотеза-о-выручке-от-пользователей--с-подпиской-2.6.3\"><span class=\"toc-item-num\">2.6.3&nbsp;&nbsp;</span>Гипотеза о выручке от пользователей  с подпиской</a></span></li><li><span><a href=\"#Гипотеза-о-снижении-количества-обращений-в-техподдержку\" data-toc-modified-id=\"Гипотеза-о-снижении-количества-обращений-в-техподдержку-2.6.4\"><span class=\"toc-item-num\">2.6.4&nbsp;&nbsp;</span>Гипотеза о снижении количества обращений в техподдержку</a></span></li><li><span><a href=\"#Вывод-по-разделу-Проверка-гипотез\" data-toc-modified-id=\"Вывод-по-разделу-Проверка-гипотез-2.6.5\"><span class=\"toc-item-num\">2.6.5&nbsp;&nbsp;</span>Вывод по разделу Проверка гипотез</a></span></li></ul></li><li><span><a href=\"#Общий-вывод\" data-toc-modified-id=\"Общий-вывод-2.7\"><span class=\"toc-item-num\">2.7&nbsp;&nbsp;</span>Общий вывод</a></span></li></ul></li></ul></div>"
   ]
  },
  {
   "cell_type": "markdown",
   "id": "63cd86de",
   "metadata": {},
   "source": [
    "# Проект \" Анализ данных сервиса аренды самокатов GoFast\"\n",
    "\n",
    "## Описание, цель, вводная информация и план исследования\n",
    "\n",
    "На основе данных о пользователях сервиса аренды самокатов GoFast из нескольких городов, а также об их поездках, необходимо проанализировать данные и проверить некоторые гипотезы, которые могут помочь бизнесу вырасти.\n",
    "\n",
    "### Цель проекта\n",
    "\n",
    "Провести анализ и дать ответы на следующие вопросы:\n",
    "\n",
    "       1. Проверить следующие гипотезы:\n",
    "        - пользователи с подпиской тратят больше времени на поездки;\n",
    "        - расстояние, которое проезжают пользователи с подпиской за одну поездку, не превышает 3130 метров;\n",
    "        - помесячная выручка от пользователей с подпиской по месяцам выше, чем выручка от пользователей без подписки.\n",
    "       2. Выбрать тест для проверки гипотезы  о снижении количества обращений в техподдержку после обновления сервера."
   ]
  },
  {
   "cell_type": "markdown",
   "id": "40641c7c",
   "metadata": {},
   "source": [
    "### Вводная информация и описание источников данных\n",
    "\n",
    "Сервисом GoFast можно пользоваться:\n",
    "        \n",
    "        •\tбез подписки \n",
    "            o\tабонентская плата отсутствует;\n",
    "            o\tстоимость одной минуты поездки — 8 рублей;\n",
    "            o\tстоимость старта (начала поездки) — 50 рублей;\n",
    "\n",
    "        •\tс подпиской Ultra \n",
    "            o\tабонентская плата — 199 рублей в месяц;\n",
    "            o\tстоимость одной минуты поездки — 6 рублей;\n",
    "            o\tстоимость старта — бесплатно.\n",
    "\n",
    "В основных данных есть информация о пользователях, их поездках и подписках.\n",
    "\n",
    "    1. Пользователи:\n",
    "           - user_id - уникальный идентификатор пользователя\n",
    "           - name  - имя пользователя\n",
    "           - age - возраст\n",
    "           - city - город\n",
    "           - subscription_type - тип подписки (free, ultra)\n",
    "    2. Поездки:\n",
    "           - user_id - уникальный идентификатор пользователя\n",
    "           - distance - расстояние, которое пользователь проехал в текущей сессии (в метрах)\n",
    "           - duration - продолжительность сессии (в минутах) — время с того момента, как пользователь нажал кнопку «Начать поездку» до момента, как он нажал кнопку «Завершить поездку»\n",
    "           - date - дата совершения поездки\n",
    "    3. Подписки:\n",
    "           - subscription_type - тип подписки\n",
    "           - minute_price - стоимость одной минуты поездки по данной подписке\n",
    "           - start_ride_price - стоимость начала поездки\n",
    "           - subscription_fee - стоимость ежемесячного платежа"
   ]
  },
  {
   "cell_type": "markdown",
   "id": "107b2652",
   "metadata": {},
   "source": [
    "### План исследования\n",
    "\n",
    "### Загрузка и предобработка  данных:\n",
    "\n",
    "       - Загрузим CSV-файлы с данными с помощью библиотеки pandas и сохраним их в датафреймы. \n",
    "       - Изучим общую информацию о каждом датафрейме, выгрузив первые строки.\n",
    "       - Приведем столбец date к типу даты pandas.\n",
    "       - Создадим новый столбец с номером месяца на основе столбца date.\n",
    "       - Проверим наличие пропущенных значений и дубликатов в датафреймах. Обработаем их, если такие значения присутствуют.\n"
   ]
  },
  {
   "cell_type": "markdown",
   "id": "55f293b9",
   "metadata": {},
   "source": [
    " ### Исследовательский анализ данных\n",
    " \n",
    "         Опишем и визуализируем общую информацию о пользователях и поездках:\n",
    "            - частота встречаемости городов;\n",
    "            - соотношение пользователей с подпиской и без подписки;\n",
    "            - возраст пользователей;\n",
    "            - расстояние, которое пользователь преодолел за одну поездку;\n",
    "            - продолжительность поездок.\n",
    "\n",
    "### Объединение данных\n",
    "\n",
    "        - Объединим данные о пользователях, поездках и подписках в один датафрейм. \n",
    "        -  Создадим ещё два датафрейма из датафрейма:\n",
    "                •\tc данными о пользователях без подписки;\n",
    "                •\tс данными о пользователях с подпиской.\n",
    "        - Визуализируем информацию о расстоянии и времени поездок для пользователей обеих категорий."
   ]
  },
  {
   "cell_type": "markdown",
   "id": "d230d61d",
   "metadata": {},
   "source": [
    "### Подсчёт выручки\n",
    "\n",
    "        - Создадим датафрейм с агрегированными данными о поездках на основе датафрейма с объединёнными данными: \n",
    "                - найдите суммарное расстояние, \n",
    "                - количество поездок и \n",
    "                - суммарное время для каждого пользователя за каждый месяц.\n",
    "        - В этот же датафрейм добавим столбец с помесячной выручкой, которую принёс каждый пользователь с учетом наличия или отсутствия  подписки, округлив время поездки вверх до целого числа."
   ]
  },
  {
   "cell_type": "markdown",
   "id": "80eee5c0",
   "metadata": {},
   "source": [
    "### Проверка гипотез\n",
    "\n",
    "         1. Проверим следующие гипотезы:\n",
    "            - пользователи с подпиской тратят больше времени на поездки;\n",
    "            - расстояние, которое проезжают пользователи с подпиской за одну поездку, не превышает 3130 метров;\n",
    "            - помесячная выручка от пользователей с подпиской по месяцам выше, чем выручка от пользователей без подписки.\n",
    "           2. Выберем тест для проверки гипотезы  о снижении количества обращений в техподдержку после обновления сервера.\n",
    "\n",
    "### Итоговые выводы по проекту "
   ]
  },
  {
   "cell_type": "markdown",
   "id": "7cabddf6",
   "metadata": {},
   "source": [
    "## Загрузка и предобработка  данных"
   ]
  },
  {
   "cell_type": "markdown",
   "id": "4bab2f45",
   "metadata": {},
   "source": [
    "### Загрузка данных"
   ]
  },
  {
   "cell_type": "code",
   "execution_count": 1,
   "id": "506bb5cf",
   "metadata": {},
   "outputs": [],
   "source": [
    "import pandas as pd\n",
    "import matplotlib.pyplot as plt\n",
    "import seaborn as sns\n",
    "from statistics import mode\n",
    "import numpy as np\n",
    "import matplotlib.cm as cm\n",
    "import scipy.stats as st"
   ]
  },
  {
   "cell_type": "code",
   "execution_count": 2,
   "id": "15d64374",
   "metadata": {},
   "outputs": [],
   "source": [
    "df_users = pd.read_csv('C:\\\\Users\\\\GAV\\\\Desktop\\\\Study\\\\BA\\\\PythonScripts\\\\Portfolio\\\\Total\\\\0_Итог\\\\Datasets\\\\users_go.csv', sep=',')\n",
    "df_rides = pd.read_csv('C:\\\\Users\\\\GAV\\\\Desktop\\\\Study\\\\BA\\\\PythonScripts\\\\Portfolio\\\\Total\\\\0_Итог\\\\Datasets\\\\rides_go.csv', sep=',')\n",
    "df_subsc = pd.read_csv('C:\\\\Users\\\\GAV\\\\Desktop\\\\Study\\\\BA\\\\PythonScripts\\\\Portfolio\\\\Total\\\\0_Итог\\\\Datasets\\\\subscriptions_go.csv', sep=',')"
   ]
  },
  {
   "cell_type": "code",
   "execution_count": 3,
   "id": "eddca707",
   "metadata": {},
   "outputs": [
    {
     "name": "stdout",
     "output_type": "stream",
     "text": [
      "   user_id        name  age            city subscription_type\n",
      "0        1        Кира   22          Тюмень             ultra\n",
      "1        2   Станислав   31            Омск             ultra\n",
      "2        3     Алексей   20          Москва             ultra\n",
      "3        4  Константин   26  Ростов-на-Дону             ultra\n",
      "4        5       Адель   28            Омск             ultra \n",
      "\n",
      "   user_id     distance   duration        date\n",
      "0        1  4409.919140  25.599769  2021-01-01\n",
      "1        1  2617.592153  15.816871  2021-01-18\n",
      "2        1   754.159807   6.232113  2021-04-20\n",
      "3        1  2694.783254  18.511000  2021-08-11\n",
      "4        1  4028.687306  26.265803  2021-08-28 \n",
      "\n",
      "  subscription_type  minute_price  start_ride_price  subscription_fee\n",
      "0              free             8                50                 0\n",
      "1             ultra             6                 0               199\n"
     ]
    }
   ],
   "source": [
    "print(df_users.head(),\"\\n\")\n",
    "print(df_rides.head(),\"\\n\")\n",
    "print(df_subsc.head())"
   ]
  },
  {
   "cell_type": "code",
   "execution_count": 5,
   "id": "eff9f206",
   "metadata": {
    "scrolled": false
   },
   "outputs": [
    {
     "name": "stdout",
     "output_type": "stream",
     "text": [
      "<class 'pandas.core.frame.DataFrame'>\n",
      "RangeIndex: 1565 entries, 0 to 1564\n",
      "Data columns (total 5 columns):\n",
      " #   Column             Non-Null Count  Dtype \n",
      "---  ------             --------------  ----- \n",
      " 0   user_id            1565 non-null   int64 \n",
      " 1   name               1565 non-null   object\n",
      " 2   age                1565 non-null   int64 \n",
      " 3   city               1565 non-null   object\n",
      " 4   subscription_type  1565 non-null   object\n",
      "dtypes: int64(2), object(3)\n",
      "memory usage: 61.3+ KB\n",
      "None \n",
      "\n",
      "<class 'pandas.core.frame.DataFrame'>\n",
      "RangeIndex: 18068 entries, 0 to 18067\n",
      "Data columns (total 4 columns):\n",
      " #   Column    Non-Null Count  Dtype  \n",
      "---  ------    --------------  -----  \n",
      " 0   user_id   18068 non-null  int64  \n",
      " 1   distance  18068 non-null  float64\n",
      " 2   duration  18068 non-null  float64\n",
      " 3   date      18068 non-null  object \n",
      "dtypes: float64(2), int64(1), object(1)\n",
      "memory usage: 564.8+ KB\n",
      "None \n",
      "\n",
      "<class 'pandas.core.frame.DataFrame'>\n",
      "RangeIndex: 2 entries, 0 to 1\n",
      "Data columns (total 4 columns):\n",
      " #   Column             Non-Null Count  Dtype \n",
      "---  ------             --------------  ----- \n",
      " 0   subscription_type  2 non-null      object\n",
      " 1   minute_price       2 non-null      int64 \n",
      " 2   start_ride_price   2 non-null      int64 \n",
      " 3   subscription_fee   2 non-null      int64 \n",
      "dtypes: int64(3), object(1)\n",
      "memory usage: 192.0+ bytes\n",
      "None\n"
     ]
    }
   ],
   "source": [
    "print(df_users.info(),\"\\n\")\n",
    "print(df_rides.info(),\"\\n\")\n",
    "print(df_subsc.info())"
   ]
  },
  {
   "cell_type": "markdown",
   "id": "a481a543",
   "metadata": {},
   "source": [
    "Выводы по первичному обзору данных:\n",
    "    \n",
    "    1. Названия колонок корректны с точки зрения синтаксиса, изменений вносить не требуется.\n",
    "    2. Типы данных в колонках корректны, за исключением колонки date, преобразуем к типу даты на следующем шаге.\n",
    "    3. Пропусков на этом этапе не обнаружено."
   ]
  },
  {
   "cell_type": "markdown",
   "id": "e95ebca7",
   "metadata": {},
   "source": [
    "### Предобработка данных"
   ]
  },
  {
   "cell_type": "markdown",
   "id": "49c105f1",
   "metadata": {},
   "source": [
    "Приведем столбец date к типу даты pandas"
   ]
  },
  {
   "cell_type": "code",
   "execution_count": 6,
   "id": "48f2d013",
   "metadata": {
    "scrolled": true
   },
   "outputs": [
    {
     "name": "stdout",
     "output_type": "stream",
     "text": [
      "<class 'pandas.core.frame.DataFrame'>\n",
      "RangeIndex: 18068 entries, 0 to 18067\n",
      "Data columns (total 4 columns):\n",
      " #   Column    Non-Null Count  Dtype         \n",
      "---  ------    --------------  -----         \n",
      " 0   user_id   18068 non-null  int64         \n",
      " 1   distance  18068 non-null  float64       \n",
      " 2   duration  18068 non-null  float64       \n",
      " 3   date      18068 non-null  datetime64[ns]\n",
      "dtypes: datetime64[ns](1), float64(2), int64(1)\n",
      "memory usage: 564.8 KB\n",
      "None\n"
     ]
    }
   ],
   "source": [
    "df_rides['date'] = pd.to_datetime(df_rides['date'], format='%Y-%m-%d')\n",
    "print(df_rides.info())"
   ]
  },
  {
   "cell_type": "markdown",
   "id": "61aabec2",
   "metadata": {},
   "source": [
    "Создадим новый столбец с номером месяца на основе столбца date."
   ]
  },
  {
   "cell_type": "code",
   "execution_count": 7,
   "id": "c320739f",
   "metadata": {
    "scrolled": true
   },
   "outputs": [
    {
     "name": "stdout",
     "output_type": "stream",
     "text": [
      "   user_id     distance   duration       date  month\n",
      "0        1  4409.919140  25.599769 2021-01-01      1\n",
      "1        1  2617.592153  15.816871 2021-01-18      1\n",
      "2        1   754.159807   6.232113 2021-04-20      4\n",
      "3        1  2694.783254  18.511000 2021-08-11      8\n",
      "4        1  4028.687306  26.265803 2021-08-28      8\n"
     ]
    }
   ],
   "source": [
    "df_rides['month'] = df_rides['date'].dt.month\n",
    "print(df_rides.head())"
   ]
  },
  {
   "cell_type": "markdown",
   "id": "d139ddec",
   "metadata": {},
   "source": [
    "<p>\n",
    "<div class=\"alert-info\" style=\"padding: 20px; border-radius: 10px\">\n",
    "<b>Комментарий студента 💎</b>\n",
    "Добавил выгрузку уникальных значений года.</div>"
   ]
  },
  {
   "cell_type": "code",
   "execution_count": 8,
   "id": "5f2f619c",
   "metadata": {
    "scrolled": true
   },
   "outputs": [
    {
     "name": "stdout",
     "output_type": "stream",
     "text": [
      "[2021]\n"
     ]
    }
   ],
   "source": [
    "print(df_rides['date'].dt.year.unique())"
   ]
  },
  {
   "cell_type": "markdown",
   "id": "4afe3a1d",
   "metadata": {},
   "source": [
    "Данные только за 2021 г."
   ]
  },
  {
   "cell_type": "markdown",
   "id": "15de2aff",
   "metadata": {},
   "source": [
    "Проверим наличие пропущенных значений"
   ]
  },
  {
   "cell_type": "code",
   "execution_count": 9,
   "id": "698a9f4d",
   "metadata": {},
   "outputs": [],
   "source": [
    "# рассмотрим в каких колонках есть пропуски и их количество и % от общего кол-ва строк\n",
    "# функция для вывода пропущенных значений и их доли в датафрейме\n",
    "def print_missing_data(data):\n",
    "    missing_data = pd.DataFrame({\n",
    "        'Counts': data.isna().sum(),\n",
    "        '%_missing': ((data.isna().sum() / len(data)) * 100).round(1)\n",
    "    })\n",
    "    missing_data = missing_data.query('Counts != 0')\n",
    "    print(missing_data)"
   ]
  },
  {
   "cell_type": "code",
   "execution_count": 10,
   "id": "7c7ae6df",
   "metadata": {
    "scrolled": false
   },
   "outputs": [
    {
     "name": "stdout",
     "output_type": "stream",
     "text": [
      "Empty DataFrame\n",
      "Columns: [Counts, %_missing]\n",
      "Index: []\n",
      "Empty DataFrame\n",
      "Columns: [Counts, %_missing]\n",
      "Index: []\n",
      "Empty DataFrame\n",
      "Columns: [Counts, %_missing]\n",
      "Index: []\n"
     ]
    }
   ],
   "source": [
    "print_missing_data(df_users)\n",
    "print_missing_data(df_rides)\n",
    "print_missing_data(df_subsc)"
   ]
  },
  {
   "cell_type": "markdown",
   "id": "bd995c44",
   "metadata": {},
   "source": [
    "Пропущенные значения не выявлены"
   ]
  },
  {
   "cell_type": "markdown",
   "id": "75b5e40a",
   "metadata": {},
   "source": [
    "Проверим наличие дубликатов."
   ]
  },
  {
   "cell_type": "code",
   "execution_count": 11,
   "id": "2d88d4da",
   "metadata": {},
   "outputs": [],
   "source": [
    "# рассмотрим в каких колонках есть дубликаты и их количество и % от общего кол-ва строк\n",
    "# функция для вывода дубликатов значений и их доли в датафрейме\n",
    "# False не обнаружено, True обнаружено.\n",
    "def duplicated_data(data):\n",
    "    duplicated_data = pd.DataFrame({\n",
    "        'Counts': data.duplicated().value_counts(),\n",
    "        'Structure': ((data.duplicated().value_counts() / len(data)) * 100).round(2)\n",
    "    })\n",
    "    print(duplicated_data)"
   ]
  },
  {
   "cell_type": "code",
   "execution_count": 12,
   "id": "f4c5ab0d",
   "metadata": {
    "scrolled": true
   },
   "outputs": [
    {
     "name": "stdout",
     "output_type": "stream",
     "text": [
      "       Counts  Structure\n",
      "False    1534      98.02\n",
      "True       31       1.98\n"
     ]
    }
   ],
   "source": [
    "duplicated_data(df_users)"
   ]
  },
  {
   "cell_type": "code",
   "execution_count": 13,
   "id": "1677ec37",
   "metadata": {},
   "outputs": [
    {
     "name": "stdout",
     "output_type": "stream",
     "text": [
      "       Counts  Structure\n",
      "False   18068      100.0\n"
     ]
    }
   ],
   "source": [
    "duplicated_data(df_rides)"
   ]
  },
  {
   "cell_type": "code",
   "execution_count": 14,
   "id": "6b15b050",
   "metadata": {
    "scrolled": false
   },
   "outputs": [
    {
     "name": "stdout",
     "output_type": "stream",
     "text": [
      "       Counts  Structure\n",
      "False       2      100.0\n"
     ]
    }
   ],
   "source": [
    "# поиск явных дубликатов\n",
    "duplicated_data(df_subsc)"
   ]
  },
  {
   "cell_type": "markdown",
   "id": "5cdf4266",
   "metadata": {},
   "source": [
    "Дубликаты выявлены в df_users, их процент не большой 1,98%.\n",
    "Удалим их."
   ]
  },
  {
   "cell_type": "code",
   "execution_count": 15,
   "id": "3c276798",
   "metadata": {},
   "outputs": [
    {
     "name": "stdout",
     "output_type": "stream",
     "text": [
      "       Counts  Structure\n",
      "False    1534      100.0\n"
     ]
    }
   ],
   "source": [
    "#удаляем дубликаты\n",
    "df_users = df_users.drop_duplicates()\n",
    "#результат\n",
    "duplicated_data(df_users)"
   ]
  },
  {
   "cell_type": "markdown",
   "id": "f0ca76f1",
   "metadata": {},
   "source": [
    "Выводы:\n",
    "    \n",
    "    Данные из трех датафреймов загружены (пользователи, поездки, подписки).\n",
    "    Потребовалась минимальная предобработка. Колонку с датой привели к формату даты, удалили 31 дубликат (1,98%) от базы пользователей."
   ]
  },
  {
   "cell_type": "markdown",
   "id": "212593c7",
   "metadata": {},
   "source": [
    "### Исследовательский анализ данных"
   ]
  },
  {
   "cell_type": "markdown",
   "id": "6c07e098",
   "metadata": {},
   "source": [
    "         Опишем и визуализируем общую информацию о пользователях и поездках:\n",
    "            - частота встречаемости городов;\n",
    "            - соотношение пользователей с подпиской и без подписки;\n",
    "            - возраст пользователей;\n",
    "            - расстояние, которое пользователь преодолел за одну поездку;\n",
    "            - продолжительность поездок."
   ]
  },
  {
   "cell_type": "markdown",
   "id": "b9e7a486",
   "metadata": {},
   "source": [
    "#### Анализ частоты встречаемости городов"
   ]
  },
  {
   "cell_type": "code",
   "execution_count": 16,
   "id": "a63d1c9c",
   "metadata": {},
   "outputs": [],
   "source": [
    "# функция для расчета структуры данных по параметру\n",
    "def count_percentage(data, column):\n",
    "    counts_percent = pd.DataFrame({\n",
    "        'Counts': data[column].value_counts(),\n",
    "        'Structure_%': ((data[column].value_counts() / len(data)) * 100).round(1)\n",
    "    })\n",
    "    return counts_percent"
   ]
  },
  {
   "cell_type": "code",
   "execution_count": 17,
   "id": "b677e67d",
   "metadata": {},
   "outputs": [
    {
     "data": {
      "text/html": [
       "<div>\n",
       "<style scoped>\n",
       "    .dataframe tbody tr th:only-of-type {\n",
       "        vertical-align: middle;\n",
       "    }\n",
       "\n",
       "    .dataframe tbody tr th {\n",
       "        vertical-align: top;\n",
       "    }\n",
       "\n",
       "    .dataframe thead th {\n",
       "        text-align: right;\n",
       "    }\n",
       "</style>\n",
       "<table border=\"1\" class=\"dataframe\">\n",
       "  <thead>\n",
       "    <tr style=\"text-align: right;\">\n",
       "      <th></th>\n",
       "      <th>Counts</th>\n",
       "      <th>Structure_%</th>\n",
       "    </tr>\n",
       "    <tr>\n",
       "      <th>city</th>\n",
       "      <th></th>\n",
       "      <th></th>\n",
       "    </tr>\n",
       "  </thead>\n",
       "  <tbody>\n",
       "    <tr>\n",
       "      <th>Пятигорск</th>\n",
       "      <td>219</td>\n",
       "      <td>14.3</td>\n",
       "    </tr>\n",
       "    <tr>\n",
       "      <th>Екатеринбург</th>\n",
       "      <td>204</td>\n",
       "      <td>13.3</td>\n",
       "    </tr>\n",
       "    <tr>\n",
       "      <th>Ростов-на-Дону</th>\n",
       "      <td>198</td>\n",
       "      <td>12.9</td>\n",
       "    </tr>\n",
       "    <tr>\n",
       "      <th>Краснодар</th>\n",
       "      <td>193</td>\n",
       "      <td>12.6</td>\n",
       "    </tr>\n",
       "    <tr>\n",
       "      <th>Сочи</th>\n",
       "      <td>189</td>\n",
       "      <td>12.3</td>\n",
       "    </tr>\n",
       "    <tr>\n",
       "      <th>Омск</th>\n",
       "      <td>183</td>\n",
       "      <td>11.9</td>\n",
       "    </tr>\n",
       "    <tr>\n",
       "      <th>Тюмень</th>\n",
       "      <td>180</td>\n",
       "      <td>11.7</td>\n",
       "    </tr>\n",
       "    <tr>\n",
       "      <th>Москва</th>\n",
       "      <td>168</td>\n",
       "      <td>11.0</td>\n",
       "    </tr>\n",
       "  </tbody>\n",
       "</table>\n",
       "</div>"
      ],
      "text/plain": [
       "                Counts  Structure_%\n",
       "city                               \n",
       "Пятигорск          219         14.3\n",
       "Екатеринбург       204         13.3\n",
       "Ростов-на-Дону     198         12.9\n",
       "Краснодар          193         12.6\n",
       "Сочи               189         12.3\n",
       "Омск               183         11.9\n",
       "Тюмень             180         11.7\n",
       "Москва             168         11.0"
      ]
     },
     "execution_count": 17,
     "metadata": {},
     "output_type": "execute_result"
    }
   ],
   "source": [
    "#подсчет количества городов и их доли в базе данных пользователей\n",
    "count_percentage(df_users, 'city')"
   ]
  },
  {
   "cell_type": "code",
   "execution_count": 18,
   "id": "de0c0290",
   "metadata": {},
   "outputs": [
    {
     "name": "stderr",
     "output_type": "stream",
     "text": [
      "C:\\Users\\GAV\\AppData\\Local\\Temp\\ipykernel_18112\\3383934554.py:4: MatplotlibDeprecationWarning: The get_cmap function was deprecated in Matplotlib 3.7 and will be removed two minor releases later. Use ``matplotlib.colormaps[name]`` or ``matplotlib.colormaps.get_cmap(obj)`` instead.\n",
      "  colors = plt.cm.get_cmap('tab20c', len(city))\n"
     ]
    },
    {
     "data": {
      "image/png": "[encoded data removed]",
      "text/plain": [
       "<Figure size 1200x500 with 1 Axes>"
      ]
     },
     "metadata": {},
     "output_type": "display_data"
    }
   ],
   "source": [
    "# построим  столбчатую диаграмму по количеству пользователей в городах\n",
    "city = df_users['city'].value_counts()\n",
    "plt.figure(figsize=(12, 5))\n",
    "colors = plt.cm.get_cmap('tab20c', len(city))\n",
    "city.plot(kind='bar', color=colors.colors)\n",
    "plt.title('Распределение пользователей по городам')\n",
    "plt.xlabel('Город')\n",
    "plt.ylabel('Количество пользователей')\n",
    "plt.xticks(rotation=45)\n",
    "total_users = len(df_users)\n",
    "for i, count in enumerate(city):\n",
    "    percentage = (count / total_users) * 100\n",
    "    plt.text(i, count + 1.5, f\"{percentage:.1f}%\", ha='center', color='black')\n",
    "plt.ylim(150, city.max()*1.05)\n",
    "plt.show()"
   ]
  },
  {
   "cell_type": "code",
   "execution_count": 19,
   "id": "dcd7dbb6",
   "metadata": {
    "scrolled": true
   },
   "outputs": [
    {
     "data": {
      "text/plain": [
       "count      8.000000\n",
       "mean     191.750000\n",
       "std       15.672998\n",
       "min      168.000000\n",
       "25%      182.250000\n",
       "50%      191.000000\n",
       "75%      199.500000\n",
       "max      219.000000\n",
       "Name: count, dtype: float64"
      ]
     },
     "execution_count": 19,
     "metadata": {},
     "output_type": "execute_result"
    }
   ],
   "source": [
    "# посмотрим на разброс значений\n",
    "df_users['city'].value_counts().describe()"
   ]
  },
  {
   "cell_type": "markdown",
   "id": "58a3a484",
   "metadata": {},
   "source": [
    "Выше был проведен анализ по данным базы зарегистрированных пользователей, но фактических городов за исследуемый период может быть другое количество и распределение. Дополним таблицу df_riders данными о пользователях  и посмотрим на фактические данные за период."
   ]
  },
  {
   "cell_type": "code",
   "execution_count": 20,
   "id": "358578ab",
   "metadata": {},
   "outputs": [],
   "source": [
    "# Объединим таблицы df_rides и df_users для дальнейшего анализа и сравнения\n",
    "df_rides = df_rides.merge(df_users, on='user_id')"
   ]
  },
  {
   "cell_type": "code",
   "execution_count": 21,
   "id": "611860ba",
   "metadata": {},
   "outputs": [
    {
     "data": {
      "text/html": [
       "<div>\n",
       "<style scoped>\n",
       "    .dataframe tbody tr th:only-of-type {\n",
       "        vertical-align: middle;\n",
       "    }\n",
       "\n",
       "    .dataframe tbody tr th {\n",
       "        vertical-align: top;\n",
       "    }\n",
       "\n",
       "    .dataframe thead th {\n",
       "        text-align: right;\n",
       "    }\n",
       "</style>\n",
       "<table border=\"1\" class=\"dataframe\">\n",
       "  <thead>\n",
       "    <tr style=\"text-align: right;\">\n",
       "      <th></th>\n",
       "      <th>Counts</th>\n",
       "      <th>Structure_%</th>\n",
       "    </tr>\n",
       "    <tr>\n",
       "      <th>city</th>\n",
       "      <th></th>\n",
       "      <th></th>\n",
       "    </tr>\n",
       "  </thead>\n",
       "  <tbody>\n",
       "    <tr>\n",
       "      <th>Пятигорск</th>\n",
       "      <td>2524</td>\n",
       "      <td>14.0</td>\n",
       "    </tr>\n",
       "    <tr>\n",
       "      <th>Екатеринбург</th>\n",
       "      <td>2461</td>\n",
       "      <td>13.6</td>\n",
       "    </tr>\n",
       "    <tr>\n",
       "      <th>Ростов-на-Дону</th>\n",
       "      <td>2450</td>\n",
       "      <td>13.6</td>\n",
       "    </tr>\n",
       "    <tr>\n",
       "      <th>Краснодар</th>\n",
       "      <td>2301</td>\n",
       "      <td>12.7</td>\n",
       "    </tr>\n",
       "    <tr>\n",
       "      <th>Сочи</th>\n",
       "      <td>2259</td>\n",
       "      <td>12.5</td>\n",
       "    </tr>\n",
       "    <tr>\n",
       "      <th>Тюмень</th>\n",
       "      <td>2121</td>\n",
       "      <td>11.7</td>\n",
       "    </tr>\n",
       "    <tr>\n",
       "      <th>Омск</th>\n",
       "      <td>2077</td>\n",
       "      <td>11.5</td>\n",
       "    </tr>\n",
       "    <tr>\n",
       "      <th>Москва</th>\n",
       "      <td>1875</td>\n",
       "      <td>10.4</td>\n",
       "    </tr>\n",
       "  </tbody>\n",
       "</table>\n",
       "</div>"
      ],
      "text/plain": [
       "                Counts  Structure_%\n",
       "city                               \n",
       "Пятигорск         2524         14.0\n",
       "Екатеринбург      2461         13.6\n",
       "Ростов-на-Дону    2450         13.6\n",
       "Краснодар         2301         12.7\n",
       "Сочи              2259         12.5\n",
       "Тюмень            2121         11.7\n",
       "Омск              2077         11.5\n",
       "Москва            1875         10.4"
      ]
     },
     "execution_count": 21,
     "metadata": {},
     "output_type": "execute_result"
    }
   ],
   "source": [
    "#подсчет количества городов и их доли в базе поездок пользователей\n",
    "count_percentage(df_rides, 'city')"
   ]
  },
  {
   "cell_type": "markdown",
   "id": "7508df7c",
   "metadata": {},
   "source": [
    "Существенных отличий базы users и rides нет. Тюмень и Омск поменялись местами, но в общем структура базы данных пользователи  по городам соответствует  структуре базы поездок."
   ]
  },
  {
   "cell_type": "markdown",
   "id": "8b0a8b75",
   "metadata": {},
   "source": [
    "Вывод:\n",
    "            \n",
    "            В базе данных пользователей встречается 8 городов. \n",
    "            Больше всего пользователей из Пятигорска - 219, меньше всего в Москве - 168.\n",
    "            В среднем по городам 191 пользователь.            "
   ]
  },
  {
   "cell_type": "markdown",
   "id": "44f13cdb",
   "metadata": {},
   "source": [
    "#### Соотношение пользователей с подпиской и без подписки."
   ]
  },
  {
   "cell_type": "code",
   "execution_count": 22,
   "id": "21f607d2",
   "metadata": {
    "scrolled": false
   },
   "outputs": [
    {
     "data": {
      "text/html": [
       "<div>\n",
       "<style scoped>\n",
       "    .dataframe tbody tr th:only-of-type {\n",
       "        vertical-align: middle;\n",
       "    }\n",
       "\n",
       "    .dataframe tbody tr th {\n",
       "        vertical-align: top;\n",
       "    }\n",
       "\n",
       "    .dataframe thead th {\n",
       "        text-align: right;\n",
       "    }\n",
       "</style>\n",
       "<table border=\"1\" class=\"dataframe\">\n",
       "  <thead>\n",
       "    <tr style=\"text-align: right;\">\n",
       "      <th></th>\n",
       "      <th>Counts</th>\n",
       "      <th>Structure_%</th>\n",
       "    </tr>\n",
       "    <tr>\n",
       "      <th>subscription_type</th>\n",
       "      <th></th>\n",
       "      <th></th>\n",
       "    </tr>\n",
       "  </thead>\n",
       "  <tbody>\n",
       "    <tr>\n",
       "      <th>free</th>\n",
       "      <td>835</td>\n",
       "      <td>54.4</td>\n",
       "    </tr>\n",
       "    <tr>\n",
       "      <th>ultra</th>\n",
       "      <td>699</td>\n",
       "      <td>45.6</td>\n",
       "    </tr>\n",
       "  </tbody>\n",
       "</table>\n",
       "</div>"
      ],
      "text/plain": [
       "                   Counts  Structure_%\n",
       "subscription_type                     \n",
       "free                  835         54.4\n",
       "ultra                 699         45.6"
      ]
     },
     "execution_count": 22,
     "metadata": {},
     "output_type": "execute_result"
    }
   ],
   "source": [
    "#подсчет количества пользователей с подпиской/без подписки и их доли в базе данных df_users\n",
    "count_percentage(df_users, 'subscription_type')"
   ]
  },
  {
   "cell_type": "code",
   "execution_count": 23,
   "id": "8e3540ab",
   "metadata": {
    "scrolled": true
   },
   "outputs": [
    {
     "data": {
      "image/png": "[encoded data removed]",
      "text/plain": [
       "<Figure size 400x400 with 1 Axes>"
      ]
     },
     "metadata": {},
     "output_type": "display_data"
    }
   ],
   "source": [
    "# Построим круговую диаграмму с распределением пользователей в базе df_users\n",
    "users = df_users['subscription_type'].value_counts()\n",
    "plt.figure(figsize=(4, 4))\n",
    "colors = plt.cm.tab20.colors\n",
    "plt.pie(users, labels=users.index, autopct='%1.1f%%', colors=colors)\n",
    "plt.title('Пользователи с подпиской \"Ultra\" и без подписки \"free\"')\n",
    "plt.tight_layout()\n",
    "plt.show()"
   ]
  },
  {
   "cell_type": "markdown",
   "id": "2bf11789",
   "metadata": {},
   "source": [
    "Посмотрим на соотношение тех, кто фактически пользовался прокатом в 2021 г."
   ]
  },
  {
   "cell_type": "code",
   "execution_count": 24,
   "id": "0357fb4c",
   "metadata": {
    "scrolled": true
   },
   "outputs": [
    {
     "data": {
      "text/html": [
       "<div>\n",
       "<style scoped>\n",
       "    .dataframe tbody tr th:only-of-type {\n",
       "        vertical-align: middle;\n",
       "    }\n",
       "\n",
       "    .dataframe tbody tr th {\n",
       "        vertical-align: top;\n",
       "    }\n",
       "\n",
       "    .dataframe thead th {\n",
       "        text-align: right;\n",
       "    }\n",
       "</style>\n",
       "<table border=\"1\" class=\"dataframe\">\n",
       "  <thead>\n",
       "    <tr style=\"text-align: right;\">\n",
       "      <th></th>\n",
       "      <th>Counts</th>\n",
       "      <th>Structure_%</th>\n",
       "    </tr>\n",
       "    <tr>\n",
       "      <th>subscription_type</th>\n",
       "      <th></th>\n",
       "      <th></th>\n",
       "    </tr>\n",
       "  </thead>\n",
       "  <tbody>\n",
       "    <tr>\n",
       "      <th>free</th>\n",
       "      <td>11568</td>\n",
       "      <td>64.0</td>\n",
       "    </tr>\n",
       "    <tr>\n",
       "      <th>ultra</th>\n",
       "      <td>6500</td>\n",
       "      <td>36.0</td>\n",
       "    </tr>\n",
       "  </tbody>\n",
       "</table>\n",
       "</div>"
      ],
      "text/plain": [
       "                   Counts  Structure_%\n",
       "subscription_type                     \n",
       "free                11568         64.0\n",
       "ultra                6500         36.0"
      ]
     },
     "execution_count": 24,
     "metadata": {},
     "output_type": "execute_result"
    }
   ],
   "source": [
    "#подсчет количества пользователей с подпиской/без подписки и их доли в базе данных df_rides\n",
    "count_percentage(df_rides, 'subscription_type')"
   ]
  },
  {
   "cell_type": "markdown",
   "id": "8e9030a6",
   "metadata": {},
   "source": [
    "По факту без подписки % поездок больше, чем пользователей без подписки в базе данных.\n",
    "Проверим все ли пользователи из базы арендовали в 2021 г. самокат хотя бы один раз"
   ]
  },
  {
   "cell_type": "code",
   "execution_count": 25,
   "id": "d7b93eb5",
   "metadata": {
    "scrolled": false
   },
   "outputs": [
    {
     "name": "stdout",
     "output_type": "stream",
     "text": [
      "<class 'pandas.core.frame.DataFrame'>\n",
      "Index: 1534 entries, 0 to 1533\n",
      "Data columns (total 6 columns):\n",
      " #   Column             Non-Null Count  Dtype  \n",
      "---  ------             --------------  -----  \n",
      " 0   user_id            1534 non-null   int64  \n",
      " 1   name               1534 non-null   object \n",
      " 2   age                1534 non-null   int64  \n",
      " 3   city               1534 non-null   object \n",
      " 4   subscription_type  1534 non-null   object \n",
      " 5   distance           1534 non-null   float64\n",
      "dtypes: float64(1), int64(2), object(3)\n",
      "memory usage: 83.9+ KB\n"
     ]
    }
   ],
   "source": [
    "# объединим df_users c df_rides, сгруппированную по пользователю с медианой дистанции\n",
    "df_rides_group = df_rides.pivot_table(index='user_id', values='distance', aggfunc='median')\n",
    "# отберем всех пользователей, у которых дистанция не ноль\n",
    "df_users_rides = df_users.merge(df_rides_group, on='user_id').query('distance !=0')\n",
    "df_users_rides.info()"
   ]
  },
  {
   "cell_type": "markdown",
   "id": "61d34ea9",
   "metadata": {},
   "source": [
    "Всем пользователям найдено соответствующее  количество поездок, т.е. нет такого чтобы пользователи из базы данных не пользовались прокатом хотя бы один раз за 2021 г."
   ]
  },
  {
   "cell_type": "markdown",
   "id": "f3edbfc4",
   "metadata": {},
   "source": [
    "Вывод:\n",
    "    \n",
    "    1. В базе данных пользователей  зарегистрировано с подпиской порядка 46%, без подписки 54% всех пользователей .\n",
    "    2. При этом, фактически за 2021 г. 64% поездок были совершены пользователями  без подписки (против   54% в базе пользователей) и только 36% теми, у кого она была оформлена (против 46% в базе пользователей).Т.е. пользователи без подписки пользовались прокатом чаще, чем пользователи без подписки.\n",
    "    3. Нет пользователей в базе df_users, которые бы не пользовались прокатом в 2021 г. хотя бы раз."
   ]
  },
  {
   "cell_type": "markdown",
   "id": "1f03b427",
   "metadata": {},
   "source": [
    "#### Анализ возраста пользователей"
   ]
  },
  {
   "cell_type": "code",
   "execution_count": 26,
   "id": "ce4f19dc",
   "metadata": {
    "scrolled": true
   },
   "outputs": [
    {
     "data": {
      "text/plain": [
       "array([22, 31, 20, 26, 28, 25, 23, 21, 18, 27, 24, 29, 32, 14, 19, 30, 17,\n",
       "       12, 35, 33, 13, 15, 37, 16, 34, 38, 36, 39, 43], dtype=int64)"
      ]
     },
     "execution_count": 26,
     "metadata": {},
     "output_type": "execute_result"
    }
   ],
   "source": [
    "# вывод уникальных значений возраста\n",
    "df_users['age'].unique()"
   ]
  },
  {
   "cell_type": "code",
   "execution_count": 27,
   "id": "f23b5023",
   "metadata": {
    "scrolled": true
   },
   "outputs": [
    {
     "data": {
      "text/plain": [
       "count    1534.000000\n",
       "mean       24.903520\n",
       "std         4.572367\n",
       "min        12.000000\n",
       "25%        22.000000\n",
       "50%        25.000000\n",
       "75%        28.000000\n",
       "max        43.000000\n",
       "Name: age, dtype: float64"
      ]
     },
     "execution_count": 27,
     "metadata": {},
     "output_type": "execute_result"
    }
   ],
   "source": [
    "# таблица describe age\n",
    "df_users['age'].describe()"
   ]
  },
  {
   "cell_type": "code",
   "execution_count": 28,
   "id": "4da221a0",
   "metadata": {
    "scrolled": true
   },
   "outputs": [
    {
     "data": {
      "image/png": "[encoded data removed]",
      "text/plain": [
       "<Figure size 1200x500 with 1 Axes>"
      ]
     },
     "metadata": {},
     "output_type": "display_data"
    }
   ],
   "source": [
    "# гистограмма распределения возрастов\n",
    "plt.figure(figsize=(12, 5))\n",
    "sns.histplot(df_users['age'], bins=30, kde=True, color='skyblue')\n",
    "plt.xlim(10, 50)\n",
    "xticks_values = list(range(10, 50, 1))\n",
    "plt.xticks(xticks_values)\n",
    "plt.title('Гистограмма Возраст пользователя')\n",
    "plt.xlabel('Возраст, лет')\n",
    "plt.ylabel('Частота');"
   ]
  },
  {
   "cell_type": "markdown",
   "id": "b22fa059",
   "metadata": {},
   "source": [
    "<p>\n",
    "<div class=\"alert-info\" style=\"padding: 20px; border-radius: 10px\">\n",
    "<b>Комментарий студента 💎</b>\n",
    "\n",
    "Исправил кол-во корзин на 30..</div>"
   ]
  },
  {
   "cell_type": "code",
   "execution_count": 29,
   "id": "a4f01cec",
   "metadata": {},
   "outputs": [
    {
     "name": "stdout",
     "output_type": "stream",
     "text": [
      "Мода: 25\n"
     ]
    }
   ],
   "source": [
    "# расчет моды - наиболее часто встречающегося значения\n",
    "mode_value = mode(df_users['age'])\n",
    "print(\"Мода:\", mode_value)"
   ]
  },
  {
   "cell_type": "code",
   "execution_count": 30,
   "id": "856d38b1",
   "metadata": {
    "scrolled": true
   },
   "outputs": [
    {
     "data": {
      "image/png": "[encoded data removed]",
      "text/plain": [
       "<Figure size 1200x500 with 1 Axes>"
      ]
     },
     "metadata": {},
     "output_type": "display_data"
    }
   ],
   "source": [
    "# boxplot для age\n",
    "plt.figure(figsize=(12, 5))\n",
    "sns.boxplot(data=df_users, x='age', color='lightgreen', showfliers=True)\n",
    "plt.xlim(0, 50)\n",
    "xticks_values = list(range(0, 50, 2))\n",
    "plt.xticks(rotation=45)\n",
    "plt.xticks(xticks_values)\n",
    "plt.title('Boxplot для age')\n",
    "plt.xlabel('Возраст, лет');"
   ]
  },
  {
   "cell_type": "code",
   "execution_count": 31,
   "id": "f1b03fab",
   "metadata": {},
   "outputs": [
    {
     "name": "stdout",
     "output_type": "stream",
     "text": [
      "Количество выбросов в столбце 'age': 9\n",
      "Доля: 0.59%\n"
     ]
    }
   ],
   "source": [
    "# функция для подсчета выбросов\n",
    "def count_outliers(dataframe, column_name):\n",
    "    Q1 = np.percentile(dataframe[column_name], 25)\n",
    "    Q3 = np.percentile(dataframe[column_name], 75)\n",
    "    IQR = Q3 - Q1\n",
    "\n",
    "    upper_bound = Q3 + 1.5 * IQR\n",
    "    lower_bound = Q1 - 1.5 * IQR\n",
    "\n",
    "    outliers = dataframe[(dataframe[column_name] < lower_bound) | (dataframe[column_name] > upper_bound)]\n",
    "    num_outliers = len(outliers)\n",
    "    percent_outliers = (num_outliers / len(dataframe)) * 100\n",
    "\n",
    "    print(f\"Количество выбросов в столбце '{column_name}': {num_outliers}\")\n",
    "    print(f\"Доля: {percent_outliers:.2f}%\")\n",
    "\n",
    "# посмотрим количество выбросов в колонке age\n",
    "count_outliers(df_users, 'age')"
   ]
  },
  {
   "cell_type": "markdown",
   "id": "06f04d93",
   "metadata": {},
   "source": [
    "Вывод:\n",
    "    \n",
    "       1. Средний возраст пользователя 25 лет, распределение имеет вид нормального.\n",
    "       2. Минимальный возраст 12 лет, максимальный 43 года.\n",
    "       3. 50% пользователей от 22 до 28 лет.\n",
    "       4. Выбросов, значений за границами 1.5 меквартильного размаха, незначительное количество, всего 9 шт. или 0,6%."
   ]
  },
  {
   "cell_type": "markdown",
   "id": "c883fbc2",
   "metadata": {},
   "source": [
    "#### Расстояние, которое пользователь преодолевает за одну поездку."
   ]
  },
  {
   "cell_type": "code",
   "execution_count": 32,
   "id": "57445be7",
   "metadata": {},
   "outputs": [],
   "source": [
    "# добавим колоку speed (метров в мин) для дальнейшего анализа и сравнения\n",
    "df_rides['speed'] = df_rides['distance']/df_rides['duration']"
   ]
  },
  {
   "cell_type": "code",
   "execution_count": 33,
   "id": "5086190d",
   "metadata": {
    "scrolled": false
   },
   "outputs": [
    {
     "data": {
      "text/html": [
       "<div>\n",
       "<style scoped>\n",
       "    .dataframe tbody tr th:only-of-type {\n",
       "        vertical-align: middle;\n",
       "    }\n",
       "\n",
       "    .dataframe tbody tr th {\n",
       "        vertical-align: top;\n",
       "    }\n",
       "\n",
       "    .dataframe thead th {\n",
       "        text-align: right;\n",
       "    }\n",
       "</style>\n",
       "<table border=\"1\" class=\"dataframe\">\n",
       "  <thead>\n",
       "    <tr style=\"text-align: right;\">\n",
       "      <th></th>\n",
       "      <th>duration</th>\n",
       "      <th>distance</th>\n",
       "      <th>speed</th>\n",
       "    </tr>\n",
       "  </thead>\n",
       "  <tbody>\n",
       "    <tr>\n",
       "      <th>count</th>\n",
       "      <td>18068.000000</td>\n",
       "      <td>18068.000000</td>\n",
       "      <td>18068.000000</td>\n",
       "    </tr>\n",
       "    <tr>\n",
       "      <th>mean</th>\n",
       "      <td>17.805011</td>\n",
       "      <td>3070.659976</td>\n",
       "      <td>229.754352</td>\n",
       "    </tr>\n",
       "    <tr>\n",
       "      <th>std</th>\n",
       "      <td>6.091051</td>\n",
       "      <td>1116.831209</td>\n",
       "      <td>735.936479</td>\n",
       "    </tr>\n",
       "    <tr>\n",
       "      <th>min</th>\n",
       "      <td>0.500000</td>\n",
       "      <td>0.855683</td>\n",
       "      <td>0.085552</td>\n",
       "    </tr>\n",
       "    <tr>\n",
       "      <th>25%</th>\n",
       "      <td>13.597563</td>\n",
       "      <td>2543.226360</td>\n",
       "      <td>135.464046</td>\n",
       "    </tr>\n",
       "    <tr>\n",
       "      <th>50%</th>\n",
       "      <td>17.678395</td>\n",
       "      <td>3133.609994</td>\n",
       "      <td>170.852249</td>\n",
       "    </tr>\n",
       "    <tr>\n",
       "      <th>75%</th>\n",
       "      <td>21.724800</td>\n",
       "      <td>3776.222735</td>\n",
       "      <td>215.496668</td>\n",
       "    </tr>\n",
       "    <tr>\n",
       "      <th>max</th>\n",
       "      <td>40.823963</td>\n",
       "      <td>7211.007745</td>\n",
       "      <td>14422.015489</td>\n",
       "    </tr>\n",
       "  </tbody>\n",
       "</table>\n",
       "</div>"
      ],
      "text/plain": [
       "           duration      distance         speed\n",
       "count  18068.000000  18068.000000  18068.000000\n",
       "mean      17.805011   3070.659976    229.754352\n",
       "std        6.091051   1116.831209    735.936479\n",
       "min        0.500000      0.855683      0.085552\n",
       "25%       13.597563   2543.226360    135.464046\n",
       "50%       17.678395   3133.609994    170.852249\n",
       "75%       21.724800   3776.222735    215.496668\n",
       "max       40.823963   7211.007745  14422.015489"
      ]
     },
     "execution_count": 33,
     "metadata": {},
     "output_type": "execute_result"
    }
   ],
   "source": [
    "# таблица describe с основными характеристиками поездок\n",
    "df_rides[['duration', 'distance', 'speed']].describe()"
   ]
  },
  {
   "cell_type": "markdown",
   "id": "712200eb",
   "metadata": {},
   "source": [
    "Медиана расстояния 3133 метра.Посмотрим распределение на гистограмме."
   ]
  },
  {
   "cell_type": "code",
   "execution_count": 34,
   "id": "1af2e105",
   "metadata": {
    "scrolled": false
   },
   "outputs": [
    {
     "data": {
      "image/png": "[encoded data removed]",
      "text/plain": [
       "<Figure size 1200x500 with 1 Axes>"
      ]
     },
     "metadata": {},
     "output_type": "display_data"
    }
   ],
   "source": [
    "# гистограмма распределения дальности поездки\n",
    "plt.figure(figsize=(12, 5))\n",
    "sns.histplot(df_rides['distance'], bins=100, kde=True, color='skyblue')\n",
    "plt.xlim(0, 7500)\n",
    "xticks_values = list(range(0, 7500, 500))\n",
    "plt.xticks(rotation=0)\n",
    "plt.xticks(xticks_values)\n",
    "plt.title('Гистограмма Дальность поездки')\n",
    "plt.xlabel('Расстояние, м')\n",
    "plt.ylabel('Частота');"
   ]
  },
  {
   "cell_type": "code",
   "execution_count": 35,
   "id": "9653d8bb",
   "metadata": {
    "scrolled": true
   },
   "outputs": [
    {
     "data": {
      "image/png": "[encoded data removed]",
      "text/plain": [
       "<Figure size 1200x500 with 1 Axes>"
      ]
     },
     "metadata": {},
     "output_type": "display_data"
    }
   ],
   "source": [
    "# boxplot для df_rides\n",
    "plt.figure(figsize=(12, 5))\n",
    "sns.boxplot(data=df_rides, x='distance', color='lightgreen', showfliers=True)\n",
    "plt.xlim(0, 7300)\n",
    "xticks_values = list(range(0, 7300, 500))\n",
    "plt.xticks(rotation=45)\n",
    "plt.xticks(xticks_values)\n",
    "plt.title('Boxplot для distance')\n",
    "plt.xlabel('Расстояние, метры');"
   ]
  },
  {
   "cell_type": "code",
   "execution_count": 36,
   "id": "b5b82231",
   "metadata": {},
   "outputs": [
    {
     "name": "stdout",
     "output_type": "stream",
     "text": [
      "Количество выбросов в столбце 'distance': 1036\n",
      "Доля: 5.73%\n"
     ]
    }
   ],
   "source": [
    "# посмотрим количество выбросов в колонке age\n",
    "count_outliers(df_rides, 'distance')"
   ]
  },
  {
   "cell_type": "markdown",
   "id": "82737b15",
   "metadata": {},
   "source": [
    "Явно выделяются два сегмента:\n",
    "        \n",
    "        - с короткими поездками до 1500 метров и медианой около 700 метров, \n",
    "        - и от 1500 метров с медианой на уровне 3200 метров. \n",
    "        \n",
    "        Посмотрим на сегмент коротких поездок."
   ]
  },
  {
   "cell_type": "code",
   "execution_count": 37,
   "id": "1f0e321f",
   "metadata": {
    "scrolled": true
   },
   "outputs": [
    {
     "data": {
      "text/html": [
       "<div>\n",
       "<style scoped>\n",
       "    .dataframe tbody tr th:only-of-type {\n",
       "        vertical-align: middle;\n",
       "    }\n",
       "\n",
       "    .dataframe tbody tr th {\n",
       "        vertical-align: top;\n",
       "    }\n",
       "\n",
       "    .dataframe thead th {\n",
       "        text-align: right;\n",
       "    }\n",
       "</style>\n",
       "<table border=\"1\" class=\"dataframe\">\n",
       "  <thead>\n",
       "    <tr style=\"text-align: right;\">\n",
       "      <th></th>\n",
       "      <th>duration</th>\n",
       "      <th>distance</th>\n",
       "      <th>speed</th>\n",
       "      <th>age</th>\n",
       "    </tr>\n",
       "  </thead>\n",
       "  <tbody>\n",
       "    <tr>\n",
       "      <th>count</th>\n",
       "      <td>1796.000000</td>\n",
       "      <td>1796.000000</td>\n",
       "      <td>1796.000000</td>\n",
       "      <td>1796.000000</td>\n",
       "    </tr>\n",
       "    <tr>\n",
       "      <th>mean</th>\n",
       "      <td>10.170259</td>\n",
       "      <td>703.889720</td>\n",
       "      <td>76.162744</td>\n",
       "      <td>24.846325</td>\n",
       "    </tr>\n",
       "    <tr>\n",
       "      <th>std</th>\n",
       "      <td>3.956201</td>\n",
       "      <td>368.353542</td>\n",
       "      <td>44.684594</td>\n",
       "      <td>4.574702</td>\n",
       "    </tr>\n",
       "    <tr>\n",
       "      <th>min</th>\n",
       "      <td>2.035632</td>\n",
       "      <td>0.855683</td>\n",
       "      <td>0.085552</td>\n",
       "      <td>12.000000</td>\n",
       "    </tr>\n",
       "    <tr>\n",
       "      <th>25%</th>\n",
       "      <td>6.921965</td>\n",
       "      <td>414.315810</td>\n",
       "      <td>43.926119</td>\n",
       "      <td>22.000000</td>\n",
       "    </tr>\n",
       "    <tr>\n",
       "      <th>50%</th>\n",
       "      <td>10.094883</td>\n",
       "      <td>687.536713</td>\n",
       "      <td>69.677116</td>\n",
       "      <td>25.000000</td>\n",
       "    </tr>\n",
       "    <tr>\n",
       "      <th>75%</th>\n",
       "      <td>13.456112</td>\n",
       "      <td>985.430276</td>\n",
       "      <td>101.966192</td>\n",
       "      <td>28.000000</td>\n",
       "    </tr>\n",
       "    <tr>\n",
       "      <th>max</th>\n",
       "      <td>20.457599</td>\n",
       "      <td>1499.565830</td>\n",
       "      <td>272.523339</td>\n",
       "      <td>43.000000</td>\n",
       "    </tr>\n",
       "  </tbody>\n",
       "</table>\n",
       "</div>"
      ],
      "text/plain": [
       "          duration     distance        speed          age\n",
       "count  1796.000000  1796.000000  1796.000000  1796.000000\n",
       "mean     10.170259   703.889720    76.162744    24.846325\n",
       "std       3.956201   368.353542    44.684594     4.574702\n",
       "min       2.035632     0.855683     0.085552    12.000000\n",
       "25%       6.921965   414.315810    43.926119    22.000000\n",
       "50%      10.094883   687.536713    69.677116    25.000000\n",
       "75%      13.456112   985.430276   101.966192    28.000000\n",
       "max      20.457599  1499.565830   272.523339    43.000000"
      ]
     },
     "execution_count": 37,
     "metadata": {},
     "output_type": "execute_result"
    }
   ],
   "source": [
    "# отберем короткие поездки и посмотрим статистику по ним\n",
    "df_rides_shorts = df_rides.query('distance < 1500')\n",
    "df_rides_shorts[['duration', 'distance', 'speed', 'age']].describe()"
   ]
  },
  {
   "cell_type": "code",
   "execution_count": 38,
   "id": "b626d4ef",
   "metadata": {},
   "outputs": [
    {
     "data": {
      "text/html": [
       "<div>\n",
       "<style scoped>\n",
       "    .dataframe tbody tr th:only-of-type {\n",
       "        vertical-align: middle;\n",
       "    }\n",
       "\n",
       "    .dataframe tbody tr th {\n",
       "        vertical-align: top;\n",
       "    }\n",
       "\n",
       "    .dataframe thead th {\n",
       "        text-align: right;\n",
       "    }\n",
       "</style>\n",
       "<table border=\"1\" class=\"dataframe\">\n",
       "  <thead>\n",
       "    <tr style=\"text-align: right;\">\n",
       "      <th></th>\n",
       "      <th>duration</th>\n",
       "      <th>distance</th>\n",
       "      <th>speed</th>\n",
       "      <th>age</th>\n",
       "    </tr>\n",
       "  </thead>\n",
       "  <tbody>\n",
       "    <tr>\n",
       "      <th>count</th>\n",
       "      <td>16272.000000</td>\n",
       "      <td>16272.000000</td>\n",
       "      <td>16272.000000</td>\n",
       "      <td>16272.000000</td>\n",
       "    </tr>\n",
       "    <tr>\n",
       "      <th>mean</th>\n",
       "      <td>18.647687</td>\n",
       "      <td>3331.889043</td>\n",
       "      <td>246.706819</td>\n",
       "      <td>24.898230</td>\n",
       "    </tr>\n",
       "    <tr>\n",
       "      <th>std</th>\n",
       "      <td>5.685534</td>\n",
       "      <td>826.722577</td>\n",
       "      <td>773.481237</td>\n",
       "      <td>4.583155</td>\n",
       "    </tr>\n",
       "    <tr>\n",
       "      <th>min</th>\n",
       "      <td>0.500000</td>\n",
       "      <td>1502.431070</td>\n",
       "      <td>74.824282</td>\n",
       "      <td>12.000000</td>\n",
       "    </tr>\n",
       "    <tr>\n",
       "      <th>25%</th>\n",
       "      <td>14.588967</td>\n",
       "      <td>2742.576736</td>\n",
       "      <td>145.242963</td>\n",
       "      <td>22.000000</td>\n",
       "    </tr>\n",
       "    <tr>\n",
       "      <th>50%</th>\n",
       "      <td>18.389323</td>\n",
       "      <td>3239.972305</td>\n",
       "      <td>177.670468</td>\n",
       "      <td>25.000000</td>\n",
       "    </tr>\n",
       "    <tr>\n",
       "      <th>75%</th>\n",
       "      <td>22.209363</td>\n",
       "      <td>3874.561063</td>\n",
       "      <td>221.602801</td>\n",
       "      <td>28.000000</td>\n",
       "    </tr>\n",
       "    <tr>\n",
       "      <th>max</th>\n",
       "      <td>40.823963</td>\n",
       "      <td>7211.007745</td>\n",
       "      <td>14422.015489</td>\n",
       "      <td>43.000000</td>\n",
       "    </tr>\n",
       "  </tbody>\n",
       "</table>\n",
       "</div>"
      ],
      "text/plain": [
       "           duration      distance         speed           age\n",
       "count  16272.000000  16272.000000  16272.000000  16272.000000\n",
       "mean      18.647687   3331.889043    246.706819     24.898230\n",
       "std        5.685534    826.722577    773.481237      4.583155\n",
       "min        0.500000   1502.431070     74.824282     12.000000\n",
       "25%       14.588967   2742.576736    145.242963     22.000000\n",
       "50%       18.389323   3239.972305    177.670468     25.000000\n",
       "75%       22.209363   3874.561063    221.602801     28.000000\n",
       "max       40.823963   7211.007745  14422.015489     43.000000"
      ]
     },
     "execution_count": 38,
     "metadata": {},
     "output_type": "execute_result"
    }
   ],
   "source": [
    "# отберем остальные 90% поездок и посмотрим статистику по ним\n",
    "df_rides_norm = df_rides.query('distance >= 1500')\n",
    "df_rides_norm[['duration', 'distance', 'speed', 'age']].describe()"
   ]
  },
  {
   "cell_type": "markdown",
   "id": "664f3ec9",
   "metadata": {},
   "source": [
    "Итак 90% поездок от всей базы df_rides имеют медиану около 3200 метров, большая часть поездок укладывается в дистанцию от 2700 до 3900 метров. Средняя скорость 178 метров в мин. или 10,7 км./ч."
   ]
  },
  {
   "cell_type": "markdown",
   "id": "ca90bf40",
   "metadata": {},
   "source": [
    "<a id='2.3.4'></a>\n",
    "Коротких поездок порядка 10% от всего количества (от 18 тыс), их среднее время около 10 минут, среднее расстояние порядка 700 метров, а большинство таких поездок укладывается в диапазон от 400 до 1000 метров. \n",
    "\n",
    "При этом, их скорость существенно (в 2,5 раза) ниже обычной 70 (4,2 км.ч) против 178 метров в минуту (или 10,7 км./ч). Возрастные категории практически совпадают, т.е. зависимости скорости поездки и возраста нет. \n",
    "\n",
    "На среднюю скорость могут влиять ограничение скорости на конкретной улице/районе и опыт управления. Пользователи, которые только решили попробовать и учатся управлять самокатом, обычно, едут с минимальной скоростью. В данном случае 4,2 км. в час - это на уровне скорости движения человека. Такие пользователи в большинстве своем еще не имеют подписки, проверим сколько пользователей с короткими дистанциями и низкой скоростью имеют подписку."
   ]
  },
  {
   "cell_type": "code",
   "execution_count": 39,
   "id": "5f834aeb",
   "metadata": {
    "scrolled": true
   },
   "outputs": [],
   "source": [
    "#создадим функцию для группировки срезов данных по необходимым для последующего анализа критериям (город, подписка, месяц и тд)\n",
    "def group_and_agg(data, group_by_column, agg_column):\n",
    "    # расчитаем общее количество пользователей по каждой группе и медиану исследуемого значения по ним же.\n",
    "    grouped = data.groupby(group_by_column).agg({agg_column: ['count', 'median']})\n",
    "    # рассчитаем долю каждой группы в общем количестве в колонке 'struct_%'\n",
    "    grouped['struct_%'] = (grouped[agg_column]['count'] /grouped[agg_column]['count'].sum()).multiply(100)\n",
    "    return grouped"
   ]
  },
  {
   "cell_type": "code",
   "execution_count": 40,
   "id": "57664cd1",
   "metadata": {
    "scrolled": true
   },
   "outputs": [
    {
     "data": {
      "text/html": [
       "<div>\n",
       "<style scoped>\n",
       "    .dataframe tbody tr th:only-of-type {\n",
       "        vertical-align: middle;\n",
       "    }\n",
       "\n",
       "    .dataframe tbody tr th {\n",
       "        vertical-align: top;\n",
       "    }\n",
       "\n",
       "    .dataframe thead tr th {\n",
       "        text-align: left;\n",
       "    }\n",
       "\n",
       "    .dataframe thead tr:last-of-type th {\n",
       "        text-align: right;\n",
       "    }\n",
       "</style>\n",
       "<table border=\"1\" class=\"dataframe\">\n",
       "  <thead>\n",
       "    <tr>\n",
       "      <th></th>\n",
       "      <th colspan=\"2\" halign=\"left\">distance</th>\n",
       "      <th>struct_%</th>\n",
       "    </tr>\n",
       "    <tr>\n",
       "      <th></th>\n",
       "      <th>count</th>\n",
       "      <th>median</th>\n",
       "      <th></th>\n",
       "    </tr>\n",
       "    <tr>\n",
       "      <th>subscription_type</th>\n",
       "      <th></th>\n",
       "      <th></th>\n",
       "      <th></th>\n",
       "    </tr>\n",
       "  </thead>\n",
       "  <tbody>\n",
       "    <tr>\n",
       "      <th>free</th>\n",
       "      <td>1328</td>\n",
       "      <td>587.754139</td>\n",
       "      <td>73.942094</td>\n",
       "    </tr>\n",
       "    <tr>\n",
       "      <th>ultra</th>\n",
       "      <td>468</td>\n",
       "      <td>959.995200</td>\n",
       "      <td>26.057906</td>\n",
       "    </tr>\n",
       "  </tbody>\n",
       "</table>\n",
       "</div>"
      ],
      "text/plain": [
       "                  distance               struct_%\n",
       "                     count      median           \n",
       "subscription_type                                \n",
       "free                  1328  587.754139  73.942094\n",
       "ultra                  468  959.995200  26.057906"
      ]
     },
     "execution_count": 40,
     "metadata": {},
     "output_type": "execute_result"
    }
   ],
   "source": [
    "# посмотрим медианную дистанцию с подпиской и без подписки у пользователей с короткой дистанцией\n",
    "group_and_agg(df_rides_shorts, 'subscription_type', 'distance')"
   ]
  },
  {
   "cell_type": "code",
   "execution_count": 41,
   "id": "810221da",
   "metadata": {
    "scrolled": false
   },
   "outputs": [
    {
     "data": {
      "text/html": [
       "<div>\n",
       "<style scoped>\n",
       "    .dataframe tbody tr th:only-of-type {\n",
       "        vertical-align: middle;\n",
       "    }\n",
       "\n",
       "    .dataframe tbody tr th {\n",
       "        vertical-align: top;\n",
       "    }\n",
       "\n",
       "    .dataframe thead tr th {\n",
       "        text-align: left;\n",
       "    }\n",
       "\n",
       "    .dataframe thead tr:last-of-type th {\n",
       "        text-align: right;\n",
       "    }\n",
       "</style>\n",
       "<table border=\"1\" class=\"dataframe\">\n",
       "  <thead>\n",
       "    <tr>\n",
       "      <th></th>\n",
       "      <th colspan=\"2\" halign=\"left\">distance</th>\n",
       "      <th>struct_%</th>\n",
       "    </tr>\n",
       "    <tr>\n",
       "      <th></th>\n",
       "      <th>count</th>\n",
       "      <th>median</th>\n",
       "      <th></th>\n",
       "    </tr>\n",
       "    <tr>\n",
       "      <th>subscription_type</th>\n",
       "      <th></th>\n",
       "      <th></th>\n",
       "      <th></th>\n",
       "    </tr>\n",
       "  </thead>\n",
       "  <tbody>\n",
       "    <tr>\n",
       "      <th>free</th>\n",
       "      <td>10240</td>\n",
       "      <td>3293.417470</td>\n",
       "      <td>62.930187</td>\n",
       "    </tr>\n",
       "    <tr>\n",
       "      <th>ultra</th>\n",
       "      <td>6032</td>\n",
       "      <td>3191.201785</td>\n",
       "      <td>37.069813</td>\n",
       "    </tr>\n",
       "  </tbody>\n",
       "</table>\n",
       "</div>"
      ],
      "text/plain": [
       "                  distance                struct_%\n",
       "                     count       median           \n",
       "subscription_type                                 \n",
       "free                 10240  3293.417470  62.930187\n",
       "ultra                 6032  3191.201785  37.069813"
      ]
     },
     "execution_count": 41,
     "metadata": {},
     "output_type": "execute_result"
    }
   ],
   "source": [
    "# посмотрим медианную дистанцию с подпиской и без подписки у пользователей с обычной дистанцией\n",
    "group_and_agg(df_rides_norm, 'subscription_type', 'distance')"
   ]
  },
  {
   "cell_type": "markdown",
   "id": "916689d8",
   "metadata": {},
   "source": [
    "Таким образом 73% коротких поездок, это поездки без подписок, на еще более короткие  дистанции до 600 метров, которые составляют 7,3% от всех поездок. Очистим базу от таких поездок, т.к. они искажают общую картину среднего расстояния одной поездки."
   ]
  },
  {
   "cell_type": "markdown",
   "id": "60a10322",
   "metadata": {},
   "source": [
    "Выводы по анализу расстояния:\n",
    "\n",
    "       1. Явно выделяются два сегмента дистанций короткие (до 1500 метров) и обычные (все что свыше):\n",
    "            \n",
    "            1.1 Коротких поездок порядка 10% от всего количества (от 18 тыс), \n",
    "            - среднее время около 10 минут, \n",
    "            - среднее расстояние порядка 700 метров, \n",
    "            - большинство таких поездок укладывается в диапазон от 400 до 1000 метров. \n",
    "            - скорость 70 метров в минуту (4,2 км.ч) существенно (в 2,5 раза) ниже обычной 178 мм/мин.\n",
    "            \n",
    "            1.2 Обычных поездок 90% от всего количества:\n",
    "            - имеют медиану около 3200 метров, \n",
    "            - большая часть поездок укладывается в дистанцию от 2700 до 3900 метров. \n",
    "            - средняя скорость 178 метра или 10,7 км./ч.\n",
    "        \n",
    "        2. Низкая скорость движения в коротких поездках может говорить о сегменте пользователей, которые только начали обучаться пользоваться самокатом. Это также подтверждается тем, что порядка 74% таких пользователей  не имеет подписки, что выше, чем в сегменте обычных поездок на 11%."
   ]
  },
  {
   "cell_type": "markdown",
   "id": "5122668d",
   "metadata": {},
   "source": [
    "#### Анализ продолжительности поездок"
   ]
  },
  {
   "cell_type": "code",
   "execution_count": 42,
   "id": "627eb52d",
   "metadata": {
    "scrolled": true
   },
   "outputs": [
    {
     "data": {
      "text/plain": [
       "count    18068.000000\n",
       "mean        17.805011\n",
       "std          6.091051\n",
       "min          0.500000\n",
       "25%         13.597563\n",
       "50%         17.678395\n",
       "75%         21.724800\n",
       "max         40.823963\n",
       "Name: duration, dtype: float64"
      ]
     },
     "execution_count": 42,
     "metadata": {},
     "output_type": "execute_result"
    }
   ],
   "source": [
    "# таблица describe с основными характеристиками поездок\n",
    "df_rides['duration'].describe()"
   ]
  },
  {
   "cell_type": "code",
   "execution_count": 43,
   "id": "61e8ec81",
   "metadata": {
    "scrolled": false
   },
   "outputs": [
    {
     "data": {
      "image/png": "[encoded data removed]",
      "text/plain": [
       "<Figure size 1200x500 with 1 Axes>"
      ]
     },
     "metadata": {},
     "output_type": "display_data"
    }
   ],
   "source": [
    "# гистограмма распределения длительности поездки по исходной базе df_rides\n",
    "plt.figure(figsize=(12, 5))\n",
    "sns.histplot(df_rides['duration'], bins=100, kde=True, color='skyblue')\n",
    "plt.xlim(0, 41)\n",
    "xticks_values = list(range(0, 41, 2))\n",
    "plt.xticks(rotation=0)\n",
    "plt.xticks(xticks_values)\n",
    "plt.title('Гистограмма Длительность поездки')\n",
    "plt.xlabel('Длительность, мин')\n",
    "plt.ylabel('Частота');"
   ]
  },
  {
   "cell_type": "code",
   "execution_count": 44,
   "id": "030b27ee",
   "metadata": {
    "scrolled": false
   },
   "outputs": [
    {
     "data": {
      "image/png": "[encoded data removed]",
      "text/plain": [
       "<Figure size 1200x500 with 1 Axes>"
      ]
     },
     "metadata": {},
     "output_type": "display_data"
    }
   ],
   "source": [
    "# boxplot для duration\n",
    "plt.figure(figsize=(12, 5))\n",
    "sns.boxplot(data=df_rides, x='duration', color='lightgreen', showfliers=True)\n",
    "plt.xlim(0, 50)\n",
    "xticks_values = list(range(0, 50, 2))\n",
    "plt.xticks(rotation=45)\n",
    "plt.xticks(xticks_values)\n",
    "plt.title('Boxplot для duration')\n",
    "plt.xlabel('Длительность, мин');"
   ]
  },
  {
   "cell_type": "code",
   "execution_count": 45,
   "id": "b6df2005",
   "metadata": {
    "scrolled": true
   },
   "outputs": [
    {
     "name": "stdout",
     "output_type": "stream",
     "text": [
      "Количество выбросов в столбце 'duration': 177\n",
      "Доля: 0.98%\n"
     ]
    }
   ],
   "source": [
    "# посмотрим количество выбросов в колонке duration\n",
    "count_outliers(df_rides, 'duration')"
   ]
  },
  {
   "cell_type": "markdown",
   "id": "aa976cd1",
   "metadata": {},
   "source": [
    "Выводы по анализу длительности одной поездки:\n",
    "\n",
    "    1. в целом имеет вид нормального распределения, есть несущественные выбросы до 2 минут и свыше  34 мин, 0,94% от всей базы.\n",
    "    2. Среднее время поездки 18 мин.\n",
    "    3. 50% поездок укладывается в диапазон от 14 до 22 минут."
   ]
  },
  {
   "cell_type": "markdown",
   "id": "5ed3724b",
   "metadata": {},
   "source": [
    "#### Выводы по разделу Исследовательский анализ данных"
   ]
  },
  {
   "cell_type": "markdown",
   "id": "81c35bef",
   "metadata": {},
   "source": [
    "В результате анализа получена следующая информация о пользователях и поездках:\n",
    "\n",
    "    1. Частота встречаемости городов;\n",
    "            1.1 В базе данных пользователей встречается 8 городов. \n",
    "            1.2 Больше всего пользователей из Пятигорска - 219, меньше всего в Москве - 168.\n",
    "            1.3 В среднем по городам 191 пользователь.\n",
    "    2. Соотношение пользователей с подпиской и без подписки;\n",
    "            2.1 зарегистрировано с подпиской порядка 46%, без подписки 54% всех пользоватлелей.\n",
    "            2.2 При этом,64% поездок были совершены пользователями  без подписки и 36% теми, у кого подписка была оформлена. Т.е. пользователи без подписки арендовали самокаты чаще, чем пользователи без подписки.\n",
    "            2.3 Не обнаружено пользователей, которые бы не пользовались прокатом хотя бы раз.\n",
    "    3. Возраст пользователей:\n",
    "            3.1 Средний возраст 25 лет, распределение пользователей  имеет вид нормального.\n",
    "            3.2 Минимальный возраст 12 лет, максимальный 43 года.\n",
    "            3.3 50% пользователей от 22 до 28 лет.\n",
    "            3.4 Выбросов, значений за границами 1.5 меквартильного размаха, незначительное количество, всего 9 шт. или 0,6%.\n",
    "    4. Расстояние, которое пользователь преодолел за одну поездку;\n",
    "            4.1. На гистограмме явно выделяются два сегмента дистанций: короткие (до 1500 метров) и обычные (все что свыше):\n",
    "            4.2 Коротких поездок порядка 10% от всего количества (от 18 тыс): \n",
    "                - среднее время коротких поездок около 10 минут, \n",
    "                - среднее расстояние порядка 700 метров, \n",
    "                - большинство таких поездок укладывается в диапазон от 400 до 1000 метров. \n",
    "                - скорость 70 метров в минуту (4,2 км.ч) существенно (в 2,5 раза) ниже обычной 178 мм/мин.\n",
    "            \n",
    "            4.3 Обычных поездок 90% от от всего количества:\n",
    "                - имеют медиану около 3200 метров, \n",
    "                - большая часть таких поездок укладывается в дистанцию от 2700 до 3900 метров. \n",
    "                - средняя скорость 178 метра или 10,7 км./ч.\n",
    "        \n",
    "            4.4 Низкая скорость движения в коротких поездках может говорить о сегменте пользователей, которые только начали обучаться пользоваться самокатом. Это также подтверждается тем, что порядка 74% таких пользователей  не имеет подписки, что выше, чем в сегменте обычных поездок на 11%.\n",
    "        \n",
    "    5. Продолжительность поездок:\n",
    "            5.1 в целом статистика длительности имеет вид нормального распределения, есть несущественные выбросы до 2 минут и свыше 34 мин, что составляет 0,94% от всей базы.\n",
    "            5.2 Среднее время поездки 18 мин.\n",
    "            5.3 50% поездок укладывается в диапазон от 14 до 22 минут."
   ]
  },
  {
   "cell_type": "markdown",
   "id": "4ef51331",
   "metadata": {},
   "source": [
    "### Объединение данных"
   ]
  },
  {
   "cell_type": "markdown",
   "id": "e3d09f3d",
   "metadata": {},
   "source": [
    "#### Объединение данных о пользователях, поездках и подписках в один датафрейм.\n",
    "\n",
    "       df_rides уже содержит данные из df_users, т.к. мы объединили  их ранее, поэтому осталось присоединить данные из базы с подписками df_subsc"
   ]
  },
  {
   "cell_type": "code",
   "execution_count": 46,
   "id": "fc3ad04d",
   "metadata": {
    "scrolled": true
   },
   "outputs": [
    {
     "name": "stdout",
     "output_type": "stream",
     "text": [
      "<class 'pandas.core.frame.DataFrame'>\n",
      "RangeIndex: 18068 entries, 0 to 18067\n",
      "Data columns (total 13 columns):\n",
      " #   Column             Non-Null Count  Dtype         \n",
      "---  ------             --------------  -----         \n",
      " 0   user_id            18068 non-null  int64         \n",
      " 1   distance           18068 non-null  float64       \n",
      " 2   duration           18068 non-null  float64       \n",
      " 3   date               18068 non-null  datetime64[ns]\n",
      " 4   month              18068 non-null  int32         \n",
      " 5   name               18068 non-null  object        \n",
      " 6   age                18068 non-null  int64         \n",
      " 7   city               18068 non-null  object        \n",
      " 8   subscription_type  18068 non-null  object        \n",
      " 9   speed              18068 non-null  float64       \n",
      " 10  minute_price       18068 non-null  int64         \n",
      " 11  start_ride_price   18068 non-null  int64         \n",
      " 12  subscription_fee   18068 non-null  int64         \n",
      "dtypes: datetime64[ns](1), float64(3), int32(1), int64(5), object(3)\n",
      "memory usage: 1.7+ MB\n"
     ]
    },
    {
     "data": {
      "text/html": [
       "<div>\n",
       "<style scoped>\n",
       "    .dataframe tbody tr th:only-of-type {\n",
       "        vertical-align: middle;\n",
       "    }\n",
       "\n",
       "    .dataframe tbody tr th {\n",
       "        vertical-align: top;\n",
       "    }\n",
       "\n",
       "    .dataframe thead th {\n",
       "        text-align: right;\n",
       "    }\n",
       "</style>\n",
       "<table border=\"1\" class=\"dataframe\">\n",
       "  <thead>\n",
       "    <tr style=\"text-align: right;\">\n",
       "      <th></th>\n",
       "      <th>user_id</th>\n",
       "      <th>distance</th>\n",
       "      <th>duration</th>\n",
       "      <th>date</th>\n",
       "      <th>month</th>\n",
       "      <th>name</th>\n",
       "      <th>age</th>\n",
       "      <th>city</th>\n",
       "      <th>subscription_type</th>\n",
       "      <th>speed</th>\n",
       "      <th>minute_price</th>\n",
       "      <th>start_ride_price</th>\n",
       "      <th>subscription_fee</th>\n",
       "    </tr>\n",
       "  </thead>\n",
       "  <tbody>\n",
       "    <tr>\n",
       "      <th>0</th>\n",
       "      <td>1</td>\n",
       "      <td>4409.919140</td>\n",
       "      <td>25.599769</td>\n",
       "      <td>2021-01-01</td>\n",
       "      <td>1</td>\n",
       "      <td>Кира</td>\n",
       "      <td>22</td>\n",
       "      <td>Тюмень</td>\n",
       "      <td>ultra</td>\n",
       "      <td>172.264021</td>\n",
       "      <td>6</td>\n",
       "      <td>0</td>\n",
       "      <td>199</td>\n",
       "    </tr>\n",
       "    <tr>\n",
       "      <th>1</th>\n",
       "      <td>1</td>\n",
       "      <td>2617.592153</td>\n",
       "      <td>15.816871</td>\n",
       "      <td>2021-01-18</td>\n",
       "      <td>1</td>\n",
       "      <td>Кира</td>\n",
       "      <td>22</td>\n",
       "      <td>Тюмень</td>\n",
       "      <td>ultra</td>\n",
       "      <td>165.493673</td>\n",
       "      <td>6</td>\n",
       "      <td>0</td>\n",
       "      <td>199</td>\n",
       "    </tr>\n",
       "    <tr>\n",
       "      <th>2</th>\n",
       "      <td>1</td>\n",
       "      <td>754.159807</td>\n",
       "      <td>6.232113</td>\n",
       "      <td>2021-04-20</td>\n",
       "      <td>4</td>\n",
       "      <td>Кира</td>\n",
       "      <td>22</td>\n",
       "      <td>Тюмень</td>\n",
       "      <td>ultra</td>\n",
       "      <td>121.011887</td>\n",
       "      <td>6</td>\n",
       "      <td>0</td>\n",
       "      <td>199</td>\n",
       "    </tr>\n",
       "    <tr>\n",
       "      <th>3</th>\n",
       "      <td>1</td>\n",
       "      <td>2694.783254</td>\n",
       "      <td>18.511000</td>\n",
       "      <td>2021-08-11</td>\n",
       "      <td>8</td>\n",
       "      <td>Кира</td>\n",
       "      <td>22</td>\n",
       "      <td>Тюмень</td>\n",
       "      <td>ultra</td>\n",
       "      <td>145.577402</td>\n",
       "      <td>6</td>\n",
       "      <td>0</td>\n",
       "      <td>199</td>\n",
       "    </tr>\n",
       "    <tr>\n",
       "      <th>4</th>\n",
       "      <td>1</td>\n",
       "      <td>4028.687306</td>\n",
       "      <td>26.265803</td>\n",
       "      <td>2021-08-28</td>\n",
       "      <td>8</td>\n",
       "      <td>Кира</td>\n",
       "      <td>22</td>\n",
       "      <td>Тюмень</td>\n",
       "      <td>ultra</td>\n",
       "      <td>153.381465</td>\n",
       "      <td>6</td>\n",
       "      <td>0</td>\n",
       "      <td>199</td>\n",
       "    </tr>\n",
       "  </tbody>\n",
       "</table>\n",
       "</div>"
      ],
      "text/plain": [
       "   user_id     distance   duration       date  month  name  age    city  \\\n",
       "0        1  4409.919140  25.599769 2021-01-01      1  Кира   22  Тюмень   \n",
       "1        1  2617.592153  15.816871 2021-01-18      1  Кира   22  Тюмень   \n",
       "2        1   754.159807   6.232113 2021-04-20      4  Кира   22  Тюмень   \n",
       "3        1  2694.783254  18.511000 2021-08-11      8  Кира   22  Тюмень   \n",
       "4        1  4028.687306  26.265803 2021-08-28      8  Кира   22  Тюмень   \n",
       "\n",
       "  subscription_type       speed  minute_price  start_ride_price  \\\n",
       "0             ultra  172.264021             6                 0   \n",
       "1             ultra  165.493673             6                 0   \n",
       "2             ultra  121.011887             6                 0   \n",
       "3             ultra  145.577402             6                 0   \n",
       "4             ultra  153.381465             6                 0   \n",
       "\n",
       "   subscription_fee  \n",
       "0               199  \n",
       "1               199  \n",
       "2               199  \n",
       "3               199  \n",
       "4               199  "
      ]
     },
     "execution_count": 46,
     "metadata": {},
     "output_type": "execute_result"
    }
   ],
   "source": [
    "# Объединяем данные из df_rides с df_subsc\n",
    "df_allin = df_rides.merge(df_subsc, on='subscription_type')\n",
    "# проверяем, что данные объединены\n",
    "df_allin.info()\n",
    "df_allin.head()"
   ]
  },
  {
   "cell_type": "markdown",
   "id": "3e8255af",
   "metadata": {},
   "source": [
    "Вывод.\n",
    "\n",
    "    Объединили данные из трех датафрейов df_users, df_rides, df_subsc в один - df_allin"
   ]
  },
  {
   "cell_type": "markdown",
   "id": "de589170",
   "metadata": {},
   "source": [
    "#### Создание отдельных датафреймов\n",
    "\n",
    "        •\tc данными о пользователях без подписки;\n",
    "        •\tс данными о пользователях с подпиской.\n"
   ]
  },
  {
   "cell_type": "code",
   "execution_count": 47,
   "id": "c99caa1f",
   "metadata": {},
   "outputs": [
    {
     "name": "stdout",
     "output_type": "stream",
     "text": [
      "<class 'pandas.core.frame.DataFrame'>\n",
      "Index: 11568 entries, 6500 to 18067\n",
      "Data columns (total 13 columns):\n",
      " #   Column             Non-Null Count  Dtype         \n",
      "---  ------             --------------  -----         \n",
      " 0   user_id            11568 non-null  int64         \n",
      " 1   distance           11568 non-null  float64       \n",
      " 2   duration           11568 non-null  float64       \n",
      " 3   date               11568 non-null  datetime64[ns]\n",
      " 4   month              11568 non-null  int32         \n",
      " 5   name               11568 non-null  object        \n",
      " 6   age                11568 non-null  int64         \n",
      " 7   city               11568 non-null  object        \n",
      " 8   subscription_type  11568 non-null  object        \n",
      " 9   speed              11568 non-null  float64       \n",
      " 10  minute_price       11568 non-null  int64         \n",
      " 11  start_ride_price   11568 non-null  int64         \n",
      " 12  subscription_fee   11568 non-null  int64         \n",
      "dtypes: datetime64[ns](1), float64(3), int32(1), int64(5), object(3)\n",
      "memory usage: 1.2+ MB\n"
     ]
    },
    {
     "data": {
      "text/html": [
       "<div>\n",
       "<style scoped>\n",
       "    .dataframe tbody tr th:only-of-type {\n",
       "        vertical-align: middle;\n",
       "    }\n",
       "\n",
       "    .dataframe tbody tr th {\n",
       "        vertical-align: top;\n",
       "    }\n",
       "\n",
       "    .dataframe thead th {\n",
       "        text-align: right;\n",
       "    }\n",
       "</style>\n",
       "<table border=\"1\" class=\"dataframe\">\n",
       "  <thead>\n",
       "    <tr style=\"text-align: right;\">\n",
       "      <th></th>\n",
       "      <th>user_id</th>\n",
       "      <th>distance</th>\n",
       "      <th>duration</th>\n",
       "      <th>date</th>\n",
       "      <th>month</th>\n",
       "      <th>name</th>\n",
       "      <th>age</th>\n",
       "      <th>city</th>\n",
       "      <th>subscription_type</th>\n",
       "      <th>speed</th>\n",
       "      <th>minute_price</th>\n",
       "      <th>start_ride_price</th>\n",
       "      <th>subscription_fee</th>\n",
       "    </tr>\n",
       "  </thead>\n",
       "  <tbody>\n",
       "    <tr>\n",
       "      <th>6500</th>\n",
       "      <td>700</td>\n",
       "      <td>2515.690719</td>\n",
       "      <td>14.944286</td>\n",
       "      <td>2021-01-02</td>\n",
       "      <td>1</td>\n",
       "      <td>Айдар</td>\n",
       "      <td>22</td>\n",
       "      <td>Омск</td>\n",
       "      <td>free</td>\n",
       "      <td>168.337961</td>\n",
       "      <td>8</td>\n",
       "      <td>50</td>\n",
       "      <td>0</td>\n",
       "    </tr>\n",
       "    <tr>\n",
       "      <th>6501</th>\n",
       "      <td>700</td>\n",
       "      <td>846.932642</td>\n",
       "      <td>16.234663</td>\n",
       "      <td>2021-02-01</td>\n",
       "      <td>2</td>\n",
       "      <td>Айдар</td>\n",
       "      <td>22</td>\n",
       "      <td>Омск</td>\n",
       "      <td>free</td>\n",
       "      <td>52.168168</td>\n",
       "      <td>8</td>\n",
       "      <td>50</td>\n",
       "      <td>0</td>\n",
       "    </tr>\n",
       "    <tr>\n",
       "      <th>6502</th>\n",
       "      <td>700</td>\n",
       "      <td>4004.434142</td>\n",
       "      <td>20.016628</td>\n",
       "      <td>2021-02-04</td>\n",
       "      <td>2</td>\n",
       "      <td>Айдар</td>\n",
       "      <td>22</td>\n",
       "      <td>Омск</td>\n",
       "      <td>free</td>\n",
       "      <td>200.055381</td>\n",
       "      <td>8</td>\n",
       "      <td>50</td>\n",
       "      <td>0</td>\n",
       "    </tr>\n",
       "    <tr>\n",
       "      <th>6503</th>\n",
       "      <td>700</td>\n",
       "      <td>1205.911290</td>\n",
       "      <td>9.782872</td>\n",
       "      <td>2021-02-10</td>\n",
       "      <td>2</td>\n",
       "      <td>Айдар</td>\n",
       "      <td>22</td>\n",
       "      <td>Омск</td>\n",
       "      <td>free</td>\n",
       "      <td>123.267611</td>\n",
       "      <td>8</td>\n",
       "      <td>50</td>\n",
       "      <td>0</td>\n",
       "    </tr>\n",
       "    <tr>\n",
       "      <th>6504</th>\n",
       "      <td>700</td>\n",
       "      <td>3047.379435</td>\n",
       "      <td>17.427673</td>\n",
       "      <td>2021-02-14</td>\n",
       "      <td>2</td>\n",
       "      <td>Айдар</td>\n",
       "      <td>22</td>\n",
       "      <td>Омск</td>\n",
       "      <td>free</td>\n",
       "      <td>174.858655</td>\n",
       "      <td>8</td>\n",
       "      <td>50</td>\n",
       "      <td>0</td>\n",
       "    </tr>\n",
       "  </tbody>\n",
       "</table>\n",
       "</div>"
      ],
      "text/plain": [
       "      user_id     distance   duration       date  month   name  age  city  \\\n",
       "6500      700  2515.690719  14.944286 2021-01-02      1  Айдар   22  Омск   \n",
       "6501      700   846.932642  16.234663 2021-02-01      2  Айдар   22  Омск   \n",
       "6502      700  4004.434142  20.016628 2021-02-04      2  Айдар   22  Омск   \n",
       "6503      700  1205.911290   9.782872 2021-02-10      2  Айдар   22  Омск   \n",
       "6504      700  3047.379435  17.427673 2021-02-14      2  Айдар   22  Омск   \n",
       "\n",
       "     subscription_type       speed  minute_price  start_ride_price  \\\n",
       "6500              free  168.337961             8                50   \n",
       "6501              free   52.168168             8                50   \n",
       "6502              free  200.055381             8                50   \n",
       "6503              free  123.267611             8                50   \n",
       "6504              free  174.858655             8                50   \n",
       "\n",
       "      subscription_fee  \n",
       "6500                 0  \n",
       "6501                 0  \n",
       "6502                 0  \n",
       "6503                 0  \n",
       "6504                 0  "
      ]
     },
     "execution_count": 47,
     "metadata": {},
     "output_type": "execute_result"
    }
   ],
   "source": [
    "# датафрейм c данными о пользователях без подписки\n",
    "df_subsc_free = df_allin.query('subscription_type == \"free\"')\n",
    "df_subsc_free.info()\n",
    "df_subsc_free.head()"
   ]
  },
  {
   "cell_type": "code",
   "execution_count": 48,
   "id": "dfd73bf5",
   "metadata": {
    "scrolled": false
   },
   "outputs": [
    {
     "name": "stdout",
     "output_type": "stream",
     "text": [
      "<class 'pandas.core.frame.DataFrame'>\n",
      "Index: 6500 entries, 0 to 6499\n",
      "Data columns (total 13 columns):\n",
      " #   Column             Non-Null Count  Dtype         \n",
      "---  ------             --------------  -----         \n",
      " 0   user_id            6500 non-null   int64         \n",
      " 1   distance           6500 non-null   float64       \n",
      " 2   duration           6500 non-null   float64       \n",
      " 3   date               6500 non-null   datetime64[ns]\n",
      " 4   month              6500 non-null   int32         \n",
      " 5   name               6500 non-null   object        \n",
      " 6   age                6500 non-null   int64         \n",
      " 7   city               6500 non-null   object        \n",
      " 8   subscription_type  6500 non-null   object        \n",
      " 9   speed              6500 non-null   float64       \n",
      " 10  minute_price       6500 non-null   int64         \n",
      " 11  start_ride_price   6500 non-null   int64         \n",
      " 12  subscription_fee   6500 non-null   int64         \n",
      "dtypes: datetime64[ns](1), float64(3), int32(1), int64(5), object(3)\n",
      "memory usage: 685.5+ KB\n"
     ]
    },
    {
     "data": {
      "text/html": [
       "<div>\n",
       "<style scoped>\n",
       "    .dataframe tbody tr th:only-of-type {\n",
       "        vertical-align: middle;\n",
       "    }\n",
       "\n",
       "    .dataframe tbody tr th {\n",
       "        vertical-align: top;\n",
       "    }\n",
       "\n",
       "    .dataframe thead th {\n",
       "        text-align: right;\n",
       "    }\n",
       "</style>\n",
       "<table border=\"1\" class=\"dataframe\">\n",
       "  <thead>\n",
       "    <tr style=\"text-align: right;\">\n",
       "      <th></th>\n",
       "      <th>user_id</th>\n",
       "      <th>distance</th>\n",
       "      <th>duration</th>\n",
       "      <th>date</th>\n",
       "      <th>month</th>\n",
       "      <th>name</th>\n",
       "      <th>age</th>\n",
       "      <th>city</th>\n",
       "      <th>subscription_type</th>\n",
       "      <th>speed</th>\n",
       "      <th>minute_price</th>\n",
       "      <th>start_ride_price</th>\n",
       "      <th>subscription_fee</th>\n",
       "    </tr>\n",
       "  </thead>\n",
       "  <tbody>\n",
       "    <tr>\n",
       "      <th>0</th>\n",
       "      <td>1</td>\n",
       "      <td>4409.919140</td>\n",
       "      <td>25.599769</td>\n",
       "      <td>2021-01-01</td>\n",
       "      <td>1</td>\n",
       "      <td>Кира</td>\n",
       "      <td>22</td>\n",
       "      <td>Тюмень</td>\n",
       "      <td>ultra</td>\n",
       "      <td>172.264021</td>\n",
       "      <td>6</td>\n",
       "      <td>0</td>\n",
       "      <td>199</td>\n",
       "    </tr>\n",
       "    <tr>\n",
       "      <th>1</th>\n",
       "      <td>1</td>\n",
       "      <td>2617.592153</td>\n",
       "      <td>15.816871</td>\n",
       "      <td>2021-01-18</td>\n",
       "      <td>1</td>\n",
       "      <td>Кира</td>\n",
       "      <td>22</td>\n",
       "      <td>Тюмень</td>\n",
       "      <td>ultra</td>\n",
       "      <td>165.493673</td>\n",
       "      <td>6</td>\n",
       "      <td>0</td>\n",
       "      <td>199</td>\n",
       "    </tr>\n",
       "    <tr>\n",
       "      <th>2</th>\n",
       "      <td>1</td>\n",
       "      <td>754.159807</td>\n",
       "      <td>6.232113</td>\n",
       "      <td>2021-04-20</td>\n",
       "      <td>4</td>\n",
       "      <td>Кира</td>\n",
       "      <td>22</td>\n",
       "      <td>Тюмень</td>\n",
       "      <td>ultra</td>\n",
       "      <td>121.011887</td>\n",
       "      <td>6</td>\n",
       "      <td>0</td>\n",
       "      <td>199</td>\n",
       "    </tr>\n",
       "    <tr>\n",
       "      <th>3</th>\n",
       "      <td>1</td>\n",
       "      <td>2694.783254</td>\n",
       "      <td>18.511000</td>\n",
       "      <td>2021-08-11</td>\n",
       "      <td>8</td>\n",
       "      <td>Кира</td>\n",
       "      <td>22</td>\n",
       "      <td>Тюмень</td>\n",
       "      <td>ultra</td>\n",
       "      <td>145.577402</td>\n",
       "      <td>6</td>\n",
       "      <td>0</td>\n",
       "      <td>199</td>\n",
       "    </tr>\n",
       "    <tr>\n",
       "      <th>4</th>\n",
       "      <td>1</td>\n",
       "      <td>4028.687306</td>\n",
       "      <td>26.265803</td>\n",
       "      <td>2021-08-28</td>\n",
       "      <td>8</td>\n",
       "      <td>Кира</td>\n",
       "      <td>22</td>\n",
       "      <td>Тюмень</td>\n",
       "      <td>ultra</td>\n",
       "      <td>153.381465</td>\n",
       "      <td>6</td>\n",
       "      <td>0</td>\n",
       "      <td>199</td>\n",
       "    </tr>\n",
       "  </tbody>\n",
       "</table>\n",
       "</div>"
      ],
      "text/plain": [
       "   user_id     distance   duration       date  month  name  age    city  \\\n",
       "0        1  4409.919140  25.599769 2021-01-01      1  Кира   22  Тюмень   \n",
       "1        1  2617.592153  15.816871 2021-01-18      1  Кира   22  Тюмень   \n",
       "2        1   754.159807   6.232113 2021-04-20      4  Кира   22  Тюмень   \n",
       "3        1  2694.783254  18.511000 2021-08-11      8  Кира   22  Тюмень   \n",
       "4        1  4028.687306  26.265803 2021-08-28      8  Кира   22  Тюмень   \n",
       "\n",
       "  subscription_type       speed  minute_price  start_ride_price  \\\n",
       "0             ultra  172.264021             6                 0   \n",
       "1             ultra  165.493673             6                 0   \n",
       "2             ultra  121.011887             6                 0   \n",
       "3             ultra  145.577402             6                 0   \n",
       "4             ultra  153.381465             6                 0   \n",
       "\n",
       "   subscription_fee  \n",
       "0               199  \n",
       "1               199  \n",
       "2               199  \n",
       "3               199  \n",
       "4               199  "
      ]
     },
     "execution_count": 48,
     "metadata": {},
     "output_type": "execute_result"
    }
   ],
   "source": [
    "# датафрейм c данными о пользователях без подписки\n",
    "df_subsc_ultra = df_allin.query('subscription_type == \"ultra\"')\n",
    "df_subsc_ultra.info()\n",
    "df_subsc_ultra.head()"
   ]
  },
  {
   "cell_type": "markdown",
   "id": "42b0391d",
   "metadata": {},
   "source": [
    "Вывод.\n",
    "\n",
    "    Создали два отдельных датафрейма:\n",
    "        - с подписками df_subsc_ultra\n",
    "        - без подписок df_subsc_free"
   ]
  },
  {
   "cell_type": "markdown",
   "id": "31fe7d24",
   "metadata": {},
   "source": [
    "#### Визуализация информации о расстоянии и времени поездок для пользователей с подпиской и без."
   ]
  },
  {
   "cell_type": "markdown",
   "id": "a98e9f2f",
   "metadata": {},
   "source": [
    "##### Рассмотрим дистанцию поездок пользователей с подпиской и без подписки"
   ]
  },
  {
   "cell_type": "code",
   "execution_count": 49,
   "id": "624c476d",
   "metadata": {
    "scrolled": false
   },
   "outputs": [
    {
     "data": {
      "text/html": [
       "<div>\n",
       "<style scoped>\n",
       "    .dataframe tbody tr th:only-of-type {\n",
       "        vertical-align: middle;\n",
       "    }\n",
       "\n",
       "    .dataframe tbody tr th {\n",
       "        vertical-align: top;\n",
       "    }\n",
       "\n",
       "    .dataframe thead th {\n",
       "        text-align: right;\n",
       "    }\n",
       "</style>\n",
       "<table border=\"1\" class=\"dataframe\">\n",
       "  <thead>\n",
       "    <tr style=\"text-align: right;\">\n",
       "      <th></th>\n",
       "      <th>distance_free</th>\n",
       "      <th>distance_ultra</th>\n",
       "    </tr>\n",
       "  </thead>\n",
       "  <tbody>\n",
       "    <tr>\n",
       "      <th>count</th>\n",
       "      <td>11568.000000</td>\n",
       "      <td>6500.000000</td>\n",
       "    </tr>\n",
       "    <tr>\n",
       "      <th>mean</th>\n",
       "      <td>3045.495282</td>\n",
       "      <td>3115.445388</td>\n",
       "    </tr>\n",
       "    <tr>\n",
       "      <th>std</th>\n",
       "      <td>1246.173806</td>\n",
       "      <td>836.895330</td>\n",
       "    </tr>\n",
       "    <tr>\n",
       "      <th>min</th>\n",
       "      <td>0.855683</td>\n",
       "      <td>244.210438</td>\n",
       "    </tr>\n",
       "    <tr>\n",
       "      <th>25%</th>\n",
       "      <td>2366.562689</td>\n",
       "      <td>2785.444017</td>\n",
       "    </tr>\n",
       "    <tr>\n",
       "      <th>50%</th>\n",
       "      <td>3114.648465</td>\n",
       "      <td>3148.637229</td>\n",
       "    </tr>\n",
       "    <tr>\n",
       "      <th>75%</th>\n",
       "      <td>3905.697894</td>\n",
       "      <td>3560.574425</td>\n",
       "    </tr>\n",
       "    <tr>\n",
       "      <th>max</th>\n",
       "      <td>7211.007745</td>\n",
       "      <td>5699.769662</td>\n",
       "    </tr>\n",
       "  </tbody>\n",
       "</table>\n",
       "</div>"
      ],
      "text/plain": [
       "       distance_free  distance_ultra\n",
       "count   11568.000000     6500.000000\n",
       "mean     3045.495282     3115.445388\n",
       "std      1246.173806      836.895330\n",
       "min         0.855683      244.210438\n",
       "25%      2366.562689     2785.444017\n",
       "50%      3114.648465     3148.637229\n",
       "75%      3905.697894     3560.574425\n",
       "max      7211.007745     5699.769662"
      ]
     },
     "execution_count": 49,
     "metadata": {},
     "output_type": "execute_result"
    }
   ],
   "source": [
    "# Создаем описания для каждого DataFrame\n",
    "distance_free = df_subsc_free[['distance']].describe()\n",
    "distance_ultra = df_subsc_ultra[['distance']].describe()\n",
    "\n",
    "# Объединим описания для duration с подпиской и без\n",
    "combined_distance = pd.concat([distance_free, distance_ultra], axis=1)\n",
    "combined_distance.columns = ['distance_free', 'distance_ultra']  \n",
    "combined_distance"
   ]
  },
  {
   "cell_type": "code",
   "execution_count": 50,
   "id": "93600bc4",
   "metadata": {},
   "outputs": [
    {
     "data": {
      "image/png": "[encoded data removed]",
      "text/plain": [
       "<Figure size 1200x500 with 1 Axes>"
      ]
     },
     "metadata": {},
     "output_type": "display_data"
    }
   ],
   "source": [
    "# Построим гистограммы дальности поездок для пользователей с подпиской и без подписки\n",
    "plt.figure(figsize=(12, 5))\n",
    "# Гистограмма пользователи без подписки\n",
    "sns.histplot(df_subsc_free['distance'], bins=100, kde=True, color='skyblue', label='df_subsc_free')\n",
    "# Гистограмма пользователи с подпиской\n",
    "sns.histplot(df_subsc_ultra['distance'], bins=100, kde=True, color='salmon', label='df_subsc_ultra')\n",
    "plt.xlim(0, 7300)\n",
    "xticks_values = list(range(0, 7300, 200))\n",
    "plt.xticks(xticks_values)\n",
    "plt.xticks(rotation=45)\n",
    "plt.title('Гистограмма Дальность поездки')\n",
    "plt.xlabel('Расстояние, метры')\n",
    "plt.ylabel('Частота')\n",
    "plt.legend()\n",
    "plt.show()"
   ]
  },
  {
   "cell_type": "markdown",
   "id": "527a8f16",
   "metadata": {},
   "source": [
    "Вывод:\n",
    "    \n",
    "   Графики расстояний поездок с подпиской и без в целом повторяют друг друга, медианы  на уровне 3100 метров, но диапазон 50% всех значений отличается. У пользователей  с подпиской от 2800 до 3600 метров, у пользователей без подписки более широкий диапазон от 2400 до 3900.\n",
    "  \n",
    "   При этом у пользователей без подписки существенно больше левый хвост с короткими поездками до 1500 метров. В разделе [2.3.4](#2.3.4) выявлено, что это короткие поездки на минимальной скорости, скорее всего это поездки пользователеей, которые еще не имели на момент поездки достаточного опыта управления самокатом."
   ]
  },
  {
   "cell_type": "markdown",
   "id": "c7660a0d",
   "metadata": {},
   "source": [
    "##### Рассмотрим длительность поездки пользователей с подпиской и без подписки"
   ]
  },
  {
   "cell_type": "code",
   "execution_count": 51,
   "id": "79ba2805",
   "metadata": {
    "scrolled": true
   },
   "outputs": [
    {
     "data": {
      "text/html": [
       "<div>\n",
       "<style scoped>\n",
       "    .dataframe tbody tr th:only-of-type {\n",
       "        vertical-align: middle;\n",
       "    }\n",
       "\n",
       "    .dataframe tbody tr th {\n",
       "        vertical-align: top;\n",
       "    }\n",
       "\n",
       "    .dataframe thead th {\n",
       "        text-align: right;\n",
       "    }\n",
       "</style>\n",
       "<table border=\"1\" class=\"dataframe\">\n",
       "  <thead>\n",
       "    <tr style=\"text-align: right;\">\n",
       "      <th></th>\n",
       "      <th>duration_free</th>\n",
       "      <th>duration_ultra</th>\n",
       "    </tr>\n",
       "  </thead>\n",
       "  <tbody>\n",
       "    <tr>\n",
       "      <th>count</th>\n",
       "      <td>11568.000000</td>\n",
       "      <td>6500.000000</td>\n",
       "    </tr>\n",
       "    <tr>\n",
       "      <th>mean</th>\n",
       "      <td>17.390909</td>\n",
       "      <td>18.541985</td>\n",
       "    </tr>\n",
       "    <tr>\n",
       "      <th>std</th>\n",
       "      <td>6.326803</td>\n",
       "      <td>5.572048</td>\n",
       "    </tr>\n",
       "    <tr>\n",
       "      <th>min</th>\n",
       "      <td>0.500000</td>\n",
       "      <td>3.760353</td>\n",
       "    </tr>\n",
       "    <tr>\n",
       "      <th>25%</th>\n",
       "      <td>12.958437</td>\n",
       "      <td>14.524654</td>\n",
       "    </tr>\n",
       "    <tr>\n",
       "      <th>50%</th>\n",
       "      <td>17.326890</td>\n",
       "      <td>18.178153</td>\n",
       "    </tr>\n",
       "    <tr>\n",
       "      <th>75%</th>\n",
       "      <td>21.594071</td>\n",
       "      <td>21.884129</td>\n",
       "    </tr>\n",
       "    <tr>\n",
       "      <th>max</th>\n",
       "      <td>34.948498</td>\n",
       "      <td>40.823963</td>\n",
       "    </tr>\n",
       "  </tbody>\n",
       "</table>\n",
       "</div>"
      ],
      "text/plain": [
       "       duration_free  duration_ultra\n",
       "count   11568.000000     6500.000000\n",
       "mean       17.390909       18.541985\n",
       "std         6.326803        5.572048\n",
       "min         0.500000        3.760353\n",
       "25%        12.958437       14.524654\n",
       "50%        17.326890       18.178153\n",
       "75%        21.594071       21.884129\n",
       "max        34.948498       40.823963"
      ]
     },
     "execution_count": 51,
     "metadata": {},
     "output_type": "execute_result"
    }
   ],
   "source": [
    "# Создаем описания для каждого DataFrame\n",
    "duration_fr = df_subsc_free[['duration']].describe()\n",
    "duration_ult = df_subsc_ultra[['duration']].describe()\n",
    "\n",
    "# Объединим описания для duration с подпиской и без\n",
    "combined_duration = pd.concat([duration_fr, duration_ult], axis=1)\n",
    "combined_duration.columns = ['duration_free', 'duration_ultra']  \n",
    "combined_duration"
   ]
  },
  {
   "cell_type": "code",
   "execution_count": 52,
   "id": "3fc1d4a9",
   "metadata": {
    "scrolled": false
   },
   "outputs": [
    {
     "data": {
      "image/png": "[encoded data removed]",
      "text/plain": [
       "<Figure size 1200x500 with 1 Axes>"
      ]
     },
     "metadata": {},
     "output_type": "display_data"
    }
   ],
   "source": [
    "# Построим гистограммы длительности поездок для пользователей с подпиской и без подписки\n",
    "plt.figure(figsize=(12, 5))\n",
    "# Гистограмма пользователи без подписки\n",
    "sns.histplot(df_subsc_free['duration'], bins=100, kde=True, color='skyblue', label='df_subsc_free')\n",
    "# Гистограмма пользователи с подпиской\n",
    "sns.histplot(df_subsc_ultra['duration'], bins=100, kde=True, color='salmon', label='df_subsc_ultra')\n",
    "plt.xlim(0, 40)\n",
    "xticks_values = list(range(0, 40, 2))\n",
    "plt.xticks(xticks_values)\n",
    "plt.xticks(rotation=45)\n",
    "plt.title('Гистограмма Длительность поездки')\n",
    "plt.xlabel('Длительность, мин')\n",
    "plt.ylabel('Частота')\n",
    "plt.legend()\n",
    "plt.show()"
   ]
  },
  {
   "cell_type": "markdown",
   "id": "915a1ce9",
   "metadata": {},
   "source": [
    "Вывод:\n",
    "\n",
    "    Графики длительности поездок с подпиской и без в целом повторяют друг друга, при этом график с подпиской сдвинут немного к правому краю, то есть длительность поездок с подпиской в целом больше, чем без, что подтверждается также более высокими значениями медианы и квартилей.\n",
    "    "
   ]
  },
  {
   "cell_type": "markdown",
   "id": "dbdff411",
   "metadata": {},
   "source": [
    "#### Вывод по разделу Объединение данных"
   ]
  },
  {
   "cell_type": "markdown",
   "id": "cd86ca28",
   "metadata": {},
   "source": [
    "        1. Объединили все данные по пользователям, поездкам и подпискам в один датафоейм -df_allin.\n",
    "        2. Создали два отдельных датафрейма:        \n",
    "            - с подписками df_subsc_ultra,\n",
    "            - без подписок df_subsc_free\n",
    "        3. Визуализировали  данные о дистанции поездок с подпиской и без подписки.\n",
    "           Графики дистанций поездок с подпиской и без в целом повторяют друг друга, медианы  на уровне 3100 метров, но диапазон 50% всех значений отличается. У пользователей  с подпиской от 2800 до 3600 метров, у пользователей без подписки более широкий диапазон от 2400 до 3900.\n",
    "          При этом у пользователей без подписки существенно больше левый хвост с короткими поездками до 1500 метров. В разделе 2.3.4 выявлено, что это короткие поездки на минимальной скорости, скорее всего это поездки пользователеей, которые еще не имели на момент поездки достаточного опыта управления самокатом.\n",
    "        4.Графики длительности поездок с подпиской и без в целом повторяют друг друга, при этом график с подпиской сдвинут немного к правому краю, то есть длительность поездок с подпиской в целом больше, чем без, что подтверждается также более высокими значениями медианы и по квартилям."
   ]
  },
  {
   "cell_type": "markdown",
   "id": "402d620f",
   "metadata": {},
   "source": [
    "### Подсчёт выручки"
   ]
  },
  {
   "cell_type": "markdown",
   "id": "2c08aa72",
   "metadata": {},
   "source": [
    "#### Датафрейм  для расчета выручки\n",
    "      \n",
    "     В котором для каждого пользователя за каждый месяц рассчитаем:  \n",
    "        - количество поездок\n",
    "        - суммарное расстояние, \n",
    "        - суммарное время\n",
    "     Также, для последующего расчета выручки, добавим информацию об условиях оплаты для подписчиков и тех, у кого нет подписки.\n",
    "     Датафрейм сформирован на основе ранее созданного объединенного датафрейма df_allin."
   ]
  },
  {
   "cell_type": "markdown",
   "id": "663e0106",
   "metadata": {},
   "source": [
    "<p>\n",
    "<div class=\"alert-info\" style=\"padding: 20px; border-radius: 10px\">\n",
    "<b>Комментарий студента 💎</b>\n",
    "\n",
    "Округлил длительность поездки до расчета выручки..</div>"
   ]
  },
  {
   "cell_type": "code",
   "execution_count": 53,
   "id": "69bc4b02",
   "metadata": {},
   "outputs": [
    {
     "data": {
      "text/html": [
       "<div>\n",
       "<style scoped>\n",
       "    .dataframe tbody tr th:only-of-type {\n",
       "        vertical-align: middle;\n",
       "    }\n",
       "\n",
       "    .dataframe tbody tr th {\n",
       "        vertical-align: top;\n",
       "    }\n",
       "\n",
       "    .dataframe thead th {\n",
       "        text-align: right;\n",
       "    }\n",
       "</style>\n",
       "<table border=\"1\" class=\"dataframe\">\n",
       "  <thead>\n",
       "    <tr style=\"text-align: right;\">\n",
       "      <th></th>\n",
       "      <th>user_id</th>\n",
       "      <th>distance</th>\n",
       "      <th>duration</th>\n",
       "      <th>date</th>\n",
       "      <th>month</th>\n",
       "      <th>name</th>\n",
       "      <th>age</th>\n",
       "      <th>city</th>\n",
       "      <th>subscription_type</th>\n",
       "      <th>speed</th>\n",
       "      <th>minute_price</th>\n",
       "      <th>start_ride_price</th>\n",
       "      <th>subscription_fee</th>\n",
       "    </tr>\n",
       "  </thead>\n",
       "  <tbody>\n",
       "    <tr>\n",
       "      <th>0</th>\n",
       "      <td>1</td>\n",
       "      <td>4409.919140</td>\n",
       "      <td>26.0</td>\n",
       "      <td>2021-01-01</td>\n",
       "      <td>1</td>\n",
       "      <td>Кира</td>\n",
       "      <td>22</td>\n",
       "      <td>Тюмень</td>\n",
       "      <td>ultra</td>\n",
       "      <td>172.264021</td>\n",
       "      <td>6</td>\n",
       "      <td>0</td>\n",
       "      <td>199</td>\n",
       "    </tr>\n",
       "    <tr>\n",
       "      <th>1</th>\n",
       "      <td>1</td>\n",
       "      <td>2617.592153</td>\n",
       "      <td>16.0</td>\n",
       "      <td>2021-01-18</td>\n",
       "      <td>1</td>\n",
       "      <td>Кира</td>\n",
       "      <td>22</td>\n",
       "      <td>Тюмень</td>\n",
       "      <td>ultra</td>\n",
       "      <td>165.493673</td>\n",
       "      <td>6</td>\n",
       "      <td>0</td>\n",
       "      <td>199</td>\n",
       "    </tr>\n",
       "    <tr>\n",
       "      <th>2</th>\n",
       "      <td>1</td>\n",
       "      <td>754.159807</td>\n",
       "      <td>7.0</td>\n",
       "      <td>2021-04-20</td>\n",
       "      <td>4</td>\n",
       "      <td>Кира</td>\n",
       "      <td>22</td>\n",
       "      <td>Тюмень</td>\n",
       "      <td>ultra</td>\n",
       "      <td>121.011887</td>\n",
       "      <td>6</td>\n",
       "      <td>0</td>\n",
       "      <td>199</td>\n",
       "    </tr>\n",
       "    <tr>\n",
       "      <th>3</th>\n",
       "      <td>1</td>\n",
       "      <td>2694.783254</td>\n",
       "      <td>19.0</td>\n",
       "      <td>2021-08-11</td>\n",
       "      <td>8</td>\n",
       "      <td>Кира</td>\n",
       "      <td>22</td>\n",
       "      <td>Тюмень</td>\n",
       "      <td>ultra</td>\n",
       "      <td>145.577402</td>\n",
       "      <td>6</td>\n",
       "      <td>0</td>\n",
       "      <td>199</td>\n",
       "    </tr>\n",
       "    <tr>\n",
       "      <th>4</th>\n",
       "      <td>1</td>\n",
       "      <td>4028.687306</td>\n",
       "      <td>27.0</td>\n",
       "      <td>2021-08-28</td>\n",
       "      <td>8</td>\n",
       "      <td>Кира</td>\n",
       "      <td>22</td>\n",
       "      <td>Тюмень</td>\n",
       "      <td>ultra</td>\n",
       "      <td>153.381465</td>\n",
       "      <td>6</td>\n",
       "      <td>0</td>\n",
       "      <td>199</td>\n",
       "    </tr>\n",
       "  </tbody>\n",
       "</table>\n",
       "</div>"
      ],
      "text/plain": [
       "   user_id     distance  duration       date  month  name  age    city  \\\n",
       "0        1  4409.919140      26.0 2021-01-01      1  Кира   22  Тюмень   \n",
       "1        1  2617.592153      16.0 2021-01-18      1  Кира   22  Тюмень   \n",
       "2        1   754.159807       7.0 2021-04-20      4  Кира   22  Тюмень   \n",
       "3        1  2694.783254      19.0 2021-08-11      8  Кира   22  Тюмень   \n",
       "4        1  4028.687306      27.0 2021-08-28      8  Кира   22  Тюмень   \n",
       "\n",
       "  subscription_type       speed  minute_price  start_ride_price  \\\n",
       "0             ultra  172.264021             6                 0   \n",
       "1             ultra  165.493673             6                 0   \n",
       "2             ultra  121.011887             6                 0   \n",
       "3             ultra  145.577402             6                 0   \n",
       "4             ultra  153.381465             6                 0   \n",
       "\n",
       "   subscription_fee  \n",
       "0               199  \n",
       "1               199  \n",
       "2               199  \n",
       "3               199  \n",
       "4               199  "
      ]
     },
     "metadata": {},
     "output_type": "display_data"
    }
   ],
   "source": [
    "# для последующей группировки и корректного расчета выручки округлим длительность поездки методом np.ceil()\n",
    "df_allin['duration'] = np.ceil(df_allin['duration'])\n",
    "# проверка\n",
    "display(df_allin.head())"
   ]
  },
  {
   "cell_type": "code",
   "execution_count": 54,
   "id": "97291a9a",
   "metadata": {
    "scrolled": true
   },
   "outputs": [
    {
     "data": {
      "text/html": [
       "<div>\n",
       "<style scoped>\n",
       "    .dataframe tbody tr th:only-of-type {\n",
       "        vertical-align: middle;\n",
       "    }\n",
       "\n",
       "    .dataframe tbody tr th {\n",
       "        vertical-align: top;\n",
       "    }\n",
       "\n",
       "    .dataframe thead th {\n",
       "        text-align: right;\n",
       "    }\n",
       "</style>\n",
       "<table border=\"1\" class=\"dataframe\">\n",
       "  <thead>\n",
       "    <tr style=\"text-align: right;\">\n",
       "      <th></th>\n",
       "      <th>user_id</th>\n",
       "      <th>month</th>\n",
       "      <th>total_distance</th>\n",
       "      <th>total_duration</th>\n",
       "      <th>minute_price</th>\n",
       "      <th>start_ride_price</th>\n",
       "      <th>subscription_fee</th>\n",
       "      <th>rides_count</th>\n",
       "      <th>subscription_type</th>\n",
       "    </tr>\n",
       "  </thead>\n",
       "  <tbody>\n",
       "    <tr>\n",
       "      <th>0</th>\n",
       "      <td>1</td>\n",
       "      <td>1</td>\n",
       "      <td>7027.511294</td>\n",
       "      <td>42.0</td>\n",
       "      <td>6.0</td>\n",
       "      <td>0.0</td>\n",
       "      <td>199.0</td>\n",
       "      <td>2</td>\n",
       "      <td>ultra</td>\n",
       "    </tr>\n",
       "    <tr>\n",
       "      <th>1</th>\n",
       "      <td>1</td>\n",
       "      <td>4</td>\n",
       "      <td>754.159807</td>\n",
       "      <td>7.0</td>\n",
       "      <td>6.0</td>\n",
       "      <td>0.0</td>\n",
       "      <td>199.0</td>\n",
       "      <td>1</td>\n",
       "      <td>ultra</td>\n",
       "    </tr>\n",
       "    <tr>\n",
       "      <th>2</th>\n",
       "      <td>1</td>\n",
       "      <td>8</td>\n",
       "      <td>6723.470560</td>\n",
       "      <td>46.0</td>\n",
       "      <td>6.0</td>\n",
       "      <td>0.0</td>\n",
       "      <td>199.0</td>\n",
       "      <td>2</td>\n",
       "      <td>ultra</td>\n",
       "    </tr>\n",
       "    <tr>\n",
       "      <th>3</th>\n",
       "      <td>1</td>\n",
       "      <td>10</td>\n",
       "      <td>5809.911100</td>\n",
       "      <td>32.0</td>\n",
       "      <td>6.0</td>\n",
       "      <td>0.0</td>\n",
       "      <td>199.0</td>\n",
       "      <td>2</td>\n",
       "      <td>ultra</td>\n",
       "    </tr>\n",
       "    <tr>\n",
       "      <th>4</th>\n",
       "      <td>1</td>\n",
       "      <td>11</td>\n",
       "      <td>7003.499363</td>\n",
       "      <td>56.0</td>\n",
       "      <td>6.0</td>\n",
       "      <td>0.0</td>\n",
       "      <td>199.0</td>\n",
       "      <td>3</td>\n",
       "      <td>ultra</td>\n",
       "    </tr>\n",
       "    <tr>\n",
       "      <th>5</th>\n",
       "      <td>1</td>\n",
       "      <td>12</td>\n",
       "      <td>6751.629942</td>\n",
       "      <td>28.0</td>\n",
       "      <td>6.0</td>\n",
       "      <td>0.0</td>\n",
       "      <td>199.0</td>\n",
       "      <td>2</td>\n",
       "      <td>ultra</td>\n",
       "    </tr>\n",
       "    <tr>\n",
       "      <th>6</th>\n",
       "      <td>2</td>\n",
       "      <td>3</td>\n",
       "      <td>10187.723006</td>\n",
       "      <td>63.0</td>\n",
       "      <td>6.0</td>\n",
       "      <td>0.0</td>\n",
       "      <td>199.0</td>\n",
       "      <td>3</td>\n",
       "      <td>ultra</td>\n",
       "    </tr>\n",
       "    <tr>\n",
       "      <th>7</th>\n",
       "      <td>2</td>\n",
       "      <td>4</td>\n",
       "      <td>6164.381824</td>\n",
       "      <td>40.0</td>\n",
       "      <td>6.0</td>\n",
       "      <td>0.0</td>\n",
       "      <td>199.0</td>\n",
       "      <td>2</td>\n",
       "      <td>ultra</td>\n",
       "    </tr>\n",
       "    <tr>\n",
       "      <th>8</th>\n",
       "      <td>2</td>\n",
       "      <td>6</td>\n",
       "      <td>3255.338202</td>\n",
       "      <td>14.0</td>\n",
       "      <td>6.0</td>\n",
       "      <td>0.0</td>\n",
       "      <td>199.0</td>\n",
       "      <td>1</td>\n",
       "      <td>ultra</td>\n",
       "    </tr>\n",
       "    <tr>\n",
       "      <th>9</th>\n",
       "      <td>2</td>\n",
       "      <td>7</td>\n",
       "      <td>6780.722964</td>\n",
       "      <td>48.0</td>\n",
       "      <td>6.0</td>\n",
       "      <td>0.0</td>\n",
       "      <td>199.0</td>\n",
       "      <td>2</td>\n",
       "      <td>ultra</td>\n",
       "    </tr>\n",
       "  </tbody>\n",
       "</table>\n",
       "</div>"
      ],
      "text/plain": [
       "   user_id  month  total_distance  total_duration  minute_price  \\\n",
       "0        1      1     7027.511294            42.0           6.0   \n",
       "1        1      4      754.159807             7.0           6.0   \n",
       "2        1      8     6723.470560            46.0           6.0   \n",
       "3        1     10     5809.911100            32.0           6.0   \n",
       "4        1     11     7003.499363            56.0           6.0   \n",
       "5        1     12     6751.629942            28.0           6.0   \n",
       "6        2      3    10187.723006            63.0           6.0   \n",
       "7        2      4     6164.381824            40.0           6.0   \n",
       "8        2      6     3255.338202            14.0           6.0   \n",
       "9        2      7     6780.722964            48.0           6.0   \n",
       "\n",
       "   start_ride_price  subscription_fee  rides_count subscription_type  \n",
       "0               0.0             199.0            2             ultra  \n",
       "1               0.0             199.0            1             ultra  \n",
       "2               0.0             199.0            2             ultra  \n",
       "3               0.0             199.0            2             ultra  \n",
       "4               0.0             199.0            3             ultra  \n",
       "5               0.0             199.0            2             ultra  \n",
       "6               0.0             199.0            3             ultra  \n",
       "7               0.0             199.0            2             ultra  \n",
       "8               0.0             199.0            1             ultra  \n",
       "9               0.0             199.0            2             ultra  "
      ]
     },
     "metadata": {},
     "output_type": "display_data"
    },
    {
     "name": "stdout",
     "output_type": "stream",
     "text": [
      "1534\n",
      "18068\n"
     ]
    }
   ],
   "source": [
    "# Сгруппируем данные по user_id и month, \n",
    "# Агрегируем данные в колонках distance и duration, \n",
    "# а также, добавим колонки с данными minute_price, start_ride_price, subscription_fee, subscription_type\n",
    "# так как тарифы у пользователя в нашем датафреме не менются на всем временном горизонте, рассчитаем их как медиану,\n",
    "# по той же причине возьмем данные о subscription_type по принципу первого вхождения.\n",
    "df_allin_group = df_allin.groupby(['user_id', 'month'])\\\n",
    "                [['distance', 'duration', 'minute_price', 'start_ride_price', 'subscription_fee', 'date', 'subscription_type']]\\\n",
    "                .agg({'distance': 'sum', 'duration': 'sum', 'minute_price': 'median', 'start_ride_price': 'median',\\\n",
    "                'subscription_fee': 'median','date': 'count', 'subscription_type': 'first'})\n",
    "\n",
    "# Переименуем столбцы\n",
    "df_allin_group.columns = ['total_distance', 'total_duration', 'minute_price', 'start_ride_price', 'subscription_fee', 'rides_count', 'subscription_type']\n",
    "df_allin_group.reset_index(inplace=True)\n",
    "\n",
    "# проверим, что получилось\n",
    "display(df_allin_group.head(10))\n",
    "# проверим, что количество пользователей не изменилось, было 1534 и число поездок, было 18068.\n",
    "print(len(df_allin_group['user_id'].value_counts()))\n",
    "print(df_allin_group['rides_count'].sum())"
   ]
  },
  {
   "cell_type": "markdown",
   "id": "811f0d16",
   "metadata": {},
   "source": [
    "#### Расчет выручки по каждому пользователю"
   ]
  },
  {
   "cell_type": "code",
   "execution_count": 55,
   "id": "1e6da39c",
   "metadata": {
    "scrolled": true
   },
   "outputs": [
    {
     "data": {
      "text/plain": [
       "user_id              0\n",
       "month                0\n",
       "total_distance       0\n",
       "total_duration       0\n",
       "minute_price         0\n",
       "start_ride_price     0\n",
       "subscription_fee     0\n",
       "rides_count          0\n",
       "subscription_type    0\n",
       "dtype: int64"
      ]
     },
     "execution_count": 55,
     "metadata": {},
     "output_type": "execute_result"
    }
   ],
   "source": [
    "# проверка на пропуски в сводной таблице.\n",
    "df_allin_group.isna().sum()"
   ]
  },
  {
   "cell_type": "code",
   "execution_count": 56,
   "id": "a84ad30d",
   "metadata": {
    "scrolled": true
   },
   "outputs": [
    {
     "data": {
      "text/html": [
       "<div>\n",
       "<style scoped>\n",
       "    .dataframe tbody tr th:only-of-type {\n",
       "        vertical-align: middle;\n",
       "    }\n",
       "\n",
       "    .dataframe tbody tr th {\n",
       "        vertical-align: top;\n",
       "    }\n",
       "\n",
       "    .dataframe thead th {\n",
       "        text-align: right;\n",
       "    }\n",
       "</style>\n",
       "<table border=\"1\" class=\"dataframe\">\n",
       "  <thead>\n",
       "    <tr style=\"text-align: right;\">\n",
       "      <th></th>\n",
       "      <th>user_id</th>\n",
       "      <th>month</th>\n",
       "      <th>total_distance</th>\n",
       "      <th>total_duration</th>\n",
       "      <th>minute_price</th>\n",
       "      <th>start_ride_price</th>\n",
       "      <th>subscription_fee</th>\n",
       "      <th>rides_count</th>\n",
       "      <th>subscription_type</th>\n",
       "      <th>revenue</th>\n",
       "    </tr>\n",
       "  </thead>\n",
       "  <tbody>\n",
       "    <tr>\n",
       "      <th>0</th>\n",
       "      <td>1</td>\n",
       "      <td>1</td>\n",
       "      <td>7027.511294</td>\n",
       "      <td>42.0</td>\n",
       "      <td>6.0</td>\n",
       "      <td>0.0</td>\n",
       "      <td>199.0</td>\n",
       "      <td>2</td>\n",
       "      <td>ultra</td>\n",
       "      <td>451.0</td>\n",
       "    </tr>\n",
       "    <tr>\n",
       "      <th>1</th>\n",
       "      <td>1</td>\n",
       "      <td>4</td>\n",
       "      <td>754.159807</td>\n",
       "      <td>7.0</td>\n",
       "      <td>6.0</td>\n",
       "      <td>0.0</td>\n",
       "      <td>199.0</td>\n",
       "      <td>1</td>\n",
       "      <td>ultra</td>\n",
       "      <td>241.0</td>\n",
       "    </tr>\n",
       "    <tr>\n",
       "      <th>2</th>\n",
       "      <td>1</td>\n",
       "      <td>8</td>\n",
       "      <td>6723.470560</td>\n",
       "      <td>46.0</td>\n",
       "      <td>6.0</td>\n",
       "      <td>0.0</td>\n",
       "      <td>199.0</td>\n",
       "      <td>2</td>\n",
       "      <td>ultra</td>\n",
       "      <td>475.0</td>\n",
       "    </tr>\n",
       "    <tr>\n",
       "      <th>3</th>\n",
       "      <td>1</td>\n",
       "      <td>10</td>\n",
       "      <td>5809.911100</td>\n",
       "      <td>32.0</td>\n",
       "      <td>6.0</td>\n",
       "      <td>0.0</td>\n",
       "      <td>199.0</td>\n",
       "      <td>2</td>\n",
       "      <td>ultra</td>\n",
       "      <td>391.0</td>\n",
       "    </tr>\n",
       "    <tr>\n",
       "      <th>4</th>\n",
       "      <td>1</td>\n",
       "      <td>11</td>\n",
       "      <td>7003.499363</td>\n",
       "      <td>56.0</td>\n",
       "      <td>6.0</td>\n",
       "      <td>0.0</td>\n",
       "      <td>199.0</td>\n",
       "      <td>3</td>\n",
       "      <td>ultra</td>\n",
       "      <td>535.0</td>\n",
       "    </tr>\n",
       "    <tr>\n",
       "      <th>5</th>\n",
       "      <td>1</td>\n",
       "      <td>12</td>\n",
       "      <td>6751.629942</td>\n",
       "      <td>28.0</td>\n",
       "      <td>6.0</td>\n",
       "      <td>0.0</td>\n",
       "      <td>199.0</td>\n",
       "      <td>2</td>\n",
       "      <td>ultra</td>\n",
       "      <td>367.0</td>\n",
       "    </tr>\n",
       "    <tr>\n",
       "      <th>6</th>\n",
       "      <td>2</td>\n",
       "      <td>3</td>\n",
       "      <td>10187.723006</td>\n",
       "      <td>63.0</td>\n",
       "      <td>6.0</td>\n",
       "      <td>0.0</td>\n",
       "      <td>199.0</td>\n",
       "      <td>3</td>\n",
       "      <td>ultra</td>\n",
       "      <td>577.0</td>\n",
       "    </tr>\n",
       "    <tr>\n",
       "      <th>7</th>\n",
       "      <td>2</td>\n",
       "      <td>4</td>\n",
       "      <td>6164.381824</td>\n",
       "      <td>40.0</td>\n",
       "      <td>6.0</td>\n",
       "      <td>0.0</td>\n",
       "      <td>199.0</td>\n",
       "      <td>2</td>\n",
       "      <td>ultra</td>\n",
       "      <td>439.0</td>\n",
       "    </tr>\n",
       "    <tr>\n",
       "      <th>8</th>\n",
       "      <td>2</td>\n",
       "      <td>6</td>\n",
       "      <td>3255.338202</td>\n",
       "      <td>14.0</td>\n",
       "      <td>6.0</td>\n",
       "      <td>0.0</td>\n",
       "      <td>199.0</td>\n",
       "      <td>1</td>\n",
       "      <td>ultra</td>\n",
       "      <td>283.0</td>\n",
       "    </tr>\n",
       "    <tr>\n",
       "      <th>9</th>\n",
       "      <td>2</td>\n",
       "      <td>7</td>\n",
       "      <td>6780.722964</td>\n",
       "      <td>48.0</td>\n",
       "      <td>6.0</td>\n",
       "      <td>0.0</td>\n",
       "      <td>199.0</td>\n",
       "      <td>2</td>\n",
       "      <td>ultra</td>\n",
       "      <td>487.0</td>\n",
       "    </tr>\n",
       "  </tbody>\n",
       "</table>\n",
       "</div>"
      ],
      "text/plain": [
       "   user_id  month  total_distance  total_duration  minute_price  \\\n",
       "0        1      1     7027.511294            42.0           6.0   \n",
       "1        1      4      754.159807             7.0           6.0   \n",
       "2        1      8     6723.470560            46.0           6.0   \n",
       "3        1     10     5809.911100            32.0           6.0   \n",
       "4        1     11     7003.499363            56.0           6.0   \n",
       "5        1     12     6751.629942            28.0           6.0   \n",
       "6        2      3    10187.723006            63.0           6.0   \n",
       "7        2      4     6164.381824            40.0           6.0   \n",
       "8        2      6     3255.338202            14.0           6.0   \n",
       "9        2      7     6780.722964            48.0           6.0   \n",
       "\n",
       "   start_ride_price  subscription_fee  rides_count subscription_type  revenue  \n",
       "0               0.0             199.0            2             ultra    451.0  \n",
       "1               0.0             199.0            1             ultra    241.0  \n",
       "2               0.0             199.0            2             ultra    475.0  \n",
       "3               0.0             199.0            2             ultra    391.0  \n",
       "4               0.0             199.0            3             ultra    535.0  \n",
       "5               0.0             199.0            2             ultra    367.0  \n",
       "6               0.0             199.0            3             ultra    577.0  \n",
       "7               0.0             199.0            2             ultra    439.0  \n",
       "8               0.0             199.0            1             ultra    283.0  \n",
       "9               0.0             199.0            2             ultra    487.0  "
      ]
     },
     "metadata": {},
     "output_type": "display_data"
    },
    {
     "name": "stdout",
     "output_type": "stream",
     "text": [
      "Итого выручка 3878641.0 руб.\n"
     ]
    }
   ],
   "source": [
    "# Добавим столбец revenue с помесячной выручкой, которую принёс каждый пользователь\n",
    "# Помесячная выручка считается по формуле: \n",
    "#      (стоимость старта × количество поездок)+ \n",
    "#      (стоимость одной минуты × общая продолжительность всех поездок) +\n",
    "#      стоимость подписки.\n",
    "\n",
    "df_allin_group['revenue'] = df_allin_group['start_ride_price']*df_allin_group['rides_count']+df_allin_group['minute_price']*df_allin_group['total_duration']+df_allin_group['subscription_fee']\n",
    "\n",
    "display(df_allin_group.head(10))\n",
    "print('Итого выручка', df_allin_group['revenue'].sum(), 'руб.')"
   ]
  },
  {
   "cell_type": "markdown",
   "id": "cf1cda6d",
   "metadata": {},
   "source": [
    "Посмотрим на выручку помесяно "
   ]
  },
  {
   "cell_type": "code",
   "execution_count": 57,
   "id": "69973b0e",
   "metadata": {
    "scrolled": true
   },
   "outputs": [
    {
     "data": {
      "image/png": "[encoded data removed]",
      "text/plain": [
       "<Figure size 1200x500 with 1 Axes>"
      ]
     },
     "metadata": {},
     "output_type": "display_data"
    }
   ],
   "source": [
    "# рассчитываем выручку помесячно\n",
    "revenue_pivot = df_allin_group.pivot_table(index='month', values='revenue', aggfunc='sum')\n",
    "# строим график\n",
    "revenue_pivot.plot(kind='line', marker='o', figsize=(12, 5), grid=True)\n",
    "plt.xlabel('Месяц')\n",
    "plt.ylabel('Выручка, руб')\n",
    "plt.title('Выручка')\n",
    "plt.show()"
   ]
  },
  {
   "cell_type": "code",
   "execution_count": 58,
   "id": "220d950b",
   "metadata": {
    "scrolled": true
   },
   "outputs": [
    {
     "data": {
      "text/plain": [
       "count        12.000000\n",
       "mean     323220.083333\n",
       "std       13849.383731\n",
       "min      290428.000000\n",
       "25%      321027.000000\n",
       "50%      325875.500000\n",
       "75%      331361.000000\n",
       "max      337958.000000\n",
       "Name: revenue, dtype: float64"
      ]
     },
     "execution_count": 58,
     "metadata": {},
     "output_type": "execute_result"
    }
   ],
   "source": [
    "# показатели revenue за год\n",
    "revenue_pivot['revenue'].describe()"
   ]
  },
  {
   "cell_type": "markdown",
   "id": "70381eed",
   "metadata": {},
   "source": [
    "Посмотрим на выручку помесяно и по типу подписки"
   ]
  },
  {
   "cell_type": "code",
   "execution_count": 59,
   "id": "2ca33200",
   "metadata": {
    "scrolled": false
   },
   "outputs": [
    {
     "data": {
      "image/png": "[encoded data removed]",
      "text/plain": [
       "<Figure size 1000x600 with 1 Axes>"
      ]
     },
     "metadata": {},
     "output_type": "display_data"
    }
   ],
   "source": [
    "# Группировка данных по месяцу и типу подписки, подсчет суммы revenue\n",
    "grouped_revenue = df_allin_group.groupby(['month', 'subscription_type'])['revenue'].sum().unstack()\n",
    "# Построение графика\n",
    "grouped_revenue.plot(kind='line', marker='o', figsize=(10, 6), grid=True)\n",
    "plt.title('Выручка помесячно по типам подписок')\n",
    "plt.xlabel('Месяц')\n",
    "plt.ylabel('Выручка, руб.')\n",
    "plt.legend(title='Тип подписки')\n",
    "#plt.grid(True)\n",
    "plt.xticks(grouped_revenue.index);"
   ]
  },
  {
   "cell_type": "code",
   "execution_count": 60,
   "id": "e57a11f1",
   "metadata": {
    "scrolled": true
   },
   "outputs": [
    {
     "data": {
      "text/html": [
       "<div>\n",
       "<style scoped>\n",
       "    .dataframe tbody tr th:only-of-type {\n",
       "        vertical-align: middle;\n",
       "    }\n",
       "\n",
       "    .dataframe tbody tr th {\n",
       "        vertical-align: top;\n",
       "    }\n",
       "\n",
       "    .dataframe thead th {\n",
       "        text-align: right;\n",
       "    }\n",
       "</style>\n",
       "<table border=\"1\" class=\"dataframe\">\n",
       "  <thead>\n",
       "    <tr style=\"text-align: right;\">\n",
       "      <th>subscription_type</th>\n",
       "      <th>ultra</th>\n",
       "      <th>free</th>\n",
       "    </tr>\n",
       "  </thead>\n",
       "  <tbody>\n",
       "    <tr>\n",
       "      <th>count</th>\n",
       "      <td>12.000000</td>\n",
       "      <td>12.000000</td>\n",
       "    </tr>\n",
       "    <tr>\n",
       "      <th>mean</th>\n",
       "      <td>137044.750000</td>\n",
       "      <td>186175.333333</td>\n",
       "    </tr>\n",
       "    <tr>\n",
       "      <th>std</th>\n",
       "      <td>7919.625888</td>\n",
       "      <td>8106.227385</td>\n",
       "    </tr>\n",
       "    <tr>\n",
       "      <th>min</th>\n",
       "      <td>124572.000000</td>\n",
       "      <td>165856.000000</td>\n",
       "    </tr>\n",
       "    <tr>\n",
       "      <th>25%</th>\n",
       "      <td>130619.500000</td>\n",
       "      <td>184135.500000</td>\n",
       "    </tr>\n",
       "    <tr>\n",
       "      <th>50%</th>\n",
       "      <td>137926.000000</td>\n",
       "      <td>187165.000000</td>\n",
       "    </tr>\n",
       "    <tr>\n",
       "      <th>75%</th>\n",
       "      <td>143558.000000</td>\n",
       "      <td>192533.000000</td>\n",
       "    </tr>\n",
       "    <tr>\n",
       "      <th>max</th>\n",
       "      <td>149235.000000</td>\n",
       "      <td>195054.000000</td>\n",
       "    </tr>\n",
       "  </tbody>\n",
       "</table>\n",
       "</div>"
      ],
      "text/plain": [
       "subscription_type          ultra           free\n",
       "count                  12.000000      12.000000\n",
       "mean               137044.750000  186175.333333\n",
       "std                  7919.625888    8106.227385\n",
       "min                124572.000000  165856.000000\n",
       "25%                130619.500000  184135.500000\n",
       "50%                137926.000000  187165.000000\n",
       "75%                143558.000000  192533.000000\n",
       "max                149235.000000  195054.000000"
      ]
     },
     "execution_count": 60,
     "metadata": {},
     "output_type": "execute_result"
    }
   ],
   "source": [
    "# показатели revenue за год и по типу подписки\n",
    "grouped_revenue[['ultra', 'free']].describe()"
   ]
  },
  {
   "cell_type": "code",
   "execution_count": 61,
   "id": "e3872573",
   "metadata": {
    "scrolled": true
   },
   "outputs": [
    {
     "data": {
      "image/png": "[encoded data removed]",
      "text/plain": [
       "<Figure size 400x400 with 1 Axes>"
      ]
     },
     "metadata": {},
     "output_type": "display_data"
    }
   ],
   "source": [
    "# Построим круговую диаграмму с распределением выручки по типу подписки\n",
    "revenue = grouped_revenue.sum()\n",
    "plt.figure(figsize=(4, 4))\n",
    "colors = plt.cm.tab20.colors\n",
    "plt.pie(revenue, labels=revenue.index, autopct='%1.1f%%', colors=colors)\n",
    "plt.title('Выручка без подписки - \"free \" и с подпиской -\"Ultra\"')\n",
    "plt.tight_layout()\n",
    "plt.show()"
   ]
  },
  {
   "cell_type": "markdown",
   "id": "f6909e34",
   "metadata": {},
   "source": [
    "<p>\n",
    "<div class=\"alert-info\" style=\"padding: 20px; border-radius: 10px\">\n",
    "<b>Комментарий студента 💎</b>\n",
    "\n",
    "Рассмотрим среднюю выручку от клиента по типу подписки.</div>"
   ]
  },
  {
   "cell_type": "code",
   "execution_count": 62,
   "id": "04894276",
   "metadata": {
    "scrolled": true
   },
   "outputs": [
    {
     "data": {
      "image/png": "[encoded data removed]",
      "text/plain": [
       "<Figure size 1200x500 with 1 Axes>"
      ]
     },
     "metadata": {},
     "output_type": "display_data"
    }
   ],
   "source": [
    "# рассчитаем средниюю выручку в месяц от пользователя с подпиской и без\n",
    "grouped_user_free_revenue = df_allin_group.query('subscription_type == \"free\"').groupby(['user_id'])['revenue'].mean()\n",
    "grouped_user_ultra_revenue = df_allin_group.query('subscription_type == \"ultra\"').groupby(['user_id'])['revenue'].mean()\n",
    "# Построим гистограммы выручки для пользователей с подпиской и без подписки\n",
    "plt.figure(figsize=(12, 5))\n",
    "# Гистограмма пользователи без подписки\n",
    "sns.histplot(grouped_user_free_revenue, bins=50, kde=True, color='skyblue', label='user_free')\n",
    "# Гистограмма пользователи с подпиской\n",
    "sns.histplot(grouped_user_ultra_revenue, bins=50, kde=True, color='salmon', label='user_ultra')\n",
    "plt.xlim(0, 600)\n",
    "xticks_values = list(range(0, 600, 50))\n",
    "plt.xticks(xticks_values)\n",
    "plt.xticks(rotation=45)\n",
    "plt.title('Гистограмма Среднемесячная выручка по типам клиентов')\n",
    "plt.xlabel('выручка, руб.')\n",
    "plt.ylabel('Частота')\n",
    "plt.legend()\n",
    "plt.show()"
   ]
  },
  {
   "cell_type": "code",
   "execution_count": 63,
   "id": "0c038c45",
   "metadata": {},
   "outputs": [
    {
     "data": {
      "text/html": [
       "<div>\n",
       "<style scoped>\n",
       "    .dataframe tbody tr th:only-of-type {\n",
       "        vertical-align: middle;\n",
       "    }\n",
       "\n",
       "    .dataframe tbody tr th {\n",
       "        vertical-align: top;\n",
       "    }\n",
       "\n",
       "    .dataframe thead th {\n",
       "        text-align: right;\n",
       "    }\n",
       "</style>\n",
       "<table border=\"1\" class=\"dataframe\">\n",
       "  <thead>\n",
       "    <tr style=\"text-align: right;\">\n",
       "      <th></th>\n",
       "      <th>user_ultra_revenue</th>\n",
       "      <th>user_free_revenue</th>\n",
       "    </tr>\n",
       "  </thead>\n",
       "  <tbody>\n",
       "    <tr>\n",
       "      <th>count</th>\n",
       "      <td>699.000000</td>\n",
       "      <td>835.000000</td>\n",
       "    </tr>\n",
       "    <tr>\n",
       "      <th>mean</th>\n",
       "      <td>363.068525</td>\n",
       "      <td>328.516618</td>\n",
       "    </tr>\n",
       "    <tr>\n",
       "      <th>std</th>\n",
       "      <td>37.835088</td>\n",
       "      <td>64.389190</td>\n",
       "    </tr>\n",
       "    <tr>\n",
       "      <th>min</th>\n",
       "      <td>269.000000</td>\n",
       "      <td>170.250000</td>\n",
       "    </tr>\n",
       "    <tr>\n",
       "      <th>25%</th>\n",
       "      <td>336.666667</td>\n",
       "      <td>281.833333</td>\n",
       "    </tr>\n",
       "    <tr>\n",
       "      <th>50%</th>\n",
       "      <td>357.400000</td>\n",
       "      <td>324.222222</td>\n",
       "    </tr>\n",
       "    <tr>\n",
       "      <th>75%</th>\n",
       "      <td>384.666667</td>\n",
       "      <td>369.746032</td>\n",
       "    </tr>\n",
       "    <tr>\n",
       "      <th>max</th>\n",
       "      <td>545.000000</td>\n",
       "      <td>586.750000</td>\n",
       "    </tr>\n",
       "  </tbody>\n",
       "</table>\n",
       "</div>"
      ],
      "text/plain": [
       "       user_ultra_revenue  user_free_revenue\n",
       "count          699.000000         835.000000\n",
       "mean           363.068525         328.516618\n",
       "std             37.835088          64.389190\n",
       "min            269.000000         170.250000\n",
       "25%            336.666667         281.833333\n",
       "50%            357.400000         324.222222\n",
       "75%            384.666667         369.746032\n",
       "max            545.000000         586.750000"
      ]
     },
     "execution_count": 63,
     "metadata": {},
     "output_type": "execute_result"
    }
   ],
   "source": [
    "# Посмотрим сводные показатели по среднемесяуной выручке с подпиской и без\n",
    "# Создаем описания для каждого DataFrame\n",
    "user_ultra_revenue = grouped_user_ultra_revenue.describe()\n",
    "user_free_revenue = grouped_user_free_revenue.describe()\n",
    "# Объединим описания для duration с подпиской и без\n",
    "combined_revenue = pd.concat([user_ultra_revenue, user_free_revenue], axis=1)\n",
    "combined_revenue.columns = ['user_ultra_revenue', 'user_free_revenue']  \n",
    "combined_revenue"
   ]
  },
  {
   "cell_type": "markdown",
   "id": "8a6c1828",
   "metadata": {},
   "source": [
    "#### Вывод по разделу Подсчет выручки \n",
    "    \n",
    "    1. Рассчитали выручку по каждому пользователю помесячно из ранее созданного датафрейма df_allin, общая выручка составила 3879 тыс. руб. за 12 мес.\n",
    "    2. Средняя выручка в мес. составила порядка 326 тыс. руб.Минимальная выручка была в феврале 290 тыс. руб., максимальная в январе 338 тыс. руб.\n",
    "    3. На графиках видно, что пользователи с подпиской приносят в среднем в месяц меньшую сумму выручки - 137 тыс. руб., против пользователей без подписки - 186 тыс. руб. Но, пользователей с подпиской меньше, поэтому проанализировали выручку на одного подписчика с подпиской и без.\n",
    "    4. В итоге, среднемесячная выручка на одного клиента с подпиской выше, чем от ползователей без подписки. Срдняя выручка с подпиской 363 руб., а без - 328 руб. Но, особенно выделяется минимальное значение выручки с подпиской 269 руб. против 170 руб. График среднемесячной выручки от клиентов с подпиской сдвинут существенно в право, то есть более выгодно привлекать больше клиентов с подпиской."
   ]
  },
  {
   "cell_type": "markdown",
   "id": "41545ac0",
   "metadata": {},
   "source": [
    "### Проверка гипотез"
   ]
  },
  {
   "cell_type": "markdown",
   "id": "528b5094",
   "metadata": {},
   "source": [
    "#### Гипотеза о длительности поездок пользователей с подпиской"
   ]
  },
  {
   "cell_type": "markdown",
   "id": "158228b9",
   "metadata": {},
   "source": [
    "Цель проверки. Понять, тратят ли пользователи с подпиской больше времени на поездки?\n",
    "\n",
    "    Для этого установим:\n",
    "        Нулевая гипотеза H0: У пользователей с подпиской среднее время поездки равно среднему времени пользователя без подписки.\n",
    "        Альтернативная гипотеза H1: Среднее  время поездки пользователей с подпиской больше, чем у пользователей без подписки.\n",
    "        \n",
    "    Для проверки данных гипотез проведем правосторонний t-тест для независимых выборок.\n",
    "        \n",
    "        Условиями применения данного теста являются:\n",
    "        \n",
    "        - Генеральные совокупности не зависят друг от друга.\n",
    "            У нас две независимые выборки пользователей с подпиской и без подписки.\n",
    "        \n",
    "        - Выборочные средние нормально распределены.\n",
    "        \n",
    "          Это условие также выполняется, так как согласно ЦПТ, если размер выборки составляет хотя бы несколько десятков значений, то выборочные средние, которые можно получить из одной и той же генеральной совокупности, будут распределены близко к нормальному вокруг истинного среднего этой совокупности.\n",
    "        \n",
    "        - Дисперсии рассматриваемых генеральных совокупностей равны.\n",
    "            Дисперсии у нас не равны. \n",
    "             - std duration_ultra = 5.57, дисперсия = 31.02\n",
    "             - std duration_free = 6.33, дисперсия = 40.01, \n",
    "             - отклонение free от ultra +29%\n",
    "           Поэтому в тесте установим параметр equal_var=False\n",
    "        - Уровень значимости для проверки гипотезы поставим на уровне 5%."
   ]
  },
  {
   "cell_type": "code",
   "execution_count": 64,
   "id": "ec96aa60",
   "metadata": {},
   "outputs": [
    {
     "data": {
      "text/html": [
       "<div>\n",
       "<style scoped>\n",
       "    .dataframe tbody tr th:only-of-type {\n",
       "        vertical-align: middle;\n",
       "    }\n",
       "\n",
       "    .dataframe tbody tr th {\n",
       "        vertical-align: top;\n",
       "    }\n",
       "\n",
       "    .dataframe thead th {\n",
       "        text-align: right;\n",
       "    }\n",
       "</style>\n",
       "<table border=\"1\" class=\"dataframe\">\n",
       "  <thead>\n",
       "    <tr style=\"text-align: right;\">\n",
       "      <th></th>\n",
       "      <th>duration_free</th>\n",
       "      <th>duration_ultra</th>\n",
       "    </tr>\n",
       "  </thead>\n",
       "  <tbody>\n",
       "    <tr>\n",
       "      <th>count</th>\n",
       "      <td>11568.000000</td>\n",
       "      <td>6500.000000</td>\n",
       "    </tr>\n",
       "    <tr>\n",
       "      <th>mean</th>\n",
       "      <td>17.390909</td>\n",
       "      <td>18.541985</td>\n",
       "    </tr>\n",
       "    <tr>\n",
       "      <th>std</th>\n",
       "      <td>6.326803</td>\n",
       "      <td>5.572048</td>\n",
       "    </tr>\n",
       "    <tr>\n",
       "      <th>min</th>\n",
       "      <td>0.500000</td>\n",
       "      <td>3.760353</td>\n",
       "    </tr>\n",
       "    <tr>\n",
       "      <th>25%</th>\n",
       "      <td>12.958437</td>\n",
       "      <td>14.524654</td>\n",
       "    </tr>\n",
       "    <tr>\n",
       "      <th>50%</th>\n",
       "      <td>17.326890</td>\n",
       "      <td>18.178153</td>\n",
       "    </tr>\n",
       "    <tr>\n",
       "      <th>75%</th>\n",
       "      <td>21.594071</td>\n",
       "      <td>21.884129</td>\n",
       "    </tr>\n",
       "    <tr>\n",
       "      <th>max</th>\n",
       "      <td>34.948498</td>\n",
       "      <td>40.823963</td>\n",
       "    </tr>\n",
       "  </tbody>\n",
       "</table>\n",
       "</div>"
      ],
      "text/plain": [
       "       duration_free  duration_ultra\n",
       "count   11568.000000     6500.000000\n",
       "mean       17.390909       18.541985\n",
       "std         6.326803        5.572048\n",
       "min         0.500000        3.760353\n",
       "25%        12.958437       14.524654\n",
       "50%        17.326890       18.178153\n",
       "75%        21.594071       21.884129\n",
       "max        34.948498       40.823963"
      ]
     },
     "execution_count": 64,
     "metadata": {},
     "output_type": "execute_result"
    }
   ],
   "source": [
    "# описания для duration с подпиской и без (рассчитаны ранее)\n",
    "combined_duration"
   ]
  },
  {
   "cell_type": "markdown",
   "id": "b2a3797e",
   "metadata": {},
   "source": [
    "Проведем правосторонний t-тест для независимых выборок."
   ]
  },
  {
   "cell_type": "code",
   "execution_count": 65,
   "id": "ef00f642",
   "metadata": {},
   "outputs": [
    {
     "name": "stdout",
     "output_type": "stream",
     "text": [
      "p-value: 5.6757813771289775e-37\n",
      "Отвергаем нулевую гипотезу\n"
     ]
    }
   ],
   "source": [
    "# задаём уровень значимости\n",
    "alpha = 0.05\n",
    "\n",
    "# длительность поездок первой группы пользователей (с подпиской)\n",
    "duration_ultra = df_subsc_ultra['duration']\n",
    "\n",
    "# длительность поездок второй группы пользователей (без подпиской)\n",
    "duration_free = df_subsc_free['duration']\n",
    "\n",
    "# проводим ttest для двух выборок, в качестве альтернативной используем одностороннюю гипотезу «больше»\n",
    "results = st.ttest_ind(duration_ultra, duration_free, equal_var=False, alternative='greater')\n",
    "\n",
    "print(f'p-value: {results.pvalue}')\n",
    "\n",
    "# проверяем p-value\n",
    "if results.pvalue < alpha:\n",
    "    print('Отвергаем нулевую гипотезу')\n",
    "else:\n",
    "    print('Нет оснований отвергнуть нулевую гипотезу')"
   ]
  },
  {
   "cell_type": "markdown",
   "id": "e9964db2",
   "metadata": {},
   "source": [
    "    Вывод:\n",
    "    \n",
    "    Таким образом, нулевая гипотеза о равенстве среднего времени поездки пользователей с подпиской и без подписки не подтвердилось.\n",
    "    \n",
    "    Полученное значение p-value (~5.6757813771289775e-37) существенно  меньше заданного уровня значимости 5%, тест выполняется также и при более низком 1% уровне значимости.\n",
    "    \n",
    "    Таким образом, есть основания говорить, что пользователи с подпиской тратят на одну поездку больше времени, чем пользователи без подписки."
   ]
  },
  {
   "cell_type": "markdown",
   "id": "020c8fbf",
   "metadata": {},
   "source": [
    "#### Гипотеза о дальности поездок пользователей с подпиской"
   ]
  },
  {
   "cell_type": "markdown",
   "id": "9332dca4",
   "metadata": {},
   "source": [
    "Цель проверки. Можно ли сказать, что расстояние, которое проезжают пользователи с подпиской за одну поездку, не превышает 3130 метров?\n",
    "\n",
    "    Для этого установим:\n",
    "        Нулевая гипотеза H0: Пользователи с подпиской в среднем проезжают 3130 метров за одну поездку. \n",
    "        Альтернативная гипотеза H1:  Пользователи с подпиской в среднем проезжают более 3130 метров за одну поездку.\n",
    "        \n",
    "    Для проверки данных гипотез проведем правосторонний t-тест для одной выборки."
   ]
  },
  {
   "cell_type": "code",
   "execution_count": 66,
   "id": "512427f7",
   "metadata": {},
   "outputs": [
    {
     "name": "stdout",
     "output_type": "stream",
     "text": [
      "p-значение: 0.9195368847849785\n",
      "Не отвергаем нулевую гипотезу\n"
     ]
    }
   ],
   "source": [
    "alpha = 0.05 # уровень статистической значимости\n",
    "\n",
    "distance_ultra = df_subsc_ultra['distance']\n",
    "\n",
    "target_distance = 3130\n",
    "\n",
    "results = st.ttest_1samp(\n",
    "    distance_ultra, \n",
    "    target_distance,\n",
    "      alternative='greater')\n",
    "\n",
    "print('p-значение:', results.pvalue)\n",
    "\n",
    "if (results.pvalue < alpha):\n",
    "    print('Отвергаем нулевую гипотезу')\n",
    "else:\n",
    "    print('Не отвергаем нулевую гипотезу') "
   ]
  },
  {
   "cell_type": "markdown",
   "id": "87985f0e",
   "metadata": {},
   "source": [
    "Вывод:\n",
    "      \n",
    "      Не опровергнута гипотеза H0, что пользователи с подпиской в среднем проезжают 3130 метров за одну поездку.\n",
    "      Можно сказать, что расстояние, которое проезжают пользователи с подпиской за одну поездку, не превышает 3130 метров."
   ]
  },
  {
   "cell_type": "markdown",
   "id": "c3799d81",
   "metadata": {},
   "source": [
    "#### Гипотеза о выручке от пользователей  с подпиской"
   ]
  },
  {
   "cell_type": "markdown",
   "id": "f2a5541b",
   "metadata": {},
   "source": [
    "Цель проверки. Определить будет ли помесячная выручка от пользователей с подпиской по месяцам выше, чем выручка от пользователей без подписки?\n",
    "\n",
    "    Для этого установим:\n",
    "        Нулевая гипотеза H0: Средняя помесячная выручка от пользователей с подпиской равна средней помесячной выручке от пользователей без подписки. \n",
    "        Альтернативная гипотеза H1: Средняя помесячная выручка пользователи с подпиской больше средней помесячной выручке от пользователей без подписки.\n",
    "        \n",
    "     Для проверки данных гипотез проведем правосторонний t-тест для независимых выборок."
   ]
  },
  {
   "cell_type": "code",
   "execution_count": 67,
   "id": "254a0efd",
   "metadata": {
    "scrolled": false
   },
   "outputs": [
    {
     "name": "stdout",
     "output_type": "stream",
     "text": [
      "p-value: 8.874140893976874e-40\n",
      "Отвергаем нулевую гипотезу\n"
     ]
    }
   ],
   "source": [
    "# задаём уровень значимости\n",
    "alpha = 0.05\n",
    "\n",
    "# помесячная выручка от пользователей с подпиской\n",
    "revenue_ultra = df_allin_group.query('subscription_type == \"ultra\"')['revenue']\n",
    "\n",
    "# помесячная выручка от пользователей без подпиской\n",
    "revenue_free = df_allin_group.query('subscription_type == \"free\"')['revenue']\n",
    "\n",
    "# проводим ttest для двух выборок, в качестве альтернативной используем одностороннюю гипотезу «больше»\n",
    "results = st.ttest_ind(revenue_ultra, revenue_free, equal_var=False, alternative='greater')\n",
    "\n",
    "print(f'p-value: {results.pvalue}')\n",
    "\n",
    "# проверяем p-value\n",
    "if results.pvalue < alpha:\n",
    "    print('Отвергаем нулевую гипотезу')\n",
    "else:\n",
    "    print('Нет оснований отвергнуть нулевую гипотезу')"
   ]
  },
  {
   "cell_type": "markdown",
   "id": "21d43b0e",
   "metadata": {},
   "source": [
    "Вывод:\n",
    "    \n",
    "    Нулевая гипотеза, что средняя помесячная выручка от пользователей с подпиской равна средней помесячной выручке от пользователей без подписки не подтвердилась. \n",
    "    Принимаем альтернативную гипотезу, что средняя помесячная выручка пользователи с подпиской будет больше чем средняя помесячной выручки от пользователей без подписки."
   ]
  },
  {
   "cell_type": "markdown",
   "id": "04bc434d",
   "metadata": {},
   "source": [
    "####  Гипотеза о снижении количества обращений в техподдержку "
   ]
  },
  {
   "cell_type": "markdown",
   "id": "c4126f60",
   "metadata": {},
   "source": [
    "    1. Предпосылки задачи: \n",
    "     - техническая команда сервиса обновила сервера, с которыми взаимодействует мобильное приложение.\n",
    "     - Некоторый файл содержит для каждого пользователя данные о количестве обращений до обновления и после него. \n",
    "\n",
    "    2. Цель. Проверить снизилось ли количество обращений после замены серверов.\n",
    "    3. Задача: Определить тест вам понадобился бы для проверки этой гипотезы?  "
   ]
  },
  {
   "cell_type": "markdown",
   "id": "23a2bec2",
   "metadata": {},
   "source": [
    "Ответ:\n",
    "    \n",
    "    1. данные об обращениях пользователей до и после являются зависимыми выборками. \n",
    "    Чтобы проверить гипотезу о равенстве среднего генеральной совокупности для зависимых (парных) выборок, применим метод scipy.stats.ttest_rel(). Ему достаточно передать всего два параметра: наборы данных до и после. \n",
    "    2. Данный метод - это двусторонний тест, т.е. результатом будет выбор из гипотез:\n",
    "        - гипотеза H0. Количество  обращений не изменилось\n",
    "        - гипотеза H1. Количество  обращений снизилось.\n",
    "    Поэтому дополнительно необходимо будет сравнить еще среднее количество обращений до и после обновления серверов, чтобы определить в какую сторону произошли эти статистически значимые изменения. Если средняя количества обращений снизилась, то альтернативная гипотеза подтверждена."
   ]
  },
  {
   "cell_type": "markdown",
   "id": "a6653d06",
   "metadata": {},
   "source": [
    "#### Вывод по разделу Проверка гипотез"
   ]
  },
  {
   "cell_type": "markdown",
   "id": "2208fa9a",
   "metadata": {},
   "source": [
    "      1. Гипотеза о длительности поездок пользователей с подпиской\n",
    "       \n",
    "       Цель проверки гипотезы. Понять, тратят ли пользователи с подпиской больше времени на поездки?\n",
    "        \n",
    "        Для этого установили:\n",
    "        1.1 Нулевая гипотеза H0: У пользователей с подпиской среднее время поездки равно среднему времени пользователя без подписки.\n",
    "        1.2 Альтернативная гипотеза H1:Среднее  время поездки пользователей с подпиской больше, чем у пользователей без подписки.\n",
    "        \n",
    "        1.3 Метод исследования: Для проверки гипотезы  применили правосторонний t-тест для независимых выборок.\n",
    "        \n",
    "        1.4 Результат: p-value стремиться к нулю.\n",
    "        Гипотеза H0 о равенстве времен поездки с подпиской времени без подписки отвергнута.\n",
    "        \n",
    "        Таким образом, есть основания говорить, что пользователи с подпиской тратят на одну поездку больше времени, чем пользователи без подписки.\n",
    "        \n",
    "       2. Гипотеза о дальности поездок пользователей с подпиской\n",
    "       \n",
    "       Цель проверки гипотезы. Можно ли сказать, что расстояние, которое проезжают пользователи с подпиской за одну поездку, не превышает 3130 метров?\n",
    "        \n",
    "        Для этого установим:\n",
    "        2.1 Нулевая гипотеза H0: Пользователи с подпиской в среднем проезжают 3130 метров за одну поездку. \n",
    "        2.2 Альтернативная гипотеза H1:Пользователи с подпиской в среднем проезжают более 3130 метров за одну поездку.\n",
    "          \n",
    "        2.3 Метод исследования: Для проверки данных гипотез проведем правосторонний t-тест для одной выборки.\n",
    "        \n",
    "        2.4 Результат: p-value ~0.919.\n",
    "        Гипотеза H0 ,что пользователи с подпиской в среднем проезжают 3130 метров за одну поездку (или менее т.к. тест правосторонний) подтверждена.\n",
    "        Таким образом, можно сказать, что расстояние, которое проезжают пользователи с подпиской за одну поездку, не превышает 3130 метров.\n",
    "        \n",
    "       3. Гипотеза о выручке от пользователей  с подпиской\n",
    "       \n",
    "       Цель проверки. Определить будет ли помесячная выручка от пользователей с подпиской по месяцам выше, чем выручка от пользователей без подписки?\n",
    "        \n",
    "        Для этого установим:\n",
    "        3.1 Нулевая гипотеза H0: Средняя помесячная выручка от пользователей с подпиской равна средней помесячной выручке от пользователей без подписки.  \n",
    "        3.2 Альтернативная гипотеза H1:Средняя помесячная выручка пользователи с подпиской больше средней помесячной выручке от пользователей без подписки.\n",
    "          \n",
    "        3.3 Метод исследования: Для проверки данных гипотез проведем правосторонний t-тест для независимых выборок.\n",
    "        \n",
    "        3.4 Результат: p-value стремиться к нулю.\n",
    "        Нулевая гипотеза, что средняя помесячная выручка от пользователей с подпиской равна средней помесячной выручке от пользователей без подписки не подтвердилась. \n",
    "        Таким образом, можно сказать, что средняя помесячная выручка пользователи с подпиской будет больше чем средняя помесячной выручки от пользователей без подписки.    \n",
    "        \n",
    "        4. Гипотеза о снижении количества обращений в техподдержку\n",
    "           \n",
    "           Чтобы проверить гипотезу об изменении/равенстве среднего количества обращений в тех. поддержку после обновления серверов, применим метод scipy.stats.ttest_rel().\n",
    "           Дополнительно, в случае, если гипотеза о равенстве обращений до и после обновления будет отвергнута, нужно будет рассчитать среднее количество обращений до и после, чтобы узнать в какую сторону произошли изменения. Если средняя снизилась, то альтернативная гипотеза подтверждена."
   ]
  },
  {
   "cell_type": "markdown",
   "id": "f1b41086",
   "metadata": {},
   "source": [
    "### Общий вывод"
   ]
  },
  {
   "cell_type": "markdown",
   "id": "b8b71e8b",
   "metadata": {},
   "source": [
    "    В рамках работ по анализу данных сервиса аренды самокатов GoFast выполнены следующие мероприятия и и исследования:\n",
    "    1. На этапе подготовки данных:\n",
    "    Загружены данные из трех датафреймов загружены (пользователи, поездки, подписки). Потребовалась их минимальная предобработка: колонку с датой привели к формату даты, удалили 31 дубликат (1,98%) от базы пользователей.\n",
    "    \n",
    "    2. На этапе объединения и визуализации данных:\n",
    "        2.1. Объединили все данные по пользователям, поездкам и подпискам в один датафоейм.\n",
    "        2.2 Создали два отдельных датафрейма для дальнейшего  анализа: с подписками и без подписок. \n",
    "        2.3. Визуализировали  данные о дистанции и длительности поездок с подпиской и без подписки, получили следующие результаты:\n",
    "           2.3.1 Графики дистанций поездок с подпиской и без в целом повторяют друг друга, медианы на уровне 3100 метров, но диапазон 50% всех значений отличается. У пользователей  с подпиской от 2800 до 3600 метров, у пользователей без подписки более широкий диапазон от 2400 до 3900.\n",
    "          При этом у пользователей без подписки существенно больше левый хвост с короткими поездками до 1500 метров. Выявлено, что это короткие поездки на минимальной скорости, скорее всего это поездки пользователеей, которые еще не имели на момент поездки достаточного опыта управления самокатом.\n",
    "        2.3.2 Графики длительности поездок с подпиской и без в целом повторяют друг друга, при этом график с подпиской сдвинут немного к правому краю, то есть длительность поездок с подпиской в целом больше, чем без, что подтверждается также более высокими значениями медианы и по квартилям.\n",
    "     \n",
    "     3. На этапе расчета выручки получены следующие результаты:\n",
    "         3.1. общая выручка составила 3879 тыс. руб. за 12 мес.\n",
    "         3.2. Средняя выручка в мес. составила порядка 326 тыс. руб., минимальная выручка была в феврале 290 тыс. руб., максимальная в январе 338 тыс. руб.\n",
    "         3.3. На графиках видно, что пользователи с подпиской приносят в среднем в месяц меньшую сумму выручки - 137 тыс. руб., против пользователей без подписки - 186 тыс. руб., пользователи без подписки принесли 58% выручки, с подпиской  42%, но и их количество меньше. Поэтому сравнили среднемесячную выручку от пользователей с подпиской и без. \n",
    "         3.4. В итоге, выяснили, что среднемесячная выручка на одного клиента с подпиской выше, чем от ползователей без подписки.Средняя выручка с подпиской 363 руб., а без - 328 руб. Но, особенно выделяется минимальное значение выручки с подпиской 269 руб. против 170 руб. График среднемесячной выручки от клиентов с подпиской сдвинут существенно в право, то есть более выгодно привлекать больше клиентов с подпиской.\n",
    "    \n",
    "    4. На этапе проверки гипотез получены следующие результаты:\n",
    "        \n",
    "        4.1  Гипотеза о длительности поездок пользователей с подпиской. \n",
    "        Результат: Гипотеза H0 о равенстве времен поездки с подпиской времени без подписки отвергнута.\n",
    "        Таким образом, есть основания говорить, что пользователи с подпиской тратят на одну поездку больше времени, чем пользователи без подписки.,\n",
    "        \n",
    "        4.2 Гипотеза о дальности поездок пользователей с подпиской.\n",
    "        Результат: Гипотеза H0 ,что пользователи с подпиской в среднем проезжают 3130 метров за одну поездку (или менее т.к. тест правосторонний) подтверждена.\n",
    "        Таким образом, можно сказать, что расстояние, которое проезжают пользователи с подпиской за одну поездку, не превышает 3130 метров.\n",
    "        \n",
    "        4.3 Гипотеза о выручке от пользователей  с подпиской.\n",
    "        Результат: Гипотеза H0, что средняя помесячная выручка от пользователей с подпиской равна средней помесячной выручке от пользователей без подписки не подтвердилась. \n",
    "        Таким образом, можно сказать, что средняя помесячная выручка пользователи с подпиской будет больше чем средняя помесячной выручки от пользователей без подписки. \n",
    "        \n",
    "        4.4 Задача о выборе метода для проверки гипотезы о снижении количества обращений в техподдержку\n",
    "        Чтобы проверить гипотезу о об изменении/равенстве среднего количества обращений в тех. поддержку после обновления серверов, необходимо применить метод scipy.stats.ttest_rel().\n",
    "           Дополнительно, в случае, если гипотеза о равенстве обращений до и после обновления будет отвергнута, нужно будет рассчитать среднее количество обращений до и после, чтобы узнать в какую сторону произошли изменения. Если средняя снизилась, то альтернативная гипотеза подтверждена.\n",
    "    5. Относительно основного вопроса исследования, являются ли пользователи с подпиской более выгодными для компании, получены следующие результаты.\n",
    "    \n",
    "       1. Средняя выручка с подпиской 363 руб., а без - 328 руб. \n",
    "       2. Выделяется минимальное значение выручки с подпиской 269 руб. против 170 руб. без подписки, что видно на гистограмме, где график среднемесячной выручки от клиентов с подпиской сдвинут существенно в право.\n",
    "       3. Кроме того, подтверждена гипотела, что средняя помесячная выручка пользователи с подпиской будет больше чем средняя помесячной выручки от пользователей без подписки.\n",
    "       Таким образом, компании более выгодно привлекать больше клиентов с подпиской."
   ]
  }
 ],
 "metadata": {
  "ExecuteTimeLog": [
   {
    "duration": 1298,
    "start_time": "2023-11-25T08:28:42.643Z"
   },
   {
    "duration": 281,
    "start_time": "2023-11-25T08:28:43.943Z"
   },
   {
    "duration": 11,
    "start_time": "2023-11-25T08:28:44.226Z"
   },
   {
    "duration": 24,
    "start_time": "2023-11-25T08:28:44.239Z"
   },
   {
    "duration": 13,
    "start_time": "2023-11-25T08:28:44.265Z"
   },
   {
    "duration": 7,
    "start_time": "2023-11-25T08:28:44.280Z"
   },
   {
    "duration": 3,
    "start_time": "2023-11-25T08:28:44.289Z"
   },
   {
    "duration": 50,
    "start_time": "2023-11-25T08:28:44.293Z"
   },
   {
    "duration": 3,
    "start_time": "2023-11-25T08:28:44.345Z"
   },
   {
    "duration": 15,
    "start_time": "2023-11-25T08:28:44.350Z"
   },
   {
    "duration": 13,
    "start_time": "2023-11-25T08:28:44.366Z"
   },
   {
    "duration": 8,
    "start_time": "2023-11-25T08:28:44.380Z"
   },
   {
    "duration": 13,
    "start_time": "2023-11-25T08:28:44.389Z"
   },
   {
    "duration": 27,
    "start_time": "2023-11-25T08:28:44.404Z"
   },
   {
    "duration": 14,
    "start_time": "2023-11-25T08:28:44.432Z"
   },
   {
    "duration": 224,
    "start_time": "2023-11-25T08:28:44.447Z"
   },
   {
    "duration": 9,
    "start_time": "2023-11-25T08:28:44.673Z"
   },
   {
    "duration": 11,
    "start_time": "2023-11-25T08:28:44.683Z"
   },
   {
    "duration": 13,
    "start_time": "2023-11-25T08:28:44.696Z"
   },
   {
    "duration": 26,
    "start_time": "2023-11-25T08:28:44.710Z"
   },
   {
    "duration": 223,
    "start_time": "2023-11-25T08:28:44.738Z"
   },
   {
    "duration": 11,
    "start_time": "2023-11-25T08:28:44.963Z"
   },
   {
    "duration": 26,
    "start_time": "2023-11-25T08:28:44.976Z"
   },
   {
    "duration": 4,
    "start_time": "2023-11-25T08:28:45.004Z"
   },
   {
    "duration": 34,
    "start_time": "2023-11-25T08:28:45.031Z"
   },
   {
    "duration": 410,
    "start_time": "2023-11-25T08:28:45.067Z"
   },
   {
    "duration": 4,
    "start_time": "2023-11-25T08:28:45.478Z"
   },
   {
    "duration": 183,
    "start_time": "2023-11-25T08:28:45.485Z"
   },
   {
    "duration": 7,
    "start_time": "2023-11-25T08:28:45.669Z"
   },
   {
    "duration": 46,
    "start_time": "2023-11-25T08:28:45.677Z"
   },
   {
    "duration": 26,
    "start_time": "2023-11-25T08:28:45.725Z"
   },
   {
    "duration": 523,
    "start_time": "2023-11-25T08:28:45.752Z"
   },
   {
    "duration": 231,
    "start_time": "2023-11-25T08:28:46.277Z"
   },
   {
    "duration": 6,
    "start_time": "2023-11-25T08:28:46.510Z"
   },
   {
    "duration": 32,
    "start_time": "2023-11-25T08:28:46.518Z"
   },
   {
    "duration": 26,
    "start_time": "2023-11-25T08:28:46.551Z"
   },
   {
    "duration": 3,
    "start_time": "2023-11-25T08:28:46.579Z"
   },
   {
    "duration": 17,
    "start_time": "2023-11-25T08:28:46.584Z"
   },
   {
    "duration": 42,
    "start_time": "2023-11-25T08:28:46.603Z"
   },
   {
    "duration": 10,
    "start_time": "2023-11-25T08:28:46.647Z"
   },
   {
    "duration": 608,
    "start_time": "2023-11-25T08:28:46.659Z"
   },
   {
    "duration": 198,
    "start_time": "2023-11-25T08:28:47.268Z"
   },
   {
    "duration": 6,
    "start_time": "2023-11-25T08:28:47.467Z"
   },
   {
    "duration": 34,
    "start_time": "2023-11-25T08:28:47.474Z"
   },
   {
    "duration": 51,
    "start_time": "2023-11-25T08:28:47.510Z"
   },
   {
    "duration": 31,
    "start_time": "2023-11-25T08:28:47.563Z"
   },
   {
    "duration": 41,
    "start_time": "2023-11-25T08:28:47.595Z"
   },
   {
    "duration": 869,
    "start_time": "2023-11-25T08:28:47.638Z"
   },
   {
    "duration": 35,
    "start_time": "2023-11-25T08:28:48.509Z"
   },
   {
    "duration": 768,
    "start_time": "2023-11-25T08:28:48.545Z"
   },
   {
    "duration": 32,
    "start_time": "2023-11-25T08:28:49.315Z"
   },
   {
    "duration": 12,
    "start_time": "2023-11-25T08:28:49.349Z"
   },
   {
    "duration": 291,
    "start_time": "2023-11-25T08:28:49.363Z"
   },
   {
    "duration": 9,
    "start_time": "2023-11-25T08:28:49.656Z"
   },
   {
    "duration": 336,
    "start_time": "2023-11-25T08:28:49.667Z"
   },
   {
    "duration": 0,
    "start_time": "2023-11-25T08:28:50.005Z"
   },
   {
    "duration": 0,
    "start_time": "2023-11-25T08:28:50.007Z"
   },
   {
    "duration": 0,
    "start_time": "2023-11-25T08:28:50.009Z"
   },
   {
    "duration": 0,
    "start_time": "2023-11-25T08:28:50.011Z"
   },
   {
    "duration": 0,
    "start_time": "2023-11-25T08:28:50.013Z"
   },
   {
    "duration": 0,
    "start_time": "2023-11-25T08:28:50.014Z"
   },
   {
    "duration": 385,
    "start_time": "2023-11-25T08:54:55.804Z"
   },
   {
    "duration": 399,
    "start_time": "2023-11-25T08:55:01.897Z"
   },
   {
    "duration": 391,
    "start_time": "2023-11-25T08:55:06.652Z"
   },
   {
    "duration": 378,
    "start_time": "2023-11-25T08:55:13.376Z"
   },
   {
    "duration": 456,
    "start_time": "2023-11-25T08:55:22.146Z"
   },
   {
    "duration": 360,
    "start_time": "2023-11-25T08:55:26.815Z"
   },
   {
    "duration": 361,
    "start_time": "2023-11-25T08:55:32.721Z"
   },
   {
    "duration": 187,
    "start_time": "2023-11-25T09:13:02.213Z"
   },
   {
    "duration": 14,
    "start_time": "2023-11-25T09:13:04.889Z"
   },
   {
    "duration": 144,
    "start_time": "2023-11-25T09:13:05.386Z"
   },
   {
    "duration": 7,
    "start_time": "2023-11-25T09:18:14.769Z"
   },
   {
    "duration": 7,
    "start_time": "2023-11-25T09:21:04.755Z"
   },
   {
    "duration": 5,
    "start_time": "2023-11-25T09:21:22.444Z"
   },
   {
    "duration": 5,
    "start_time": "2023-11-25T09:21:34.570Z"
   },
   {
    "duration": 6,
    "start_time": "2023-11-25T09:40:41.558Z"
   },
   {
    "duration": 11,
    "start_time": "2023-11-25T09:42:13.225Z"
   },
   {
    "duration": 47,
    "start_time": "2023-11-25T10:42:32.850Z"
   },
   {
    "duration": 1327,
    "start_time": "2023-11-25T10:42:39.213Z"
   },
   {
    "duration": 187,
    "start_time": "2023-11-25T10:42:40.542Z"
   },
   {
    "duration": 16,
    "start_time": "2023-11-25T10:42:40.731Z"
   },
   {
    "duration": 27,
    "start_time": "2023-11-25T10:42:40.749Z"
   },
   {
    "duration": 14,
    "start_time": "2023-11-25T10:42:40.778Z"
   },
   {
    "duration": 8,
    "start_time": "2023-11-25T10:42:40.794Z"
   },
   {
    "duration": 24,
    "start_time": "2023-11-25T10:42:40.804Z"
   },
   {
    "duration": 3,
    "start_time": "2023-11-25T10:42:40.830Z"
   },
   {
    "duration": 22,
    "start_time": "2023-11-25T10:42:40.834Z"
   },
   {
    "duration": 3,
    "start_time": "2023-11-25T10:42:40.858Z"
   },
   {
    "duration": 12,
    "start_time": "2023-11-25T10:42:40.862Z"
   },
   {
    "duration": 24,
    "start_time": "2023-11-25T10:42:40.875Z"
   },
   {
    "duration": 26,
    "start_time": "2023-11-25T10:42:40.900Z"
   },
   {
    "duration": 11,
    "start_time": "2023-11-25T10:42:40.929Z"
   },
   {
    "duration": 3,
    "start_time": "2023-11-25T10:42:40.941Z"
   },
   {
    "duration": 16,
    "start_time": "2023-11-25T10:42:40.945Z"
   },
   {
    "duration": 230,
    "start_time": "2023-11-25T10:42:40.962Z"
   },
   {
    "duration": 8,
    "start_time": "2023-11-25T10:42:41.193Z"
   },
   {
    "duration": 22,
    "start_time": "2023-11-25T10:42:41.203Z"
   },
   {
    "duration": 15,
    "start_time": "2023-11-25T10:42:41.226Z"
   },
   {
    "duration": 9,
    "start_time": "2023-11-25T10:42:41.243Z"
   },
   {
    "duration": 306,
    "start_time": "2023-11-25T10:42:41.253Z"
   },
   {
    "duration": 12,
    "start_time": "2023-11-25T10:42:41.560Z"
   },
   {
    "duration": 25,
    "start_time": "2023-11-25T10:42:41.573Z"
   },
   {
    "duration": 23,
    "start_time": "2023-11-25T10:42:41.600Z"
   },
   {
    "duration": 7,
    "start_time": "2023-11-25T10:42:41.625Z"
   },
   {
    "duration": 414,
    "start_time": "2023-11-25T10:42:41.633Z"
   },
   {
    "duration": 3,
    "start_time": "2023-11-25T10:42:42.049Z"
   },
   {
    "duration": 185,
    "start_time": "2023-11-25T10:42:42.053Z"
   },
   {
    "duration": 7,
    "start_time": "2023-11-25T10:42:42.239Z"
   },
   {
    "duration": 107,
    "start_time": "2023-11-25T10:42:42.248Z"
   },
   {
    "duration": 21,
    "start_time": "2023-11-25T10:42:42.357Z"
   },
   {
    "duration": 563,
    "start_time": "2023-11-25T10:42:42.380Z"
   },
   {
    "duration": 216,
    "start_time": "2023-11-25T10:42:42.945Z"
   },
   {
    "duration": 6,
    "start_time": "2023-11-25T10:42:43.162Z"
   },
   {
    "duration": 25,
    "start_time": "2023-11-25T10:42:43.170Z"
   },
   {
    "duration": 37,
    "start_time": "2023-11-25T10:42:43.196Z"
   },
   {
    "duration": 3,
    "start_time": "2023-11-25T10:42:43.235Z"
   },
   {
    "duration": 17,
    "start_time": "2023-11-25T10:42:43.240Z"
   },
   {
    "duration": 15,
    "start_time": "2023-11-25T10:42:43.259Z"
   },
   {
    "duration": 8,
    "start_time": "2023-11-25T10:42:43.278Z"
   },
   {
    "duration": 588,
    "start_time": "2023-11-25T10:42:43.287Z"
   },
   {
    "duration": 177,
    "start_time": "2023-11-25T10:42:43.876Z"
   },
   {
    "duration": 6,
    "start_time": "2023-11-25T10:42:44.054Z"
   },
   {
    "duration": 38,
    "start_time": "2023-11-25T10:42:44.061Z"
   },
   {
    "duration": 50,
    "start_time": "2023-11-25T10:42:44.101Z"
   },
   {
    "duration": 30,
    "start_time": "2023-11-25T10:42:44.153Z"
   },
   {
    "duration": 43,
    "start_time": "2023-11-25T10:42:44.185Z"
   },
   {
    "duration": 940,
    "start_time": "2023-11-25T10:42:44.229Z"
   },
   {
    "duration": 18,
    "start_time": "2023-11-25T10:42:45.171Z"
   },
   {
    "duration": 784,
    "start_time": "2023-11-25T10:42:45.191Z"
   },
   {
    "duration": 25,
    "start_time": "2023-11-25T10:42:45.977Z"
   },
   {
    "duration": 20,
    "start_time": "2023-11-25T10:42:46.003Z"
   },
   {
    "duration": 243,
    "start_time": "2023-11-25T10:42:46.024Z"
   },
   {
    "duration": 8,
    "start_time": "2023-11-25T10:42:46.269Z"
   },
   {
    "duration": 218,
    "start_time": "2023-11-25T10:42:46.279Z"
   },
   {
    "duration": 14,
    "start_time": "2023-11-25T10:42:46.499Z"
   },
   {
    "duration": 199,
    "start_time": "2023-11-25T10:42:46.523Z"
   },
   {
    "duration": 7,
    "start_time": "2023-11-25T10:42:46.724Z"
   },
   {
    "duration": 15,
    "start_time": "2023-11-25T10:42:46.732Z"
   },
   {
    "duration": 15,
    "start_time": "2023-11-25T10:42:46.749Z"
   },
   {
    "duration": 17,
    "start_time": "2023-11-25T10:42:46.765Z"
   },
   {
    "duration": 5,
    "start_time": "2023-11-25T10:43:36.158Z"
   },
   {
    "duration": 5,
    "start_time": "2023-11-25T10:43:48.843Z"
   },
   {
    "duration": 382,
    "start_time": "2023-11-25T10:48:16.172Z"
   },
   {
    "duration": 28,
    "start_time": "2023-11-25T10:50:15.045Z"
   },
   {
    "duration": 29,
    "start_time": "2023-11-25T10:50:48.926Z"
   },
   {
    "duration": 16,
    "start_time": "2023-11-25T10:51:29.415Z"
   },
   {
    "duration": 309,
    "start_time": "2023-11-25T10:55:10.864Z"
   },
   {
    "duration": 13,
    "start_time": "2023-11-25T11:03:27.224Z"
   },
   {
    "duration": 13,
    "start_time": "2023-11-25T11:04:19.142Z"
   },
   {
    "duration": 29,
    "start_time": "2023-11-25T11:04:39.229Z"
   },
   {
    "duration": 267,
    "start_time": "2023-11-25T11:05:44.904Z"
   },
   {
    "duration": 83,
    "start_time": "2023-11-25T11:06:03.309Z"
   },
   {
    "duration": 14,
    "start_time": "2023-11-25T11:06:58.964Z"
   },
   {
    "duration": 7,
    "start_time": "2023-11-25T11:07:10.101Z"
   },
   {
    "duration": 9,
    "start_time": "2023-11-25T11:07:37.418Z"
   },
   {
    "duration": 71,
    "start_time": "2023-11-25T11:10:16.155Z"
   },
   {
    "duration": 7,
    "start_time": "2023-11-25T11:10:32.485Z"
   },
   {
    "duration": 17,
    "start_time": "2023-11-25T11:10:33.086Z"
   },
   {
    "duration": 158,
    "start_time": "2023-11-25T11:10:36.999Z"
   },
   {
    "duration": 8,
    "start_time": "2023-11-25T11:10:44.707Z"
   },
   {
    "duration": 200,
    "start_time": "2023-11-25T11:10:58.656Z"
   },
   {
    "duration": 154,
    "start_time": "2023-11-25T11:11:21.376Z"
   },
   {
    "duration": 241,
    "start_time": "2023-11-25T11:50:02.100Z"
   },
   {
    "duration": 9,
    "start_time": "2023-11-25T11:50:25.223Z"
   },
   {
    "duration": 175,
    "start_time": "2023-11-25T11:50:53.874Z"
   },
   {
    "duration": 8,
    "start_time": "2023-11-25T11:50:59.780Z"
   },
   {
    "duration": 258,
    "start_time": "2023-11-25T11:54:44.757Z"
   },
   {
    "duration": 9,
    "start_time": "2023-11-25T11:54:54.467Z"
   },
   {
    "duration": 14,
    "start_time": "2023-11-25T11:55:17.197Z"
   },
   {
    "duration": 20,
    "start_time": "2023-11-25T12:00:19.644Z"
   },
   {
    "duration": 13,
    "start_time": "2023-11-25T12:00:58.187Z"
   },
   {
    "duration": 10,
    "start_time": "2023-11-25T12:01:43.851Z"
   },
   {
    "duration": 9,
    "start_time": "2023-11-25T12:02:06.296Z"
   },
   {
    "duration": 19,
    "start_time": "2023-11-25T12:02:31.962Z"
   },
   {
    "duration": 15,
    "start_time": "2023-11-25T12:04:57.155Z"
   },
   {
    "duration": 7,
    "start_time": "2023-11-25T12:05:08.973Z"
   },
   {
    "duration": 14,
    "start_time": "2023-11-25T12:05:21.330Z"
   },
   {
    "duration": 8,
    "start_time": "2023-11-25T12:05:25.424Z"
   },
   {
    "duration": 13,
    "start_time": "2023-11-25T12:05:48.843Z"
   },
   {
    "duration": 7,
    "start_time": "2023-11-25T12:05:59.658Z"
   },
   {
    "duration": 10,
    "start_time": "2023-11-25T12:06:07.801Z"
   },
   {
    "duration": 791,
    "start_time": "2023-11-25T12:08:55.857Z"
   },
   {
    "duration": 777,
    "start_time": "2023-11-25T12:11:11.409Z"
   },
   {
    "duration": 871,
    "start_time": "2023-11-25T12:11:41.278Z"
   },
   {
    "duration": 539,
    "start_time": "2023-11-25T12:12:22.547Z"
   },
   {
    "duration": 565,
    "start_time": "2023-11-25T12:12:47.190Z"
   },
   {
    "duration": 407,
    "start_time": "2023-11-25T12:13:08.727Z"
   },
   {
    "duration": 231,
    "start_time": "2023-11-25T12:15:30.370Z"
   },
   {
    "duration": 5,
    "start_time": "2023-11-25T12:15:57.438Z"
   },
   {
    "duration": 312,
    "start_time": "2023-11-25T12:18:53.259Z"
   },
   {
    "duration": 10,
    "start_time": "2023-11-25T12:19:24.116Z"
   },
   {
    "duration": 9,
    "start_time": "2023-11-25T12:19:32.618Z"
   },
   {
    "duration": 5,
    "start_time": "2023-11-25T12:19:39.740Z"
   },
   {
    "duration": 9,
    "start_time": "2023-11-25T12:19:55.510Z"
   },
   {
    "duration": 13,
    "start_time": "2023-11-25T12:22:36.844Z"
   },
   {
    "duration": 211,
    "start_time": "2023-11-25T12:28:12.624Z"
   },
   {
    "duration": 302,
    "start_time": "2023-11-25T12:30:23.028Z"
   },
   {
    "duration": 269,
    "start_time": "2023-11-25T12:30:57.989Z"
   },
   {
    "duration": 413,
    "start_time": "2023-11-25T12:31:35.780Z"
   },
   {
    "duration": 28840,
    "start_time": "2023-11-25T12:32:18.085Z"
   },
   {
    "duration": 395,
    "start_time": "2023-11-25T12:33:31.611Z"
   },
   {
    "duration": 418,
    "start_time": "2023-11-25T12:34:23.122Z"
   },
   {
    "duration": 387,
    "start_time": "2023-11-25T12:34:44.318Z"
   },
   {
    "duration": 5,
    "start_time": "2023-11-25T12:39:56.651Z"
   },
   {
    "duration": 360,
    "start_time": "2023-11-25T12:41:15.846Z"
   },
   {
    "duration": 6,
    "start_time": "2023-11-25T12:41:25.986Z"
   },
   {
    "duration": 11,
    "start_time": "2023-11-25T12:43:43.873Z"
   },
   {
    "duration": 11,
    "start_time": "2023-11-25T12:44:04.122Z"
   },
   {
    "duration": 15,
    "start_time": "2023-11-25T12:45:35.750Z"
   },
   {
    "duration": 14,
    "start_time": "2023-11-25T12:45:43.154Z"
   },
   {
    "duration": 361,
    "start_time": "2023-11-25T12:49:38.170Z"
   },
   {
    "duration": 396,
    "start_time": "2023-11-25T12:50:12.303Z"
   },
   {
    "duration": 4,
    "start_time": "2023-11-25T13:19:32.950Z"
   },
   {
    "duration": 78,
    "start_time": "2023-11-25T13:19:32.956Z"
   },
   {
    "duration": 11,
    "start_time": "2023-11-25T13:19:33.601Z"
   },
   {
    "duration": 39,
    "start_time": "2023-11-25T13:19:33.614Z"
   },
   {
    "duration": 13,
    "start_time": "2023-11-25T13:19:33.655Z"
   },
   {
    "duration": 23,
    "start_time": "2023-11-25T13:19:33.670Z"
   },
   {
    "duration": 5,
    "start_time": "2023-11-25T13:19:33.695Z"
   },
   {
    "duration": 4,
    "start_time": "2023-11-25T13:19:33.702Z"
   },
   {
    "duration": 33,
    "start_time": "2023-11-25T13:19:33.708Z"
   },
   {
    "duration": 4,
    "start_time": "2023-11-25T13:19:33.743Z"
   },
   {
    "duration": 40,
    "start_time": "2023-11-25T13:19:33.749Z"
   },
   {
    "duration": 13,
    "start_time": "2023-11-25T13:19:33.791Z"
   },
   {
    "duration": 12,
    "start_time": "2023-11-25T13:19:33.806Z"
   },
   {
    "duration": 25,
    "start_time": "2023-11-25T13:19:33.820Z"
   },
   {
    "duration": 4,
    "start_time": "2023-11-25T13:19:33.846Z"
   },
   {
    "duration": 13,
    "start_time": "2023-11-25T13:19:33.853Z"
   },
   {
    "duration": 233,
    "start_time": "2023-11-25T13:19:33.868Z"
   },
   {
    "duration": 8,
    "start_time": "2023-11-25T13:19:34.102Z"
   },
   {
    "duration": 19,
    "start_time": "2023-11-25T13:19:34.111Z"
   },
   {
    "duration": 31,
    "start_time": "2023-11-25T13:19:34.131Z"
   },
   {
    "duration": 10,
    "start_time": "2023-11-25T13:19:34.163Z"
   },
   {
    "duration": 262,
    "start_time": "2023-11-25T13:19:34.174Z"
   },
   {
    "duration": 12,
    "start_time": "2023-11-25T13:19:34.439Z"
   },
   {
    "duration": 27,
    "start_time": "2023-11-25T13:19:34.452Z"
   },
   {
    "duration": 4,
    "start_time": "2023-11-25T13:19:34.480Z"
   },
   {
    "duration": 9,
    "start_time": "2023-11-25T13:19:34.486Z"
   },
   {
    "duration": 468,
    "start_time": "2023-11-25T13:19:34.497Z"
   },
   {
    "duration": 3,
    "start_time": "2023-11-25T13:19:34.967Z"
   },
   {
    "duration": 210,
    "start_time": "2023-11-25T13:19:34.972Z"
   },
   {
    "duration": 7,
    "start_time": "2023-11-25T13:19:35.183Z"
   },
   {
    "duration": 5,
    "start_time": "2023-11-25T13:19:35.193Z"
   },
   {
    "duration": 38,
    "start_time": "2023-11-25T13:19:35.200Z"
   },
   {
    "duration": 524,
    "start_time": "2023-11-25T13:19:35.240Z"
   },
   {
    "duration": 149,
    "start_time": "2023-11-25T13:19:35.765Z"
   },
   {
    "duration": 12,
    "start_time": "2023-11-25T13:19:35.916Z"
   },
   {
    "duration": 23,
    "start_time": "2023-11-25T13:19:35.935Z"
   },
   {
    "duration": 24,
    "start_time": "2023-11-25T13:19:35.959Z"
   },
   {
    "duration": 4,
    "start_time": "2023-11-25T13:19:35.984Z"
   },
   {
    "duration": 43,
    "start_time": "2023-11-25T13:19:35.990Z"
   },
   {
    "duration": 15,
    "start_time": "2023-11-25T13:19:36.034Z"
   },
   {
    "duration": 9,
    "start_time": "2023-11-25T13:19:36.050Z"
   },
   {
    "duration": 1227,
    "start_time": "2023-11-25T13:19:36.060Z"
   },
   {
    "duration": 196,
    "start_time": "2023-11-25T13:19:37.292Z"
   },
   {
    "duration": 7,
    "start_time": "2023-11-25T13:19:37.489Z"
   },
   {
    "duration": 59,
    "start_time": "2023-11-25T13:19:37.497Z"
   },
   {
    "duration": 25,
    "start_time": "2023-11-25T13:19:37.558Z"
   },
   {
    "duration": 24,
    "start_time": "2023-11-25T13:19:37.584Z"
   },
   {
    "duration": 24,
    "start_time": "2023-11-25T13:19:37.626Z"
   },
   {
    "duration": 936,
    "start_time": "2023-11-25T13:19:37.652Z"
   },
   {
    "duration": 19,
    "start_time": "2023-11-25T13:19:38.590Z"
   },
   {
    "duration": 838,
    "start_time": "2023-11-25T13:19:38.624Z"
   },
   {
    "duration": 16,
    "start_time": "2023-11-25T13:19:39.464Z"
   },
   {
    "duration": 53,
    "start_time": "2023-11-25T13:19:39.481Z"
   },
   {
    "duration": 7,
    "start_time": "2023-11-25T13:19:39.538Z"
   },
   {
    "duration": 23,
    "start_time": "2023-11-25T13:19:39.547Z"
   },
   {
    "duration": 186,
    "start_time": "2023-11-25T13:19:39.572Z"
   },
   {
    "duration": 8,
    "start_time": "2023-11-25T13:19:39.760Z"
   },
   {
    "duration": 272,
    "start_time": "2023-11-25T13:19:39.769Z"
   },
   {
    "duration": 16,
    "start_time": "2023-11-25T13:19:40.042Z"
   },
   {
    "duration": 290,
    "start_time": "2023-11-25T13:19:40.061Z"
   },
   {
    "duration": 445,
    "start_time": "2023-11-25T13:19:40.423Z"
   },
   {
    "duration": 13,
    "start_time": "2023-11-25T13:19:40.870Z"
   },
   {
    "duration": 22,
    "start_time": "2023-11-25T13:19:40.885Z"
   },
   {
    "duration": 28,
    "start_time": "2023-11-25T13:19:40.908Z"
   },
   {
    "duration": 12,
    "start_time": "2023-11-25T13:19:40.937Z"
   },
   {
    "duration": 10,
    "start_time": "2023-11-25T13:19:40.951Z"
   },
   {
    "duration": 49,
    "start_time": "2023-11-25T13:22:05.004Z"
   },
   {
    "duration": 24,
    "start_time": "2023-11-25T13:22:38.098Z"
   },
   {
    "duration": 4,
    "start_time": "2023-11-25T13:32:53.847Z"
   },
   {
    "duration": 66,
    "start_time": "2023-11-25T13:32:53.854Z"
   },
   {
    "duration": 21,
    "start_time": "2023-11-25T13:32:53.921Z"
   },
   {
    "duration": 23,
    "start_time": "2023-11-25T13:32:53.946Z"
   },
   {
    "duration": 13,
    "start_time": "2023-11-25T13:32:53.971Z"
   },
   {
    "duration": 8,
    "start_time": "2023-11-25T13:32:53.985Z"
   },
   {
    "duration": 4,
    "start_time": "2023-11-25T13:32:53.994Z"
   },
   {
    "duration": 36,
    "start_time": "2023-11-25T13:32:54.000Z"
   },
   {
    "duration": 22,
    "start_time": "2023-11-25T13:32:54.037Z"
   },
   {
    "duration": 4,
    "start_time": "2023-11-25T13:32:54.061Z"
   },
   {
    "duration": 29,
    "start_time": "2023-11-25T13:32:54.067Z"
   },
   {
    "duration": 18,
    "start_time": "2023-11-25T13:32:54.097Z"
   },
   {
    "duration": 23,
    "start_time": "2023-11-25T13:32:54.116Z"
   },
   {
    "duration": 16,
    "start_time": "2023-11-25T13:32:54.142Z"
   },
   {
    "duration": 3,
    "start_time": "2023-11-25T13:32:54.160Z"
   },
   {
    "duration": 12,
    "start_time": "2023-11-25T13:32:54.165Z"
   },
   {
    "duration": 231,
    "start_time": "2023-11-25T13:32:54.178Z"
   },
   {
    "duration": 8,
    "start_time": "2023-11-25T13:32:54.411Z"
   },
   {
    "duration": 19,
    "start_time": "2023-11-25T13:32:54.423Z"
   },
   {
    "duration": 13,
    "start_time": "2023-11-25T13:32:54.451Z"
   },
   {
    "duration": 8,
    "start_time": "2023-11-25T13:32:54.466Z"
   },
   {
    "duration": 160,
    "start_time": "2023-11-25T13:32:54.476Z"
   },
   {
    "duration": 18,
    "start_time": "2023-11-25T13:32:54.637Z"
   },
   {
    "duration": 79,
    "start_time": "2023-11-25T13:32:54.657Z"
   },
   {
    "duration": 10,
    "start_time": "2023-11-25T13:32:54.744Z"
   },
   {
    "duration": 8,
    "start_time": "2023-11-25T13:32:54.755Z"
   },
   {
    "duration": 466,
    "start_time": "2023-11-25T13:32:54.765Z"
   },
   {
    "duration": 7,
    "start_time": "2023-11-25T13:32:55.233Z"
   },
   {
    "duration": 215,
    "start_time": "2023-11-25T13:32:55.241Z"
   },
   {
    "duration": 7,
    "start_time": "2023-11-25T13:32:55.459Z"
   },
   {
    "duration": 18,
    "start_time": "2023-11-25T13:32:55.468Z"
   },
   {
    "duration": 30,
    "start_time": "2023-11-25T13:32:55.488Z"
   },
   {
    "duration": 572,
    "start_time": "2023-11-25T13:32:55.520Z"
   },
   {
    "duration": 168,
    "start_time": "2023-11-25T13:32:56.093Z"
   },
   {
    "duration": 5,
    "start_time": "2023-11-25T13:32:56.263Z"
   },
   {
    "duration": 27,
    "start_time": "2023-11-25T13:32:56.270Z"
   },
   {
    "duration": 46,
    "start_time": "2023-11-25T13:32:56.299Z"
   },
   {
    "duration": 4,
    "start_time": "2023-11-25T13:32:56.347Z"
   },
   {
    "duration": 26,
    "start_time": "2023-11-25T13:32:56.354Z"
   },
   {
    "duration": 15,
    "start_time": "2023-11-25T13:32:56.381Z"
   },
   {
    "duration": 7,
    "start_time": "2023-11-25T13:32:56.398Z"
   },
   {
    "duration": 759,
    "start_time": "2023-11-25T13:32:56.422Z"
   },
   {
    "duration": 193,
    "start_time": "2023-11-25T13:32:57.183Z"
   },
   {
    "duration": 7,
    "start_time": "2023-11-25T13:32:57.378Z"
   },
   {
    "duration": 57,
    "start_time": "2023-11-25T13:32:57.386Z"
   },
   {
    "duration": 31,
    "start_time": "2023-11-25T13:32:57.445Z"
   },
   {
    "duration": 44,
    "start_time": "2023-11-25T13:32:57.478Z"
   },
   {
    "duration": 32,
    "start_time": "2023-11-25T13:32:57.524Z"
   },
   {
    "duration": 1122,
    "start_time": "2023-11-25T13:32:57.561Z"
   },
   {
    "duration": 66,
    "start_time": "2023-11-25T13:32:58.684Z"
   },
   {
    "duration": 924,
    "start_time": "2023-11-25T13:32:58.751Z"
   },
   {
    "duration": 13,
    "start_time": "2023-11-25T13:32:59.677Z"
   },
   {
    "duration": 50,
    "start_time": "2023-11-25T13:32:59.692Z"
   },
   {
    "duration": 12,
    "start_time": "2023-11-25T13:32:59.743Z"
   },
   {
    "duration": 15,
    "start_time": "2023-11-25T13:32:59.757Z"
   },
   {
    "duration": 197,
    "start_time": "2023-11-25T13:32:59.774Z"
   },
   {
    "duration": 7,
    "start_time": "2023-11-25T13:32:59.973Z"
   },
   {
    "duration": 327,
    "start_time": "2023-11-25T13:32:59.981Z"
   },
   {
    "duration": 31,
    "start_time": "2023-11-25T13:33:00.310Z"
   },
   {
    "duration": 195,
    "start_time": "2023-11-25T13:33:00.345Z"
   },
   {
    "duration": 469,
    "start_time": "2023-11-25T13:33:00.546Z"
   },
   {
    "duration": 23,
    "start_time": "2023-11-25T13:33:01.016Z"
   },
   {
    "duration": 41,
    "start_time": "2023-11-25T13:33:01.040Z"
   },
   {
    "duration": 26,
    "start_time": "2023-11-25T13:33:01.083Z"
   },
   {
    "duration": 37,
    "start_time": "2023-11-25T13:33:01.111Z"
   },
   {
    "duration": 62,
    "start_time": "2023-11-25T13:33:01.150Z"
   }
  ],
  "kernelspec": {
   "display_name": "Python 3 (ipykernel)",
   "language": "python",
   "name": "python3"
  },
  "language_info": {
   "codemirror_mode": {
    "name": "ipython",
    "version": 3
   },
   "file_extension": ".py",
   "mimetype": "text/x-python",
   "name": "python",
   "nbconvert_exporter": "python",
   "pygments_lexer": "ipython3",
   "version": "3.9.18"
  },
  "toc": {
   "base_numbering": 1,
   "nav_menu": {},
   "number_sections": true,
   "sideBar": true,
   "skip_h1_title": true,
   "title_cell": "Содержание",
   "title_sidebar": "Contents",
   "toc_cell": true,
   "toc_position": {
    "height": "calc(100% - 180px)",
    "left": "10px",
    "top": "150px",
    "width": "260.283px"
   },
   "toc_section_display": true,
   "toc_window_display": true
  }
 },
 "nbformat": 4,
 "nbformat_minor": 5
}
