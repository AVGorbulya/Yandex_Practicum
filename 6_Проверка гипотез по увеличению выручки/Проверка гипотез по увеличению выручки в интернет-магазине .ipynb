{
 "cells": [
  {
   "cell_type": "markdown",
   "metadata": {},
   "source": [
    "# Проект \" Приоритизация гипотез и анализ результатов A/B-теста гипотезы по увеличения выручки интернет- магазина\""
   ]
  },
  {
   "cell_type": "markdown",
   "metadata": {
    "toc": true
   },
   "source": [
    "<h1>Содержание<span class=\"tocSkip\"></span></h1>\n",
    "<div class=\"toc\"><ul class=\"toc-item\"><li><span><a href=\"#Цель,-вводная-информация,-описание-и-план-исследования\" data-toc-modified-id=\"Цель,-вводная-информация,-описание-и-план-исследования-1\"><span class=\"toc-item-num\">1&nbsp;&nbsp;</span>Цель, вводная информация, описание и план исследования</a></span><ul class=\"toc-item\"><li><span><a href=\"#Цель-проекта\" data-toc-modified-id=\"Цель-проекта-1.1\"><span class=\"toc-item-num\">1.1&nbsp;&nbsp;</span>Цель проекта</a></span></li><li><span><a href=\"#Вводная-информация-и-описание-источников-данных\" data-toc-modified-id=\"Вводная-информация-и-описание-источников-данных-1.2\"><span class=\"toc-item-num\">1.2&nbsp;&nbsp;</span>Вводная информация и описание источников данных</a></span></li><li><span><a href=\"#План-исследования\" data-toc-modified-id=\"План-исследования-1.3\"><span class=\"toc-item-num\">1.3&nbsp;&nbsp;</span>План исследования</a></span><ul class=\"toc-item\"><li><span><a href=\"#Загрузка-и-предобработка--данных:\" data-toc-modified-id=\"Загрузка-и-предобработка--данных:-1.3.1\"><span class=\"toc-item-num\">1.3.1&nbsp;&nbsp;</span>Загрузка и предобработка  данных:</a></span></li><li><span><a href=\"#Часть-1-.-Приоритизация-гипотез\" data-toc-modified-id=\"Часть-1-.-Приоритизация-гипотез-1.3.2\"><span class=\"toc-item-num\">1.3.2&nbsp;&nbsp;</span>Часть 1 . Приоритизация гипотез</a></span></li><li><span><a href=\"#Часть-2-.-Анализ-результатов--A/B-теста\" data-toc-modified-id=\"Часть-2-.-Анализ-результатов--A/B-теста-1.3.3\"><span class=\"toc-item-num\">1.3.3&nbsp;&nbsp;</span>Часть 2 . Анализ результатов  A/B-теста</a></span></li><li><span><a href=\"#Подготовим-общий-вывод-по-проекту\" data-toc-modified-id=\"Подготовим-общий-вывод-по-проекту-1.3.4\"><span class=\"toc-item-num\">1.3.4&nbsp;&nbsp;</span>Подготовим общий вывод по проекту</a></span></li></ul></li></ul></li><li><span><a href=\"#Загрузка-и-предобработка--данных\" data-toc-modified-id=\"Загрузка-и-предобработка--данных-2\"><span class=\"toc-item-num\">2&nbsp;&nbsp;</span>Загрузка и предобработка  данных</a></span><ul class=\"toc-item\"><li><span><a href=\"#Загрузка-данных\" data-toc-modified-id=\"Загрузка-данных-2.1\"><span class=\"toc-item-num\">2.1&nbsp;&nbsp;</span>Загрузка данных</a></span><ul class=\"toc-item\"><li><span><a href=\"#Вывод-по-разделу-загрузка-данных\" data-toc-modified-id=\"Вывод-по-разделу-загрузка-данных-2.1.1\"><span class=\"toc-item-num\">2.1.1&nbsp;&nbsp;</span>Вывод по разделу загрузка данных</a></span></li></ul></li><li><span><a href=\"#Предобработка-данных\" data-toc-modified-id=\"Предобработка-данных-2.2\"><span class=\"toc-item-num\">2.2&nbsp;&nbsp;</span>Предобработка данных</a></span><ul class=\"toc-item\"><li><span><a href=\"#Преобразование-типов-данных-и-названий-колонок\" data-toc-modified-id=\"Преобразование-типов-данных-и-названий-колонок-2.2.1\"><span class=\"toc-item-num\">2.2.1&nbsp;&nbsp;</span>Преобразование типов данных и названий колонок</a></span></li><li><span><a href=\"#Анализ-и-обработка-пропусков-и-дубликатов\" data-toc-modified-id=\"Анализ-и-обработка-пропусков-и-дубликатов-2.2.2\"><span class=\"toc-item-num\">2.2.2&nbsp;&nbsp;</span>Анализ и обработка пропусков и дубликатов</a></span></li><li><span><a href=\"#Выводы-по-разделу-Предобработка-данных\" data-toc-modified-id=\"Выводы-по-разделу-Предобработка-данных-2.2.3\"><span class=\"toc-item-num\">2.2.3&nbsp;&nbsp;</span>Выводы по разделу Предобработка данных</a></span></li></ul></li></ul></li><li><span><a href=\"#Часть-1-Приоритизация-гипотез\" data-toc-modified-id=\"Часть-1-Приоритизация-гипотез-3\"><span class=\"toc-item-num\">3&nbsp;&nbsp;</span>Часть 1 Приоритизация гипотез</a></span><ul class=\"toc-item\"><li><span><a href=\"#Рассчитаем--ICE-SCORE-для-оценки-приоритетов-гипотез--из-датасета-hypothesis\" data-toc-modified-id=\"Рассчитаем--ICE-SCORE-для-оценки-приоритетов-гипотез--из-датасета-hypothesis-3.1\"><span class=\"toc-item-num\">3.1&nbsp;&nbsp;</span>Рассчитаем  ICE SCORE для оценки приоритетов гипотез  из датасета hypothesis</a></span></li><li><span><a href=\"#Рассчитаем---RICE-SCORE-для-оценки-приоритетов-гипотез--из-датасета-hypothesis\" data-toc-modified-id=\"Рассчитаем---RICE-SCORE-для-оценки-приоритетов-гипотез--из-датасета-hypothesis-3.2\"><span class=\"toc-item-num\">3.2&nbsp;&nbsp;</span>Рассчитаем   RICE SCORE для оценки приоритетов гипотез  из датасета hypothesis</a></span></li><li><span><a href=\"#Вывод-по-разделу-Приоритизация-гипотез\" data-toc-modified-id=\"Вывод-по-разделу-Приоритизация-гипотез-3.3\"><span class=\"toc-item-num\">3.3&nbsp;&nbsp;</span>Вывод по разделу Приоритизация гипотез</a></span></li></ul></li><li><span><a href=\"#Часть-2-Анализ-резульатов-A/B-теста\" data-toc-modified-id=\"Часть-2-Анализ-резульатов-A/B-теста-4\"><span class=\"toc-item-num\">4&nbsp;&nbsp;</span>Часть 2 Анализ резульатов A/B-теста</a></span><ul class=\"toc-item\"><li><span><a href=\"#Анализ-выручки,-среднего-чека-и-среднего-количества-заказов-на-посетителя\" data-toc-modified-id=\"Анализ-выручки,-среднего-чека-и-среднего-количества-заказов-на-посетителя-4.1\"><span class=\"toc-item-num\">4.1&nbsp;&nbsp;</span>Анализ выручки, среднего чека и среднего количества заказов на посетителя</a></span><ul class=\"toc-item\"><li><span><a href=\"#Подготовка-кумулятивных-данных-по-выручке,-заказам-и-покупателям\" data-toc-modified-id=\"Подготовка-кумулятивных-данных-по-выручке,-заказам-и-покупателям-4.1.1\"><span class=\"toc-item-num\">4.1.1&nbsp;&nbsp;</span>Подготовка кумулятивных данных по выручке, заказам и покупателям</a></span></li><li><span><a href=\"#Графики-кумулятивной-выручки,-среднего-чека-и-относительного-различия-группам-A/B-тестирования\" data-toc-modified-id=\"Графики-кумулятивной-выручки,-среднего-чека-и-относительного-различия-группам-A/B-тестирования-4.1.2\"><span class=\"toc-item-num\">4.1.2&nbsp;&nbsp;</span>Графики кумулятивной выручки, среднего чека и относительного различия группам A/B-тестирования</a></span></li><li><span><a href=\"#Графики-кумулятивного-среднего-количества-заказов-и-их-относительного-различия-по-группам-A/B-тестирования\" data-toc-modified-id=\"Графики-кумулятивного-среднего-количества-заказов-и-их-относительного-различия-по-группам-A/B-тестирования-4.1.3\"><span class=\"toc-item-num\">4.1.3&nbsp;&nbsp;</span>Графики кумулятивного среднего количества заказов и их относительного различия по группам A/B-тестирования</a></span></li></ul></li><li><span><a href=\"#Оценка-выбросов-в-количестве-и-стоимости-заказов\" data-toc-modified-id=\"Оценка-выбросов-в-количестве-и-стоимости-заказов-4.2\"><span class=\"toc-item-num\">4.2&nbsp;&nbsp;</span>Оценка выбросов в количестве и стоимости заказов</a></span><ul class=\"toc-item\"><li><span><a href=\"#Распределение-количества-заказав--по-пользователям.\" data-toc-modified-id=\"Распределение-количества-заказав--по-пользователям.-4.2.1\"><span class=\"toc-item-num\">4.2.1&nbsp;&nbsp;</span>Распределение количества заказав  по пользователям.</a></span></li><li><span><a href=\"#Распределение-стоимости-заказов--по-пользователям\" data-toc-modified-id=\"Распределение-стоимости-заказов--по-пользователям-4.2.2\"><span class=\"toc-item-num\">4.2.2&nbsp;&nbsp;</span>Распределение стоимости заказов  по пользователям</a></span></li></ul></li><li><span><a href=\"#Оценка-статистической--значимости-различий-групп-А-и-В.\" data-toc-modified-id=\"Оценка-статистической--значимости-различий-групп-А-и-В.-4.3\"><span class=\"toc-item-num\">4.3&nbsp;&nbsp;</span>Оценка статистической  значимости различий групп А и В.</a></span><ul class=\"toc-item\"><li><span><a href=\"#Расчет-статистической-значимости-различий-групп-А-и-В-в-среднем-количестве-заказов-(по-сырым-данным)\" data-toc-modified-id=\"Расчет-статистической-значимости-различий-групп-А-и-В-в-среднем-количестве-заказов-(по-сырым-данным)-4.3.1\"><span class=\"toc-item-num\">4.3.1&nbsp;&nbsp;</span>Расчет статистической значимости различий групп А и В в среднем количестве заказов (по сырым данным)</a></span></li><li><span><a href=\"#Расчет-статистической-значимости-различий-групп-А-и-В-в-среднем-чеке-(по-сырым-данным)\" data-toc-modified-id=\"Расчет-статистической-значимости-различий-групп-А-и-В-в-среднем-чеке-(по-сырым-данным)-4.3.2\"><span class=\"toc-item-num\">4.3.2&nbsp;&nbsp;</span>Расчет статистической значимости различий групп А и В в среднем чеке (по сырым данным)</a></span></li><li><span><a href=\"#Расчет-статистической-значимости-различий-групп-А-и-В-в-среднем-количестве-заказов-(по-очищенным-данным)\" data-toc-modified-id=\"Расчет-статистической-значимости-различий-групп-А-и-В-в-среднем-количестве-заказов-(по-очищенным-данным)-4.3.3\"><span class=\"toc-item-num\">4.3.3&nbsp;&nbsp;</span>Расчет статистической значимости различий групп А и В в среднем количестве заказов (по очищенным данным)</a></span></li><li><span><a href=\"#Расчет-статистической-значимости-различий-групп-А-и-В-в-среднем-чеке-(по-очищенным-данным)\" data-toc-modified-id=\"Расчет-статистической-значимости-различий-групп-А-и-В-в-среднем-чеке-(по-очищенным-данным)-4.3.4\"><span class=\"toc-item-num\">4.3.4&nbsp;&nbsp;</span>Расчет статистической значимости различий групп А и В в среднем чеке (по очищенным данным)</a></span></li></ul></li><li><span><a href=\"#Выводы-по-анализу-результатов-А/В-теста\" data-toc-modified-id=\"Выводы-по-анализу-результатов-А/В-теста-4.4\"><span class=\"toc-item-num\">4.4&nbsp;&nbsp;</span>Выводы по анализу результатов А/В теста</a></span></li><li><span><a href=\"#Итоговый-вывод-по-анализу-результатов-тестирования\" data-toc-modified-id=\"Итоговый-вывод-по-анализу-результатов-тестирования-4.5\"><span class=\"toc-item-num\">4.5&nbsp;&nbsp;</span>Итоговый вывод по анализу результатов тестирования</a></span></li></ul></li><li><span><a href=\"#Выводы-по-проекту\" data-toc-modified-id=\"Выводы-по-проекту-5\"><span class=\"toc-item-num\">5&nbsp;&nbsp;</span>Выводы по проекту</a></span></li></ul></div>"
   ]
  },
  {
   "cell_type": "markdown",
   "metadata": {},
   "source": [
    "## Цель, вводная информация, описание и план исследования\n",
    "\n",
    "### Цель проекта\n",
    "\n",
    "        1. Приоритизировать гипотезы  представленные в датасете hypothesis.csv с помощью методов приоритизации  ICE и RICE.\n",
    "        2. На основании данных о проведенном A/B-тесте, представленных в датасетах orders.csv и visitors.csv, провести анализ результатов  и принять одно из решений, обосновав его: \n",
    "                     - остановить тест, зафиксировать победу одной из групп, \n",
    "                     - остановить тест, зафиксировать отсутствие различий между, группами. \n",
    "                     - продолжить тест."
   ]
  },
  {
   "cell_type": "markdown",
   "metadata": {
    "heading_collapsed": true
   },
   "source": [
    "### Вводная информация и описание источников данных\n",
    "\n",
    "    В первой части анализ будет проведен на основании данных о гипотезах из  датасета hypothesis.csv, который содержит информацию:\n",
    "\n",
    "    •\tHypothesis — краткое описание гипотезы;\n",
    "    •\tReach — охват пользователей по 10-балльной шкале;\n",
    "    •\tImpact — влияние на пользователей по 10-балльной шкале;\n",
    "    •\tConfidence — уверенность в гипотезе по 10-балльной шкале;\n",
    "    •\tEfforts — затраты ресурсов на проверку гипотезы по 10-балльной шкале. \n",
    "    \n",
    "    Во второй части анализ результатов A/B-тесте будет проведен на основании данных датасетов orders.csv и visitors.csv:\n",
    "    \n",
    "        Структура orders.csv:\n",
    "\n",
    "    •\ttransactionId — идентификатор заказа;\n",
    "    •\tvisitorId — идентификатор пользователя, совершившего заказ;\n",
    "    •\tdate — дата, когда был совершён заказ;\n",
    "    •\trevenue — выручка заказа;\n",
    "    •\tgroup — группа A/B-теста, в которую попал заказ.\n",
    "\n",
    "    \n",
    "    Структура visitors.csv:\n",
    "    \n",
    "    •\tdate — дата;\n",
    "    •\tgroup — группа A/B-теста;\n",
    "    •\tvisitors — количество пользователей в указанную дату в указанной группе A/B-теста"
   ]
  },
  {
   "cell_type": "markdown",
   "metadata": {},
   "source": [
    "### План исследования"
   ]
  },
  {
   "cell_type": "markdown",
   "metadata": {},
   "source": [
    "#### Загрузка и предобработка  данных:\n",
    "    \n",
    "    •   Загрузим CSV-файлы и изучим общую информацию о датафрейме;\n",
    "    •\tПроверим датасеты на наличие пропусков и дубликатов;\n",
    "    •\tПроверим данные в столбцах на соответствие  типам данных."
   ]
  },
  {
   "cell_type": "markdown",
   "metadata": {},
   "source": [
    " #### Часть 1 . Приоритизация гипотез\n",
    " \n",
    "    1.\tПрименим фреймворк ICE для приоритизации гипотез. \n",
    "    2.\tПрименим фреймворк RICE для приоритизации гипотез. \n",
    "    3.\tПроверим, как изменилась приоритизация гипотез при применении RICE вместо ICE. \n",
    "    4. Подготовим выводы по разделу"
   ]
  },
  {
   "cell_type": "markdown",
   "metadata": {},
   "source": [
    "####  Часть 2 . Анализ результатов  A/B-теста\n",
    "\n",
    "    1.\tПостроим и проанализируем график кумулятивной выручки по группам.\n",
    "    2.\tПостроим и проанализируем график кумулятивного среднего чека по группам. \n",
    "    3.\tПостроим и проанализируем график относительного изменения кумулятивного среднего чека группы B к группе A.\n",
    "    4.\tПостроим и проанализируем  график кумулятивного среднего количества заказов на посетителя по группам.\n",
    "    5.\tПостроим и проанализируем  график относительного изменения кумулятивного среднего количества заказов на посетителя группы B к группе A.\n",
    "    6.\tПостроим и проанализируем  точечный график количества заказов по пользователям.\n",
    "    7.\tРассчитаем 95-й и 99-й перцентили количества заказов на пользователя. Определим границу для определения аномальных пользователей.\n",
    "    8.\tПостроим и проанализируем  точечный график стоимостей заказов. \n",
    "    9.\tРассчитаем 95-й и 99-й перцентили стоимости заказов. Определим границу для определения аномальных заказов.\n",
    "    10.\tРассчитаем статистическую значимость различий в среднем количестве заказов на посетителя между группами по «сырым» данным.\n",
    "    11.\tРассчитаем статистическую значимость различий в среднем чеке заказа между группами по «сырым» данным.\n",
    "    12.\tРассчитаем статистическую значимость различий в среднем количестве заказов на посетителя между группами по «очищенным» данным. \n",
    "    13.\tРассчитаем статистическую значимость различий в среднем чеке заказа между группами по «очищенным» данным.\n",
    "    14.\tНа основании проделанной работы примем решение по результатам теста:\n",
    "    \n",
    "        1. Остановить тест, зафиксировать победу одной из групп. \n",
    "        2. Остановить тест, зафиксировать отсутствие различий между группами. \n",
    "        3. Продолжить тест.\n",
    "\n",
    "#### Подготовим общий вывод по проекту"
   ]
  },
  {
   "cell_type": "markdown",
   "metadata": {},
   "source": [
    "## Загрузка и предобработка  данных"
   ]
  },
  {
   "cell_type": "markdown",
   "metadata": {},
   "source": [
    "### Загрузка данных"
   ]
  },
  {
   "cell_type": "code",
   "execution_count": 6,
   "metadata": {},
   "outputs": [],
   "source": [
    "import pandas as pd\n",
    "import numpy as np\n",
    "import datetime as dt\n",
    "import scipy.stats as st\n",
    "from datetime import datetime\n",
    "import seaborn as sns\n",
    "import matplotlib.pyplot as plt"
   ]
  },
  {
   "cell_type": "code",
   "execution_count": 7,
   "metadata": {},
   "outputs": [],
   "source": [
    "hypothesis = pd.read_csv('C:\\\\Users\\\\GAV\\\\Desktop\\\\Study\\\\BA\\\\PythonScripts\\\\Portfolio\\\\Total\\\\0_Итог\\\\Datasets\\\\hypothesis.csv')\n",
    "orders = pd.read_csv('C:\\\\Users\\\\GAV\\\\Desktop\\\\Study\\\\BA\\\\PythonScripts\\\\Portfolio\\\\Total\\\\0_Итог\\\\Datasets\\\\orders.csv')\n",
    "visitors = pd.read_csv('C:\\\\Users\\\\GAV\\\\Desktop\\\\Study\\\\BA\\\\PythonScripts\\\\Portfolio\\\\Total\\\\0_Итог\\\\Datasets\\\\visitors.csv')"
   ]
  },
  {
   "cell_type": "code",
   "execution_count": 8,
   "metadata": {},
   "outputs": [
    {
     "data": {
      "text/html": [
       "<div>\n",
       "<style scoped>\n",
       "    .dataframe tbody tr th:only-of-type {\n",
       "        vertical-align: middle;\n",
       "    }\n",
       "\n",
       "    .dataframe tbody tr th {\n",
       "        vertical-align: top;\n",
       "    }\n",
       "\n",
       "    .dataframe thead th {\n",
       "        text-align: right;\n",
       "    }\n",
       "</style>\n",
       "<table border=\"1\" class=\"dataframe\">\n",
       "  <thead>\n",
       "    <tr style=\"text-align: right;\">\n",
       "      <th></th>\n",
       "      <th>Hypothesis</th>\n",
       "      <th>Reach</th>\n",
       "      <th>Impact</th>\n",
       "      <th>Confidence</th>\n",
       "      <th>Efforts</th>\n",
       "    </tr>\n",
       "  </thead>\n",
       "  <tbody>\n",
       "    <tr>\n",
       "      <th>0</th>\n",
       "      <td>Добавить два новых канала привлечения трафика, что позволит привлекать на 30% больше пользователей</td>\n",
       "      <td>3</td>\n",
       "      <td>10</td>\n",
       "      <td>8</td>\n",
       "      <td>6</td>\n",
       "    </tr>\n",
       "    <tr>\n",
       "      <th>1</th>\n",
       "      <td>Запустить собственную службу доставки, что сократит срок доставки заказов</td>\n",
       "      <td>2</td>\n",
       "      <td>5</td>\n",
       "      <td>4</td>\n",
       "      <td>10</td>\n",
       "    </tr>\n",
       "    <tr>\n",
       "      <th>2</th>\n",
       "      <td>Добавить блоки рекомендаций товаров на сайт интернет магазина, чтобы повысить конверсию и средний чек заказа</td>\n",
       "      <td>8</td>\n",
       "      <td>3</td>\n",
       "      <td>7</td>\n",
       "      <td>3</td>\n",
       "    </tr>\n",
       "    <tr>\n",
       "      <th>3</th>\n",
       "      <td>Изменить структура категорий, что увеличит конверсию, т.к. пользователи быстрее найдут нужный товар</td>\n",
       "      <td>8</td>\n",
       "      <td>3</td>\n",
       "      <td>3</td>\n",
       "      <td>8</td>\n",
       "    </tr>\n",
       "    <tr>\n",
       "      <th>4</th>\n",
       "      <td>Изменить цвет фона главной страницы, чтобы увеличить вовлеченность пользователей</td>\n",
       "      <td>3</td>\n",
       "      <td>1</td>\n",
       "      <td>1</td>\n",
       "      <td>1</td>\n",
       "    </tr>\n",
       "    <tr>\n",
       "      <th>5</th>\n",
       "      <td>Добавить страницу отзывов клиентов о магазине, что позволит увеличить количество заказов</td>\n",
       "      <td>3</td>\n",
       "      <td>2</td>\n",
       "      <td>2</td>\n",
       "      <td>3</td>\n",
       "    </tr>\n",
       "    <tr>\n",
       "      <th>6</th>\n",
       "      <td>Показать на главной странице баннеры с актуальными акциями и распродажами, чтобы увеличить конверсию</td>\n",
       "      <td>5</td>\n",
       "      <td>3</td>\n",
       "      <td>8</td>\n",
       "      <td>3</td>\n",
       "    </tr>\n",
       "    <tr>\n",
       "      <th>7</th>\n",
       "      <td>Добавить форму подписки на все основные страницы, чтобы собрать базу клиентов для email-рассылок</td>\n",
       "      <td>10</td>\n",
       "      <td>7</td>\n",
       "      <td>8</td>\n",
       "      <td>5</td>\n",
       "    </tr>\n",
       "    <tr>\n",
       "      <th>8</th>\n",
       "      <td>Запустить акцию, дающую скидку на товар в день рождения</td>\n",
       "      <td>1</td>\n",
       "      <td>9</td>\n",
       "      <td>9</td>\n",
       "      <td>5</td>\n",
       "    </tr>\n",
       "  </tbody>\n",
       "</table>\n",
       "</div>"
      ],
      "text/plain": [
       "                                                                                                     Hypothesis  \\\n",
       "0            Добавить два новых канала привлечения трафика, что позволит привлекать на 30% больше пользователей   \n",
       "1                                     Запустить собственную службу доставки, что сократит срок доставки заказов   \n",
       "2  Добавить блоки рекомендаций товаров на сайт интернет магазина, чтобы повысить конверсию и средний чек заказа   \n",
       "3           Изменить структура категорий, что увеличит конверсию, т.к. пользователи быстрее найдут нужный товар   \n",
       "4                              Изменить цвет фона главной страницы, чтобы увеличить вовлеченность пользователей   \n",
       "5                      Добавить страницу отзывов клиентов о магазине, что позволит увеличить количество заказов   \n",
       "6          Показать на главной странице баннеры с актуальными акциями и распродажами, чтобы увеличить конверсию   \n",
       "7              Добавить форму подписки на все основные страницы, чтобы собрать базу клиентов для email-рассылок   \n",
       "8                                                       Запустить акцию, дающую скидку на товар в день рождения   \n",
       "\n",
       "   Reach  Impact  Confidence  Efforts  \n",
       "0      3      10           8        6  \n",
       "1      2       5           4       10  \n",
       "2      8       3           7        3  \n",
       "3      8       3           3        8  \n",
       "4      3       1           1        1  \n",
       "5      3       2           2        3  \n",
       "6      5       3           8        3  \n",
       "7     10       7           8        5  \n",
       "8      1       9           9        5  "
      ]
     },
     "metadata": {},
     "output_type": "display_data"
    },
    {
     "data": {
      "text/html": [
       "<div>\n",
       "<style scoped>\n",
       "    .dataframe tbody tr th:only-of-type {\n",
       "        vertical-align: middle;\n",
       "    }\n",
       "\n",
       "    .dataframe tbody tr th {\n",
       "        vertical-align: top;\n",
       "    }\n",
       "\n",
       "    .dataframe thead th {\n",
       "        text-align: right;\n",
       "    }\n",
       "</style>\n",
       "<table border=\"1\" class=\"dataframe\">\n",
       "  <thead>\n",
       "    <tr style=\"text-align: right;\">\n",
       "      <th></th>\n",
       "      <th>transactionId</th>\n",
       "      <th>visitorId</th>\n",
       "      <th>date</th>\n",
       "      <th>revenue</th>\n",
       "      <th>group</th>\n",
       "    </tr>\n",
       "  </thead>\n",
       "  <tbody>\n",
       "    <tr>\n",
       "      <th>0</th>\n",
       "      <td>3667963787</td>\n",
       "      <td>3312258926</td>\n",
       "      <td>2019-08-15</td>\n",
       "      <td>1650</td>\n",
       "      <td>B</td>\n",
       "    </tr>\n",
       "    <tr>\n",
       "      <th>1</th>\n",
       "      <td>2804400009</td>\n",
       "      <td>3642806036</td>\n",
       "      <td>2019-08-15</td>\n",
       "      <td>730</td>\n",
       "      <td>B</td>\n",
       "    </tr>\n",
       "    <tr>\n",
       "      <th>2</th>\n",
       "      <td>2961555356</td>\n",
       "      <td>4069496402</td>\n",
       "      <td>2019-08-15</td>\n",
       "      <td>400</td>\n",
       "      <td>A</td>\n",
       "    </tr>\n",
       "    <tr>\n",
       "      <th>3</th>\n",
       "      <td>3797467345</td>\n",
       "      <td>1196621759</td>\n",
       "      <td>2019-08-15</td>\n",
       "      <td>9759</td>\n",
       "      <td>B</td>\n",
       "    </tr>\n",
       "    <tr>\n",
       "      <th>4</th>\n",
       "      <td>2282983706</td>\n",
       "      <td>2322279887</td>\n",
       "      <td>2019-08-15</td>\n",
       "      <td>2308</td>\n",
       "      <td>B</td>\n",
       "    </tr>\n",
       "  </tbody>\n",
       "</table>\n",
       "</div>"
      ],
      "text/plain": [
       "   transactionId   visitorId        date  revenue group\n",
       "0     3667963787  3312258926  2019-08-15     1650     B\n",
       "1     2804400009  3642806036  2019-08-15      730     B\n",
       "2     2961555356  4069496402  2019-08-15      400     A\n",
       "3     3797467345  1196621759  2019-08-15     9759     B\n",
       "4     2282983706  2322279887  2019-08-15     2308     B"
      ]
     },
     "metadata": {},
     "output_type": "display_data"
    },
    {
     "data": {
      "text/html": [
       "<div>\n",
       "<style scoped>\n",
       "    .dataframe tbody tr th:only-of-type {\n",
       "        vertical-align: middle;\n",
       "    }\n",
       "\n",
       "    .dataframe tbody tr th {\n",
       "        vertical-align: top;\n",
       "    }\n",
       "\n",
       "    .dataframe thead th {\n",
       "        text-align: right;\n",
       "    }\n",
       "</style>\n",
       "<table border=\"1\" class=\"dataframe\">\n",
       "  <thead>\n",
       "    <tr style=\"text-align: right;\">\n",
       "      <th></th>\n",
       "      <th>date</th>\n",
       "      <th>group</th>\n",
       "      <th>visitors</th>\n",
       "    </tr>\n",
       "  </thead>\n",
       "  <tbody>\n",
       "    <tr>\n",
       "      <th>0</th>\n",
       "      <td>2019-08-01</td>\n",
       "      <td>A</td>\n",
       "      <td>719</td>\n",
       "    </tr>\n",
       "    <tr>\n",
       "      <th>1</th>\n",
       "      <td>2019-08-02</td>\n",
       "      <td>A</td>\n",
       "      <td>619</td>\n",
       "    </tr>\n",
       "    <tr>\n",
       "      <th>2</th>\n",
       "      <td>2019-08-03</td>\n",
       "      <td>A</td>\n",
       "      <td>507</td>\n",
       "    </tr>\n",
       "    <tr>\n",
       "      <th>3</th>\n",
       "      <td>2019-08-04</td>\n",
       "      <td>A</td>\n",
       "      <td>717</td>\n",
       "    </tr>\n",
       "    <tr>\n",
       "      <th>4</th>\n",
       "      <td>2019-08-05</td>\n",
       "      <td>A</td>\n",
       "      <td>756</td>\n",
       "    </tr>\n",
       "  </tbody>\n",
       "</table>\n",
       "</div>"
      ],
      "text/plain": [
       "         date group  visitors\n",
       "0  2019-08-01     A       719\n",
       "1  2019-08-02     A       619\n",
       "2  2019-08-03     A       507\n",
       "3  2019-08-04     A       717\n",
       "4  2019-08-05     A       756"
      ]
     },
     "metadata": {},
     "output_type": "display_data"
    }
   ],
   "source": [
    "# выгрузим первые строки\n",
    "pd.set_option('display.max_colwidth', None)\n",
    "display(hypothesis.head(10))\n",
    "display(orders.head())\n",
    "display(visitors.head())"
   ]
  },
  {
   "cell_type": "code",
   "execution_count": 9,
   "metadata": {
    "scrolled": false
   },
   "outputs": [
    {
     "name": "stdout",
     "output_type": "stream",
     "text": [
      "<class 'pandas.core.frame.DataFrame'>\n",
      "RangeIndex: 9 entries, 0 to 8\n",
      "Data columns (total 5 columns):\n",
      " #   Column      Non-Null Count  Dtype \n",
      "---  ------      --------------  ----- \n",
      " 0   Hypothesis  9 non-null      object\n",
      " 1   Reach       9 non-null      int64 \n",
      " 2   Impact      9 non-null      int64 \n",
      " 3   Confidence  9 non-null      int64 \n",
      " 4   Efforts     9 non-null      int64 \n",
      "dtypes: int64(4), object(1)\n",
      "memory usage: 488.0+ bytes\n",
      "None \n",
      "\n",
      "<class 'pandas.core.frame.DataFrame'>\n",
      "RangeIndex: 1197 entries, 0 to 1196\n",
      "Data columns (total 5 columns):\n",
      " #   Column         Non-Null Count  Dtype \n",
      "---  ------         --------------  ----- \n",
      " 0   transactionId  1197 non-null   int64 \n",
      " 1   visitorId      1197 non-null   int64 \n",
      " 2   date           1197 non-null   object\n",
      " 3   revenue        1197 non-null   int64 \n",
      " 4   group          1197 non-null   object\n",
      "dtypes: int64(3), object(2)\n",
      "memory usage: 46.9+ KB\n",
      "None \n",
      "\n",
      "<class 'pandas.core.frame.DataFrame'>\n",
      "RangeIndex: 62 entries, 0 to 61\n",
      "Data columns (total 3 columns):\n",
      " #   Column    Non-Null Count  Dtype \n",
      "---  ------    --------------  ----- \n",
      " 0   date      62 non-null     object\n",
      " 1   group     62 non-null     object\n",
      " 2   visitors  62 non-null     int64 \n",
      "dtypes: int64(1), object(2)\n",
      "memory usage: 1.6+ KB\n",
      "None\n"
     ]
    }
   ],
   "source": [
    "# посмотрим на info\n",
    "print(hypothesis.info(), \"\\n\")\n",
    "print(orders.info(), \"\\n\")\n",
    "print(visitors.info())"
   ]
  },
  {
   "cell_type": "markdown",
   "metadata": {},
   "source": [
    "#### Вывод по разделу загрузка данных\n",
    "    \n",
    "    Исходные данные загружены в переменные hypothesis, orders, visitors.\n",
    "    \n",
    "    Первичный анализ выявил следующее:\n",
    "        1. в датафреймах нет пропусков, все колонки заполнены;\n",
    "        3. в колонках с датами в датасетах orders, visitors некорректные типы данных object, приведем далее к формату даты.\n",
    "        4. также некорректный тип данных в датасете orders в колонке revenue int64, выручка может быть не целым числом, поэтому преобразуем к типу float64.\n",
    "        4. кроме того, в датасете hypothesis нужно будет привести названия столбцов к нижнему регистру для соблюдения единого подхода к синтаксису в названиях столбцов."
   ]
  },
  {
   "cell_type": "markdown",
   "metadata": {},
   "source": [
    "### Предобработка данных"
   ]
  },
  {
   "cell_type": "markdown",
   "metadata": {},
   "source": [
    "#### Преобразование типов данных и названий колонок"
   ]
  },
  {
   "cell_type": "code",
   "execution_count": 10,
   "metadata": {},
   "outputs": [
    {
     "name": "stdout",
     "output_type": "stream",
     "text": [
      "<class 'pandas.core.frame.DataFrame'>\n",
      "RangeIndex: 9 entries, 0 to 8\n",
      "Data columns (total 5 columns):\n",
      " #   Column      Non-Null Count  Dtype \n",
      "---  ------      --------------  ----- \n",
      " 0   hypothesis  9 non-null      object\n",
      " 1   reach       9 non-null      int64 \n",
      " 2   impact      9 non-null      int64 \n",
      " 3   confidence  9 non-null      int64 \n",
      " 4   efforts     9 non-null      int64 \n",
      "dtypes: int64(4), object(1)\n",
      "memory usage: 488.0+ bytes\n",
      "None\n"
     ]
    }
   ],
   "source": [
    "# заменим заглавных букв в названиях столбцов hypothesis на строчные\n",
    "hypothesis.columns = [x.lower() for x in hypothesis.columns.values]\n",
    "\n",
    "print(hypothesis.info())"
   ]
  },
  {
   "cell_type": "markdown",
   "metadata": {},
   "source": [
    "Все названия столбцов hypothesis скорректированы. \n",
    "\n",
    "Теперь скорректируем  типы данных в столбцах с датами в датасетах orders, visitors.\n",
    "Преобразуем их к типу datetime"
   ]
  },
  {
   "cell_type": "code",
   "execution_count": 11,
   "metadata": {
    "scrolled": true
   },
   "outputs": [
    {
     "name": "stdout",
     "output_type": "stream",
     "text": [
      "datetime64[ns]\n",
      "datetime64[ns]\n"
     ]
    }
   ],
   "source": [
    "# преобразуем тип данных в колонках date\n",
    "orders['date'] = pd.to_datetime(orders['date']) \n",
    "visitors['date'] = pd.to_datetime(visitors['date']) \n",
    "\n",
    "print(orders['date'].dtype)\n",
    "print(visitors['date'].dtype)"
   ]
  },
  {
   "cell_type": "markdown",
   "metadata": {},
   "source": [
    "Скорректируем  типы данных в столбцe revenue в датасете orders.\n",
    "Преобразуем к типу float."
   ]
  },
  {
   "cell_type": "code",
   "execution_count": 12,
   "metadata": {},
   "outputs": [
    {
     "name": "stdout",
     "output_type": "stream",
     "text": [
      "float64\n"
     ]
    }
   ],
   "source": [
    "# преобразуем тип в колонке year_of_release\n",
    "orders['revenue'] = orders['revenue'].astype(float)\n",
    "print(orders['revenue'].dtype)"
   ]
  },
  {
   "cell_type": "markdown",
   "metadata": {},
   "source": [
    "Типы данных столбцов скорректированы. "
   ]
  },
  {
   "cell_type": "markdown",
   "metadata": {},
   "source": [
    "#### Анализ и обработка пропусков и дубликатов"
   ]
  },
  {
   "cell_type": "code",
   "execution_count": 13,
   "metadata": {
    "scrolled": false
   },
   "outputs": [
    {
     "name": "stdout",
     "output_type": "stream",
     "text": [
      "Найдено 0 дубликатов в orders\n",
      "Найдено 0 дубликатов в visitors\n",
      "Найдено 0 дубликатов в hypothesis\n"
     ]
    }
   ],
   "source": [
    "# поиск дубликатов\n",
    "print('Найдено', orders.duplicated().sum(), 'дубликатов в orders')\n",
    "print('Найдено', visitors.duplicated().sum(), 'дубликатов в visitors')\n",
    "print('Найдено', hypothesis.duplicated().sum(), 'дубликатов в hypothesis')"
   ]
  },
  {
   "cell_type": "markdown",
   "metadata": {},
   "source": [
    "Дубликатов  не найдено."
   ]
  },
  {
   "cell_type": "markdown",
   "metadata": {},
   "source": [
    "#### Выводы по разделу Предобработка данных"
   ]
  },
  {
   "cell_type": "markdown",
   "metadata": {},
   "source": [
    "В рамках предобработки датафреймов:\n",
    "    \n",
    "        1. скорректировали названия столбцов в датасете hypothesis;\n",
    "        2. привели колонки с датами к типу данных datetime, а выручку к float64;\n",
    "        3. убедились в отсутствии дубликатов и пропусков в данных."
   ]
  },
  {
   "cell_type": "markdown",
   "metadata": {},
   "source": [
    "## Часть 1 Приоритизация гипотез"
   ]
  },
  {
   "cell_type": "markdown",
   "metadata": {},
   "source": [
    "### Рассчитаем  ICE SCORE для оценки приоритетов гипотез  из датасета hypothesis"
   ]
  },
  {
   "cell_type": "code",
   "execution_count": 14,
   "metadata": {},
   "outputs": [
    {
     "data": {
      "text/html": [
       "<div>\n",
       "<style scoped>\n",
       "    .dataframe tbody tr th:only-of-type {\n",
       "        vertical-align: middle;\n",
       "    }\n",
       "\n",
       "    .dataframe tbody tr th {\n",
       "        vertical-align: top;\n",
       "    }\n",
       "\n",
       "    .dataframe thead th {\n",
       "        text-align: right;\n",
       "    }\n",
       "</style>\n",
       "<table border=\"1\" class=\"dataframe\">\n",
       "  <thead>\n",
       "    <tr style=\"text-align: right;\">\n",
       "      <th></th>\n",
       "      <th>hypothesis</th>\n",
       "      <th>ICE</th>\n",
       "    </tr>\n",
       "  </thead>\n",
       "  <tbody>\n",
       "    <tr>\n",
       "      <th>8</th>\n",
       "      <td>Запустить акцию, дающую скидку на товар в день рождения</td>\n",
       "      <td>16.20</td>\n",
       "    </tr>\n",
       "    <tr>\n",
       "      <th>0</th>\n",
       "      <td>Добавить два новых канала привлечения трафика, что позволит привлекать на 30% больше пользователей</td>\n",
       "      <td>13.33</td>\n",
       "    </tr>\n",
       "    <tr>\n",
       "      <th>7</th>\n",
       "      <td>Добавить форму подписки на все основные страницы, чтобы собрать базу клиентов для email-рассылок</td>\n",
       "      <td>11.20</td>\n",
       "    </tr>\n",
       "    <tr>\n",
       "      <th>6</th>\n",
       "      <td>Показать на главной странице баннеры с актуальными акциями и распродажами, чтобы увеличить конверсию</td>\n",
       "      <td>8.00</td>\n",
       "    </tr>\n",
       "    <tr>\n",
       "      <th>2</th>\n",
       "      <td>Добавить блоки рекомендаций товаров на сайт интернет магазина, чтобы повысить конверсию и средний чек заказа</td>\n",
       "      <td>7.00</td>\n",
       "    </tr>\n",
       "    <tr>\n",
       "      <th>1</th>\n",
       "      <td>Запустить собственную службу доставки, что сократит срок доставки заказов</td>\n",
       "      <td>2.00</td>\n",
       "    </tr>\n",
       "    <tr>\n",
       "      <th>5</th>\n",
       "      <td>Добавить страницу отзывов клиентов о магазине, что позволит увеличить количество заказов</td>\n",
       "      <td>1.33</td>\n",
       "    </tr>\n",
       "    <tr>\n",
       "      <th>3</th>\n",
       "      <td>Изменить структура категорий, что увеличит конверсию, т.к. пользователи быстрее найдут нужный товар</td>\n",
       "      <td>1.12</td>\n",
       "    </tr>\n",
       "    <tr>\n",
       "      <th>4</th>\n",
       "      <td>Изменить цвет фона главной страницы, чтобы увеличить вовлеченность пользователей</td>\n",
       "      <td>1.00</td>\n",
       "    </tr>\n",
       "  </tbody>\n",
       "</table>\n",
       "</div>"
      ],
      "text/plain": [
       "                                                                                                     hypothesis  \\\n",
       "8                                                       Запустить акцию, дающую скидку на товар в день рождения   \n",
       "0            Добавить два новых канала привлечения трафика, что позволит привлекать на 30% больше пользователей   \n",
       "7              Добавить форму подписки на все основные страницы, чтобы собрать базу клиентов для email-рассылок   \n",
       "6          Показать на главной странице баннеры с актуальными акциями и распродажами, чтобы увеличить конверсию   \n",
       "2  Добавить блоки рекомендаций товаров на сайт интернет магазина, чтобы повысить конверсию и средний чек заказа   \n",
       "1                                     Запустить собственную службу доставки, что сократит срок доставки заказов   \n",
       "5                      Добавить страницу отзывов клиентов о магазине, что позволит увеличить количество заказов   \n",
       "3           Изменить структура категорий, что увеличит конверсию, т.к. пользователи быстрее найдут нужный товар   \n",
       "4                              Изменить цвет фона главной страницы, чтобы увеличить вовлеченность пользователей   \n",
       "\n",
       "     ICE  \n",
       "8  16.20  \n",
       "0  13.33  \n",
       "7  11.20  \n",
       "6   8.00  \n",
       "2   7.00  \n",
       "1   2.00  \n",
       "5   1.33  \n",
       "3   1.12  \n",
       "4   1.00  "
      ]
     },
     "metadata": {},
     "output_type": "display_data"
    }
   ],
   "source": [
    "hypothesis['ICE'] = round(hypothesis['impact'] * hypothesis['confidence']/hypothesis['efforts'],2)\n",
    "\n",
    "display(hypothesis[['hypothesis','ICE']].sort_values(by='ICE',ascending=False))"
   ]
  },
  {
   "cell_type": "markdown",
   "metadata": {},
   "source": [
    "### Рассчитаем   RICE SCORE для оценки приоритетов гипотез  из датасета hypothesis"
   ]
  },
  {
   "cell_type": "code",
   "execution_count": 15,
   "metadata": {
    "scrolled": true
   },
   "outputs": [
    {
     "data": {
      "text/html": [
       "<div>\n",
       "<style scoped>\n",
       "    .dataframe tbody tr th:only-of-type {\n",
       "        vertical-align: middle;\n",
       "    }\n",
       "\n",
       "    .dataframe tbody tr th {\n",
       "        vertical-align: top;\n",
       "    }\n",
       "\n",
       "    .dataframe thead th {\n",
       "        text-align: right;\n",
       "    }\n",
       "</style>\n",
       "<table border=\"1\" class=\"dataframe\">\n",
       "  <thead>\n",
       "    <tr style=\"text-align: right;\">\n",
       "      <th></th>\n",
       "      <th>hypothesis</th>\n",
       "      <th>RICE</th>\n",
       "    </tr>\n",
       "  </thead>\n",
       "  <tbody>\n",
       "    <tr>\n",
       "      <th>7</th>\n",
       "      <td>Добавить форму подписки на все основные страницы, чтобы собрать базу клиентов для email-рассылок</td>\n",
       "      <td>112.0</td>\n",
       "    </tr>\n",
       "    <tr>\n",
       "      <th>2</th>\n",
       "      <td>Добавить блоки рекомендаций товаров на сайт интернет магазина, чтобы повысить конверсию и средний чек заказа</td>\n",
       "      <td>56.0</td>\n",
       "    </tr>\n",
       "    <tr>\n",
       "      <th>0</th>\n",
       "      <td>Добавить два новых канала привлечения трафика, что позволит привлекать на 30% больше пользователей</td>\n",
       "      <td>40.0</td>\n",
       "    </tr>\n",
       "    <tr>\n",
       "      <th>6</th>\n",
       "      <td>Показать на главной странице баннеры с актуальными акциями и распродажами, чтобы увеличить конверсию</td>\n",
       "      <td>40.0</td>\n",
       "    </tr>\n",
       "    <tr>\n",
       "      <th>8</th>\n",
       "      <td>Запустить акцию, дающую скидку на товар в день рождения</td>\n",
       "      <td>16.2</td>\n",
       "    </tr>\n",
       "    <tr>\n",
       "      <th>3</th>\n",
       "      <td>Изменить структура категорий, что увеличит конверсию, т.к. пользователи быстрее найдут нужный товар</td>\n",
       "      <td>9.0</td>\n",
       "    </tr>\n",
       "    <tr>\n",
       "      <th>1</th>\n",
       "      <td>Запустить собственную службу доставки, что сократит срок доставки заказов</td>\n",
       "      <td>4.0</td>\n",
       "    </tr>\n",
       "    <tr>\n",
       "      <th>5</th>\n",
       "      <td>Добавить страницу отзывов клиентов о магазине, что позволит увеличить количество заказов</td>\n",
       "      <td>4.0</td>\n",
       "    </tr>\n",
       "    <tr>\n",
       "      <th>4</th>\n",
       "      <td>Изменить цвет фона главной страницы, чтобы увеличить вовлеченность пользователей</td>\n",
       "      <td>3.0</td>\n",
       "    </tr>\n",
       "  </tbody>\n",
       "</table>\n",
       "</div>"
      ],
      "text/plain": [
       "                                                                                                     hypothesis  \\\n",
       "7              Добавить форму подписки на все основные страницы, чтобы собрать базу клиентов для email-рассылок   \n",
       "2  Добавить блоки рекомендаций товаров на сайт интернет магазина, чтобы повысить конверсию и средний чек заказа   \n",
       "0            Добавить два новых канала привлечения трафика, что позволит привлекать на 30% больше пользователей   \n",
       "6          Показать на главной странице баннеры с актуальными акциями и распродажами, чтобы увеличить конверсию   \n",
       "8                                                       Запустить акцию, дающую скидку на товар в день рождения   \n",
       "3           Изменить структура категорий, что увеличит конверсию, т.к. пользователи быстрее найдут нужный товар   \n",
       "1                                     Запустить собственную службу доставки, что сократит срок доставки заказов   \n",
       "5                      Добавить страницу отзывов клиентов о магазине, что позволит увеличить количество заказов   \n",
       "4                              Изменить цвет фона главной страницы, чтобы увеличить вовлеченность пользователей   \n",
       "\n",
       "    RICE  \n",
       "7  112.0  \n",
       "2   56.0  \n",
       "0   40.0  \n",
       "6   40.0  \n",
       "8   16.2  \n",
       "3    9.0  \n",
       "1    4.0  \n",
       "5    4.0  \n",
       "4    3.0  "
      ]
     },
     "metadata": {},
     "output_type": "display_data"
    }
   ],
   "source": [
    "hypothesis['RICE'] = hypothesis['impact'] * hypothesis['confidence']*hypothesis['reach']/hypothesis['efforts']\n",
    "display(hypothesis[['hypothesis','RICE']].sort_values(by='RICE',ascending=False))"
   ]
  },
  {
   "cell_type": "markdown",
   "metadata": {},
   "source": [
    "В результате применения фреймворка ICE лидер гипотеза 8, а по расчету RICE - гипотеза 7.\n",
    "Посмотрим в чем у них различия входящих в расчет параметров."
   ]
  },
  {
   "cell_type": "code",
   "execution_count": 16,
   "metadata": {
    "scrolled": true
   },
   "outputs": [
    {
     "data": {
      "text/html": [
       "<div>\n",
       "<style scoped>\n",
       "    .dataframe tbody tr th:only-of-type {\n",
       "        vertical-align: middle;\n",
       "    }\n",
       "\n",
       "    .dataframe tbody tr th {\n",
       "        vertical-align: top;\n",
       "    }\n",
       "\n",
       "    .dataframe thead th {\n",
       "        text-align: right;\n",
       "    }\n",
       "</style>\n",
       "<table border=\"1\" class=\"dataframe\">\n",
       "  <thead>\n",
       "    <tr style=\"text-align: right;\">\n",
       "      <th></th>\n",
       "      <th>hypothesis</th>\n",
       "      <th>reach</th>\n",
       "      <th>impact</th>\n",
       "      <th>confidence</th>\n",
       "      <th>efforts</th>\n",
       "      <th>ICE</th>\n",
       "      <th>RICE</th>\n",
       "    </tr>\n",
       "  </thead>\n",
       "  <tbody>\n",
       "    <tr>\n",
       "      <th>7</th>\n",
       "      <td>Добавить форму подписки на все основные страницы, чтобы собрать базу клиентов для email-рассылок</td>\n",
       "      <td>10</td>\n",
       "      <td>7</td>\n",
       "      <td>8</td>\n",
       "      <td>5</td>\n",
       "      <td>11.2</td>\n",
       "      <td>112.0</td>\n",
       "    </tr>\n",
       "    <tr>\n",
       "      <th>8</th>\n",
       "      <td>Запустить акцию, дающую скидку на товар в день рождения</td>\n",
       "      <td>1</td>\n",
       "      <td>9</td>\n",
       "      <td>9</td>\n",
       "      <td>5</td>\n",
       "      <td>16.2</td>\n",
       "      <td>16.2</td>\n",
       "    </tr>\n",
       "  </tbody>\n",
       "</table>\n",
       "</div>"
      ],
      "text/plain": [
       "                                                                                         hypothesis  \\\n",
       "7  Добавить форму подписки на все основные страницы, чтобы собрать базу клиентов для email-рассылок   \n",
       "8                                           Запустить акцию, дающую скидку на товар в день рождения   \n",
       "\n",
       "   reach  impact  confidence  efforts   ICE   RICE  \n",
       "7     10       7           8        5  11.2  112.0  \n",
       "8      1       9           9        5  16.2   16.2  "
      ]
     },
     "metadata": {},
     "output_type": "display_data"
    }
   ],
   "source": [
    "display(hypothesis.iloc[[7, 8]])"
   ]
  },
  {
   "cell_type": "markdown",
   "metadata": {},
   "source": [
    "### Вывод по разделу Приоритизация гипотез \n",
    "\n",
    "    Итак, наибольший бал по методу RICE получает гипотеза 7, высший бал по методу ICE гипотеза 8.\n",
    "    При этом следует учитывать, что при расчете ICE не учитывается параметр reach - охват пользователей, т.е. скольких пользователей затронет изменение. Поэтому при равном параметре efforts, и более высоких показателях impact и confidence, гиптеза №8 получила более высокий балл.\n",
    "    При расчет RICE дополнительно  в расчете учитывается параметр охвата аудитории, который для гипотезы №7 равен 10, то есть изменения коснуться минимум 50% пользователей, в то время как у гипотезы №8 охват получил оценку 1 балл, что означает, что изменения коснуться только 5% покупателей, что логично, т.к. право на скидку предлагалось предоставлять только в день рождения клиента. В результате, с учетом низкого охвата гипотеза №8 при оценке по RICE опустилась на 5-е место, а гипотеза №7 на первое."
   ]
  },
  {
   "cell_type": "markdown",
   "metadata": {},
   "source": [
    "## Часть 2 Анализ резульатов A/B-теста"
   ]
  },
  {
   "cell_type": "markdown",
   "metadata": {},
   "source": [
    "### Анализ выручки, среднего чека и среднего количества заказов на посетителя\n",
    "    \n",
    "    1.    Построим и проанализируем график кумулятивной выручки по группам.\n",
    "    2.    Построим и проанализируем график кумулятивного среднего чека по группам. \n",
    "    3.    Построим и проанализируем график относительного изменения кумулятивного среднего чека группы B к группе A."
   ]
  },
  {
   "cell_type": "markdown",
   "metadata": {},
   "source": [
    "#### Подготовка кумулятивных данных по выручке, заказам и покупателям\n",
    "\n",
    "    Для это создадим датафрейм cumulativeData со столбцами: \n",
    "    date — дата;\n",
    "    group — группа A/B-теста (A или B);\n",
    "    orders — кумулятивное количество заказов на указанную дату в указанной группе;\n",
    "    buyers — кумулятивное количество пользователей, совершивших хотя бы один заказ, на указанную дату в указанной группе;\n",
    "    revenue — кумулятивная выручка на указанную дату в указанной группе (средний чек);\n",
    "    visitors — кумулятивное количество посетителей интернет-магазина на указанную дату в определённой группе."
   ]
  },
  {
   "cell_type": "code",
   "execution_count": 17,
   "metadata": {
    "scrolled": true
   },
   "outputs": [
    {
     "data": {
      "text/html": [
       "<div>\n",
       "<style scoped>\n",
       "    .dataframe tbody tr th:only-of-type {\n",
       "        vertical-align: middle;\n",
       "    }\n",
       "\n",
       "    .dataframe tbody tr th {\n",
       "        vertical-align: top;\n",
       "    }\n",
       "\n",
       "    .dataframe thead th {\n",
       "        text-align: right;\n",
       "    }\n",
       "</style>\n",
       "<table border=\"1\" class=\"dataframe\">\n",
       "  <thead>\n",
       "    <tr style=\"text-align: right;\">\n",
       "      <th></th>\n",
       "      <th>date</th>\n",
       "      <th>group</th>\n",
       "    </tr>\n",
       "  </thead>\n",
       "  <tbody>\n",
       "    <tr>\n",
       "      <th>0</th>\n",
       "      <td>2019-08-15</td>\n",
       "      <td>B</td>\n",
       "    </tr>\n",
       "    <tr>\n",
       "      <th>2</th>\n",
       "      <td>2019-08-15</td>\n",
       "      <td>A</td>\n",
       "    </tr>\n",
       "    <tr>\n",
       "      <th>45</th>\n",
       "      <td>2019-08-16</td>\n",
       "      <td>A</td>\n",
       "    </tr>\n",
       "    <tr>\n",
       "      <th>47</th>\n",
       "      <td>2019-08-16</td>\n",
       "      <td>B</td>\n",
       "    </tr>\n",
       "    <tr>\n",
       "      <th>55</th>\n",
       "      <td>2019-08-01</td>\n",
       "      <td>A</td>\n",
       "    </tr>\n",
       "  </tbody>\n",
       "</table>\n",
       "</div>"
      ],
      "text/plain": [
       "         date group\n",
       "0  2019-08-15     B\n",
       "2  2019-08-15     A\n",
       "45 2019-08-16     A\n",
       "47 2019-08-16     B\n",
       "55 2019-08-01     A"
      ]
     },
     "execution_count": 17,
     "metadata": {},
     "output_type": "execute_result"
    }
   ],
   "source": [
    "# создадим массив уникальных пар значений дат и групп теста\n",
    "datesGroups = orders[['date','group']].drop_duplicates() \n",
    "datesGroups.head()"
   ]
  },
  {
   "cell_type": "code",
   "execution_count": 18,
   "metadata": {},
   "outputs": [
    {
     "name": "stdout",
     "output_type": "stream",
     "text": [
      "          date group  transactionId  visitorId   revenue\n",
      "55  2019-08-01     A             24         20  148579.0\n",
      "66  2019-08-01     B             21         20  101217.0\n",
      "175 2019-08-02     A             44         38  242401.0\n",
      "173 2019-08-02     B             45         43  266748.0\n",
      "291 2019-08-03     A             68         62  354874.0\n"
     ]
    }
   ],
   "source": [
    "# получим агрегированные кумулятивные по дням данные о заказах \n",
    "ordersAggregated = datesGroups.apply(\n",
    "    lambda x: orders[np.logical_and(orders['date'] <= x['date'], orders['group'] == x['group'])].agg({\n",
    "'date' : 'max',\n",
    "'group' : 'max',\n",
    "'transactionId' : pd.Series.nunique,\n",
    "'visitorId' : pd.Series.nunique,\n",
    "'revenue' : 'sum'}), axis=1).sort_values(by=['date','group'])\n",
    "print(ordersAggregated.head())"
   ]
  },
  {
   "cell_type": "code",
   "execution_count": 19,
   "metadata": {},
   "outputs": [
    {
     "data": {
      "text/html": [
       "<div>\n",
       "<style scoped>\n",
       "    .dataframe tbody tr th:only-of-type {\n",
       "        vertical-align: middle;\n",
       "    }\n",
       "\n",
       "    .dataframe tbody tr th {\n",
       "        vertical-align: top;\n",
       "    }\n",
       "\n",
       "    .dataframe thead th {\n",
       "        text-align: right;\n",
       "    }\n",
       "</style>\n",
       "<table border=\"1\" class=\"dataframe\">\n",
       "  <thead>\n",
       "    <tr style=\"text-align: right;\">\n",
       "      <th></th>\n",
       "      <th>date</th>\n",
       "      <th>group</th>\n",
       "      <th>visitors</th>\n",
       "    </tr>\n",
       "  </thead>\n",
       "  <tbody>\n",
       "    <tr>\n",
       "      <th>55</th>\n",
       "      <td>2019-08-01</td>\n",
       "      <td>A</td>\n",
       "      <td>719</td>\n",
       "    </tr>\n",
       "    <tr>\n",
       "      <th>66</th>\n",
       "      <td>2019-08-01</td>\n",
       "      <td>B</td>\n",
       "      <td>713</td>\n",
       "    </tr>\n",
       "    <tr>\n",
       "      <th>175</th>\n",
       "      <td>2019-08-02</td>\n",
       "      <td>A</td>\n",
       "      <td>1338</td>\n",
       "    </tr>\n",
       "    <tr>\n",
       "      <th>173</th>\n",
       "      <td>2019-08-02</td>\n",
       "      <td>B</td>\n",
       "      <td>1294</td>\n",
       "    </tr>\n",
       "    <tr>\n",
       "      <th>291</th>\n",
       "      <td>2019-08-03</td>\n",
       "      <td>A</td>\n",
       "      <td>1845</td>\n",
       "    </tr>\n",
       "  </tbody>\n",
       "</table>\n",
       "</div>"
      ],
      "text/plain": [
       "          date group  visitors\n",
       "55  2019-08-01     A       719\n",
       "66  2019-08-01     B       713\n",
       "175 2019-08-02     A      1338\n",
       "173 2019-08-02     B      1294\n",
       "291 2019-08-03     A      1845"
      ]
     },
     "execution_count": 19,
     "metadata": {},
     "output_type": "execute_result"
    }
   ],
   "source": [
    "# получаем агрегированные кумулятивные по дням данные о посетителях интернет-магазина \n",
    "visitorsAggregated = datesGroups.apply(\n",
    "    lambda x: visitors[np.logical_and(visitors['date'] <= x['date'], visitors['group'] == x['group'])].agg({\n",
    "'date' : 'max', \n",
    "'group' : 'max', \n",
    "'visitors' : 'sum'}), axis=1).sort_values(by=['date','group'])\n",
    "visitorsAggregated.head()"
   ]
  },
  {
   "cell_type": "code",
   "execution_count": 20,
   "metadata": {
    "scrolled": true
   },
   "outputs": [
    {
     "name": "stdout",
     "output_type": "stream",
     "text": [
      "        date group  orders  buyers   revenue  visitors\n",
      "0 2019-08-01     A      24      20  148579.0       719\n",
      "1 2019-08-01     B      21      20  101217.0       713\n",
      "2 2019-08-02     A      44      38  242401.0      1338\n",
      "3 2019-08-02     B      45      43  266748.0      1294\n",
      "4 2019-08-03     A      68      62  354874.0      1845\n"
     ]
    }
   ],
   "source": [
    "# объединяем кумулятивные данные в одной таблице и присваиваем ее столбцам понятные названия\n",
    "cumulativeData = ordersAggregated.merge(visitorsAggregated, left_on=['date', 'group'], right_on=['date', 'group'])\n",
    "cumulativeData.columns = ['date', 'group', 'orders', 'buyers', 'revenue', 'visitors']\n",
    "\n",
    "print(cumulativeData.head(5))"
   ]
  },
  {
   "cell_type": "code",
   "execution_count": 21,
   "metadata": {},
   "outputs": [
    {
     "name": "stdout",
     "output_type": "stream",
     "text": [
      "2019-08-01 00:00:00\n",
      "2019-08-31 00:00:00\n",
      "\n",
      "2019-08-01 00:00:00\n",
      "2019-08-31 00:00:00\n"
     ]
    }
   ],
   "source": [
    "# проверим полноту входящих в cumulativeData данных по минимальной и максимальной дате\n",
    "print(cumulativeData['date'].min())\n",
    "print(cumulativeData['date'].max())\n",
    "print()\n",
    "print(orders['date'].min())\n",
    "print(orders['date'].max())"
   ]
  },
  {
   "cell_type": "markdown",
   "metadata": {},
   "source": [
    "Минимальная и максимальная даты совпадают."
   ]
  },
  {
   "cell_type": "markdown",
   "metadata": {},
   "source": [
    "#### Графики кумулятивной выручки, среднего чека и относительного различия группам A/B-тестирования\n",
    "<a id='4.1.2'></a>"
   ]
  },
  {
   "cell_type": "code",
   "execution_count": 22,
   "metadata": {},
   "outputs": [
    {
     "data": {
      "image/png": "[encoded data removed]",
      "text/plain": [
       "<Figure size 1200x600 with 1 Axes>"
      ]
     },
     "metadata": {},
     "output_type": "display_data"
    }
   ],
   "source": [
    "# датафрейм с кумулятивным количеством заказов и кумулятивной выручкой по дням в группе А\n",
    "cumulativeRevenueA = cumulativeData[cumulativeData['group']=='A'][['date','revenue', 'orders']]\n",
    "\n",
    "# датафрейм с кумулятивным количеством заказов и кумулятивной выручкой по дням в группе B\n",
    "cumulativeRevenueB = cumulativeData[cumulativeData['group']=='B'][['date','revenue', 'orders']]\n",
    "\n",
    "# Строим график выручки группы А\n",
    "plt.figure(figsize=(12, 6))\n",
    "plt.plot(cumulativeRevenueA['date'], cumulativeRevenueA['revenue'], label='A')\n",
    "# Строим график выручки группы B\n",
    "plt.plot(cumulativeRevenueB['date'], cumulativeRevenueB['revenue'], label='B')\n",
    "plt.title('Кумулятивная выручка по группам \"А\" и \"В\"')\n",
    "plt.xlabel('Дата')\n",
    "plt.ylabel('Выручка, млн. руб.')\n",
    "#plt.xticks(rotation=30)\n",
    "plt.legend();"
   ]
  },
  {
   "cell_type": "markdown",
   "metadata": {},
   "source": [
    "Вывод:\n",
    "    \n",
    "    Выручка увеличивается в течение всего теста, при этом группа B практически на всем горизонте выглядит лучше A. Выручка группы А растет более равномерно.\n",
    "    Однако график выручки по группе В показывает резкий рост в середине теста, что может сигнализировать о всплесках числа заказов, либо о появлении очень дорогих заказов в выборке. Выбросы могут влиять на результаты теста, проанализируем далее."
   ]
  },
  {
   "cell_type": "markdown",
   "metadata": {},
   "source": [
    "<a id='4.1.2.1'></a> Построим графики среднего чека по группам А и В."
   ]
  },
  {
   "cell_type": "code",
   "execution_count": 23,
   "metadata": {},
   "outputs": [
    {
     "data": {
      "image/png": "[encoded data removed]",
      "text/plain": [
       "<Figure size 1200x600 with 1 Axes>"
      ]
     },
     "metadata": {},
     "output_type": "display_data"
    }
   ],
   "source": [
    "#Построим графики среднего чека по группам.\n",
    "plt.figure(figsize=(12, 6))\n",
    "plt.plot(cumulativeRevenueA['date'], cumulativeRevenueA['revenue']/cumulativeRevenueA['orders'], label='A')\n",
    "plt.plot(cumulativeRevenueB['date'], cumulativeRevenueB['revenue']/cumulativeRevenueB['orders'], label='B')\n",
    "plt.title('Кумулятивный средний чек по группам \"А\" и \"В\"')\n",
    "plt.xlabel('Дата')\n",
    "plt.ylabel('Средний чек, руб.')\n",
    "#plt.xticks(rotation=30)\n",
    "plt.legend();"
   ]
  },
  {
   "cell_type": "markdown",
   "metadata": {},
   "source": [
    "Выводы:\n",
    "\n",
    "    Средний чек становится равномерным по группе А ближе к концу теста, по группе B наблюдаются всплески в начале теста и особенно во второй половине теста, где виден резкий всплеск на графике. Возможно, в группу B во второй половине теста попали крупные заказы и тогда ей нужно больше данных, чтобы прийти к реальному среднему чеку и установиться на его уровне."
   ]
  },
  {
   "cell_type": "markdown",
   "metadata": {},
   "source": [
    "<a id='4.1.2.2'></a> Построим график относительного различия для среднего чека."
   ]
  },
  {
   "cell_type": "code",
   "execution_count": 24,
   "metadata": {},
   "outputs": [
    {
     "data": {
      "image/png": "[encoded data removed]",
      "text/plain": [
       "<Figure size 1200x600 with 1 Axes>"
      ]
     },
     "metadata": {},
     "output_type": "display_data"
    }
   ],
   "source": [
    "# Построим график относительного различия для среднего чека.\n",
    "# собираем данные в одном датафрейме\n",
    "mergedCumulativeRevenue = cumulativeRevenueA.merge(cumulativeRevenueB, left_on='date', right_on='date', how='left', suffixes=['A', 'B'])\n",
    "\n",
    "# cтроим отношение средних чеков\n",
    "plt.figure(figsize=(12, 6))\n",
    "plt.plot(mergedCumulativeRevenue['date'], (mergedCumulativeRevenue['revenueB']/mergedCumulativeRevenue['ordersB'])/(mergedCumulativeRevenue['revenueA']/mergedCumulativeRevenue['ordersA'])-1)\n",
    "plt.title('Относительное различие среднего чека группы \"В\" к группе \"А\" ')\n",
    "plt.xlabel('Дата')\n",
    "plt.ylabel('%')\n",
    "#plt.xticks(rotation=30)\n",
    "# добавляем ось X\n",
    "plt.axhline(y=0, color='black', linestyle='--');"
   ]
  },
  {
   "cell_type": "markdown",
   "metadata": {},
   "source": [
    "Выводы:\n",
    "\n",
    "В нескольких точках график различия между сегментами резко «скачет». На данном этапе сказать, что средний чек по группе В выше, чем по А нельзя, необходимо будет далее проанализировать и выявить выбросы."
   ]
  },
  {
   "cell_type": "markdown",
   "metadata": {},
   "source": [
    "#### Графики кумулятивного среднего количества заказов и их относительного различия по группам A/B-тестирования"
   ]
  },
  {
   "cell_type": "markdown",
   "metadata": {},
   "source": [
    " Анализ количества заказов <a id='4.1.3.1'></a>:\n",
    "    \n",
    "    - Построим и проанализируем  график кумулятивного среднего количества заказов на посетителя по группам.\n",
    "    - Построим и проанализируем  график относительного изменения кумулятивного среднего количества заказов на посетителя группы B к группе A."
   ]
  },
  {
   "cell_type": "code",
   "execution_count": 25,
   "metadata": {},
   "outputs": [
    {
     "data": {
      "image/png": "[encoded data removed]",
      "text/plain": [
       "<Figure size 1200x600 with 1 Axes>"
      ]
     },
     "metadata": {},
     "output_type": "display_data"
    }
   ],
   "source": [
    "# считаем среднее количество заказов на посетителя\n",
    "cumulativeData['conversion'] = cumulativeData['orders']/cumulativeData['visitors']\n",
    "\n",
    "# отделяем данные по группе A\n",
    "cumulativeDataA = cumulativeData[cumulativeData['group']=='A']\n",
    "\n",
    "# отделяем данные по группе B\n",
    "cumulativeDataB = cumulativeData[cumulativeData['group']=='B']\n",
    "\n",
    "# строим графики\n",
    "plt.figure(figsize=(12, 6))\n",
    "plt.plot(cumulativeDataA['date'], cumulativeDataA['conversion'], label='A')\n",
    "plt.plot(cumulativeDataB['date'], cumulativeDataB['conversion'], label='B')\n",
    "plt.title('Анализ изменения среднего количества заказов по группам \"А\" и \"В\"')\n",
    "plt.xlabel('Дата')\n",
    "plt.ylabel('Коэффициент')\n",
    "#plt.xticks(rotation=30)\n",
    "plt.legend()\n",
    "# зададим масштаб осей\n",
    "plt.xlim(datetime(2019, 8, 1), datetime(2019, 9, 1))  \n",
    "plt.ylim(0.01, 0.04)  \n",
    "plt.show()"
   ]
  },
  {
   "cell_type": "markdown",
   "metadata": {},
   "source": [
    "Вывод:\n",
    "    \n",
    "    Среднее количество заказов на посетителя сегмента B на большей части временного отрезка выше, чем у сегмента  А и установилась на уровне примерно 3,5%, а сегмента А на уровне 3%.\n",
    "    При этом, сначала динамика групп была разнонаправленной, количество заказов на посетителя группы B росла, группы А падала, затем у обоих сегментов среднее значение к концу теста стабилизировалась."
   ]
  },
  {
   "cell_type": "markdown",
   "metadata": {},
   "source": [
    "<a id='4.1.3.2'></a> Построим график относительного изменения кумулятивного среднего количества заказов на посетителя группы B к группе A."
   ]
  },
  {
   "cell_type": "code",
   "execution_count": 26,
   "metadata": {},
   "outputs": [
    {
     "data": {
      "image/png": "[encoded data removed]",
      "text/plain": [
       "<Figure size 1200x600 with 1 Axes>"
      ]
     },
     "metadata": {},
     "output_type": "display_data"
    }
   ],
   "source": [
    "# Построим график относительного изменения кумулятивного среднего количества заказов на посетителя группы B к группе A\n",
    "mergedCumulativeConversions = cumulativeDataA[['date','conversion']].merge(cumulativeDataB[['date','conversion']], left_on='date', right_on='date', how='left', suffixes=['A', 'B'])\n",
    "plt.figure(figsize=(12, 6))\n",
    "plt.plot(mergedCumulativeConversions['date'], mergedCumulativeConversions['conversionB']/mergedCumulativeConversions['conversionA']-1)\n",
    "plt.title('Относительное различие среднего количества заказов на посетителя группы \"В\" к группе \"А\"')\n",
    "plt.xlabel('Дата')\n",
    "plt.ylabel('%')\n",
    "#plt.xticks(rotation=30)\n",
    "\n",
    "plt.axhline(y=0, color='black', linestyle='--')\n",
    "plt.axhline(y=0.15, color='grey', linestyle='--')\n",
    "plt.show()"
   ]
  },
  {
   "cell_type": "markdown",
   "metadata": {},
   "source": [
    "Выводы:\n",
    "\n",
    "    В начале теста группа B проигрывала группе A, затем вырвалась вперёд и не уступала  свои позиции, превышая среднее количество заказов на посетителя группы А более, чем на 10% \n",
    "    В целом отношение среднего количества заказов на посетителя группы В к группе А еще не стабилизировалось, и сейчас делать какие-либо выводы по тесту нельзя, сперва необходимо проанализировать аномалии, возможно, они изменят картину. "
   ]
  },
  {
   "cell_type": "markdown",
   "metadata": {},
   "source": [
    "### Оценка выбросов в количестве и стоимости заказов"
   ]
  },
  {
   "cell_type": "markdown",
   "metadata": {},
   "source": [
    "#### Распределение количества заказав  по пользователям.\n",
    "    Построим гистограмму и график-scatter."
   ]
  },
  {
   "cell_type": "code",
   "execution_count": 27,
   "metadata": {},
   "outputs": [
    {
     "data": {
      "image/png": "[encoded data removed]",
      "text/plain": [
       "<Figure size 1000x600 with 1 Axes>"
      ]
     },
     "metadata": {},
     "output_type": "display_data"
    }
   ],
   "source": [
    "#Посмотрим на гистограмму количества заказов по покупателям\n",
    "ordersByUsers = (\n",
    "    orders.groupby('visitorId', as_index=False)\n",
    "    .agg({'transactionId': 'nunique'})\n",
    ")\n",
    "ordersByUsers.columns = ['userId', 'orders']\n",
    "plt.figure(figsize=(10, 6))\n",
    "plt.hist(ordersByUsers['orders'])\n",
    "plt.title('Распределение кол-ва заказов по покупателям')\n",
    "plt.xlabel('Кол-во заказов, ед')\n",
    "plt.ylabel('Частота')\n",
    "plt.show();"
   ]
  },
  {
   "cell_type": "code",
   "execution_count": 28,
   "metadata": {
    "scrolled": false
   },
   "outputs": [
    {
     "data": {
      "image/png": "[encoded data removed]",
      "text/plain": [
       "<Figure size 1000x600 with 1 Axes>"
      ]
     },
     "metadata": {},
     "output_type": "display_data"
    }
   ],
   "source": [
    "#Посмотрим на график-scatter количества заказов по пользователям\n",
    "x_values = pd.Series(range(0,len(ordersByUsers)))\n",
    "plt.figure(figsize=(10, 6))\n",
    "plt.scatter(x_values, ordersByUsers['orders'])\n",
    "plt.title('Распределение кол-ва заказов по покупателям')\n",
    "plt.xlabel('Покупатель')\n",
    "plt.ylabel('Кол-во заказов')\n",
    "plt.show();"
   ]
  },
  {
   "cell_type": "markdown",
   "metadata": {},
   "source": [
    "Вывод:\n",
    "    \n",
    "    В основном количество заказов на одного покупателя от 1 до 2-х, есть небольшое количество покупателей с 3-мя заказами, при этом наблюдаются выбросы от 4 до 11 заказов."
   ]
  },
  {
   "cell_type": "markdown",
   "metadata": {},
   "source": [
    "Рассчитаем 95-й и 99-й перцентили количества заказов на пользователя."
   ]
  },
  {
   "cell_type": "code",
   "execution_count": 29,
   "metadata": {
    "scrolled": true
   },
   "outputs": [
    {
     "name": "stdout",
     "output_type": "stream",
     "text": [
      "[2. 4.]\n"
     ]
    }
   ],
   "source": [
    "print(np.percentile(ordersByUsers['orders'], [95, 99])) "
   ]
  },
  {
   "cell_type": "markdown",
   "metadata": {},
   "source": [
    "Вывод:\n",
    "       \n",
    "       Не более 5% покупателей заказывали более 2-х заказов и не более 1% более 4-х.\n",
    "     За верхнюю границу числа заказов выберем 2 заказа на одного пользователя и отсеем аномальных пользователей по ней."
   ]
  },
  {
   "cell_type": "markdown",
   "metadata": {},
   "source": [
    "#### Распределение стоимости заказов  по пользователям\n",
    "    \n",
    "    Построим гистограмму и точечный график-scatter ."
   ]
  },
  {
   "cell_type": "code",
   "execution_count": 30,
   "metadata": {
    "scrolled": false
   },
   "outputs": [
    {
     "data": {
      "image/png": "[encoded data removed]",
      "text/plain": [
       "<Figure size 1000x600 with 1 Axes>"
      ]
     },
     "metadata": {},
     "output_type": "display_data"
    }
   ],
   "source": [
    "#Посмотрим на гистограмму количества заказов по покупателям\n",
    "revenueByUsers = (\n",
    "    orders.groupby('visitorId', as_index=False)\n",
    "    .agg({'revenue': 'mean'})\n",
    ")\n",
    "revenueByUsers.columns = ['userId', 'revenue']\n",
    "plt.figure(figsize=(10, 6))\n",
    "sns.histplot(revenueByUsers['revenue']/1000, bins=100, color='skyblue')\n",
    "\n",
    "plt.xlim(0, 200)\n",
    "xticks_values = list(range(0, 1, 200))\n",
    "plt.xticks(rotation=45)\n",
    "plt.title('Распределение стоимости заказов по покупателям')\n",
    "plt.xlabel('Стоимость заказа, тыс.руб.')\n",
    "plt.ylabel('Частота')\n",
    "plt.show()"
   ]
  },
  {
   "cell_type": "code",
   "execution_count": 31,
   "metadata": {
    "scrolled": true
   },
   "outputs": [
    {
     "data": {
      "image/png": "[encoded data removed]",
      "text/plain": [
       "<Figure size 1000x600 with 1 Axes>"
      ]
     },
     "metadata": {},
     "output_type": "display_data"
    }
   ],
   "source": [
    "#Посмотрим на график-scatter количества заказов по пользователям\n",
    "x_values = pd.Series(range(0,len(orders['revenue'])))\n",
    "plt.figure(figsize=(10, 6))\n",
    "plt.scatter(x_values, orders['revenue']/1000)\n",
    "#plt.ylim(0, 100)\n",
    "plt.title('Распределение стоимости заказов по покупателям')\n",
    "plt.xlabel('Заказ')\n",
    "plt.ylabel('Стоимость заказов, тыс. руб.')\n",
    "plt.show();"
   ]
  },
  {
   "cell_type": "markdown",
   "metadata": {},
   "source": [
    "Посмотрим на график-scatter количества заказов по пользователям исключив самые большие выбросы"
   ]
  },
  {
   "cell_type": "code",
   "execution_count": 32,
   "metadata": {},
   "outputs": [
    {
     "data": {
      "image/png": "[encoded data removed]",
      "text/plain": [
       "<Figure size 1000x600 with 1 Axes>"
      ]
     },
     "metadata": {},
     "output_type": "display_data"
    }
   ],
   "source": [
    "#Посмотрим на график-scatter количества заказов по пользователям \n",
    "x_values = pd.Series(range(0,len(orders['revenue'])))\n",
    "plt.figure(figsize=(10, 6))\n",
    "plt.scatter(x_values, orders['revenue']/1000)\n",
    "plt.ylim(0, 100)\n",
    "plt.title('Распределение стоимости заказов по покупателям')\n",
    "plt.xlabel('Заказ')\n",
    "plt.ylabel('Стоимость заказов, тыс. руб.')\n",
    "plt.show();"
   ]
  },
  {
   "cell_type": "markdown",
   "metadata": {},
   "source": [
    "Вывод:\n",
    "       \n",
    "       Есть незначительное количество дорогих заказов, но большая часть заказов до 30 тыс. руб."
   ]
  },
  {
   "cell_type": "markdown",
   "metadata": {},
   "source": [
    "Рассчитаем 95-й и 99-й перцентили стоимости заказов."
   ]
  },
  {
   "cell_type": "code",
   "execution_count": 33,
   "metadata": {
    "scrolled": true
   },
   "outputs": [
    {
     "name": "stdout",
     "output_type": "stream",
     "text": [
      "[28000.  58233.2]\n"
     ]
    }
   ],
   "source": [
    "print(np.percentile(orders['revenue'], [95, 99])) "
   ]
  },
  {
   "cell_type": "markdown",
   "metadata": {},
   "source": [
    "Вывод:\n",
    "        \n",
    "       Не более 5% покупателей делали заказ дороже 28 тыс. руб.  и не более 1% оформляли  заказ стоимостью более 58 тыс. руб.\n",
    "       За верхнюю границу числа заказов выберем заказы стоимостью не более 28 тыс. руб. и отсеем остальные аномальные заказы."
   ]
  },
  {
   "cell_type": "markdown",
   "metadata": {},
   "source": [
    "### Оценка статистической  значимости различий групп А и В."
   ]
  },
  {
   "cell_type": "markdown",
   "metadata": {},
   "source": [
    "#### Расчет статистической значимости различий групп А и В в среднем количестве заказов (по сырым данным)"
   ]
  },
  {
   "cell_type": "markdown",
   "metadata": {},
   "source": [
    "Подготовим данные, объединив в датасет date, где:\n",
    "\n",
    "    - ordersPerDateA — количество заказов в выбранную дату в группе A;\n",
    "    - revenuePerDateA — суммарная выручка в выбранную дату в группе A;\n",
    "    - ordersPerDateB — количество заказов в выбранную дату в группе B;\n",
    "    - revenuePerDateB — суммарная выручка в выбранную дату в группе B;\n",
    "    - visitorsPerDateA — количество пользователей в выбранную дату в группе A;\n",
    "    - visitorsPerDateB — количество пользователей в выбранную дату в группе B;"
   ]
  },
  {
   "cell_type": "code",
   "execution_count": 34,
   "metadata": {
    "scrolled": false
   },
   "outputs": [
    {
     "data": {
      "text/html": [
       "<div>\n",
       "<style scoped>\n",
       "    .dataframe tbody tr th:only-of-type {\n",
       "        vertical-align: middle;\n",
       "    }\n",
       "\n",
       "    .dataframe tbody tr th {\n",
       "        vertical-align: top;\n",
       "    }\n",
       "\n",
       "    .dataframe thead th {\n",
       "        text-align: right;\n",
       "    }\n",
       "</style>\n",
       "<table border=\"1\" class=\"dataframe\">\n",
       "  <thead>\n",
       "    <tr style=\"text-align: right;\">\n",
       "      <th></th>\n",
       "      <th>date</th>\n",
       "      <th>ordersPerDateA</th>\n",
       "      <th>revenuePerDateA</th>\n",
       "      <th>ordersPerDateB</th>\n",
       "      <th>revenuePerDateB</th>\n",
       "      <th>visitorsPerDateA</th>\n",
       "      <th>visitorsPerDateB</th>\n",
       "    </tr>\n",
       "  </thead>\n",
       "  <tbody>\n",
       "    <tr>\n",
       "      <th>0</th>\n",
       "      <td>2019-08-01</td>\n",
       "      <td>24</td>\n",
       "      <td>148579.0</td>\n",
       "      <td>21</td>\n",
       "      <td>101217.0</td>\n",
       "      <td>719</td>\n",
       "      <td>713</td>\n",
       "    </tr>\n",
       "    <tr>\n",
       "      <th>1</th>\n",
       "      <td>2019-08-02</td>\n",
       "      <td>20</td>\n",
       "      <td>93822.0</td>\n",
       "      <td>24</td>\n",
       "      <td>165531.0</td>\n",
       "      <td>619</td>\n",
       "      <td>581</td>\n",
       "    </tr>\n",
       "  </tbody>\n",
       "</table>\n",
       "</div>"
      ],
      "text/plain": [
       "        date  ordersPerDateA  revenuePerDateA  ordersPerDateB  \\\n",
       "0 2019-08-01              24         148579.0              21   \n",
       "1 2019-08-02              20          93822.0              24   \n",
       "\n",
       "   revenuePerDateB  visitorsPerDateA  visitorsPerDateB  \n",
       "0         101217.0               719               713  \n",
       "1         165531.0               619               581  "
      ]
     },
     "metadata": {},
     "output_type": "display_data"
    }
   ],
   "source": [
    "#формируем таблицу date\n",
    "visitorsADaily = visitors[visitors['group'] == 'A'][['date', 'visitors']]\n",
    "visitorsADaily.columns = ['date', 'visitorsPerDateA']\n",
    "\n",
    "visitorsBDaily = visitors[visitors['group'] == 'B'][['date', 'visitors']]\n",
    "visitorsBDaily.columns = ['date', 'visitorsPerDateB']\n",
    "\n",
    "ordersADaily = (\n",
    "    orders[orders['group'] == 'A'][['date', 'transactionId', 'visitorId', 'revenue']]\n",
    "    .groupby('date', as_index=False)\n",
    "    .agg({'transactionId': pd.Series.nunique, 'revenue': 'sum'})\n",
    ")\n",
    "ordersADaily.columns = ['date', 'ordersPerDateA', 'revenuePerDateA']\n",
    "\n",
    "ordersBDaily = (\n",
    "    orders[orders['group'] == 'B'][['date', 'transactionId', 'visitorId', 'revenue']]\n",
    "    .groupby('date', as_index=False)\n",
    "    .agg({'transactionId': pd.Series.nunique, 'revenue': 'sum'})\n",
    ")\n",
    "ordersBDaily.columns = ['date', 'ordersPerDateB', 'revenuePerDateB']\n",
    "\n",
    "data = (\n",
    "    ordersADaily.merge(\n",
    "        ordersBDaily, left_on='date', right_on='date', how='left'\n",
    "    )\n",
    "    .merge(visitorsADaily, left_on='date', right_on='date', how='left')\n",
    "    .merge(visitorsBDaily, left_on='date', right_on='date', how='left')\n",
    "  \n",
    ")\n",
    "\n",
    "display(data.head(2))"
   ]
  },
  {
   "cell_type": "markdown",
   "metadata": {},
   "source": [
    "    Создадим переменные ordersByUsersA и ordersByUsersB со столбцами ['userId', 'orders']. \n",
    "    В них для пользователей, которые заказывали хотя бы 1 раз, укажем число совершённых заказов. "
   ]
  },
  {
   "cell_type": "code",
   "execution_count": 35,
   "metadata": {},
   "outputs": [
    {
     "name": "stdout",
     "output_type": "stream",
     "text": [
      "     userId  orders\n",
      "0   8300375       1\n",
      "1  11685486       1\n",
      "\n",
      "    userId  orders\n",
      "0  5114589       1\n",
      "1  6958315       1\n"
     ]
    }
   ],
   "source": [
    "ordersByUsersA = (\n",
    "    orders[orders['group'] == 'A']\n",
    "    .groupby('visitorId', as_index=False)\n",
    "    .agg({'transactionId': pd.Series.nunique})\n",
    ")\n",
    "ordersByUsersA.columns = ['userId', 'orders']\n",
    "\n",
    "ordersByUsersB = (\n",
    "    orders[orders['group'] == 'B']\n",
    "    .groupby('visitorId', as_index=False)\n",
    "    .agg({'transactionId': pd.Series.nunique})\n",
    ")\n",
    "ordersByUsersB.columns = ['userId', 'orders']\n",
    "\n",
    "print(ordersByUsersA.head(2))\n",
    "print()\n",
    "print(ordersByUsersB.head(2))"
   ]
  },
  {
   "cell_type": "markdown",
   "metadata": {},
   "source": [
    "Объявим переменные sampleA и sampleB, в которых пользователям из разных групп будет соответствовать количество заказов. Тем, кто ничего не заказал, будут соответствовать нули. \n"
   ]
  },
  {
   "cell_type": "code",
   "execution_count": 36,
   "metadata": {
    "scrolled": true
   },
   "outputs": [
    {
     "name": "stdout",
     "output_type": "stream",
     "text": [
      "0    1\n",
      "1    1\n",
      "Name: orders, dtype: int64\n",
      "\n",
      "0    1\n",
      "1    1\n",
      "Name: orders, dtype: int64\n"
     ]
    }
   ],
   "source": [
    "sampleA = pd.concat([ordersByUsersA['orders'],pd.Series(0, index=np.arange(data['visitorsPerDateA'].sum() - len(ordersByUsersA['orders'])), name='orders')],axis=0)\n",
    "\n",
    "sampleB = pd.concat([ordersByUsersB['orders'],pd.Series(0, index=np.arange(data['visitorsPerDateB'].sum() - len(ordersByUsersB['orders'])), name='orders')],axis=0)\n",
    "\n",
    "print(sampleA.head(2))\n",
    "print()\n",
    "print(sampleB.head(2))"
   ]
  },
  {
   "cell_type": "markdown",
   "metadata": {},
   "source": [
    "     Сформулируем гипотезы. \n",
    "          - Нулевая: Статистически значимых различий в среднем количестве заказов между группами А и В по сырым данным нет.              \n",
    "          - Альтернативная: Среднее количество заказов в группе В, рассчитанное по сырым данным, статистически значимо больше, чем в группе А."
   ]
  },
  {
   "cell_type": "markdown",
   "metadata": {},
   "source": [
    "Проведем тест на основе непараметрического теста Манна-Уитни. \n",
    "    \n",
    "    Главное отличие непараметрических методов в том, что они работают с рангами, — номерами значений в упорядоченном ряду, — никак не учитывая сами значения. Поэтому к ним прибегают тогда, когда работа с самими значениями невозможна из-за выбросов, сильно сдвигающих параметрические результаты.\n",
    "    \n",
    "    В нашем случае в данных есть выбросы, поэтому используем критерий Манна-Уитни.\n",
    "\n",
    "    Рассчитаем p-value и коэффициент относительного прироста среднего числа заказов группы B."
   ]
  },
  {
   "cell_type": "code",
   "execution_count": 37,
   "metadata": {},
   "outputs": [
    {
     "name": "stdout",
     "output_type": "stream",
     "text": [
      "p-значение: 0.008\n",
      "Отвергаем нулевую гипотезу: разница статистически значима\n",
      "Относительный прирост среднего числа заказов группы \"B\"  0.138\n"
     ]
    }
   ],
   "source": [
    "alpha = 0.05  # критический уровень статистической значимости\n",
    "\n",
    "results = st.mannwhitneyu(sampleA, sampleB, True, 'less')\n",
    "\n",
    "print('p-значение:', \"{0:.3f}\".format(results.pvalue))\n",
    "\n",
    "if results.pvalue < alpha:\n",
    "    print('Отвергаем нулевую гипотезу: разница статистически значима')\n",
    "else:\n",
    "    print(\n",
    "        'Не получилось отвергнуть нулевую гипотезу, вывод о различии сделать нельзя'\n",
    "    ) \n",
    "\n",
    "print('Относительный прирост среднего числа заказов группы \"B\" ', \"{0:.3f}\".format(sampleB.mean() / sampleA.mean() - 1))"
   ]
  },
  {
   "cell_type": "markdown",
   "metadata": {},
   "source": [
    "Вывод:\n",
    "    \n",
    "      Итак, p-value = 0.008, что существенно меньше 0.05. Значит, нулевую гипотезу о том, что статистически значимых различий в среднем числе заказов между группами нет, отвергаем. Подтверждена гипотеза, что в группе B среднее количество заказов больше.\n",
    "      Относительный прирост среднего числа заказов группы B равен 13.8% можно признать статистически значимым. Пока это результат только на \"сырых\" данных."
   ]
  },
  {
   "cell_type": "markdown",
   "metadata": {},
   "source": [
    "#### Расчет статистической значимости различий групп А и В в среднем чеке (по сырым данным)"
   ]
  },
  {
   "cell_type": "markdown",
   "metadata": {},
   "source": [
    "     Сформулируем гипотезы. \n",
    "          - Нулевая: Статистически значимых различий в среднем чеке между группами А и В по сырым данным нет.               \n",
    "          - Альтернативная: Статистически значимые различия в среднем чеке между группами А и В по сырым данным есть."
   ]
  },
  {
   "cell_type": "code",
   "execution_count": 38,
   "metadata": {},
   "outputs": [
    {
     "name": "stdout",
     "output_type": "stream",
     "text": [
      "p-значение: 0.729\n",
      "Не получилось отвергнуть нулевую гипотезу, вывод о различии сделать нельзя\n",
      "Относительный прирост среднего числа заказов группы \"B\"  0.259\n"
     ]
    }
   ],
   "source": [
    "alpha = 0.05  # критический уровень статистической значимости\n",
    "\n",
    "revenueByA = orders[orders['group']=='A']['revenue']\n",
    "revenueByB = orders[orders['group']=='B']['revenue']\n",
    "\n",
    "\n",
    "results = st.mannwhitneyu(revenueByA, revenueByB)\n",
    "\n",
    "print('p-значение:', \"{0:.3f}\".format(results.pvalue))\n",
    "\n",
    "if results.pvalue < alpha:\n",
    "    print('Отвергаем нулевую гипотезу: разница статистически значима')\n",
    "else:\n",
    "    print(\n",
    "        'Не получилось отвергнуть нулевую гипотезу, вывод о различии сделать нельзя'\n",
    "    ) \n",
    "\n",
    "print('Относительный прирост среднего числа заказов группы \"B\" ', \"{0:.3f}\".format(revenueByB.mean() / revenueByA.mean() - 1))"
   ]
  },
  {
   "cell_type": "markdown",
   "metadata": {},
   "source": [
    "Вывод:\n",
    "      \n",
    "      P-value 0.729, что значительно больше 0.05. Это значит, что нет причин отвергать нулевую гипотезу о равенстве среднего чека в группах А и В. \n",
    "      При этом, относительный прирост среднего чека группы B над средним чеком группы A составляет 26%. Скорее всего, влияют аномальные заказы, проверим далее."
   ]
  },
  {
   "cell_type": "markdown",
   "metadata": {},
   "source": [
    "#### Расчет статистической значимости различий групп А и В в среднем количестве заказов (по очищенным данным)"
   ]
  },
  {
   "cell_type": "markdown",
   "metadata": {},
   "source": [
    "    Для очистки данных от аномалий используем рассчитанные ранее критерии:\n",
    "          - исключим покупателей с более чем 2-мя заказами.\n",
    "          - исключим покупателей с заказами более 28 тыс. руб. за один заказ."
   ]
  },
  {
   "cell_type": "code",
   "execution_count": 39,
   "metadata": {
    "scrolled": false
   },
   "outputs": [
    {
     "data": {
      "text/plain": [
       "1099    148427295\n",
       "18      199603092\n",
       "928     204675465\n",
       "23      237748145\n",
       "37      249864742\n",
       "dtype: int64"
      ]
     },
     "metadata": {},
     "output_type": "display_data"
    },
    {
     "name": "stdout",
     "output_type": "stream",
     "text": [
      "74\n"
     ]
    }
   ],
   "source": [
    "usersWithManyOrders = pd.concat(\n",
    "    [\n",
    "        ordersByUsersA[ordersByUsersA['orders'] > np.percentile(ordersByUsers['orders'], 95)]['userId'],\n",
    "        ordersByUsersB[ordersByUsersB['orders'] > np.percentile(ordersByUsers['orders'], 95)]['userId'],\n",
    "    ],\n",
    "    axis=0,\n",
    ")\n",
    "usersWithExpensiveOrders = orders[orders['revenue'] > np.percentile(orders['revenue'], 95)]['visitorId']\n",
    "abnormalUsers = (\n",
    "    pd.concat([usersWithManyOrders, usersWithExpensiveOrders], axis=0)\n",
    "    .drop_duplicates()\n",
    "    .sort_values()\n",
    ")\n",
    "display(abnormalUsers.head(5))\n",
    "print(abnormalUsers.shape[0]) "
   ]
  },
  {
   "cell_type": "markdown",
   "metadata": {},
   "source": [
    "Всего 74 аномальных пользователей. Исключим их из расчета статистической значимости. Сначала подготовим выборки количества заказов по пользователям по группам теста:"
   ]
  },
  {
   "cell_type": "code",
   "execution_count": 40,
   "metadata": {},
   "outputs": [],
   "source": [
    "sampleAFiltered = pd.concat(\n",
    "    [\n",
    "        ordersByUsersA[\n",
    "            np.logical_not(ordersByUsersA['userId'].isin(abnormalUsers))\n",
    "        ]['orders'],\n",
    "        pd.Series(\n",
    "            0,\n",
    "            index=np.arange(\n",
    "                data['visitorsPerDateA'].sum() - len(ordersByUsersA['orders'])\n",
    "            ),\n",
    "            name='orders',\n",
    "        ),\n",
    "    ],\n",
    "    axis=0,\n",
    ")\n",
    "\n",
    "sampleBFiltered = pd.concat(\n",
    "    [\n",
    "        ordersByUsersB[\n",
    "            np.logical_not(ordersByUsersB['userId'].isin(abnormalUsers))\n",
    "        ]['orders'],\n",
    "        pd.Series(\n",
    "            0,\n",
    "            index=np.arange(\n",
    "                data['visitorsPerDateB'].sum() - len(ordersByUsersB['orders'])\n",
    "            ),\n",
    "            name='orders',\n",
    "        ),\n",
    "    ],\n",
    "    axis=0,\n",
    ")"
   ]
  },
  {
   "cell_type": "markdown",
   "metadata": {},
   "source": [
    "Применим статистический критерий Манна-Уитни к полученным выборкам, гипотезы следующие:\n",
    "\n",
    "      - Нулевая: Статистически значимых различий в среднем количестве заказов между группами А и В по очищенным данным нет.              \n",
    "      - Альтернативная: Среднее количество заказов в группе В, рассчитанное по очищенным данным, статистически значимо больше, чем в группе А."
   ]
  },
  {
   "cell_type": "code",
   "execution_count": 41,
   "metadata": {
    "scrolled": true
   },
   "outputs": [
    {
     "name": "stdout",
     "output_type": "stream",
     "text": [
      "p-значение: 0.007\n",
      "Отвергаем нулевую гипотезу: разница статистически значима\n",
      "Относительный прирост среднего числа заказов группы \"B\"  0.173\n"
     ]
    }
   ],
   "source": [
    "alpha = 0.05  # критический уровень статистической значимости\n",
    "\n",
    "results = st.mannwhitneyu(sampleAFiltered, sampleBFiltered, True, 'less')\n",
    "\n",
    "print('p-значение:', \"{0:.3f}\".format(results.pvalue))\n",
    "\n",
    "if results.pvalue < alpha:\n",
    "    print('Отвергаем нулевую гипотезу: разница статистически значима')\n",
    "else:\n",
    "    print(\n",
    "        'Не получилось отвергнуть нулевую гипотезу, вывод о различии сделать нельзя'\n",
    "    ) \n",
    "\n",
    "print('Относительный прирост среднего числа заказов группы \"B\" ', \"{0:.3f}\".format(sampleBFiltered.mean() / sampleAFiltered.mean() - 1))"
   ]
  },
  {
   "cell_type": "markdown",
   "metadata": {},
   "source": [
    "Вывод:\n",
    "    \n",
    "    Результат теста не изменился, подтверждено превышение среднего количества заказов группы В над А. При этом, относительный прирост вырос с 14% до 17% на очищенных данных."
   ]
  },
  {
   "cell_type": "markdown",
   "metadata": {},
   "source": [
    "#### Расчет статистической значимости различий групп А и В в среднем чеке (по очищенным данным)"
   ]
  },
  {
   "cell_type": "markdown",
   "metadata": {},
   "source": [
    "     Сформулируем гипотезы. \n",
    "          - Нулевая: Статистически значимых различий в среднем чеке между группами А и В по очищенным данным нет.               \n",
    "          - Альтернативная: Статистически значимые различия в среднем чеке между группами А и В по очищенным данным есть."
   ]
  },
  {
   "cell_type": "code",
   "execution_count": 42,
   "metadata": {
    "scrolled": true
   },
   "outputs": [
    {
     "name": "stdout",
     "output_type": "stream",
     "text": [
      "p-значение: 0.738\n",
      "Не получилось отвергнуть нулевую гипотезу, вывод о различии сделать нельзя\n",
      "Относительный прирост среднего числа заказов группы \"B\"  -0.020\n"
     ]
    }
   ],
   "source": [
    "alpha = 0.05  # критический уровень статистической значимости\n",
    "\n",
    "revenueByAFiltered = orders[np.logical_and(orders['group'] == 'A',np.logical_not(orders['visitorId'].isin(abnormalUsers)))]['revenue']\n",
    "\n",
    "revenueByBFiltered = orders[np.logical_and(orders['group'] == 'B',np.logical_not(orders['visitorId'].isin(abnormalUsers)))]['revenue']\n",
    "\n",
    "\n",
    "results = st.mannwhitneyu(revenueByAFiltered, revenueByBFiltered)\n",
    "\n",
    "print('p-значение:', \"{0:.3f}\".format(results.pvalue))\n",
    "\n",
    "if results.pvalue < alpha:\n",
    "    print('Отвергаем нулевую гипотезу: разница статистически значима')\n",
    "else:\n",
    "    print(\n",
    "        'Не получилось отвергнуть нулевую гипотезу, вывод о различии сделать нельзя'\n",
    "    ) \n",
    "\n",
    "print('Относительный прирост среднего числа заказов группы \"B\" ', \"{0:.3f}\".format(revenueByBFiltered.mean() / revenueByAFiltered.mean() - 1))"
   ]
  },
  {
   "cell_type": "markdown",
   "metadata": {},
   "source": [
    "Вывод:\n",
    "       \n",
    "       Результат теста не изменился p-value на том же уровне 0.739, что существенно  выше критерия в 0.05, то есть нет оснований  отвергать гипотезу о равенстве среднего чека группы В и группы А.\n",
    "       При этом, относительный прирост среднего чека группы В полностью нивелирован при исключении  аномалий, прирост  сократился с 26% до минус 2% на очищенных данных."
   ]
  },
  {
   "cell_type": "markdown",
   "metadata": {},
   "source": [
    "### Выводы по анализу результатов А/В теста\n",
    "\n",
    "   1. Подтверждено статистически значимое различие по среднему количеству заказов между группами А и В как по «сырым», так и по данным после фильтрации аномалий; Тест подтвердил, что среднее количество заказов  группы В больше, чем у группы А. На графике [4.1.3.1](#4.1.3.1) также виден устоявшийся разрыв к концу теста.\n",
    "   \n",
    "   2. Относительный прирост среднего количества заказов  на очищенных данных составил около 17%. Прирост хорошо виден на графике [4.1.3.2](#4.1.3.2). Исключение аномалий не изменило выводы, а только усилило  оценку дельты с 14% до 17%. (см. графики на очищенных данных ниже)\n",
    "   \n",
    "   3. Что касается среднего чека, то не подтверждено наличие статистически значимого различия по среднему чеку между группами ни по «сырым», ни по данным после фильтрации аномалий. Превышение, которое было видно на графике [4.1.2.1](#4.1.2.1) было вызвано аномалиями в виде одиночных крупных заказов.\n",
    "      \n",
    "   4. Относительный прирост среднего чека, который был виден на неочищенных данных на графике [4.1.2.2](#4.1.2.2) в виде отдельных пиков, был нивелирован при сравнении данных без аномалий и сократился с 26 до минус 2%.\n",
    "   5. Таким образом тест показал, что у группы В существенно  выше среднее количество заказов на посетителя, она выросла на 17%, при сопоставимом среднем чеке. В такой ситуации рост на 17% дает сопоставимый рост выручки, что также видно на графике [4.1.2](#4.1.2), где кумулятивная выручка группы В практически на всем горизонте теста выше, чем у группы А.То же самое можно увидеть на графике с кумулятивной выручкой по группам А и В на очищенных данных ниже."
   ]
  },
  {
   "cell_type": "markdown",
   "metadata": {},
   "source": [
    "Построим графики кумулятивной выручки и среднего количества заказов на очищенных данных"
   ]
  },
  {
   "cell_type": "code",
   "execution_count": 43,
   "metadata": {},
   "outputs": [],
   "source": [
    "# Очистим датасе orders от аномальных покупателей, которые были определены ранее в таблице abnormalUsers\n",
    "ordersFiltered = orders[~orders['visitorId'].isin(abnormalUsers)]\n",
    "# получим агрегированные кумулятивные по дням данные о заказах на очищенных данных\n",
    "ordersAggregatedFiltred = datesGroups.apply(\n",
    "    lambda x: ordersFiltered[np.logical_and(ordersFiltered['date'] <= x['date'], ordersFiltered['group'] == x['group'])].agg({\n",
    "'date' : 'max',\n",
    "'group' : 'max',\n",
    "'transactionId' : pd.Series.nunique,\n",
    "'visitorId' : pd.Series.nunique,\n",
    "'revenue' : 'sum'}), axis=1).sort_values(by=['date','group'])\n",
    "# объединяем кумулятивные данные в одной таблице и присваиваем ее столбцам понятные названия\n",
    "cumulativeDataFiltred = ordersAggregatedFiltred.merge(visitorsAggregated, left_on=['date', 'group'], right_on=['date', 'group'])\n",
    "cumulativeDataFiltred.columns = ['date', 'group', 'orders', 'buyers', 'revenue', 'visitors']"
   ]
  },
  {
   "cell_type": "code",
   "execution_count": 44,
   "metadata": {
    "scrolled": true
   },
   "outputs": [
    {
     "data": {
      "image/png": "[encoded data removed]",
      "text/plain": [
       "<Figure size 1200x600 with 1 Axes>"
      ]
     },
     "metadata": {},
     "output_type": "display_data"
    }
   ],
   "source": [
    "# датафрейм с кумулятивным количеством заказов и кумулятивной выручкой по дням в группе А\n",
    "cumulativeRevenueAFiltred = cumulativeDataFiltred[cumulativeDataFiltred['group']=='A'][['date','revenue', 'orders']]\n",
    "\n",
    "# датафрейм с кумулятивным количеством заказов и кумулятивной выручкой по дням в группе B\n",
    "cumulativeRevenueBFiltred = cumulativeDataFiltred[cumulativeDataFiltred['group']=='B'][['date','revenue', 'orders']]\n",
    "\n",
    "# Строим график выручки группы А\n",
    "plt.figure(figsize=(12, 6))\n",
    "plt.plot(cumulativeRevenueAFiltred['date'], cumulativeRevenueAFiltred['revenue'], label='A')\n",
    "\n",
    "# Строим график выручки группы B\n",
    "plt.plot(cumulativeRevenueBFiltred['date'], cumulativeRevenueBFiltred['revenue'], label='B')\n",
    "plt.title('Кумулятивная выручка по группам \"А\" и \"В\" на очищенных данных')\n",
    "plt.xlabel('Дата')\n",
    "plt.ylabel('Выручка, млн. руб.')\n",
    "#plt.xticks(rotation=30)\n",
    "plt.legend();"
   ]
  },
  {
   "cell_type": "markdown",
   "metadata": {},
   "source": [
    "Итак, кумулятивная выручка на очищенных данных группы В выше практически на все горизонте теста и дельта продолжает расти."
   ]
  },
  {
   "cell_type": "markdown",
   "metadata": {},
   "source": [
    "Посмотрим таже на динамику заказов  на очищенных данных"
   ]
  },
  {
   "cell_type": "code",
   "execution_count": 45,
   "metadata": {
    "scrolled": false
   },
   "outputs": [
    {
     "data": {
      "image/png": "[encoded data removed]",
      "text/plain": [
       "<Figure size 1200x600 with 1 Axes>"
      ]
     },
     "metadata": {},
     "output_type": "display_data"
    }
   ],
   "source": [
    "# считаем среднее количество заказов на посетителя на очищенных данных\n",
    "cumulativeDataFiltred['conversion'] = cumulativeDataFiltred['orders']/cumulativeDataFiltred['visitors']\n",
    "\n",
    "# отделяем данные по группе A\n",
    "cumulativeDataAFiltred = cumulativeDataFiltred[cumulativeDataFiltred['group']=='A']\n",
    "\n",
    "# отделяем данные по группе B\n",
    "cumulativeDataBFiltred = cumulativeDataFiltred[cumulativeDataFiltred['group']=='B']\n",
    "\n",
    "# строим графики\n",
    "plt.figure(figsize=(12, 6))\n",
    "plt.plot(cumulativeDataAFiltred['date'], cumulativeDataAFiltred['conversion'], label='A')\n",
    "plt.plot(cumulativeDataBFiltred['date'], cumulativeDataBFiltred['conversion'], label='B')\n",
    "plt.title('Анализ изменения среднего количества заказов на посетителя по группам \"А\" и \"В\" на очищенных данных')\n",
    "plt.xlabel('Дата')\n",
    "plt.ylabel('Коэффициент')\n",
    "plt.xticks(rotation=30)\n",
    "plt.legend()\n",
    "# зададим масштаб осей\n",
    "plt.xlim(datetime(2019, 8, 1), datetime(2019, 9, 1))  \n",
    "plt.ylim(0.01, 0.04)  \n",
    "plt.show()"
   ]
  },
  {
   "cell_type": "markdown",
   "metadata": {},
   "source": [
    "Среднее количество заказов на посетителя группы В на очищенных данных также лучше и стабилизировалась к концу теста на уровне 3%, что выше чем у группы А на 17%."
   ]
  },
  {
   "cell_type": "markdown",
   "metadata": {},
   "source": [
    "### Итоговый вывод по анализу результатов тестирования\n",
    "\n",
    "       С учетом указанных выше пунктов необходимо остановить тест, признать его успешным и зафиксировать победу группы В."
   ]
  },
  {
   "cell_type": "markdown",
   "metadata": {},
   "source": [
    "## Выводы по проекту"
   ]
  },
  {
   "cell_type": "markdown",
   "metadata": {},
   "source": [
    "    I. В предварительной части работы провели загрузку и предобработку данных, исходные данные загружены в переменные hypothesis, orders, visitors.\n",
    "        \n",
    "        В рамках предобработки датафреймов:\n",
    "           - скорректировали названия столбцов в датасете hypothesis;\n",
    "           - привели колонки с датами к типу данных datetime, а выручку к float64;\n",
    "           - убедились в отсутствии дубликатов и пропусков в данных.\n",
    "\n",
    "    \n",
    "    II. В разделе Приоритизация гипотез проведена приоритизация  9-ти гипотез с помощью методов ICE и RICE.\n",
    "            \n",
    "         Наибольший бал :\n",
    "         - по методу оценки RICE получает гипотеза 7 \"Добавить форму подписки на все основные страницы, чтобы собрать базу клиентов для email-рассылок\", \n",
    "         - по методу оценки ICE получает гипотеза 8 \"Запустить акцию, дающую скидку на товар в день рождения\".\n",
    "         \n",
    "        При этом следует учитывать, что при расчете ICE не учитывается параметр reach - охват пользователей, т.е. скольких пользователей затронет изменение. Поэтому при равном параметре efforts, и более высоких показателях impact и confidence, гиптеза №8 получила более высокий балл.\n",
    "        В расчете оценки по методу RICE дополнительно  учитывается параметр охвата аудитории, который для гипотезы №7 равен 10, то есть изменения коснуться минимум 50% пользователей, в то время как у гипотезы №8 охват получил оценку 1 балл, что означает, что изменения коснуться только 5% покупателей, что логично, т.к. право на скидку предлагалось предоставлять только в день рождения клиента, поэтому охват минимальный. \n",
    "        В результате, с учетом низкого охвата гипотеза №8 при оценке по RICE опустилась на 5-е место, а гипотеза №7 на первое. Охват аудитории важный параметр, который необходимо учитывать при оценке гипотез.\n",
    "    \n",
    "    III. В разделе Анализ результатов  A/B-теста проверены результаты теста гипотезы по увеличению выручки интернет-магазина.\n",
    "    В результате анализа было выявлено:\n",
    "    \n",
    "        1. Подтверждено статистически значимое различие по среднему количеству заказов между группами А и В, а именно: среднее количество заказов  группы В больше, чем у группы А. \n",
    "        2. Относительный прирост среднего количества заказов  группы В относительно группы А на очищенных от аномалий данных составил около 17%.\n",
    "        3. Средний чек не вырос, не подтверждено наличие статистически значимого различия между группами А и В. Превышение, которое было видно на графиках было вызвано аномалиями в виде одиночных крупных заказов , что подтвердилось когда данные были очищены. Относительный прирост среднего чека сократился с 26% до минус 2%\n",
    "\n",
    "    Итоговый вывод:\n",
    "   \n",
    "       Тест показал, что у группы В существенно  выше среднее количество заказов на посетителя, рост на 17%, при сопоставимом среднем чеке. В такой ситуации рост среднего количество заказов на посетителя на 17% дает сопоставимый рост выручки, что и требовалось от гипотезы.\n",
    "    \n",
    "    С учетом этих данных, можно останавливать тест, признать его успешным и зафиксировать победу группы В."
   ]
  }
 ],
 "metadata": {
  "ExecuteTimeLog": [
   {
    "duration": 123,
    "start_time": "2023-11-30T14:08:40.783Z"
   },
   {
    "duration": 1408,
    "start_time": "2023-11-30T14:08:51.432Z"
   },
   {
    "duration": 3,
    "start_time": "2023-11-30T14:08:54.685Z"
   },
   {
    "duration": 5,
    "start_time": "2023-11-30T14:08:54.690Z"
   },
   {
    "duration": 187,
    "start_time": "2023-11-30T14:08:54.696Z"
   },
   {
    "duration": 23,
    "start_time": "2023-11-30T14:08:54.886Z"
   },
   {
    "duration": 17,
    "start_time": "2023-11-30T14:08:54.910Z"
   },
   {
    "duration": 16,
    "start_time": "2023-11-30T14:08:54.928Z"
   },
   {
    "duration": 5,
    "start_time": "2023-11-30T14:08:54.946Z"
   },
   {
    "duration": 33,
    "start_time": "2023-11-30T14:08:54.953Z"
   },
   {
    "duration": 5,
    "start_time": "2023-11-30T14:08:54.989Z"
   },
   {
    "duration": 12,
    "start_time": "2023-11-30T14:08:54.996Z"
   },
   {
    "duration": 24,
    "start_time": "2023-11-30T14:08:55.009Z"
   },
   {
    "duration": 42,
    "start_time": "2023-11-30T14:08:55.035Z"
   },
   {
    "duration": 19,
    "start_time": "2023-11-30T14:08:55.078Z"
   },
   {
    "duration": 23,
    "start_time": "2023-11-30T14:08:55.098Z"
   },
   {
    "duration": 16,
    "start_time": "2023-11-30T14:08:55.123Z"
   },
   {
    "duration": 69,
    "start_time": "2023-11-30T14:08:55.140Z"
   },
   {
    "duration": 15,
    "start_time": "2023-11-30T14:08:55.210Z"
   },
   {
    "duration": 20,
    "start_time": "2023-11-30T14:08:55.227Z"
   },
   {
    "duration": 56,
    "start_time": "2023-11-30T14:08:55.248Z"
   },
   {
    "duration": 4251,
    "start_time": "2023-11-30T14:08:55.305Z"
   },
   {
    "duration": 19,
    "start_time": "2023-11-30T14:08:59.558Z"
   },
   {
    "duration": 45,
    "start_time": "2023-11-30T14:08:59.579Z"
   },
   {
    "duration": 20,
    "start_time": "2023-11-30T14:08:59.626Z"
   },
   {
    "duration": 25,
    "start_time": "2023-11-30T14:08:59.651Z"
   },
   {
    "duration": 36,
    "start_time": "2023-11-30T14:08:59.678Z"
   },
   {
    "duration": 16,
    "start_time": "2023-11-30T14:08:59.716Z"
   },
   {
    "duration": 44,
    "start_time": "2023-11-30T14:08:59.734Z"
   },
   {
    "duration": 7,
    "start_time": "2023-11-30T14:08:59.780Z"
   },
   {
    "duration": 453,
    "start_time": "2023-11-30T14:08:59.789Z"
   },
   {
    "duration": 17,
    "start_time": "2023-11-30T14:09:00.244Z"
   },
   {
    "duration": 353,
    "start_time": "2023-11-30T14:09:00.273Z"
   },
   {
    "duration": 12,
    "start_time": "2023-11-30T14:09:00.628Z"
   },
   {
    "duration": 999,
    "start_time": "2023-11-30T14:09:00.642Z"
   },
   {
    "duration": 11,
    "start_time": "2023-11-30T14:09:01.643Z"
   },
   {
    "duration": 57,
    "start_time": "2023-11-30T14:09:01.655Z"
   },
   {
    "duration": 271,
    "start_time": "2023-11-30T14:09:01.714Z"
   },
   {
    "duration": 8,
    "start_time": "2023-11-30T14:09:01.987Z"
   },
   {
    "duration": 1433,
    "start_time": "2023-11-30T14:09:01.997Z"
   },
   {
    "duration": 18,
    "start_time": "2023-11-30T14:09:03.432Z"
   },
   {
    "duration": 236,
    "start_time": "2023-11-30T14:09:03.452Z"
   },
   {
    "duration": 269,
    "start_time": "2023-11-30T14:09:03.689Z"
   },
   {
    "duration": 74,
    "start_time": "2023-11-30T14:09:03.960Z"
   },
   {
    "duration": 16,
    "start_time": "2023-11-30T14:09:04.036Z"
   },
   {
    "duration": 20,
    "start_time": "2023-11-30T14:09:04.053Z"
   },
   {
    "duration": 23,
    "start_time": "2023-11-30T14:09:04.075Z"
   },
   {
    "duration": 15,
    "start_time": "2023-11-30T14:09:04.100Z"
   },
   {
    "duration": 533,
    "start_time": "2023-11-30T14:09:04.117Z"
   },
   {
    "duration": 527,
    "start_time": "2023-11-30T14:09:04.652Z"
   },
   {
    "duration": 15,
    "start_time": "2023-11-30T14:09:05.181Z"
   },
   {
    "duration": 48,
    "start_time": "2023-11-30T14:09:05.198Z"
   },
   {
    "duration": 151,
    "start_time": "2023-11-30T14:09:05.248Z"
   },
   {
    "duration": 510,
    "start_time": "2023-11-30T14:09:05.401Z"
   },
   {
    "duration": 12,
    "start_time": "2023-11-30T14:09:05.913Z"
   },
   {
    "duration": 254,
    "start_time": "2023-11-30T14:09:05.927Z"
   },
   {
    "duration": 9,
    "start_time": "2023-11-30T14:09:06.183Z"
   },
   {
    "duration": 470,
    "start_time": "2023-11-30T14:09:06.194Z"
   },
   {
    "duration": 19,
    "start_time": "2023-11-30T14:09:06.666Z"
   },
   {
    "duration": 6,
    "start_time": "2023-11-30T14:09:06.687Z"
   },
   {
    "duration": 24,
    "start_time": "2023-11-30T14:09:06.694Z"
   },
   {
    "duration": 378,
    "start_time": "2023-11-30T14:09:06.720Z"
   },
   {
    "duration": 23,
    "start_time": "2023-11-30T14:09:07.100Z"
   },
   {
    "duration": 21,
    "start_time": "2023-11-30T14:09:07.125Z"
   },
   {
    "duration": 331,
    "start_time": "2023-11-30T14:09:07.148Z"
   },
   {
    "duration": 21,
    "start_time": "2023-11-30T14:09:07.480Z"
   },
   {
    "duration": 44,
    "start_time": "2023-11-30T14:09:07.502Z"
   },
   {
    "duration": 308,
    "start_time": "2023-11-30T14:09:07.547Z"
   },
   {
    "duration": 31,
    "start_time": "2023-11-30T14:09:07.856Z"
   },
   {
    "duration": 22,
    "start_time": "2023-11-30T14:09:07.888Z"
   },
   {
    "duration": 362,
    "start_time": "2023-11-30T14:09:07.915Z"
   },
   {
    "duration": 21,
    "start_time": "2023-11-30T14:09:08.279Z"
   },
   {
    "duration": 20,
    "start_time": "2023-11-30T14:09:08.302Z"
   },
   {
    "duration": 361,
    "start_time": "2023-11-30T14:09:08.324Z"
   },
   {
    "duration": 21,
    "start_time": "2023-11-30T14:09:08.687Z"
   },
   {
    "duration": 20,
    "start_time": "2023-11-30T14:09:08.710Z"
   },
   {
    "duration": 452,
    "start_time": "2023-11-30T14:09:08.732Z"
   },
   {
    "duration": 22,
    "start_time": "2023-11-30T14:09:09.185Z"
   },
   {
    "duration": 14,
    "start_time": "2023-11-30T14:09:09.208Z"
   },
   {
    "duration": 354,
    "start_time": "2023-11-30T14:09:09.223Z"
   },
   {
    "duration": 10,
    "start_time": "2023-11-30T14:09:09.579Z"
   },
   {
    "duration": 10,
    "start_time": "2023-11-30T14:09:09.590Z"
   },
   {
    "duration": 23,
    "start_time": "2023-11-30T14:09:09.601Z"
   },
   {
    "duration": 107,
    "start_time": "2023-11-30T14:09:09.625Z"
   },
   {
    "duration": 0,
    "start_time": "2023-11-30T14:09:09.734Z"
   },
   {
    "duration": 1460,
    "start_time": "2023-11-30T20:21:24.140Z"
   },
   {
    "duration": 4,
    "start_time": "2023-11-30T20:21:25.602Z"
   },
   {
    "duration": 103,
    "start_time": "2023-11-30T20:21:25.608Z"
   },
   {
    "duration": 19,
    "start_time": "2023-11-30T20:21:25.713Z"
   },
   {
    "duration": 20,
    "start_time": "2023-11-30T20:21:25.734Z"
   },
   {
    "duration": 19,
    "start_time": "2023-11-30T20:21:25.755Z"
   },
   {
    "duration": 3,
    "start_time": "2023-11-30T20:21:25.776Z"
   },
   {
    "duration": 15,
    "start_time": "2023-11-30T20:21:25.780Z"
   },
   {
    "duration": 4,
    "start_time": "2023-11-30T20:21:25.797Z"
   },
   {
    "duration": 11,
    "start_time": "2023-11-30T20:21:25.804Z"
   },
   {
    "duration": 21,
    "start_time": "2023-11-30T20:21:25.816Z"
   },
   {
    "duration": 21,
    "start_time": "2023-11-30T20:21:25.867Z"
   },
   {
    "duration": 26,
    "start_time": "2023-11-30T20:21:25.890Z"
   },
   {
    "duration": 49,
    "start_time": "2023-11-30T20:21:25.919Z"
   },
   {
    "duration": 16,
    "start_time": "2023-11-30T20:21:25.970Z"
   },
   {
    "duration": 37,
    "start_time": "2023-11-30T20:21:25.988Z"
   },
   {
    "duration": 13,
    "start_time": "2023-11-30T20:21:26.027Z"
   },
   {
    "duration": 14,
    "start_time": "2023-11-30T20:21:26.066Z"
   },
   {
    "duration": 34,
    "start_time": "2023-11-30T20:21:26.082Z"
   },
   {
    "duration": 3990,
    "start_time": "2023-11-30T20:21:26.117Z"
   },
   {
    "duration": 13,
    "start_time": "2023-11-30T20:21:30.109Z"
   },
   {
    "duration": 64,
    "start_time": "2023-11-30T20:21:30.124Z"
   },
   {
    "duration": 392,
    "start_time": "2023-11-30T20:21:30.190Z"
   },
   {
    "duration": 37,
    "start_time": "2023-11-30T20:21:30.583Z"
   },
   {
    "duration": 36,
    "start_time": "2023-11-30T20:21:30.622Z"
   },
   {
    "duration": 41,
    "start_time": "2023-11-30T20:21:30.660Z"
   },
   {
    "duration": 43,
    "start_time": "2023-11-30T20:21:30.703Z"
   },
   {
    "duration": 38,
    "start_time": "2023-11-30T20:21:30.750Z"
   },
   {
    "duration": 428,
    "start_time": "2023-11-30T20:21:30.790Z"
   },
   {
    "duration": 13,
    "start_time": "2023-11-30T20:21:31.219Z"
   },
   {
    "duration": 338,
    "start_time": "2023-11-30T20:21:31.234Z"
   },
   {
    "duration": 9,
    "start_time": "2023-11-30T20:21:31.574Z"
   },
   {
    "duration": 872,
    "start_time": "2023-11-30T20:21:31.584Z"
   },
   {
    "duration": 9,
    "start_time": "2023-11-30T20:21:32.465Z"
   },
   {
    "duration": 15,
    "start_time": "2023-11-30T20:21:32.475Z"
   },
   {
    "duration": 219,
    "start_time": "2023-11-30T20:21:32.492Z"
   },
   {
    "duration": 8,
    "start_time": "2023-11-30T20:21:32.712Z"
   },
   {
    "duration": 1306,
    "start_time": "2023-11-30T20:21:32.721Z"
   },
   {
    "duration": 14,
    "start_time": "2023-11-30T20:21:34.029Z"
   },
   {
    "duration": 209,
    "start_time": "2023-11-30T20:21:34.044Z"
   },
   {
    "duration": 269,
    "start_time": "2023-11-30T20:21:34.255Z"
   },
   {
    "duration": 81,
    "start_time": "2023-11-30T20:21:34.525Z"
   },
   {
    "duration": 16,
    "start_time": "2023-11-30T20:21:34.608Z"
   },
   {
    "duration": 7,
    "start_time": "2023-11-30T20:21:34.625Z"
   },
   {
    "duration": 16,
    "start_time": "2023-11-30T20:21:34.634Z"
   },
   {
    "duration": 17,
    "start_time": "2023-11-30T20:21:34.652Z"
   },
   {
    "duration": 538,
    "start_time": "2023-11-30T20:21:34.671Z"
   },
   {
    "duration": 478,
    "start_time": "2023-11-30T20:21:35.210Z"
   },
   {
    "duration": 13,
    "start_time": "2023-11-30T20:21:35.689Z"
   },
   {
    "duration": 37,
    "start_time": "2023-11-30T20:21:35.703Z"
   },
   {
    "duration": 145,
    "start_time": "2023-11-30T20:21:35.741Z"
   },
   {
    "duration": 516,
    "start_time": "2023-11-30T20:21:35.887Z"
   },
   {
    "duration": 11,
    "start_time": "2023-11-30T20:21:36.405Z"
   },
   {
    "duration": 243,
    "start_time": "2023-11-30T20:21:36.417Z"
   },
   {
    "duration": 10,
    "start_time": "2023-11-30T20:21:36.661Z"
   },
   {
    "duration": 452,
    "start_time": "2023-11-30T20:21:36.672Z"
   },
   {
    "duration": 14,
    "start_time": "2023-11-30T20:21:37.126Z"
   },
   {
    "duration": 24,
    "start_time": "2023-11-30T20:21:37.142Z"
   },
   {
    "duration": 54,
    "start_time": "2023-11-30T20:21:37.167Z"
   },
   {
    "duration": 319,
    "start_time": "2023-11-30T20:21:37.223Z"
   },
   {
    "duration": 27,
    "start_time": "2023-11-30T20:21:37.544Z"
   },
   {
    "duration": 22,
    "start_time": "2023-11-30T20:21:37.573Z"
   },
   {
    "duration": 335,
    "start_time": "2023-11-30T20:21:37.596Z"
   },
   {
    "duration": 19,
    "start_time": "2023-11-30T20:21:37.933Z"
   },
   {
    "duration": 29,
    "start_time": "2023-11-30T20:21:37.953Z"
   },
   {
    "duration": 340,
    "start_time": "2023-11-30T20:21:37.983Z"
   },
   {
    "duration": 19,
    "start_time": "2023-11-30T20:21:38.325Z"
   },
   {
    "duration": 34,
    "start_time": "2023-11-30T20:21:38.345Z"
   },
   {
    "duration": 365,
    "start_time": "2023-11-30T20:21:38.380Z"
   },
   {
    "duration": 28,
    "start_time": "2023-11-30T20:21:38.747Z"
   },
   {
    "duration": 18,
    "start_time": "2023-11-30T20:21:38.777Z"
   },
   {
    "duration": 368,
    "start_time": "2023-11-30T20:21:38.797Z"
   },
   {
    "duration": 20,
    "start_time": "2023-11-30T20:21:39.167Z"
   },
   {
    "duration": 17,
    "start_time": "2023-11-30T20:21:39.189Z"
   },
   {
    "duration": 452,
    "start_time": "2023-11-30T20:21:39.208Z"
   },
   {
    "duration": 19,
    "start_time": "2023-11-30T20:21:39.666Z"
   },
   {
    "duration": 18,
    "start_time": "2023-11-30T20:21:39.687Z"
   },
   {
    "duration": 313,
    "start_time": "2023-11-30T20:21:39.706Z"
   },
   {
    "duration": 10,
    "start_time": "2023-11-30T20:21:40.021Z"
   },
   {
    "duration": 8,
    "start_time": "2023-11-30T20:21:40.032Z"
   },
   {
    "duration": 32,
    "start_time": "2023-11-30T20:21:40.042Z"
   },
   {
    "duration": 114,
    "start_time": "2023-11-30T20:21:40.079Z"
   },
   {
    "duration": 3,
    "start_time": "2023-11-30T20:21:45.972Z"
   },
   {
    "duration": 5,
    "start_time": "2023-11-30T20:21:45.979Z"
   },
   {
    "duration": 61,
    "start_time": "2023-11-30T20:21:45.985Z"
   },
   {
    "duration": 13,
    "start_time": "2023-11-30T20:21:46.048Z"
   },
   {
    "duration": 31,
    "start_time": "2023-11-30T20:21:46.062Z"
   },
   {
    "duration": 33,
    "start_time": "2023-11-30T20:21:46.095Z"
   },
   {
    "duration": 7,
    "start_time": "2023-11-30T20:21:46.129Z"
   },
   {
    "duration": 14,
    "start_time": "2023-11-30T20:21:46.138Z"
   },
   {
    "duration": 4,
    "start_time": "2023-11-30T20:21:46.154Z"
   },
   {
    "duration": 10,
    "start_time": "2023-11-30T20:21:46.159Z"
   },
   {
    "duration": 22,
    "start_time": "2023-11-30T20:21:46.171Z"
   },
   {
    "duration": 17,
    "start_time": "2023-11-30T20:21:46.196Z"
   },
   {
    "duration": 52,
    "start_time": "2023-11-30T20:21:46.215Z"
   },
   {
    "duration": 21,
    "start_time": "2023-11-30T20:21:46.269Z"
   },
   {
    "duration": 14,
    "start_time": "2023-11-30T20:21:46.292Z"
   },
   {
    "duration": 65,
    "start_time": "2023-11-30T20:21:46.307Z"
   },
   {
    "duration": 15,
    "start_time": "2023-11-30T20:21:46.373Z"
   },
   {
    "duration": 15,
    "start_time": "2023-11-30T20:21:46.390Z"
   },
   {
    "duration": 62,
    "start_time": "2023-11-30T20:21:46.406Z"
   },
   {
    "duration": 4004,
    "start_time": "2023-11-30T20:21:46.470Z"
   },
   {
    "duration": 14,
    "start_time": "2023-11-30T20:21:50.476Z"
   },
   {
    "duration": 35,
    "start_time": "2023-11-30T20:21:50.492Z"
   },
   {
    "duration": 38,
    "start_time": "2023-11-30T20:21:50.528Z"
   },
   {
    "duration": 5,
    "start_time": "2023-11-30T20:21:50.567Z"
   },
   {
    "duration": 18,
    "start_time": "2023-11-30T20:21:50.574Z"
   },
   {
    "duration": 14,
    "start_time": "2023-11-30T20:21:50.594Z"
   },
   {
    "duration": 28,
    "start_time": "2023-11-30T20:21:50.610Z"
   },
   {
    "duration": 8,
    "start_time": "2023-11-30T20:21:50.666Z"
   },
   {
    "duration": 448,
    "start_time": "2023-11-30T20:21:50.676Z"
   },
   {
    "duration": 15,
    "start_time": "2023-11-30T20:21:51.130Z"
   },
   {
    "duration": 376,
    "start_time": "2023-11-30T20:21:51.146Z"
   },
   {
    "duration": 9,
    "start_time": "2023-11-30T20:21:51.523Z"
   },
   {
    "duration": 982,
    "start_time": "2023-11-30T20:21:51.533Z"
   },
   {
    "duration": 8,
    "start_time": "2023-11-30T20:21:52.517Z"
   },
   {
    "duration": 40,
    "start_time": "2023-11-30T20:21:52.526Z"
   },
   {
    "duration": 231,
    "start_time": "2023-11-30T20:21:52.567Z"
   },
   {
    "duration": 7,
    "start_time": "2023-11-30T20:21:52.800Z"
   },
   {
    "duration": 1847,
    "start_time": "2023-11-30T20:21:52.808Z"
   },
   {
    "duration": 15,
    "start_time": "2023-11-30T20:21:54.657Z"
   },
   {
    "duration": 216,
    "start_time": "2023-11-30T20:21:54.674Z"
   },
   {
    "duration": 268,
    "start_time": "2023-11-30T20:21:54.891Z"
   },
   {
    "duration": 66,
    "start_time": "2023-11-30T20:21:55.161Z"
   },
   {
    "duration": 15,
    "start_time": "2023-11-30T20:21:55.229Z"
   },
   {
    "duration": 33,
    "start_time": "2023-11-30T20:21:55.246Z"
   },
   {
    "duration": 33,
    "start_time": "2023-11-30T20:21:55.281Z"
   },
   {
    "duration": 54,
    "start_time": "2023-11-30T20:21:55.315Z"
   },
   {
    "duration": 606,
    "start_time": "2023-11-30T20:21:55.371Z"
   },
   {
    "duration": 559,
    "start_time": "2023-11-30T20:21:55.979Z"
   },
   {
    "duration": 12,
    "start_time": "2023-11-30T20:21:56.540Z"
   },
   {
    "duration": 61,
    "start_time": "2023-11-30T20:21:56.553Z"
   },
   {
    "duration": 47,
    "start_time": "2023-11-30T20:21:56.615Z"
   },
   {
    "duration": 556,
    "start_time": "2023-11-30T20:21:56.663Z"
   },
   {
    "duration": 12,
    "start_time": "2023-11-30T20:21:57.220Z"
   },
   {
    "duration": 284,
    "start_time": "2023-11-30T20:21:57.234Z"
   },
   {
    "duration": 8,
    "start_time": "2023-11-30T20:21:57.519Z"
   },
   {
    "duration": 582,
    "start_time": "2023-11-30T20:21:57.529Z"
   },
   {
    "duration": 12,
    "start_time": "2023-11-30T20:21:58.113Z"
   },
   {
    "duration": 5,
    "start_time": "2023-11-30T20:21:58.127Z"
   },
   {
    "duration": 38,
    "start_time": "2023-11-30T20:21:58.133Z"
   },
   {
    "duration": 305,
    "start_time": "2023-11-30T20:21:58.173Z"
   },
   {
    "duration": 21,
    "start_time": "2023-11-30T20:21:58.479Z"
   },
   {
    "duration": 18,
    "start_time": "2023-11-30T20:21:58.501Z"
   },
   {
    "duration": 327,
    "start_time": "2023-11-30T20:21:58.521Z"
   },
   {
    "duration": 27,
    "start_time": "2023-11-30T20:21:58.850Z"
   },
   {
    "duration": 18,
    "start_time": "2023-11-30T20:21:58.878Z"
   },
   {
    "duration": 326,
    "start_time": "2023-11-30T20:21:58.897Z"
   },
   {
    "duration": 20,
    "start_time": "2023-11-30T20:21:59.225Z"
   },
   {
    "duration": 35,
    "start_time": "2023-11-30T20:21:59.246Z"
   },
   {
    "duration": 358,
    "start_time": "2023-11-30T20:21:59.282Z"
   },
   {
    "duration": 28,
    "start_time": "2023-11-30T20:21:59.642Z"
   },
   {
    "duration": 25,
    "start_time": "2023-11-30T20:21:59.671Z"
   },
   {
    "duration": 356,
    "start_time": "2023-11-30T20:21:59.698Z"
   },
   {
    "duration": 27,
    "start_time": "2023-11-30T20:22:00.055Z"
   },
   {
    "duration": 58,
    "start_time": "2023-11-30T20:22:00.084Z"
   },
   {
    "duration": 508,
    "start_time": "2023-11-30T20:22:00.144Z"
   },
   {
    "duration": 31,
    "start_time": "2023-11-30T20:22:00.654Z"
   },
   {
    "duration": 20,
    "start_time": "2023-11-30T20:22:00.686Z"
   },
   {
    "duration": 367,
    "start_time": "2023-11-30T20:22:00.707Z"
   },
   {
    "duration": 11,
    "start_time": "2023-11-30T20:22:01.075Z"
   },
   {
    "duration": 36,
    "start_time": "2023-11-30T20:22:01.087Z"
   },
   {
    "duration": 80,
    "start_time": "2023-11-30T20:22:01.124Z"
   },
   {
    "duration": 29,
    "start_time": "2023-11-30T20:22:01.206Z"
   },
   {
    "duration": 32,
    "start_time": "2023-11-30T20:22:01.237Z"
   },
   {
    "duration": 50,
    "start_time": "2023-11-30T22:42:29.072Z"
   },
   {
    "duration": 1507,
    "start_time": "2023-11-30T22:42:35.119Z"
   },
   {
    "duration": 3,
    "start_time": "2023-11-30T22:42:36.628Z"
   },
   {
    "duration": 109,
    "start_time": "2023-11-30T22:42:36.633Z"
   },
   {
    "duration": 18,
    "start_time": "2023-11-30T22:42:36.744Z"
   },
   {
    "duration": 15,
    "start_time": "2023-11-30T22:42:36.763Z"
   },
   {
    "duration": 12,
    "start_time": "2023-11-30T22:42:36.780Z"
   },
   {
    "duration": 14,
    "start_time": "2023-11-30T22:42:36.794Z"
   },
   {
    "duration": 55,
    "start_time": "2023-11-30T22:42:36.809Z"
   },
   {
    "duration": 6,
    "start_time": "2023-11-30T22:42:36.865Z"
   },
   {
    "duration": 11,
    "start_time": "2023-11-30T22:42:36.873Z"
   },
   {
    "duration": 26,
    "start_time": "2023-11-30T22:42:36.886Z"
   },
   {
    "duration": 14,
    "start_time": "2023-11-30T22:42:36.914Z"
   },
   {
    "duration": 15,
    "start_time": "2023-11-30T22:42:36.930Z"
   },
   {
    "duration": 32,
    "start_time": "2023-11-30T22:42:36.946Z"
   },
   {
    "duration": 14,
    "start_time": "2023-11-30T22:42:36.980Z"
   },
   {
    "duration": 41,
    "start_time": "2023-11-30T22:42:36.995Z"
   },
   {
    "duration": 35,
    "start_time": "2023-11-30T22:42:37.038Z"
   },
   {
    "duration": 14,
    "start_time": "2023-11-30T22:42:37.075Z"
   },
   {
    "duration": 29,
    "start_time": "2023-11-30T22:42:37.091Z"
   },
   {
    "duration": 3952,
    "start_time": "2023-11-30T22:42:37.122Z"
   },
   {
    "duration": 12,
    "start_time": "2023-11-30T22:42:41.076Z"
   },
   {
    "duration": 40,
    "start_time": "2023-11-30T22:42:41.090Z"
   },
   {
    "duration": 19,
    "start_time": "2023-11-30T22:42:41.131Z"
   },
   {
    "duration": 5,
    "start_time": "2023-11-30T22:42:41.165Z"
   },
   {
    "duration": 13,
    "start_time": "2023-11-30T22:42:41.172Z"
   },
   {
    "duration": 13,
    "start_time": "2023-11-30T22:42:41.187Z"
   },
   {
    "duration": 27,
    "start_time": "2023-11-30T22:42:41.202Z"
   },
   {
    "duration": 6,
    "start_time": "2023-11-30T22:42:41.265Z"
   },
   {
    "duration": 388,
    "start_time": "2023-11-30T22:42:41.273Z"
   },
   {
    "duration": 14,
    "start_time": "2023-11-30T22:42:41.664Z"
   },
   {
    "duration": 313,
    "start_time": "2023-11-30T22:42:41.679Z"
   },
   {
    "duration": 10,
    "start_time": "2023-11-30T22:42:41.994Z"
   },
   {
    "duration": 878,
    "start_time": "2023-11-30T22:42:42.005Z"
   },
   {
    "duration": 8,
    "start_time": "2023-11-30T22:42:42.885Z"
   },
   {
    "duration": 35,
    "start_time": "2023-11-30T22:42:42.894Z"
   },
   {
    "duration": 239,
    "start_time": "2023-11-30T22:42:42.931Z"
   },
   {
    "duration": 7,
    "start_time": "2023-11-30T22:42:43.172Z"
   },
   {
    "duration": 1279,
    "start_time": "2023-11-30T22:42:43.180Z"
   },
   {
    "duration": 14,
    "start_time": "2023-11-30T22:42:44.461Z"
   },
   {
    "duration": 230,
    "start_time": "2023-11-30T22:42:44.477Z"
   },
   {
    "duration": 271,
    "start_time": "2023-11-30T22:42:44.709Z"
   },
   {
    "duration": 64,
    "start_time": "2023-11-30T22:42:44.981Z"
   },
   {
    "duration": 30,
    "start_time": "2023-11-30T22:42:45.047Z"
   },
   {
    "duration": 16,
    "start_time": "2023-11-30T22:42:45.079Z"
   },
   {
    "duration": 43,
    "start_time": "2023-11-30T22:42:45.096Z"
   },
   {
    "duration": 40,
    "start_time": "2023-11-30T22:42:45.140Z"
   },
   {
    "duration": 506,
    "start_time": "2023-11-30T22:42:45.182Z"
   },
   {
    "duration": 495,
    "start_time": "2023-11-30T22:42:45.690Z"
   },
   {
    "duration": 13,
    "start_time": "2023-11-30T22:42:46.187Z"
   },
   {
    "duration": 81,
    "start_time": "2023-11-30T22:42:46.202Z"
   },
   {
    "duration": 164,
    "start_time": "2023-11-30T22:42:46.284Z"
   },
   {
    "duration": 454,
    "start_time": "2023-11-30T22:42:46.450Z"
   },
   {
    "duration": 11,
    "start_time": "2023-11-30T22:42:46.906Z"
   },
   {
    "duration": 262,
    "start_time": "2023-11-30T22:42:46.919Z"
   },
   {
    "duration": 8,
    "start_time": "2023-11-30T22:42:47.184Z"
   },
   {
    "duration": 440,
    "start_time": "2023-11-30T22:42:47.193Z"
   },
   {
    "duration": 14,
    "start_time": "2023-11-30T22:42:47.635Z"
   },
   {
    "duration": 37,
    "start_time": "2023-11-30T22:42:47.651Z"
   },
   {
    "duration": 74,
    "start_time": "2023-11-30T22:42:47.690Z"
   },
   {
    "duration": 303,
    "start_time": "2023-11-30T22:42:47.766Z"
   },
   {
    "duration": 21,
    "start_time": "2023-11-30T22:42:48.071Z"
   },
   {
    "duration": 40,
    "start_time": "2023-11-30T22:42:48.094Z"
   },
   {
    "duration": 360,
    "start_time": "2023-11-30T22:42:48.136Z"
   },
   {
    "duration": 20,
    "start_time": "2023-11-30T22:42:48.498Z"
   },
   {
    "duration": 44,
    "start_time": "2023-11-30T22:42:48.520Z"
   },
   {
    "duration": 309,
    "start_time": "2023-11-30T22:42:48.566Z"
   },
   {
    "duration": 20,
    "start_time": "2023-11-30T22:42:48.877Z"
   },
   {
    "duration": 39,
    "start_time": "2023-11-30T22:42:48.898Z"
   },
   {
    "duration": 329,
    "start_time": "2023-11-30T22:42:48.939Z"
   },
   {
    "duration": 21,
    "start_time": "2023-11-30T22:42:49.270Z"
   },
   {
    "duration": 28,
    "start_time": "2023-11-30T22:42:49.293Z"
   },
   {
    "duration": 346,
    "start_time": "2023-11-30T22:42:49.323Z"
   },
   {
    "duration": 21,
    "start_time": "2023-11-30T22:42:49.671Z"
   },
   {
    "duration": 36,
    "start_time": "2023-11-30T22:42:49.694Z"
   },
   {
    "duration": 411,
    "start_time": "2023-11-30T22:42:49.732Z"
   },
   {
    "duration": 32,
    "start_time": "2023-11-30T22:42:50.145Z"
   },
   {
    "duration": 15,
    "start_time": "2023-11-30T22:42:50.178Z"
   },
   {
    "duration": 330,
    "start_time": "2023-11-30T22:42:50.195Z"
   },
   {
    "duration": 11,
    "start_time": "2023-11-30T22:42:50.526Z"
   },
   {
    "duration": 22,
    "start_time": "2023-11-30T22:42:50.539Z"
   },
   {
    "duration": 39,
    "start_time": "2023-11-30T22:42:50.563Z"
   },
   {
    "duration": 33,
    "start_time": "2023-11-30T22:42:50.607Z"
   },
   {
    "duration": 32,
    "start_time": "2023-11-30T22:42:50.642Z"
   },
   {
    "duration": 20,
    "start_time": "2023-11-30T22:53:32.887Z"
   },
   {
    "duration": 23,
    "start_time": "2023-11-30T22:54:04.625Z"
   },
   {
    "duration": 64,
    "start_time": "2023-11-30T23:01:24.326Z"
   },
   {
    "duration": 3288,
    "start_time": "2023-11-30T23:02:13.085Z"
   },
   {
    "duration": 6,
    "start_time": "2023-11-30T23:02:33.847Z"
   },
   {
    "duration": 1314,
    "start_time": "2023-11-30T23:03:10.405Z"
   },
   {
    "duration": 1040,
    "start_time": "2023-11-30T23:04:11.508Z"
   },
   {
    "duration": 29,
    "start_time": "2023-11-30T23:09:10.865Z"
   },
   {
    "duration": 16,
    "start_time": "2023-11-30T23:18:26.029Z"
   },
   {
    "duration": 174,
    "start_time": "2023-11-30T23:27:39.940Z"
   },
   {
    "duration": 180,
    "start_time": "2023-11-30T23:28:55.153Z"
   },
   {
    "duration": 198,
    "start_time": "2023-11-30T23:29:34.350Z"
   },
   {
    "duration": 162,
    "start_time": "2023-11-30T23:33:53.704Z"
   },
   {
    "duration": 209,
    "start_time": "2023-11-30T23:35:03.613Z"
   },
   {
    "duration": 348,
    "start_time": "2023-11-30T23:37:12.769Z"
   },
   {
    "duration": 12,
    "start_time": "2023-11-30T23:39:21.932Z"
   },
   {
    "duration": 201,
    "start_time": "2023-11-30T23:40:07.857Z"
   },
   {
    "duration": 255,
    "start_time": "2023-11-30T23:47:09.340Z"
   },
   {
    "duration": 218,
    "start_time": "2023-11-30T23:48:24.350Z"
   },
   {
    "duration": 220,
    "start_time": "2023-11-30T23:49:38.532Z"
   },
   {
    "duration": 234,
    "start_time": "2023-11-30T23:50:12.915Z"
   },
   {
    "duration": 202,
    "start_time": "2023-11-30T23:50:37.000Z"
   },
   {
    "duration": 50,
    "start_time": "2023-12-01T07:57:22.738Z"
   },
   {
    "duration": 1494,
    "start_time": "2023-12-01T07:57:33.783Z"
   },
   {
    "duration": 0,
    "start_time": "2023-12-01T07:57:35.280Z"
   },
   {
    "duration": 0,
    "start_time": "2023-12-01T07:57:35.281Z"
   },
   {
    "duration": 0,
    "start_time": "2023-12-01T07:57:35.282Z"
   },
   {
    "duration": 0,
    "start_time": "2023-12-01T07:57:35.284Z"
   },
   {
    "duration": 0,
    "start_time": "2023-12-01T07:57:35.285Z"
   },
   {
    "duration": 0,
    "start_time": "2023-12-01T07:57:35.286Z"
   },
   {
    "duration": 0,
    "start_time": "2023-12-01T07:57:35.287Z"
   },
   {
    "duration": 0,
    "start_time": "2023-12-01T07:57:35.288Z"
   },
   {
    "duration": 0,
    "start_time": "2023-12-01T07:57:35.289Z"
   },
   {
    "duration": 0,
    "start_time": "2023-12-01T07:57:35.290Z"
   },
   {
    "duration": 0,
    "start_time": "2023-12-01T07:57:35.292Z"
   },
   {
    "duration": 0,
    "start_time": "2023-12-01T07:57:35.293Z"
   },
   {
    "duration": 0,
    "start_time": "2023-12-01T07:57:35.295Z"
   },
   {
    "duration": 0,
    "start_time": "2023-12-01T07:57:35.296Z"
   },
   {
    "duration": 0,
    "start_time": "2023-12-01T07:57:35.297Z"
   },
   {
    "duration": 0,
    "start_time": "2023-12-01T07:57:35.298Z"
   },
   {
    "duration": 0,
    "start_time": "2023-12-01T07:57:35.299Z"
   },
   {
    "duration": 0,
    "start_time": "2023-12-01T07:57:35.300Z"
   },
   {
    "duration": 0,
    "start_time": "2023-12-01T07:57:35.301Z"
   },
   {
    "duration": 0,
    "start_time": "2023-12-01T07:57:35.302Z"
   },
   {
    "duration": 0,
    "start_time": "2023-12-01T07:57:35.303Z"
   },
   {
    "duration": 0,
    "start_time": "2023-12-01T07:57:35.304Z"
   },
   {
    "duration": 0,
    "start_time": "2023-12-01T07:57:35.306Z"
   },
   {
    "duration": 0,
    "start_time": "2023-12-01T07:57:35.307Z"
   },
   {
    "duration": 0,
    "start_time": "2023-12-01T07:57:35.308Z"
   },
   {
    "duration": 0,
    "start_time": "2023-12-01T07:57:35.309Z"
   },
   {
    "duration": 0,
    "start_time": "2023-12-01T07:57:35.310Z"
   },
   {
    "duration": 0,
    "start_time": "2023-12-01T07:57:35.311Z"
   },
   {
    "duration": 0,
    "start_time": "2023-12-01T07:57:35.312Z"
   },
   {
    "duration": 0,
    "start_time": "2023-12-01T07:57:35.313Z"
   },
   {
    "duration": 0,
    "start_time": "2023-12-01T07:57:35.314Z"
   },
   {
    "duration": 0,
    "start_time": "2023-12-01T07:57:35.314Z"
   },
   {
    "duration": 0,
    "start_time": "2023-12-01T07:57:35.315Z"
   },
   {
    "duration": 0,
    "start_time": "2023-12-01T07:57:35.373Z"
   },
   {
    "duration": 0,
    "start_time": "2023-12-01T07:57:35.374Z"
   },
   {
    "duration": 0,
    "start_time": "2023-12-01T07:57:35.375Z"
   },
   {
    "duration": 0,
    "start_time": "2023-12-01T07:57:35.377Z"
   },
   {
    "duration": 0,
    "start_time": "2023-12-01T07:57:35.377Z"
   },
   {
    "duration": 0,
    "start_time": "2023-12-01T07:57:35.378Z"
   },
   {
    "duration": 0,
    "start_time": "2023-12-01T07:57:35.379Z"
   },
   {
    "duration": 0,
    "start_time": "2023-12-01T07:57:35.380Z"
   },
   {
    "duration": 0,
    "start_time": "2023-12-01T07:57:35.381Z"
   },
   {
    "duration": 0,
    "start_time": "2023-12-01T07:57:35.382Z"
   },
   {
    "duration": 0,
    "start_time": "2023-12-01T07:57:35.383Z"
   },
   {
    "duration": 0,
    "start_time": "2023-12-01T07:57:35.383Z"
   },
   {
    "duration": 0,
    "start_time": "2023-12-01T07:57:35.384Z"
   },
   {
    "duration": 0,
    "start_time": "2023-12-01T07:57:35.385Z"
   },
   {
    "duration": 0,
    "start_time": "2023-12-01T07:57:35.386Z"
   },
   {
    "duration": 0,
    "start_time": "2023-12-01T07:57:35.387Z"
   },
   {
    "duration": 0,
    "start_time": "2023-12-01T07:57:35.388Z"
   },
   {
    "duration": 0,
    "start_time": "2023-12-01T07:57:35.390Z"
   },
   {
    "duration": 0,
    "start_time": "2023-12-01T07:57:35.391Z"
   },
   {
    "duration": 0,
    "start_time": "2023-12-01T07:57:35.392Z"
   },
   {
    "duration": 0,
    "start_time": "2023-12-01T07:57:35.394Z"
   },
   {
    "duration": 0,
    "start_time": "2023-12-01T07:57:35.395Z"
   },
   {
    "duration": 0,
    "start_time": "2023-12-01T07:57:35.396Z"
   },
   {
    "duration": 0,
    "start_time": "2023-12-01T07:57:35.398Z"
   },
   {
    "duration": 0,
    "start_time": "2023-12-01T07:57:35.399Z"
   },
   {
    "duration": 0,
    "start_time": "2023-12-01T07:57:35.400Z"
   },
   {
    "duration": 0,
    "start_time": "2023-12-01T07:57:35.401Z"
   },
   {
    "duration": 0,
    "start_time": "2023-12-01T07:57:35.403Z"
   },
   {
    "duration": 0,
    "start_time": "2023-12-01T07:57:35.404Z"
   },
   {
    "duration": 0,
    "start_time": "2023-12-01T07:57:35.406Z"
   },
   {
    "duration": 0,
    "start_time": "2023-12-01T07:57:35.407Z"
   },
   {
    "duration": 0,
    "start_time": "2023-12-01T07:57:35.409Z"
   },
   {
    "duration": 0,
    "start_time": "2023-12-01T07:57:35.473Z"
   },
   {
    "duration": 0,
    "start_time": "2023-12-01T07:57:35.474Z"
   },
   {
    "duration": 0,
    "start_time": "2023-12-01T07:57:35.479Z"
   },
   {
    "duration": 0,
    "start_time": "2023-12-01T07:57:35.480Z"
   },
   {
    "duration": 0,
    "start_time": "2023-12-01T07:57:35.481Z"
   },
   {
    "duration": 0,
    "start_time": "2023-12-01T07:57:35.483Z"
   },
   {
    "duration": 0,
    "start_time": "2023-12-01T07:57:35.484Z"
   },
   {
    "duration": 0,
    "start_time": "2023-12-01T07:57:35.486Z"
   },
   {
    "duration": 0,
    "start_time": "2023-12-01T07:57:35.487Z"
   },
   {
    "duration": 0,
    "start_time": "2023-12-01T07:57:35.488Z"
   },
   {
    "duration": 0,
    "start_time": "2023-12-01T07:57:35.490Z"
   },
   {
    "duration": 0,
    "start_time": "2023-12-01T07:57:35.492Z"
   },
   {
    "duration": 0,
    "start_time": "2023-12-01T07:57:35.493Z"
   },
   {
    "duration": 0,
    "start_time": "2023-12-01T07:57:35.494Z"
   },
   {
    "duration": 0,
    "start_time": "2023-12-01T07:57:35.496Z"
   },
   {
    "duration": 0,
    "start_time": "2023-12-01T07:57:35.497Z"
   },
   {
    "duration": 0,
    "start_time": "2023-12-01T07:57:35.499Z"
   },
   {
    "duration": 0,
    "start_time": "2023-12-01T07:57:35.500Z"
   },
   {
    "duration": 0,
    "start_time": "2023-12-01T07:57:35.501Z"
   },
   {
    "duration": 9,
    "start_time": "2023-12-01T07:57:58.134Z"
   },
   {
    "duration": 0,
    "start_time": "2023-12-01T07:57:58.145Z"
   },
   {
    "duration": 197,
    "start_time": "2023-12-01T07:57:58.154Z"
   },
   {
    "duration": 17,
    "start_time": "2023-12-01T07:57:58.353Z"
   },
   {
    "duration": 15,
    "start_time": "2023-12-01T07:57:58.371Z"
   },
   {
    "duration": 15,
    "start_time": "2023-12-01T07:57:58.387Z"
   },
   {
    "duration": 6,
    "start_time": "2023-12-01T07:57:58.404Z"
   },
   {
    "duration": 14,
    "start_time": "2023-12-01T07:57:58.411Z"
   },
   {
    "duration": 5,
    "start_time": "2023-12-01T07:57:58.426Z"
   },
   {
    "duration": 10,
    "start_time": "2023-12-01T07:57:58.432Z"
   },
   {
    "duration": 42,
    "start_time": "2023-12-01T07:57:58.443Z"
   },
   {
    "duration": 0,
    "start_time": "2023-12-01T07:57:58.487Z"
   },
   {
    "duration": 0,
    "start_time": "2023-12-01T07:57:58.489Z"
   },
   {
    "duration": 0,
    "start_time": "2023-12-01T07:57:58.489Z"
   },
   {
    "duration": 0,
    "start_time": "2023-12-01T07:57:58.490Z"
   },
   {
    "duration": 0,
    "start_time": "2023-12-01T07:57:58.491Z"
   },
   {
    "duration": 0,
    "start_time": "2023-12-01T07:57:58.492Z"
   },
   {
    "duration": 0,
    "start_time": "2023-12-01T07:57:58.493Z"
   },
   {
    "duration": 0,
    "start_time": "2023-12-01T07:57:58.494Z"
   },
   {
    "duration": 0,
    "start_time": "2023-12-01T07:57:58.495Z"
   },
   {
    "duration": 0,
    "start_time": "2023-12-01T07:57:58.496Z"
   },
   {
    "duration": 0,
    "start_time": "2023-12-01T07:57:58.497Z"
   },
   {
    "duration": 0,
    "start_time": "2023-12-01T07:57:58.497Z"
   },
   {
    "duration": 0,
    "start_time": "2023-12-01T07:57:58.498Z"
   },
   {
    "duration": 0,
    "start_time": "2023-12-01T07:57:58.499Z"
   },
   {
    "duration": 0,
    "start_time": "2023-12-01T07:57:58.500Z"
   },
   {
    "duration": 0,
    "start_time": "2023-12-01T07:57:58.501Z"
   },
   {
    "duration": 0,
    "start_time": "2023-12-01T07:57:58.502Z"
   },
   {
    "duration": 0,
    "start_time": "2023-12-01T07:57:58.503Z"
   },
   {
    "duration": 0,
    "start_time": "2023-12-01T07:57:58.504Z"
   },
   {
    "duration": 0,
    "start_time": "2023-12-01T07:57:58.505Z"
   },
   {
    "duration": 0,
    "start_time": "2023-12-01T07:57:58.506Z"
   },
   {
    "duration": 0,
    "start_time": "2023-12-01T07:57:58.507Z"
   },
   {
    "duration": 0,
    "start_time": "2023-12-01T07:57:58.508Z"
   },
   {
    "duration": 0,
    "start_time": "2023-12-01T07:57:58.509Z"
   },
   {
    "duration": 0,
    "start_time": "2023-12-01T07:57:58.509Z"
   },
   {
    "duration": 0,
    "start_time": "2023-12-01T07:57:58.510Z"
   },
   {
    "duration": 0,
    "start_time": "2023-12-01T07:57:58.511Z"
   },
   {
    "duration": 0,
    "start_time": "2023-12-01T07:57:58.512Z"
   },
   {
    "duration": 0,
    "start_time": "2023-12-01T07:57:58.513Z"
   },
   {
    "duration": 0,
    "start_time": "2023-12-01T07:57:58.514Z"
   },
   {
    "duration": 63,
    "start_time": "2023-12-01T07:57:58.517Z"
   },
   {
    "duration": 0,
    "start_time": "2023-12-01T07:57:58.582Z"
   },
   {
    "duration": 0,
    "start_time": "2023-12-01T07:57:58.583Z"
   },
   {
    "duration": 0,
    "start_time": "2023-12-01T07:57:58.584Z"
   },
   {
    "duration": 0,
    "start_time": "2023-12-01T07:57:58.585Z"
   },
   {
    "duration": 0,
    "start_time": "2023-12-01T07:57:58.586Z"
   },
   {
    "duration": 0,
    "start_time": "2023-12-01T07:57:58.587Z"
   },
   {
    "duration": 0,
    "start_time": "2023-12-01T07:57:58.588Z"
   },
   {
    "duration": 0,
    "start_time": "2023-12-01T07:57:58.589Z"
   },
   {
    "duration": 0,
    "start_time": "2023-12-01T07:57:58.590Z"
   },
   {
    "duration": 0,
    "start_time": "2023-12-01T07:57:58.591Z"
   },
   {
    "duration": 9,
    "start_time": "2023-12-01T07:57:58.593Z"
   },
   {
    "duration": 0,
    "start_time": "2023-12-01T07:57:58.603Z"
   },
   {
    "duration": 69,
    "start_time": "2023-12-01T07:57:58.605Z"
   },
   {
    "duration": 0,
    "start_time": "2023-12-01T07:57:58.675Z"
   },
   {
    "duration": 9,
    "start_time": "2023-12-01T07:57:58.678Z"
   },
   {
    "duration": 0,
    "start_time": "2023-12-01T07:57:58.689Z"
   },
   {
    "duration": 0,
    "start_time": "2023-12-01T07:57:58.690Z"
   },
   {
    "duration": 0,
    "start_time": "2023-12-01T07:57:58.691Z"
   },
   {
    "duration": 0,
    "start_time": "2023-12-01T07:57:58.692Z"
   },
   {
    "duration": 0,
    "start_time": "2023-12-01T07:57:58.693Z"
   },
   {
    "duration": 0,
    "start_time": "2023-12-01T07:57:58.694Z"
   },
   {
    "duration": 0,
    "start_time": "2023-12-01T07:57:58.695Z"
   },
   {
    "duration": 0,
    "start_time": "2023-12-01T07:57:58.696Z"
   },
   {
    "duration": 8,
    "start_time": "2023-12-01T07:57:58.703Z"
   },
   {
    "duration": 0,
    "start_time": "2023-12-01T07:57:58.713Z"
   },
   {
    "duration": 0,
    "start_time": "2023-12-01T07:57:58.714Z"
   },
   {
    "duration": 59,
    "start_time": "2023-12-01T07:57:58.719Z"
   },
   {
    "duration": 0,
    "start_time": "2023-12-01T07:57:58.780Z"
   },
   {
    "duration": 0,
    "start_time": "2023-12-01T07:57:58.781Z"
   },
   {
    "duration": 0,
    "start_time": "2023-12-01T07:57:58.782Z"
   },
   {
    "duration": 0,
    "start_time": "2023-12-01T07:57:58.783Z"
   },
   {
    "duration": 0,
    "start_time": "2023-12-01T07:57:58.785Z"
   },
   {
    "duration": 7,
    "start_time": "2023-12-01T07:57:58.786Z"
   },
   {
    "duration": 0,
    "start_time": "2023-12-01T07:57:58.794Z"
   },
   {
    "duration": 0,
    "start_time": "2023-12-01T07:57:58.796Z"
   },
   {
    "duration": 7,
    "start_time": "2023-12-01T07:57:58.800Z"
   },
   {
    "duration": 8,
    "start_time": "2023-12-01T07:57:58.817Z"
   },
   {
    "duration": 0,
    "start_time": "2023-12-01T07:57:58.826Z"
   },
   {
    "duration": 9,
    "start_time": "2023-12-01T07:57:58.874Z"
   },
   {
    "duration": 0,
    "start_time": "2023-12-01T07:57:58.885Z"
   },
   {
    "duration": 0,
    "start_time": "2023-12-01T07:57:58.886Z"
   },
   {
    "duration": 0,
    "start_time": "2023-12-01T07:57:58.887Z"
   },
   {
    "duration": 0,
    "start_time": "2023-12-01T07:57:58.888Z"
   },
   {
    "duration": 12,
    "start_time": "2023-12-01T07:58:25.864Z"
   },
   {
    "duration": 3260,
    "start_time": "2023-12-01T07:59:21.955Z"
   },
   {
    "duration": 5,
    "start_time": "2023-12-01T07:59:31.847Z"
   },
   {
    "duration": 2474,
    "start_time": "2023-12-01T07:59:35.127Z"
   },
   {
    "duration": 4,
    "start_time": "2023-12-01T07:59:37.603Z"
   },
   {
    "duration": 4,
    "start_time": "2023-12-01T07:59:37.609Z"
   },
   {
    "duration": 58,
    "start_time": "2023-12-01T07:59:37.614Z"
   },
   {
    "duration": 15,
    "start_time": "2023-12-01T07:59:37.674Z"
   },
   {
    "duration": 27,
    "start_time": "2023-12-01T07:59:37.691Z"
   },
   {
    "duration": 13,
    "start_time": "2023-12-01T07:59:37.720Z"
   },
   {
    "duration": 45,
    "start_time": "2023-12-01T07:59:37.734Z"
   },
   {
    "duration": 14,
    "start_time": "2023-12-01T07:59:37.781Z"
   },
   {
    "duration": 4,
    "start_time": "2023-12-01T07:59:37.796Z"
   },
   {
    "duration": 10,
    "start_time": "2023-12-01T07:59:37.802Z"
   },
   {
    "duration": 22,
    "start_time": "2023-12-01T07:59:37.813Z"
   },
   {
    "duration": 0,
    "start_time": "2023-12-01T07:59:37.839Z"
   },
   {
    "duration": 0,
    "start_time": "2023-12-01T07:59:37.840Z"
   },
   {
    "duration": 0,
    "start_time": "2023-12-01T07:59:37.841Z"
   },
   {
    "duration": 0,
    "start_time": "2023-12-01T07:59:37.842Z"
   },
   {
    "duration": 0,
    "start_time": "2023-12-01T07:59:37.842Z"
   },
   {
    "duration": 0,
    "start_time": "2023-12-01T07:59:37.844Z"
   },
   {
    "duration": 0,
    "start_time": "2023-12-01T07:59:37.845Z"
   },
   {
    "duration": 0,
    "start_time": "2023-12-01T07:59:37.845Z"
   },
   {
    "duration": 0,
    "start_time": "2023-12-01T07:59:37.846Z"
   },
   {
    "duration": 0,
    "start_time": "2023-12-01T07:59:37.847Z"
   },
   {
    "duration": 0,
    "start_time": "2023-12-01T07:59:37.848Z"
   },
   {
    "duration": 0,
    "start_time": "2023-12-01T07:59:37.849Z"
   },
   {
    "duration": 0,
    "start_time": "2023-12-01T07:59:37.850Z"
   },
   {
    "duration": 0,
    "start_time": "2023-12-01T07:59:37.873Z"
   },
   {
    "duration": 0,
    "start_time": "2023-12-01T07:59:37.875Z"
   },
   {
    "duration": 0,
    "start_time": "2023-12-01T07:59:37.875Z"
   },
   {
    "duration": 0,
    "start_time": "2023-12-01T07:59:37.876Z"
   },
   {
    "duration": 0,
    "start_time": "2023-12-01T07:59:37.878Z"
   },
   {
    "duration": 0,
    "start_time": "2023-12-01T07:59:37.879Z"
   },
   {
    "duration": 0,
    "start_time": "2023-12-01T07:59:37.880Z"
   },
   {
    "duration": 0,
    "start_time": "2023-12-01T07:59:37.881Z"
   },
   {
    "duration": 0,
    "start_time": "2023-12-01T07:59:37.882Z"
   },
   {
    "duration": 0,
    "start_time": "2023-12-01T07:59:37.883Z"
   },
   {
    "duration": 0,
    "start_time": "2023-12-01T07:59:37.884Z"
   },
   {
    "duration": 0,
    "start_time": "2023-12-01T07:59:37.885Z"
   },
   {
    "duration": 0,
    "start_time": "2023-12-01T07:59:37.886Z"
   },
   {
    "duration": 0,
    "start_time": "2023-12-01T07:59:37.887Z"
   },
   {
    "duration": 0,
    "start_time": "2023-12-01T07:59:37.888Z"
   },
   {
    "duration": 0,
    "start_time": "2023-12-01T07:59:37.889Z"
   },
   {
    "duration": 0,
    "start_time": "2023-12-01T07:59:37.890Z"
   },
   {
    "duration": 0,
    "start_time": "2023-12-01T07:59:37.891Z"
   },
   {
    "duration": 0,
    "start_time": "2023-12-01T07:59:37.892Z"
   },
   {
    "duration": 0,
    "start_time": "2023-12-01T07:59:37.893Z"
   },
   {
    "duration": 0,
    "start_time": "2023-12-01T07:59:37.894Z"
   },
   {
    "duration": 0,
    "start_time": "2023-12-01T07:59:37.895Z"
   },
   {
    "duration": 0,
    "start_time": "2023-12-01T07:59:37.896Z"
   },
   {
    "duration": 0,
    "start_time": "2023-12-01T07:59:37.897Z"
   },
   {
    "duration": 0,
    "start_time": "2023-12-01T07:59:37.898Z"
   },
   {
    "duration": 0,
    "start_time": "2023-12-01T07:59:37.899Z"
   },
   {
    "duration": 0,
    "start_time": "2023-12-01T07:59:37.900Z"
   },
   {
    "duration": 0,
    "start_time": "2023-12-01T07:59:37.901Z"
   },
   {
    "duration": 0,
    "start_time": "2023-12-01T07:59:37.902Z"
   },
   {
    "duration": 0,
    "start_time": "2023-12-01T07:59:37.903Z"
   },
   {
    "duration": 0,
    "start_time": "2023-12-01T07:59:37.904Z"
   },
   {
    "duration": 0,
    "start_time": "2023-12-01T07:59:37.905Z"
   },
   {
    "duration": 0,
    "start_time": "2023-12-01T07:59:37.906Z"
   },
   {
    "duration": 0,
    "start_time": "2023-12-01T07:59:37.907Z"
   },
   {
    "duration": 0,
    "start_time": "2023-12-01T07:59:37.908Z"
   },
   {
    "duration": 0,
    "start_time": "2023-12-01T07:59:37.974Z"
   },
   {
    "duration": 0,
    "start_time": "2023-12-01T07:59:37.975Z"
   },
   {
    "duration": 0,
    "start_time": "2023-12-01T07:59:37.976Z"
   },
   {
    "duration": 0,
    "start_time": "2023-12-01T07:59:37.978Z"
   },
   {
    "duration": 0,
    "start_time": "2023-12-01T07:59:37.979Z"
   },
   {
    "duration": 0,
    "start_time": "2023-12-01T07:59:37.980Z"
   },
   {
    "duration": 0,
    "start_time": "2023-12-01T07:59:37.982Z"
   },
   {
    "duration": 0,
    "start_time": "2023-12-01T07:59:37.983Z"
   },
   {
    "duration": 0,
    "start_time": "2023-12-01T07:59:37.985Z"
   },
   {
    "duration": 0,
    "start_time": "2023-12-01T07:59:37.986Z"
   },
   {
    "duration": 0,
    "start_time": "2023-12-01T07:59:37.988Z"
   },
   {
    "duration": 0,
    "start_time": "2023-12-01T07:59:37.989Z"
   },
   {
    "duration": 0,
    "start_time": "2023-12-01T07:59:37.990Z"
   },
   {
    "duration": 0,
    "start_time": "2023-12-01T07:59:37.992Z"
   },
   {
    "duration": 0,
    "start_time": "2023-12-01T07:59:37.993Z"
   },
   {
    "duration": 0,
    "start_time": "2023-12-01T07:59:37.994Z"
   },
   {
    "duration": 0,
    "start_time": "2023-12-01T07:59:37.996Z"
   },
   {
    "duration": 0,
    "start_time": "2023-12-01T07:59:37.997Z"
   },
   {
    "duration": 0,
    "start_time": "2023-12-01T07:59:37.999Z"
   },
   {
    "duration": 0,
    "start_time": "2023-12-01T07:59:38.000Z"
   },
   {
    "duration": 0,
    "start_time": "2023-12-01T07:59:38.001Z"
   },
   {
    "duration": 0,
    "start_time": "2023-12-01T07:59:38.002Z"
   },
   {
    "duration": 0,
    "start_time": "2023-12-01T07:59:38.003Z"
   },
   {
    "duration": 0,
    "start_time": "2023-12-01T07:59:38.004Z"
   },
   {
    "duration": 0,
    "start_time": "2023-12-01T07:59:38.004Z"
   },
   {
    "duration": 0,
    "start_time": "2023-12-01T07:59:38.005Z"
   },
   {
    "duration": 2473,
    "start_time": "2023-12-01T07:59:51.656Z"
   },
   {
    "duration": 1143,
    "start_time": "2023-12-01T07:59:54.131Z"
   },
   {
    "duration": 4,
    "start_time": "2023-12-01T07:59:55.275Z"
   },
   {
    "duration": 78,
    "start_time": "2023-12-01T07:59:55.281Z"
   },
   {
    "duration": 18,
    "start_time": "2023-12-01T07:59:55.360Z"
   },
   {
    "duration": 44,
    "start_time": "2023-12-01T07:59:55.379Z"
   },
   {
    "duration": 25,
    "start_time": "2023-12-01T07:59:55.425Z"
   },
   {
    "duration": 5,
    "start_time": "2023-12-01T07:59:55.451Z"
   },
   {
    "duration": 14,
    "start_time": "2023-12-01T07:59:55.457Z"
   },
   {
    "duration": 5,
    "start_time": "2023-12-01T07:59:55.473Z"
   },
   {
    "duration": 37,
    "start_time": "2023-12-01T07:59:55.479Z"
   },
   {
    "duration": 102,
    "start_time": "2023-12-01T07:59:55.517Z"
   },
   {
    "duration": 0,
    "start_time": "2023-12-01T07:59:55.622Z"
   },
   {
    "duration": 0,
    "start_time": "2023-12-01T07:59:55.623Z"
   },
   {
    "duration": 0,
    "start_time": "2023-12-01T07:59:55.624Z"
   },
   {
    "duration": 0,
    "start_time": "2023-12-01T07:59:55.625Z"
   },
   {
    "duration": 0,
    "start_time": "2023-12-01T07:59:55.626Z"
   },
   {
    "duration": 0,
    "start_time": "2023-12-01T07:59:55.627Z"
   },
   {
    "duration": 0,
    "start_time": "2023-12-01T07:59:55.628Z"
   },
   {
    "duration": 0,
    "start_time": "2023-12-01T07:59:55.629Z"
   },
   {
    "duration": 0,
    "start_time": "2023-12-01T07:59:55.630Z"
   },
   {
    "duration": 0,
    "start_time": "2023-12-01T07:59:55.631Z"
   },
   {
    "duration": 0,
    "start_time": "2023-12-01T07:59:55.632Z"
   },
   {
    "duration": 0,
    "start_time": "2023-12-01T07:59:55.633Z"
   },
   {
    "duration": 0,
    "start_time": "2023-12-01T07:59:55.634Z"
   },
   {
    "duration": 0,
    "start_time": "2023-12-01T07:59:55.634Z"
   },
   {
    "duration": 0,
    "start_time": "2023-12-01T07:59:55.636Z"
   },
   {
    "duration": 0,
    "start_time": "2023-12-01T07:59:55.636Z"
   },
   {
    "duration": 0,
    "start_time": "2023-12-01T07:59:55.637Z"
   },
   {
    "duration": 0,
    "start_time": "2023-12-01T07:59:55.638Z"
   },
   {
    "duration": 0,
    "start_time": "2023-12-01T07:59:55.639Z"
   },
   {
    "duration": 0,
    "start_time": "2023-12-01T07:59:55.640Z"
   },
   {
    "duration": 0,
    "start_time": "2023-12-01T07:59:55.640Z"
   },
   {
    "duration": 0,
    "start_time": "2023-12-01T07:59:55.673Z"
   },
   {
    "duration": 0,
    "start_time": "2023-12-01T07:59:55.674Z"
   },
   {
    "duration": 0,
    "start_time": "2023-12-01T07:59:55.674Z"
   },
   {
    "duration": 0,
    "start_time": "2023-12-01T07:59:55.675Z"
   },
   {
    "duration": 0,
    "start_time": "2023-12-01T07:59:55.676Z"
   },
   {
    "duration": 0,
    "start_time": "2023-12-01T07:59:55.677Z"
   },
   {
    "duration": 0,
    "start_time": "2023-12-01T07:59:55.678Z"
   },
   {
    "duration": 0,
    "start_time": "2023-12-01T07:59:55.679Z"
   },
   {
    "duration": 0,
    "start_time": "2023-12-01T07:59:55.680Z"
   },
   {
    "duration": 0,
    "start_time": "2023-12-01T07:59:55.681Z"
   },
   {
    "duration": 0,
    "start_time": "2023-12-01T07:59:55.682Z"
   },
   {
    "duration": 0,
    "start_time": "2023-12-01T07:59:55.683Z"
   },
   {
    "duration": 0,
    "start_time": "2023-12-01T07:59:55.684Z"
   },
   {
    "duration": 0,
    "start_time": "2023-12-01T07:59:55.685Z"
   },
   {
    "duration": 0,
    "start_time": "2023-12-01T07:59:55.686Z"
   },
   {
    "duration": 0,
    "start_time": "2023-12-01T07:59:55.686Z"
   },
   {
    "duration": 0,
    "start_time": "2023-12-01T07:59:55.687Z"
   },
   {
    "duration": 0,
    "start_time": "2023-12-01T07:59:55.688Z"
   },
   {
    "duration": 0,
    "start_time": "2023-12-01T07:59:55.689Z"
   },
   {
    "duration": 0,
    "start_time": "2023-12-01T07:59:55.690Z"
   },
   {
    "duration": 0,
    "start_time": "2023-12-01T07:59:55.691Z"
   },
   {
    "duration": 0,
    "start_time": "2023-12-01T07:59:55.692Z"
   },
   {
    "duration": 0,
    "start_time": "2023-12-01T07:59:55.693Z"
   },
   {
    "duration": 0,
    "start_time": "2023-12-01T07:59:55.694Z"
   },
   {
    "duration": 0,
    "start_time": "2023-12-01T07:59:55.695Z"
   },
   {
    "duration": 0,
    "start_time": "2023-12-01T07:59:55.696Z"
   },
   {
    "duration": 0,
    "start_time": "2023-12-01T07:59:55.696Z"
   },
   {
    "duration": 0,
    "start_time": "2023-12-01T07:59:55.697Z"
   },
   {
    "duration": 0,
    "start_time": "2023-12-01T07:59:55.698Z"
   },
   {
    "duration": 0,
    "start_time": "2023-12-01T07:59:55.699Z"
   },
   {
    "duration": 0,
    "start_time": "2023-12-01T07:59:55.700Z"
   },
   {
    "duration": 0,
    "start_time": "2023-12-01T07:59:55.701Z"
   },
   {
    "duration": 0,
    "start_time": "2023-12-01T07:59:55.702Z"
   },
   {
    "duration": 0,
    "start_time": "2023-12-01T07:59:55.703Z"
   },
   {
    "duration": 0,
    "start_time": "2023-12-01T07:59:55.704Z"
   },
   {
    "duration": 0,
    "start_time": "2023-12-01T07:59:55.705Z"
   },
   {
    "duration": 0,
    "start_time": "2023-12-01T07:59:55.706Z"
   },
   {
    "duration": 0,
    "start_time": "2023-12-01T07:59:55.707Z"
   },
   {
    "duration": 0,
    "start_time": "2023-12-01T07:59:55.708Z"
   },
   {
    "duration": 0,
    "start_time": "2023-12-01T07:59:55.709Z"
   },
   {
    "duration": 0,
    "start_time": "2023-12-01T07:59:55.709Z"
   },
   {
    "duration": 0,
    "start_time": "2023-12-01T07:59:55.710Z"
   },
   {
    "duration": 0,
    "start_time": "2023-12-01T07:59:55.711Z"
   },
   {
    "duration": 0,
    "start_time": "2023-12-01T07:59:55.773Z"
   },
   {
    "duration": 0,
    "start_time": "2023-12-01T07:59:55.774Z"
   },
   {
    "duration": 0,
    "start_time": "2023-12-01T07:59:55.775Z"
   },
   {
    "duration": 0,
    "start_time": "2023-12-01T07:59:55.776Z"
   },
   {
    "duration": 0,
    "start_time": "2023-12-01T07:59:55.777Z"
   },
   {
    "duration": 0,
    "start_time": "2023-12-01T07:59:55.778Z"
   },
   {
    "duration": 0,
    "start_time": "2023-12-01T07:59:55.779Z"
   },
   {
    "duration": 0,
    "start_time": "2023-12-01T07:59:55.780Z"
   },
   {
    "duration": 0,
    "start_time": "2023-12-01T07:59:55.780Z"
   },
   {
    "duration": 0,
    "start_time": "2023-12-01T07:59:55.781Z"
   },
   {
    "duration": 11,
    "start_time": "2023-12-01T08:00:39.320Z"
   },
   {
    "duration": 3,
    "start_time": "2023-12-01T08:00:45.018Z"
   },
   {
    "duration": 29,
    "start_time": "2023-12-01T08:00:45.023Z"
   },
   {
    "duration": 70,
    "start_time": "2023-12-01T08:00:45.054Z"
   },
   {
    "duration": 13,
    "start_time": "2023-12-01T08:00:45.126Z"
   },
   {
    "duration": 14,
    "start_time": "2023-12-01T08:00:45.141Z"
   },
   {
    "duration": 13,
    "start_time": "2023-12-01T08:00:45.157Z"
   },
   {
    "duration": 3,
    "start_time": "2023-12-01T08:00:45.172Z"
   },
   {
    "duration": 12,
    "start_time": "2023-12-01T08:00:45.177Z"
   },
   {
    "duration": 4,
    "start_time": "2023-12-01T08:00:45.191Z"
   },
   {
    "duration": 13,
    "start_time": "2023-12-01T08:00:45.196Z"
   },
   {
    "duration": 27,
    "start_time": "2023-12-01T08:00:45.211Z"
   },
   {
    "duration": 0,
    "start_time": "2023-12-01T08:00:45.239Z"
   },
   {
    "duration": 0,
    "start_time": "2023-12-01T08:00:45.240Z"
   },
   {
    "duration": 0,
    "start_time": "2023-12-01T08:00:45.241Z"
   },
   {
    "duration": 0,
    "start_time": "2023-12-01T08:00:45.242Z"
   },
   {
    "duration": 0,
    "start_time": "2023-12-01T08:00:45.243Z"
   },
   {
    "duration": 0,
    "start_time": "2023-12-01T08:00:45.244Z"
   },
   {
    "duration": 0,
    "start_time": "2023-12-01T08:00:45.245Z"
   },
   {
    "duration": 0,
    "start_time": "2023-12-01T08:00:45.246Z"
   },
   {
    "duration": 1,
    "start_time": "2023-12-01T08:00:45.246Z"
   },
   {
    "duration": 0,
    "start_time": "2023-12-01T08:00:45.247Z"
   },
   {
    "duration": 0,
    "start_time": "2023-12-01T08:00:45.248Z"
   },
   {
    "duration": 0,
    "start_time": "2023-12-01T08:00:45.249Z"
   },
   {
    "duration": 20,
    "start_time": "2023-12-01T08:00:45.274Z"
   },
   {
    "duration": 337,
    "start_time": "2023-12-01T08:00:45.295Z"
   },
   {
    "duration": 0,
    "start_time": "2023-12-01T08:00:45.634Z"
   },
   {
    "duration": 0,
    "start_time": "2023-12-01T08:00:45.636Z"
   },
   {
    "duration": 0,
    "start_time": "2023-12-01T08:00:45.637Z"
   },
   {
    "duration": 0,
    "start_time": "2023-12-01T08:00:45.638Z"
   },
   {
    "duration": 0,
    "start_time": "2023-12-01T08:00:45.639Z"
   },
   {
    "duration": 0,
    "start_time": "2023-12-01T08:00:45.640Z"
   },
   {
    "duration": 0,
    "start_time": "2023-12-01T08:00:45.641Z"
   },
   {
    "duration": 0,
    "start_time": "2023-12-01T08:00:45.642Z"
   },
   {
    "duration": 0,
    "start_time": "2023-12-01T08:00:45.643Z"
   },
   {
    "duration": 0,
    "start_time": "2023-12-01T08:00:45.644Z"
   },
   {
    "duration": 0,
    "start_time": "2023-12-01T08:00:45.645Z"
   },
   {
    "duration": 0,
    "start_time": "2023-12-01T08:00:45.646Z"
   },
   {
    "duration": 0,
    "start_time": "2023-12-01T08:00:45.647Z"
   },
   {
    "duration": 0,
    "start_time": "2023-12-01T08:00:45.648Z"
   },
   {
    "duration": 0,
    "start_time": "2023-12-01T08:00:45.649Z"
   },
   {
    "duration": 0,
    "start_time": "2023-12-01T08:00:45.650Z"
   },
   {
    "duration": 0,
    "start_time": "2023-12-01T08:00:45.651Z"
   },
   {
    "duration": 0,
    "start_time": "2023-12-01T08:00:45.652Z"
   },
   {
    "duration": 0,
    "start_time": "2023-12-01T08:00:45.653Z"
   },
   {
    "duration": 0,
    "start_time": "2023-12-01T08:00:45.654Z"
   },
   {
    "duration": 0,
    "start_time": "2023-12-01T08:00:45.655Z"
   },
   {
    "duration": 0,
    "start_time": "2023-12-01T08:00:45.656Z"
   },
   {
    "duration": 0,
    "start_time": "2023-12-01T08:00:45.657Z"
   },
   {
    "duration": 0,
    "start_time": "2023-12-01T08:00:45.657Z"
   },
   {
    "duration": 0,
    "start_time": "2023-12-01T08:00:45.658Z"
   },
   {
    "duration": 0,
    "start_time": "2023-12-01T08:00:45.660Z"
   },
   {
    "duration": 0,
    "start_time": "2023-12-01T08:00:45.661Z"
   },
   {
    "duration": 0,
    "start_time": "2023-12-01T08:00:45.662Z"
   },
   {
    "duration": 0,
    "start_time": "2023-12-01T08:00:45.663Z"
   },
   {
    "duration": 0,
    "start_time": "2023-12-01T08:00:45.664Z"
   },
   {
    "duration": 0,
    "start_time": "2023-12-01T08:00:45.665Z"
   },
   {
    "duration": 0,
    "start_time": "2023-12-01T08:00:45.666Z"
   },
   {
    "duration": 0,
    "start_time": "2023-12-01T08:00:45.667Z"
   },
   {
    "duration": 0,
    "start_time": "2023-12-01T08:00:45.673Z"
   },
   {
    "duration": 0,
    "start_time": "2023-12-01T08:00:45.673Z"
   },
   {
    "duration": 0,
    "start_time": "2023-12-01T08:00:45.674Z"
   },
   {
    "duration": 0,
    "start_time": "2023-12-01T08:00:45.675Z"
   },
   {
    "duration": 0,
    "start_time": "2023-12-01T08:00:45.676Z"
   },
   {
    "duration": 0,
    "start_time": "2023-12-01T08:00:45.677Z"
   },
   {
    "duration": 0,
    "start_time": "2023-12-01T08:00:45.678Z"
   },
   {
    "duration": 11,
    "start_time": "2023-12-01T08:00:45.681Z"
   },
   {
    "duration": 0,
    "start_time": "2023-12-01T08:00:45.693Z"
   },
   {
    "duration": 0,
    "start_time": "2023-12-01T08:00:45.694Z"
   },
   {
    "duration": 0,
    "start_time": "2023-12-01T08:00:45.695Z"
   },
   {
    "duration": 0,
    "start_time": "2023-12-01T08:00:45.696Z"
   },
   {
    "duration": 11,
    "start_time": "2023-12-01T08:00:45.701Z"
   },
   {
    "duration": 0,
    "start_time": "2023-12-01T08:00:45.713Z"
   },
   {
    "duration": 0,
    "start_time": "2023-12-01T08:00:45.714Z"
   },
   {
    "duration": 11,
    "start_time": "2023-12-01T08:00:45.777Z"
   },
   {
    "duration": 0,
    "start_time": "2023-12-01T08:00:45.790Z"
   },
   {
    "duration": 0,
    "start_time": "2023-12-01T08:00:45.791Z"
   },
   {
    "duration": 0,
    "start_time": "2023-12-01T08:00:45.792Z"
   },
   {
    "duration": 6,
    "start_time": "2023-12-01T08:00:45.796Z"
   },
   {
    "duration": 8,
    "start_time": "2023-12-01T08:00:45.815Z"
   },
   {
    "duration": 51,
    "start_time": "2023-12-01T08:00:45.826Z"
   },
   {
    "duration": 0,
    "start_time": "2023-12-01T08:00:45.879Z"
   },
   {
    "duration": 0,
    "start_time": "2023-12-01T08:00:45.880Z"
   },
   {
    "duration": 0,
    "start_time": "2023-12-01T08:00:45.881Z"
   },
   {
    "duration": 0,
    "start_time": "2023-12-01T08:00:45.882Z"
   },
   {
    "duration": 9,
    "start_time": "2023-12-01T08:00:45.896Z"
   },
   {
    "duration": 23,
    "start_time": "2023-12-01T08:01:48.055Z"
   },
   {
    "duration": 19,
    "start_time": "2023-12-01T08:02:51.736Z"
   },
   {
    "duration": 5,
    "start_time": "2023-12-01T08:03:30.445Z"
   },
   {
    "duration": 28,
    "start_time": "2023-12-01T08:03:54.176Z"
   },
   {
    "duration": 28,
    "start_time": "2023-12-01T08:05:06.218Z"
   },
   {
    "duration": 4,
    "start_time": "2023-12-01T08:05:21.238Z"
   },
   {
    "duration": 28,
    "start_time": "2023-12-01T08:05:21.243Z"
   },
   {
    "duration": 77,
    "start_time": "2023-12-01T08:05:21.272Z"
   },
   {
    "duration": 14,
    "start_time": "2023-12-01T08:05:21.351Z"
   },
   {
    "duration": 23,
    "start_time": "2023-12-01T08:05:21.366Z"
   },
   {
    "duration": 34,
    "start_time": "2023-12-01T08:05:21.391Z"
   },
   {
    "duration": 3,
    "start_time": "2023-12-01T08:05:21.426Z"
   },
   {
    "duration": 13,
    "start_time": "2023-12-01T08:05:21.431Z"
   },
   {
    "duration": 4,
    "start_time": "2023-12-01T08:05:21.446Z"
   },
   {
    "duration": 10,
    "start_time": "2023-12-01T08:05:21.452Z"
   },
   {
    "duration": 29,
    "start_time": "2023-12-01T08:05:21.464Z"
   },
   {
    "duration": 14,
    "start_time": "2023-12-01T08:05:21.495Z"
   },
   {
    "duration": 16,
    "start_time": "2023-12-01T08:05:21.510Z"
   },
   {
    "duration": 45,
    "start_time": "2023-12-01T08:05:21.528Z"
   },
   {
    "duration": 1090,
    "start_time": "2023-12-01T08:05:21.575Z"
   },
   {
    "duration": 15,
    "start_time": "2023-12-01T08:05:22.667Z"
   },
   {
    "duration": 35,
    "start_time": "2023-12-01T08:05:22.683Z"
   },
   {
    "duration": 14,
    "start_time": "2023-12-01T08:05:22.719Z"
   },
   {
    "duration": 14,
    "start_time": "2023-12-01T08:05:22.734Z"
   },
   {
    "duration": 50,
    "start_time": "2023-12-01T08:05:22.749Z"
   },
   {
    "duration": 4077,
    "start_time": "2023-12-01T08:05:22.800Z"
   },
   {
    "duration": 13,
    "start_time": "2023-12-01T08:05:26.878Z"
   },
   {
    "duration": 57,
    "start_time": "2023-12-01T08:05:26.893Z"
   },
   {
    "duration": 15,
    "start_time": "2023-12-01T08:05:26.952Z"
   },
   {
    "duration": 10,
    "start_time": "2023-12-01T08:05:26.969Z"
   },
   {
    "duration": 41,
    "start_time": "2023-12-01T08:05:26.980Z"
   },
   {
    "duration": 17,
    "start_time": "2023-12-01T08:05:27.023Z"
   },
   {
    "duration": 32,
    "start_time": "2023-12-01T08:05:27.045Z"
   },
   {
    "duration": 8,
    "start_time": "2023-12-01T08:05:27.078Z"
   },
   {
    "duration": 410,
    "start_time": "2023-12-01T08:05:27.088Z"
   },
   {
    "duration": 13,
    "start_time": "2023-12-01T08:05:27.500Z"
   },
   {
    "duration": 429,
    "start_time": "2023-12-01T08:05:27.514Z"
   },
   {
    "duration": 11,
    "start_time": "2023-12-01T08:05:27.945Z"
   },
   {
    "duration": 1012,
    "start_time": "2023-12-01T08:05:27.958Z"
   },
   {
    "duration": 7,
    "start_time": "2023-12-01T08:05:28.972Z"
   },
   {
    "duration": 11,
    "start_time": "2023-12-01T08:05:28.981Z"
   },
   {
    "duration": 224,
    "start_time": "2023-12-01T08:05:28.993Z"
   },
   {
    "duration": 6,
    "start_time": "2023-12-01T08:05:29.219Z"
   },
   {
    "duration": 1607,
    "start_time": "2023-12-01T08:05:29.227Z"
   },
   {
    "duration": 14,
    "start_time": "2023-12-01T08:05:30.836Z"
   },
   {
    "duration": 267,
    "start_time": "2023-12-01T08:05:30.851Z"
   },
   {
    "duration": 343,
    "start_time": "2023-12-01T08:05:31.119Z"
   },
   {
    "duration": 0,
    "start_time": "2023-12-01T08:05:31.464Z"
   },
   {
    "duration": 0,
    "start_time": "2023-12-01T08:05:31.472Z"
   },
   {
    "duration": 0,
    "start_time": "2023-12-01T08:05:31.474Z"
   },
   {
    "duration": 0,
    "start_time": "2023-12-01T08:05:31.475Z"
   },
   {
    "duration": 0,
    "start_time": "2023-12-01T08:05:31.476Z"
   },
   {
    "duration": 0,
    "start_time": "2023-12-01T08:05:31.477Z"
   },
   {
    "duration": 0,
    "start_time": "2023-12-01T08:05:31.478Z"
   },
   {
    "duration": 0,
    "start_time": "2023-12-01T08:05:31.479Z"
   },
   {
    "duration": 0,
    "start_time": "2023-12-01T08:05:31.480Z"
   },
   {
    "duration": 0,
    "start_time": "2023-12-01T08:05:31.481Z"
   },
   {
    "duration": 0,
    "start_time": "2023-12-01T08:05:31.482Z"
   },
   {
    "duration": 0,
    "start_time": "2023-12-01T08:05:31.483Z"
   },
   {
    "duration": 0,
    "start_time": "2023-12-01T08:05:31.484Z"
   },
   {
    "duration": 0,
    "start_time": "2023-12-01T08:05:31.485Z"
   },
   {
    "duration": 0,
    "start_time": "2023-12-01T08:05:31.486Z"
   },
   {
    "duration": 0,
    "start_time": "2023-12-01T08:05:31.487Z"
   },
   {
    "duration": 0,
    "start_time": "2023-12-01T08:05:31.489Z"
   },
   {
    "duration": 0,
    "start_time": "2023-12-01T08:05:31.490Z"
   },
   {
    "duration": 0,
    "start_time": "2023-12-01T08:05:31.491Z"
   },
   {
    "duration": 0,
    "start_time": "2023-12-01T08:05:31.492Z"
   },
   {
    "duration": 0,
    "start_time": "2023-12-01T08:05:31.493Z"
   },
   {
    "duration": 0,
    "start_time": "2023-12-01T08:05:31.494Z"
   },
   {
    "duration": 0,
    "start_time": "2023-12-01T08:05:31.495Z"
   },
   {
    "duration": 0,
    "start_time": "2023-12-01T08:05:31.496Z"
   },
   {
    "duration": 0,
    "start_time": "2023-12-01T08:05:31.497Z"
   },
   {
    "duration": 0,
    "start_time": "2023-12-01T08:05:31.498Z"
   },
   {
    "duration": 0,
    "start_time": "2023-12-01T08:05:31.499Z"
   },
   {
    "duration": 0,
    "start_time": "2023-12-01T08:05:31.500Z"
   },
   {
    "duration": 0,
    "start_time": "2023-12-01T08:05:31.501Z"
   },
   {
    "duration": 0,
    "start_time": "2023-12-01T08:05:31.502Z"
   },
   {
    "duration": 0,
    "start_time": "2023-12-01T08:05:31.504Z"
   },
   {
    "duration": 0,
    "start_time": "2023-12-01T08:05:31.505Z"
   },
   {
    "duration": 0,
    "start_time": "2023-12-01T08:05:31.506Z"
   },
   {
    "duration": 0,
    "start_time": "2023-12-01T08:05:31.506Z"
   },
   {
    "duration": 0,
    "start_time": "2023-12-01T08:05:31.508Z"
   },
   {
    "duration": 0,
    "start_time": "2023-12-01T08:05:31.509Z"
   },
   {
    "duration": 0,
    "start_time": "2023-12-01T08:05:31.510Z"
   },
   {
    "duration": 0,
    "start_time": "2023-12-01T08:05:31.511Z"
   },
   {
    "duration": 0,
    "start_time": "2023-12-01T08:05:31.512Z"
   },
   {
    "duration": 0,
    "start_time": "2023-12-01T08:05:31.513Z"
   },
   {
    "duration": 0,
    "start_time": "2023-12-01T08:05:31.514Z"
   },
   {
    "duration": 0,
    "start_time": "2023-12-01T08:05:31.574Z"
   },
   {
    "duration": 0,
    "start_time": "2023-12-01T08:05:31.575Z"
   },
   {
    "duration": 212,
    "start_time": "2023-12-01T08:06:17.468Z"
   },
   {
    "duration": 59,
    "start_time": "2023-12-01T08:06:29.131Z"
   },
   {
    "duration": 222,
    "start_time": "2023-12-01T08:07:48.234Z"
   },
   {
    "duration": 210,
    "start_time": "2023-12-01T08:08:12.321Z"
   },
   {
    "duration": 212,
    "start_time": "2023-12-01T08:08:31.653Z"
   },
   {
    "duration": 220,
    "start_time": "2023-12-01T08:10:27.213Z"
   },
   {
    "duration": 249,
    "start_time": "2023-12-01T08:12:30.020Z"
   },
   {
    "duration": 262,
    "start_time": "2023-12-01T08:13:05.903Z"
   },
   {
    "duration": 245,
    "start_time": "2023-12-01T08:14:09.424Z"
   },
   {
    "duration": 281,
    "start_time": "2023-12-01T08:15:29.957Z"
   },
   {
    "duration": 265,
    "start_time": "2023-12-01T08:17:19.439Z"
   },
   {
    "duration": 391,
    "start_time": "2023-12-01T08:21:01.301Z"
   },
   {
    "duration": 272,
    "start_time": "2023-12-01T08:21:49.656Z"
   },
   {
    "duration": 257,
    "start_time": "2023-12-01T08:22:14.274Z"
   },
   {
    "duration": 260,
    "start_time": "2023-12-01T08:23:24.227Z"
   },
   {
    "duration": 280,
    "start_time": "2023-12-01T08:23:42.882Z"
   },
   {
    "duration": 261,
    "start_time": "2023-12-01T08:24:34.896Z"
   },
   {
    "duration": 293,
    "start_time": "2023-12-01T08:25:23.925Z"
   },
   {
    "duration": 10,
    "start_time": "2023-12-01T08:28:11.717Z"
   },
   {
    "duration": 239,
    "start_time": "2023-12-01T08:28:14.484Z"
   },
   {
    "duration": 3,
    "start_time": "2023-12-01T08:28:19.576Z"
   },
   {
    "duration": 24,
    "start_time": "2023-12-01T08:28:19.580Z"
   },
   {
    "duration": 80,
    "start_time": "2023-12-01T08:28:19.606Z"
   },
   {
    "duration": 13,
    "start_time": "2023-12-01T08:28:19.688Z"
   },
   {
    "duration": 26,
    "start_time": "2023-12-01T08:28:19.703Z"
   },
   {
    "duration": 21,
    "start_time": "2023-12-01T08:28:19.731Z"
   },
   {
    "duration": 5,
    "start_time": "2023-12-01T08:28:19.753Z"
   },
   {
    "duration": 21,
    "start_time": "2023-12-01T08:28:19.759Z"
   },
   {
    "duration": 16,
    "start_time": "2023-12-01T08:28:19.781Z"
   },
   {
    "duration": 31,
    "start_time": "2023-12-01T08:28:19.798Z"
   },
   {
    "duration": 34,
    "start_time": "2023-12-01T08:28:19.831Z"
   },
   {
    "duration": 34,
    "start_time": "2023-12-01T08:28:19.866Z"
   },
   {
    "duration": 67,
    "start_time": "2023-12-01T08:28:19.901Z"
   },
   {
    "duration": 21,
    "start_time": "2023-12-01T08:28:19.969Z"
   },
   {
    "duration": 1000,
    "start_time": "2023-12-01T08:28:19.992Z"
   },
   {
    "duration": 14,
    "start_time": "2023-12-01T08:28:20.993Z"
   },
   {
    "duration": 33,
    "start_time": "2023-12-01T08:28:21.008Z"
   },
   {
    "duration": 35,
    "start_time": "2023-12-01T08:28:21.042Z"
   },
   {
    "duration": 14,
    "start_time": "2023-12-01T08:28:21.078Z"
   },
   {
    "duration": 37,
    "start_time": "2023-12-01T08:28:21.093Z"
   },
   {
    "duration": 3948,
    "start_time": "2023-12-01T08:28:21.132Z"
   },
   {
    "duration": 13,
    "start_time": "2023-12-01T08:28:25.081Z"
   },
   {
    "duration": 62,
    "start_time": "2023-12-01T08:28:25.095Z"
   },
   {
    "duration": 84,
    "start_time": "2023-12-01T08:28:25.159Z"
   },
   {
    "duration": 5,
    "start_time": "2023-12-01T08:28:25.244Z"
   },
   {
    "duration": 16,
    "start_time": "2023-12-01T08:28:25.251Z"
   },
   {
    "duration": 14,
    "start_time": "2023-12-01T08:28:25.268Z"
   },
   {
    "duration": 30,
    "start_time": "2023-12-01T08:28:25.284Z"
   },
   {
    "duration": 6,
    "start_time": "2023-12-01T08:28:25.319Z"
   },
   {
    "duration": 511,
    "start_time": "2023-12-01T08:28:25.326Z"
   },
   {
    "duration": 14,
    "start_time": "2023-12-01T08:28:25.839Z"
   },
   {
    "duration": 363,
    "start_time": "2023-12-01T08:28:25.855Z"
   },
   {
    "duration": 11,
    "start_time": "2023-12-01T08:28:26.219Z"
   },
   {
    "duration": 990,
    "start_time": "2023-12-01T08:28:26.232Z"
   },
   {
    "duration": 8,
    "start_time": "2023-12-01T08:28:27.223Z"
   },
   {
    "duration": 47,
    "start_time": "2023-12-01T08:28:27.232Z"
   },
   {
    "duration": 203,
    "start_time": "2023-12-01T08:28:27.280Z"
   },
   {
    "duration": 6,
    "start_time": "2023-12-01T08:28:27.484Z"
   },
   {
    "duration": 1585,
    "start_time": "2023-12-01T08:28:27.491Z"
   },
   {
    "duration": 12,
    "start_time": "2023-12-01T08:28:29.078Z"
   },
   {
    "duration": 321,
    "start_time": "2023-12-01T08:28:29.092Z"
   },
   {
    "duration": 267,
    "start_time": "2023-12-01T08:28:29.415Z"
   },
   {
    "duration": 58,
    "start_time": "2023-12-01T08:28:29.683Z"
   },
   {
    "duration": 32,
    "start_time": "2023-12-01T08:28:29.742Z"
   },
   {
    "duration": 6,
    "start_time": "2023-12-01T08:28:29.775Z"
   },
   {
    "duration": 4,
    "start_time": "2023-12-01T08:28:29.783Z"
   },
   {
    "duration": 4,
    "start_time": "2023-12-01T08:28:29.789Z"
   },
   {
    "duration": 555,
    "start_time": "2023-12-01T08:28:29.795Z"
   },
   {
    "duration": 524,
    "start_time": "2023-12-01T08:28:30.352Z"
   },
   {
    "duration": 13,
    "start_time": "2023-12-01T08:28:30.878Z"
   },
   {
    "duration": 86,
    "start_time": "2023-12-01T08:28:30.892Z"
   },
   {
    "duration": 39,
    "start_time": "2023-12-01T08:28:30.979Z"
   },
   {
    "duration": 558,
    "start_time": "2023-12-01T08:28:31.020Z"
   },
   {
    "duration": 10,
    "start_time": "2023-12-01T08:28:31.580Z"
   },
   {
    "duration": 304,
    "start_time": "2023-12-01T08:28:31.592Z"
   },
   {
    "duration": 7,
    "start_time": "2023-12-01T08:28:31.897Z"
   },
   {
    "duration": 458,
    "start_time": "2023-12-01T08:28:31.906Z"
   },
   {
    "duration": 16,
    "start_time": "2023-12-01T08:28:32.366Z"
   },
   {
    "duration": 16,
    "start_time": "2023-12-01T08:28:32.383Z"
   },
   {
    "duration": 43,
    "start_time": "2023-12-01T08:28:32.400Z"
   },
   {
    "duration": 406,
    "start_time": "2023-12-01T08:28:32.444Z"
   },
   {
    "duration": 32,
    "start_time": "2023-12-01T08:28:32.852Z"
   },
   {
    "duration": 17,
    "start_time": "2023-12-01T08:28:32.886Z"
   },
   {
    "duration": 328,
    "start_time": "2023-12-01T08:28:32.904Z"
   },
   {
    "duration": 21,
    "start_time": "2023-12-01T08:28:33.234Z"
   },
   {
    "duration": 32,
    "start_time": "2023-12-01T08:28:33.257Z"
   },
   {
    "duration": 322,
    "start_time": "2023-12-01T08:28:33.290Z"
   },
   {
    "duration": 18,
    "start_time": "2023-12-01T08:28:33.613Z"
   },
   {
    "duration": 17,
    "start_time": "2023-12-01T08:28:33.633Z"
   },
   {
    "duration": 339,
    "start_time": "2023-12-01T08:28:33.652Z"
   },
   {
    "duration": 18,
    "start_time": "2023-12-01T08:28:33.993Z"
   },
   {
    "duration": 17,
    "start_time": "2023-12-01T08:28:34.012Z"
   },
   {
    "duration": 331,
    "start_time": "2023-12-01T08:28:34.030Z"
   },
   {
    "duration": 26,
    "start_time": "2023-12-01T08:28:34.363Z"
   },
   {
    "duration": 18,
    "start_time": "2023-12-01T08:28:34.390Z"
   },
   {
    "duration": 345,
    "start_time": "2023-12-01T08:28:34.410Z"
   },
   {
    "duration": 30,
    "start_time": "2023-12-01T08:28:34.757Z"
   },
   {
    "duration": 12,
    "start_time": "2023-12-01T08:28:34.789Z"
   },
   {
    "duration": 279,
    "start_time": "2023-12-01T08:28:34.802Z"
   },
   {
    "duration": 9,
    "start_time": "2023-12-01T08:28:35.083Z"
   },
   {
    "duration": 3,
    "start_time": "2023-12-01T08:28:35.093Z"
   },
   {
    "duration": 26,
    "start_time": "2023-12-01T08:28:35.097Z"
   },
   {
    "duration": 9,
    "start_time": "2023-12-01T08:28:35.128Z"
   },
   {
    "duration": 11,
    "start_time": "2023-12-01T08:28:35.138Z"
   },
   {
    "duration": 11,
    "start_time": "2023-12-01T08:32:04.800Z"
   },
   {
    "duration": 10,
    "start_time": "2023-12-01T08:34:53.873Z"
   },
   {
    "duration": 316,
    "start_time": "2023-12-01T08:36:23.322Z"
   },
   {
    "duration": 292,
    "start_time": "2023-12-01T08:36:40.990Z"
   },
   {
    "duration": 316,
    "start_time": "2023-12-01T08:37:29.805Z"
   },
   {
    "duration": 169,
    "start_time": "2023-12-01T08:40:34.973Z"
   },
   {
    "duration": 410,
    "start_time": "2023-12-01T08:40:46.318Z"
   },
   {
    "duration": 298,
    "start_time": "2023-12-01T08:41:47.743Z"
   },
   {
    "duration": 264,
    "start_time": "2023-12-01T08:41:57.682Z"
   },
   {
    "duration": 294,
    "start_time": "2023-12-01T08:42:09.734Z"
   },
   {
    "duration": 291,
    "start_time": "2023-12-01T08:42:32.795Z"
   },
   {
    "duration": 273,
    "start_time": "2023-12-01T08:42:42.573Z"
   },
   {
    "duration": 130,
    "start_time": "2023-12-01T08:43:34.109Z"
   },
   {
    "duration": 302,
    "start_time": "2023-12-01T08:43:41.818Z"
   },
   {
    "duration": 8,
    "start_time": "2023-12-01T08:45:54.548Z"
   },
   {
    "duration": 9,
    "start_time": "2023-12-01T08:47:57.682Z"
   },
   {
    "duration": 3,
    "start_time": "2023-12-01T08:50:31.706Z"
   },
   {
    "duration": 48,
    "start_time": "2023-12-01T08:50:31.710Z"
   },
   {
    "duration": 86,
    "start_time": "2023-12-01T08:50:31.760Z"
   },
   {
    "duration": 13,
    "start_time": "2023-12-01T08:50:31.848Z"
   },
   {
    "duration": 34,
    "start_time": "2023-12-01T08:50:31.863Z"
   },
   {
    "duration": 28,
    "start_time": "2023-12-01T08:50:31.898Z"
   },
   {
    "duration": 27,
    "start_time": "2023-12-01T08:50:31.928Z"
   },
   {
    "duration": 22,
    "start_time": "2023-12-01T08:50:31.956Z"
   },
   {
    "duration": 13,
    "start_time": "2023-12-01T08:50:31.979Z"
   },
   {
    "duration": 27,
    "start_time": "2023-12-01T08:50:31.993Z"
   },
   {
    "duration": 38,
    "start_time": "2023-12-01T08:50:32.023Z"
   },
   {
    "duration": 18,
    "start_time": "2023-12-01T08:50:32.063Z"
   },
   {
    "duration": 27,
    "start_time": "2023-12-01T08:50:32.083Z"
   },
   {
    "duration": 25,
    "start_time": "2023-12-01T08:50:32.111Z"
   },
   {
    "duration": 961,
    "start_time": "2023-12-01T08:50:32.137Z"
   },
   {
    "duration": 16,
    "start_time": "2023-12-01T08:50:33.100Z"
   },
   {
    "duration": 36,
    "start_time": "2023-12-01T08:50:33.118Z"
   },
   {
    "duration": 16,
    "start_time": "2023-12-01T08:50:33.173Z"
   },
   {
    "duration": 16,
    "start_time": "2023-12-01T08:50:33.190Z"
   },
   {
    "duration": 28,
    "start_time": "2023-12-01T08:50:33.208Z"
   },
   {
    "duration": 4137,
    "start_time": "2023-12-01T08:50:33.237Z"
   },
   {
    "duration": 17,
    "start_time": "2023-12-01T08:50:37.376Z"
   },
   {
    "duration": 36,
    "start_time": "2023-12-01T08:50:37.395Z"
   },
   {
    "duration": 47,
    "start_time": "2023-12-01T08:50:37.433Z"
   },
   {
    "duration": 6,
    "start_time": "2023-12-01T08:50:37.482Z"
   },
   {
    "duration": 14,
    "start_time": "2023-12-01T08:50:37.490Z"
   },
   {
    "duration": 14,
    "start_time": "2023-12-01T08:50:37.506Z"
   },
   {
    "duration": 61,
    "start_time": "2023-12-01T08:50:37.522Z"
   },
   {
    "duration": 6,
    "start_time": "2023-12-01T08:50:37.588Z"
   },
   {
    "duration": 563,
    "start_time": "2023-12-01T08:50:37.596Z"
   },
   {
    "duration": 18,
    "start_time": "2023-12-01T08:50:38.161Z"
   },
   {
    "duration": 494,
    "start_time": "2023-12-01T08:50:38.181Z"
   },
   {
    "duration": 9,
    "start_time": "2023-12-01T08:50:38.677Z"
   },
   {
    "duration": 965,
    "start_time": "2023-12-01T08:50:38.687Z"
   },
   {
    "duration": 8,
    "start_time": "2023-12-01T08:50:39.654Z"
   },
   {
    "duration": 12,
    "start_time": "2023-12-01T08:50:39.673Z"
   },
   {
    "duration": 229,
    "start_time": "2023-12-01T08:50:39.686Z"
   },
   {
    "duration": 7,
    "start_time": "2023-12-01T08:50:39.916Z"
   },
   {
    "duration": 1678,
    "start_time": "2023-12-01T08:50:39.924Z"
   },
   {
    "duration": 15,
    "start_time": "2023-12-01T08:50:41.603Z"
   },
   {
    "duration": 329,
    "start_time": "2023-12-01T08:50:41.620Z"
   },
   {
    "duration": 291,
    "start_time": "2023-12-01T08:50:41.951Z"
   },
   {
    "duration": 70,
    "start_time": "2023-12-01T08:50:42.244Z"
   },
   {
    "duration": 15,
    "start_time": "2023-12-01T08:50:42.315Z"
   },
   {
    "duration": 6,
    "start_time": "2023-12-01T08:50:42.332Z"
   },
   {
    "duration": 17,
    "start_time": "2023-12-01T08:50:42.340Z"
   },
   {
    "duration": 19,
    "start_time": "2023-12-01T08:50:42.359Z"
   },
   {
    "duration": 542,
    "start_time": "2023-12-01T08:50:42.380Z"
   },
   {
    "duration": 511,
    "start_time": "2023-12-01T08:50:42.923Z"
   },
   {
    "duration": 13,
    "start_time": "2023-12-01T08:50:43.436Z"
   },
   {
    "duration": 61,
    "start_time": "2023-12-01T08:50:43.451Z"
   },
   {
    "duration": 38,
    "start_time": "2023-12-01T08:50:43.514Z"
   },
   {
    "duration": 585,
    "start_time": "2023-12-01T08:50:43.554Z"
   },
   {
    "duration": 10,
    "start_time": "2023-12-01T08:50:44.141Z"
   },
   {
    "duration": 250,
    "start_time": "2023-12-01T08:50:44.153Z"
   },
   {
    "duration": 7,
    "start_time": "2023-12-01T08:50:44.405Z"
   },
   {
    "duration": 450,
    "start_time": "2023-12-01T08:50:44.413Z"
   },
   {
    "duration": 12,
    "start_time": "2023-12-01T08:50:44.872Z"
   },
   {
    "duration": 18,
    "start_time": "2023-12-01T08:50:44.886Z"
   },
   {
    "duration": 45,
    "start_time": "2023-12-01T08:50:44.905Z"
   },
   {
    "duration": 293,
    "start_time": "2023-12-01T08:50:44.951Z"
   },
   {
    "duration": 31,
    "start_time": "2023-12-01T08:50:45.246Z"
   },
   {
    "duration": 17,
    "start_time": "2023-12-01T08:50:45.279Z"
   },
   {
    "duration": 442,
    "start_time": "2023-12-01T08:50:45.297Z"
   },
   {
    "duration": 33,
    "start_time": "2023-12-01T08:50:45.741Z"
   },
   {
    "duration": 19,
    "start_time": "2023-12-01T08:50:45.775Z"
   },
   {
    "duration": 330,
    "start_time": "2023-12-01T08:50:45.796Z"
   },
   {
    "duration": 21,
    "start_time": "2023-12-01T08:50:46.128Z"
   },
   {
    "duration": 38,
    "start_time": "2023-12-01T08:50:46.151Z"
   },
   {
    "duration": 360,
    "start_time": "2023-12-01T08:50:46.190Z"
   },
   {
    "duration": 32,
    "start_time": "2023-12-01T08:50:46.551Z"
   },
   {
    "duration": 18,
    "start_time": "2023-12-01T08:50:46.584Z"
   },
   {
    "duration": 343,
    "start_time": "2023-12-01T08:50:46.604Z"
   },
   {
    "duration": 28,
    "start_time": "2023-12-01T08:50:46.948Z"
   },
   {
    "duration": 20,
    "start_time": "2023-12-01T08:50:46.978Z"
   },
   {
    "duration": 380,
    "start_time": "2023-12-01T08:50:46.999Z"
   },
   {
    "duration": 20,
    "start_time": "2023-12-01T08:50:47.380Z"
   },
   {
    "duration": 12,
    "start_time": "2023-12-01T08:50:47.401Z"
   },
   {
    "duration": 304,
    "start_time": "2023-12-01T08:50:47.415Z"
   },
   {
    "duration": 8,
    "start_time": "2023-12-01T08:50:47.720Z"
   },
   {
    "duration": 5,
    "start_time": "2023-12-01T08:50:47.729Z"
   },
   {
    "duration": 9,
    "start_time": "2023-12-01T08:50:47.735Z"
   },
   {
    "duration": 25,
    "start_time": "2023-12-01T08:50:47.750Z"
   },
   {
    "duration": 9,
    "start_time": "2023-12-01T08:50:47.777Z"
   },
   {
    "duration": 1283,
    "start_time": "2023-12-18T15:59:33.663Z"
   },
   {
    "duration": 0,
    "start_time": "2023-12-18T15:59:34.950Z"
   },
   {
    "duration": 0,
    "start_time": "2023-12-18T15:59:34.951Z"
   },
   {
    "duration": 0,
    "start_time": "2023-12-18T15:59:34.952Z"
   },
   {
    "duration": 0,
    "start_time": "2023-12-18T15:59:34.955Z"
   },
   {
    "duration": 0,
    "start_time": "2023-12-18T15:59:34.956Z"
   },
   {
    "duration": 0,
    "start_time": "2023-12-18T15:59:34.957Z"
   },
   {
    "duration": 0,
    "start_time": "2023-12-18T15:59:34.958Z"
   },
   {
    "duration": 0,
    "start_time": "2023-12-18T15:59:34.960Z"
   },
   {
    "duration": 0,
    "start_time": "2023-12-18T15:59:34.961Z"
   },
   {
    "duration": 0,
    "start_time": "2023-12-18T15:59:34.962Z"
   },
   {
    "duration": 0,
    "start_time": "2023-12-18T15:59:34.963Z"
   },
   {
    "duration": 0,
    "start_time": "2023-12-18T15:59:34.965Z"
   },
   {
    "duration": 0,
    "start_time": "2023-12-18T15:59:34.967Z"
   },
   {
    "duration": 0,
    "start_time": "2023-12-18T15:59:34.969Z"
   },
   {
    "duration": 0,
    "start_time": "2023-12-18T15:59:34.970Z"
   },
   {
    "duration": 0,
    "start_time": "2023-12-18T15:59:34.972Z"
   },
   {
    "duration": 0,
    "start_time": "2023-12-18T15:59:34.973Z"
   },
   {
    "duration": 0,
    "start_time": "2023-12-18T15:59:34.974Z"
   },
   {
    "duration": 0,
    "start_time": "2023-12-18T15:59:34.975Z"
   },
   {
    "duration": 0,
    "start_time": "2023-12-18T15:59:34.977Z"
   },
   {
    "duration": 0,
    "start_time": "2023-12-18T15:59:34.978Z"
   },
   {
    "duration": 0,
    "start_time": "2023-12-18T15:59:34.979Z"
   },
   {
    "duration": 0,
    "start_time": "2023-12-18T15:59:35.016Z"
   },
   {
    "duration": 0,
    "start_time": "2023-12-18T15:59:35.017Z"
   },
   {
    "duration": 0,
    "start_time": "2023-12-18T15:59:35.018Z"
   },
   {
    "duration": 0,
    "start_time": "2023-12-18T15:59:35.019Z"
   },
   {
    "duration": 0,
    "start_time": "2023-12-18T15:59:35.020Z"
   },
   {
    "duration": 0,
    "start_time": "2023-12-18T15:59:35.022Z"
   },
   {
    "duration": 0,
    "start_time": "2023-12-18T15:59:35.023Z"
   },
   {
    "duration": 0,
    "start_time": "2023-12-18T15:59:35.024Z"
   },
   {
    "duration": 0,
    "start_time": "2023-12-18T15:59:35.025Z"
   },
   {
    "duration": 0,
    "start_time": "2023-12-18T15:59:35.026Z"
   },
   {
    "duration": 0,
    "start_time": "2023-12-18T15:59:35.028Z"
   },
   {
    "duration": 0,
    "start_time": "2023-12-18T15:59:35.029Z"
   },
   {
    "duration": 0,
    "start_time": "2023-12-18T15:59:35.030Z"
   },
   {
    "duration": 0,
    "start_time": "2023-12-18T15:59:35.031Z"
   },
   {
    "duration": 0,
    "start_time": "2023-12-18T15:59:35.032Z"
   },
   {
    "duration": 0,
    "start_time": "2023-12-18T15:59:35.033Z"
   },
   {
    "duration": 0,
    "start_time": "2023-12-18T15:59:35.034Z"
   },
   {
    "duration": 0,
    "start_time": "2023-12-18T15:59:35.035Z"
   },
   {
    "duration": 0,
    "start_time": "2023-12-18T15:59:35.036Z"
   },
   {
    "duration": 0,
    "start_time": "2023-12-18T15:59:35.037Z"
   },
   {
    "duration": 0,
    "start_time": "2023-12-18T15:59:35.038Z"
   },
   {
    "duration": 0,
    "start_time": "2023-12-18T15:59:35.039Z"
   },
   {
    "duration": 0,
    "start_time": "2023-12-18T15:59:35.040Z"
   },
   {
    "duration": 0,
    "start_time": "2023-12-18T15:59:35.042Z"
   },
   {
    "duration": 0,
    "start_time": "2023-12-18T15:59:35.043Z"
   },
   {
    "duration": 0,
    "start_time": "2023-12-18T15:59:35.044Z"
   },
   {
    "duration": 0,
    "start_time": "2023-12-18T15:59:35.045Z"
   },
   {
    "duration": 0,
    "start_time": "2023-12-18T15:59:35.047Z"
   },
   {
    "duration": 0,
    "start_time": "2023-12-18T15:59:35.048Z"
   },
   {
    "duration": 0,
    "start_time": "2023-12-18T15:59:35.049Z"
   },
   {
    "duration": 0,
    "start_time": "2023-12-18T15:59:35.050Z"
   },
   {
    "duration": 0,
    "start_time": "2023-12-18T15:59:35.051Z"
   },
   {
    "duration": 0,
    "start_time": "2023-12-18T15:59:35.115Z"
   },
   {
    "duration": 0,
    "start_time": "2023-12-18T15:59:35.116Z"
   },
   {
    "duration": 0,
    "start_time": "2023-12-18T15:59:35.117Z"
   },
   {
    "duration": 0,
    "start_time": "2023-12-18T15:59:35.118Z"
   },
   {
    "duration": 0,
    "start_time": "2023-12-18T15:59:35.119Z"
   },
   {
    "duration": 0,
    "start_time": "2023-12-18T15:59:35.120Z"
   },
   {
    "duration": 0,
    "start_time": "2023-12-18T15:59:35.121Z"
   },
   {
    "duration": 0,
    "start_time": "2023-12-18T15:59:35.122Z"
   },
   {
    "duration": 0,
    "start_time": "2023-12-18T15:59:35.123Z"
   },
   {
    "duration": 0,
    "start_time": "2023-12-18T15:59:35.124Z"
   },
   {
    "duration": 0,
    "start_time": "2023-12-18T15:59:35.125Z"
   },
   {
    "duration": 0,
    "start_time": "2023-12-18T15:59:35.126Z"
   },
   {
    "duration": 0,
    "start_time": "2023-12-18T15:59:35.127Z"
   },
   {
    "duration": 0,
    "start_time": "2023-12-18T15:59:35.128Z"
   },
   {
    "duration": 0,
    "start_time": "2023-12-18T15:59:35.129Z"
   },
   {
    "duration": 0,
    "start_time": "2023-12-18T15:59:35.130Z"
   },
   {
    "duration": 0,
    "start_time": "2023-12-18T15:59:35.130Z"
   },
   {
    "duration": 1317,
    "start_time": "2023-12-18T16:38:49.559Z"
   },
   {
    "duration": 0,
    "start_time": "2023-12-18T16:38:50.880Z"
   },
   {
    "duration": 0,
    "start_time": "2023-12-18T16:38:50.880Z"
   },
   {
    "duration": 0,
    "start_time": "2023-12-18T16:38:50.882Z"
   },
   {
    "duration": 0,
    "start_time": "2023-12-18T16:38:50.883Z"
   },
   {
    "duration": 0,
    "start_time": "2023-12-18T16:38:50.884Z"
   },
   {
    "duration": 0,
    "start_time": "2023-12-18T16:38:50.904Z"
   },
   {
    "duration": 0,
    "start_time": "2023-12-18T16:38:50.907Z"
   },
   {
    "duration": 0,
    "start_time": "2023-12-18T16:38:50.908Z"
   },
   {
    "duration": 0,
    "start_time": "2023-12-18T16:38:50.909Z"
   },
   {
    "duration": 0,
    "start_time": "2023-12-18T16:38:50.909Z"
   },
   {
    "duration": 0,
    "start_time": "2023-12-18T16:38:50.910Z"
   },
   {
    "duration": 0,
    "start_time": "2023-12-18T16:38:50.911Z"
   },
   {
    "duration": 0,
    "start_time": "2023-12-18T16:38:50.914Z"
   },
   {
    "duration": 0,
    "start_time": "2023-12-18T16:38:50.914Z"
   },
   {
    "duration": 0,
    "start_time": "2023-12-18T16:38:50.915Z"
   },
   {
    "duration": 0,
    "start_time": "2023-12-18T16:38:50.917Z"
   },
   {
    "duration": 0,
    "start_time": "2023-12-18T16:38:50.918Z"
   },
   {
    "duration": 0,
    "start_time": "2023-12-18T16:38:50.919Z"
   },
   {
    "duration": 0,
    "start_time": "2023-12-18T16:38:50.920Z"
   },
   {
    "duration": 0,
    "start_time": "2023-12-18T16:38:50.922Z"
   },
   {
    "duration": 0,
    "start_time": "2023-12-18T16:38:50.923Z"
   },
   {
    "duration": 0,
    "start_time": "2023-12-18T16:38:50.924Z"
   },
   {
    "duration": 0,
    "start_time": "2023-12-18T16:38:50.925Z"
   },
   {
    "duration": 0,
    "start_time": "2023-12-18T16:38:50.925Z"
   },
   {
    "duration": 0,
    "start_time": "2023-12-18T16:38:50.926Z"
   },
   {
    "duration": 0,
    "start_time": "2023-12-18T16:38:50.928Z"
   },
   {
    "duration": 0,
    "start_time": "2023-12-18T16:38:50.929Z"
   },
   {
    "duration": 0,
    "start_time": "2023-12-18T16:38:50.930Z"
   },
   {
    "duration": 0,
    "start_time": "2023-12-18T16:38:50.931Z"
   },
   {
    "duration": 0,
    "start_time": "2023-12-18T16:38:50.932Z"
   },
   {
    "duration": 0,
    "start_time": "2023-12-18T16:38:50.933Z"
   },
   {
    "duration": 0,
    "start_time": "2023-12-18T16:38:50.934Z"
   },
   {
    "duration": 0,
    "start_time": "2023-12-18T16:38:50.935Z"
   },
   {
    "duration": 0,
    "start_time": "2023-12-18T16:38:50.936Z"
   },
   {
    "duration": 0,
    "start_time": "2023-12-18T16:38:50.937Z"
   },
   {
    "duration": 0,
    "start_time": "2023-12-18T16:38:50.938Z"
   },
   {
    "duration": 0,
    "start_time": "2023-12-18T16:38:50.939Z"
   },
   {
    "duration": 0,
    "start_time": "2023-12-18T16:38:50.940Z"
   },
   {
    "duration": 0,
    "start_time": "2023-12-18T16:38:50.941Z"
   },
   {
    "duration": 0,
    "start_time": "2023-12-18T16:38:50.942Z"
   },
   {
    "duration": 0,
    "start_time": "2023-12-18T16:38:50.944Z"
   },
   {
    "duration": 0,
    "start_time": "2023-12-18T16:38:50.945Z"
   },
   {
    "duration": 0,
    "start_time": "2023-12-18T16:38:51.002Z"
   },
   {
    "duration": 0,
    "start_time": "2023-12-18T16:38:51.003Z"
   },
   {
    "duration": 0,
    "start_time": "2023-12-18T16:38:51.004Z"
   },
   {
    "duration": 0,
    "start_time": "2023-12-18T16:38:51.004Z"
   },
   {
    "duration": 0,
    "start_time": "2023-12-18T16:38:51.005Z"
   },
   {
    "duration": 0,
    "start_time": "2023-12-18T16:38:51.010Z"
   },
   {
    "duration": 0,
    "start_time": "2023-12-18T16:38:51.011Z"
   },
   {
    "duration": 0,
    "start_time": "2023-12-18T16:38:51.012Z"
   },
   {
    "duration": 0,
    "start_time": "2023-12-18T16:38:51.012Z"
   },
   {
    "duration": 0,
    "start_time": "2023-12-18T16:38:51.013Z"
   },
   {
    "duration": 0,
    "start_time": "2023-12-18T16:38:51.014Z"
   },
   {
    "duration": 0,
    "start_time": "2023-12-18T16:38:51.014Z"
   },
   {
    "duration": 0,
    "start_time": "2023-12-18T16:38:51.015Z"
   },
   {
    "duration": 0,
    "start_time": "2023-12-18T16:38:51.016Z"
   },
   {
    "duration": 0,
    "start_time": "2023-12-18T16:38:51.017Z"
   },
   {
    "duration": 1,
    "start_time": "2023-12-18T16:38:51.017Z"
   },
   {
    "duration": 0,
    "start_time": "2023-12-18T16:38:51.018Z"
   },
   {
    "duration": 0,
    "start_time": "2023-12-18T16:38:51.019Z"
   },
   {
    "duration": 0,
    "start_time": "2023-12-18T16:38:51.020Z"
   },
   {
    "duration": 0,
    "start_time": "2023-12-18T16:38:51.020Z"
   },
   {
    "duration": 0,
    "start_time": "2023-12-18T16:38:51.021Z"
   },
   {
    "duration": 0,
    "start_time": "2023-12-18T16:38:51.022Z"
   },
   {
    "duration": 0,
    "start_time": "2023-12-18T16:38:51.023Z"
   },
   {
    "duration": 0,
    "start_time": "2023-12-18T16:38:51.024Z"
   },
   {
    "duration": 1,
    "start_time": "2023-12-18T16:38:51.025Z"
   },
   {
    "duration": 0,
    "start_time": "2023-12-18T16:38:51.026Z"
   },
   {
    "duration": 0,
    "start_time": "2023-12-18T16:38:51.027Z"
   },
   {
    "duration": 0,
    "start_time": "2023-12-18T16:38:51.028Z"
   },
   {
    "duration": 0,
    "start_time": "2023-12-18T16:38:51.029Z"
   },
   {
    "duration": 8,
    "start_time": "2023-12-18T16:39:20.218Z"
   },
   {
    "duration": 1178,
    "start_time": "2023-12-18T16:39:38.555Z"
   },
   {
    "duration": 2097,
    "start_time": "2023-12-18T16:39:39.735Z"
   },
   {
    "duration": 17,
    "start_time": "2023-12-18T16:39:41.833Z"
   },
   {
    "duration": 97,
    "start_time": "2023-12-18T16:39:41.852Z"
   },
   {
    "duration": 97,
    "start_time": "2023-12-18T16:39:41.950Z"
   },
   {
    "duration": 200,
    "start_time": "2023-12-18T16:39:42.049Z"
   },
   {
    "duration": 153,
    "start_time": "2023-12-18T16:39:42.250Z"
   },
   {
    "duration": 349,
    "start_time": "2023-12-18T16:39:42.406Z"
   },
   {
    "duration": 0,
    "start_time": "2023-12-18T16:39:42.758Z"
   },
   {
    "duration": 0,
    "start_time": "2023-12-18T16:39:42.759Z"
   },
   {
    "duration": 0,
    "start_time": "2023-12-18T16:39:42.761Z"
   },
   {
    "duration": 0,
    "start_time": "2023-12-18T16:39:42.762Z"
   },
   {
    "duration": 0,
    "start_time": "2023-12-18T16:39:42.762Z"
   },
   {
    "duration": 0,
    "start_time": "2023-12-18T16:39:42.763Z"
   },
   {
    "duration": 0,
    "start_time": "2023-12-18T16:39:42.764Z"
   },
   {
    "duration": 0,
    "start_time": "2023-12-18T16:39:42.765Z"
   },
   {
    "duration": 0,
    "start_time": "2023-12-18T16:39:42.766Z"
   },
   {
    "duration": 0,
    "start_time": "2023-12-18T16:39:42.767Z"
   },
   {
    "duration": 0,
    "start_time": "2023-12-18T16:39:42.768Z"
   },
   {
    "duration": 0,
    "start_time": "2023-12-18T16:39:42.768Z"
   },
   {
    "duration": 0,
    "start_time": "2023-12-18T16:39:42.769Z"
   },
   {
    "duration": 0,
    "start_time": "2023-12-18T16:39:42.770Z"
   },
   {
    "duration": 0,
    "start_time": "2023-12-18T16:39:42.771Z"
   },
   {
    "duration": 0,
    "start_time": "2023-12-18T16:39:42.771Z"
   },
   {
    "duration": 0,
    "start_time": "2023-12-18T16:39:42.772Z"
   },
   {
    "duration": 0,
    "start_time": "2023-12-18T16:39:42.773Z"
   },
   {
    "duration": 0,
    "start_time": "2023-12-18T16:39:42.809Z"
   },
   {
    "duration": 0,
    "start_time": "2023-12-18T16:39:42.810Z"
   },
   {
    "duration": 0,
    "start_time": "2023-12-18T16:39:42.811Z"
   },
   {
    "duration": 0,
    "start_time": "2023-12-18T16:39:42.812Z"
   },
   {
    "duration": 0,
    "start_time": "2023-12-18T16:39:42.813Z"
   },
   {
    "duration": 0,
    "start_time": "2023-12-18T16:39:42.813Z"
   },
   {
    "duration": 0,
    "start_time": "2023-12-18T16:39:42.815Z"
   },
   {
    "duration": 0,
    "start_time": "2023-12-18T16:39:42.816Z"
   },
   {
    "duration": 0,
    "start_time": "2023-12-18T16:39:42.817Z"
   },
   {
    "duration": 0,
    "start_time": "2023-12-18T16:39:42.818Z"
   },
   {
    "duration": 0,
    "start_time": "2023-12-18T16:39:42.819Z"
   },
   {
    "duration": 0,
    "start_time": "2023-12-18T16:39:42.821Z"
   },
   {
    "duration": 0,
    "start_time": "2023-12-18T16:39:42.822Z"
   },
   {
    "duration": 0,
    "start_time": "2023-12-18T16:39:42.823Z"
   },
   {
    "duration": 0,
    "start_time": "2023-12-18T16:39:42.824Z"
   },
   {
    "duration": 0,
    "start_time": "2023-12-18T16:39:42.827Z"
   },
   {
    "duration": 0,
    "start_time": "2023-12-18T16:39:42.828Z"
   },
   {
    "duration": 0,
    "start_time": "2023-12-18T16:39:42.830Z"
   },
   {
    "duration": 0,
    "start_time": "2023-12-18T16:39:42.831Z"
   },
   {
    "duration": 0,
    "start_time": "2023-12-18T16:39:42.832Z"
   },
   {
    "duration": 0,
    "start_time": "2023-12-18T16:39:42.832Z"
   },
   {
    "duration": 0,
    "start_time": "2023-12-18T16:39:42.833Z"
   },
   {
    "duration": 0,
    "start_time": "2023-12-18T16:39:42.834Z"
   },
   {
    "duration": 0,
    "start_time": "2023-12-18T16:39:42.835Z"
   },
   {
    "duration": 0,
    "start_time": "2023-12-18T16:39:42.836Z"
   },
   {
    "duration": 0,
    "start_time": "2023-12-18T16:39:42.837Z"
   },
   {
    "duration": 0,
    "start_time": "2023-12-18T16:39:42.838Z"
   },
   {
    "duration": 0,
    "start_time": "2023-12-18T16:39:42.839Z"
   },
   {
    "duration": 0,
    "start_time": "2023-12-18T16:39:42.840Z"
   },
   {
    "duration": 0,
    "start_time": "2023-12-18T16:39:42.841Z"
   },
   {
    "duration": 0,
    "start_time": "2023-12-18T16:39:42.842Z"
   },
   {
    "duration": 0,
    "start_time": "2023-12-18T16:39:42.843Z"
   },
   {
    "duration": 0,
    "start_time": "2023-12-18T16:39:42.844Z"
   },
   {
    "duration": 0,
    "start_time": "2023-12-18T16:39:42.844Z"
   },
   {
    "duration": 0,
    "start_time": "2023-12-18T16:39:42.845Z"
   },
   {
    "duration": 0,
    "start_time": "2023-12-18T16:39:42.846Z"
   },
   {
    "duration": 0,
    "start_time": "2023-12-18T16:39:42.904Z"
   },
   {
    "duration": 0,
    "start_time": "2023-12-18T16:39:42.907Z"
   },
   {
    "duration": 0,
    "start_time": "2023-12-18T16:39:42.908Z"
   },
   {
    "duration": 0,
    "start_time": "2023-12-18T16:39:42.908Z"
   },
   {
    "duration": 0,
    "start_time": "2023-12-18T16:39:42.914Z"
   },
   {
    "duration": 0,
    "start_time": "2023-12-18T16:39:42.916Z"
   },
   {
    "duration": 0,
    "start_time": "2023-12-18T16:39:42.917Z"
   },
   {
    "duration": 0,
    "start_time": "2023-12-18T16:39:42.918Z"
   },
   {
    "duration": 0,
    "start_time": "2023-12-18T16:39:42.919Z"
   },
   {
    "duration": 0,
    "start_time": "2023-12-18T16:39:42.921Z"
   },
   {
    "duration": 1080,
    "start_time": "2023-12-18T16:40:24.926Z"
   },
   {
    "duration": 676,
    "start_time": "2023-12-18T16:40:26.008Z"
   },
   {
    "duration": 29,
    "start_time": "2023-12-18T16:40:26.685Z"
   },
   {
    "duration": 85,
    "start_time": "2023-12-18T16:40:26.715Z"
   },
   {
    "duration": 87,
    "start_time": "2023-12-18T16:40:26.803Z"
   },
   {
    "duration": 201,
    "start_time": "2023-12-18T16:40:26.891Z"
   },
   {
    "duration": 151,
    "start_time": "2023-12-18T16:40:27.094Z"
   },
   {
    "duration": 7,
    "start_time": "2023-12-18T16:40:27.247Z"
   },
   {
    "duration": 14,
    "start_time": "2023-12-18T16:40:27.255Z"
   },
   {
    "duration": 8,
    "start_time": "2023-12-18T16:40:27.271Z"
   },
   {
    "duration": 33,
    "start_time": "2023-12-18T16:40:27.281Z"
   },
   {
    "duration": 3,
    "start_time": "2023-12-18T16:40:27.319Z"
   },
   {
    "duration": 13,
    "start_time": "2023-12-18T16:40:27.324Z"
   },
   {
    "duration": 8,
    "start_time": "2023-12-18T16:40:27.340Z"
   },
   {
    "duration": 10,
    "start_time": "2023-12-18T16:40:27.350Z"
   },
   {
    "duration": 496,
    "start_time": "2023-12-18T16:40:27.361Z"
   },
   {
    "duration": 31,
    "start_time": "2023-12-18T16:40:27.858Z"
   },
   {
    "duration": 30,
    "start_time": "2023-12-18T16:40:27.891Z"
   },
   {
    "duration": 12,
    "start_time": "2023-12-18T16:40:27.922Z"
   },
   {
    "duration": 46,
    "start_time": "2023-12-18T16:40:27.936Z"
   },
   {
    "duration": 51,
    "start_time": "2023-12-18T16:40:27.984Z"
   },
   {
    "duration": 54,
    "start_time": "2023-12-18T16:40:28.037Z"
   },
   {
    "duration": 7,
    "start_time": "2023-12-18T16:40:28.099Z"
   },
   {
    "duration": 33,
    "start_time": "2023-12-18T16:40:28.107Z"
   },
   {
    "duration": 107,
    "start_time": "2023-12-18T16:40:28.141Z"
   },
   {
    "duration": 0,
    "start_time": "2023-12-18T16:40:28.250Z"
   },
   {
    "duration": 0,
    "start_time": "2023-12-18T16:40:28.251Z"
   },
   {
    "duration": 0,
    "start_time": "2023-12-18T16:40:28.252Z"
   },
   {
    "duration": 0,
    "start_time": "2023-12-18T16:40:28.253Z"
   },
   {
    "duration": 0,
    "start_time": "2023-12-18T16:40:28.253Z"
   },
   {
    "duration": 0,
    "start_time": "2023-12-18T16:40:28.255Z"
   },
   {
    "duration": 0,
    "start_time": "2023-12-18T16:40:28.255Z"
   },
   {
    "duration": 0,
    "start_time": "2023-12-18T16:40:28.256Z"
   },
   {
    "duration": 0,
    "start_time": "2023-12-18T16:40:28.257Z"
   },
   {
    "duration": 0,
    "start_time": "2023-12-18T16:40:28.258Z"
   },
   {
    "duration": 0,
    "start_time": "2023-12-18T16:40:28.259Z"
   },
   {
    "duration": 0,
    "start_time": "2023-12-18T16:40:28.260Z"
   },
   {
    "duration": 0,
    "start_time": "2023-12-18T16:40:28.261Z"
   },
   {
    "duration": 0,
    "start_time": "2023-12-18T16:40:28.262Z"
   },
   {
    "duration": 0,
    "start_time": "2023-12-18T16:40:28.263Z"
   },
   {
    "duration": 0,
    "start_time": "2023-12-18T16:40:28.264Z"
   },
   {
    "duration": 0,
    "start_time": "2023-12-18T16:40:28.265Z"
   },
   {
    "duration": 0,
    "start_time": "2023-12-18T16:40:28.267Z"
   },
   {
    "duration": 0,
    "start_time": "2023-12-18T16:40:28.268Z"
   },
   {
    "duration": 0,
    "start_time": "2023-12-18T16:40:28.300Z"
   },
   {
    "duration": 0,
    "start_time": "2023-12-18T16:40:28.301Z"
   },
   {
    "duration": 0,
    "start_time": "2023-12-18T16:40:28.302Z"
   },
   {
    "duration": 0,
    "start_time": "2023-12-18T16:40:28.303Z"
   },
   {
    "duration": 0,
    "start_time": "2023-12-18T16:40:28.304Z"
   },
   {
    "duration": 0,
    "start_time": "2023-12-18T16:40:28.305Z"
   },
   {
    "duration": 0,
    "start_time": "2023-12-18T16:40:28.306Z"
   },
   {
    "duration": 0,
    "start_time": "2023-12-18T16:40:28.307Z"
   },
   {
    "duration": 0,
    "start_time": "2023-12-18T16:40:28.308Z"
   },
   {
    "duration": 0,
    "start_time": "2023-12-18T16:40:28.309Z"
   },
   {
    "duration": 0,
    "start_time": "2023-12-18T16:40:28.310Z"
   },
   {
    "duration": 0,
    "start_time": "2023-12-18T16:40:28.311Z"
   },
   {
    "duration": 0,
    "start_time": "2023-12-18T16:40:28.312Z"
   },
   {
    "duration": 0,
    "start_time": "2023-12-18T16:40:28.312Z"
   },
   {
    "duration": 0,
    "start_time": "2023-12-18T16:40:28.314Z"
   },
   {
    "duration": 0,
    "start_time": "2023-12-18T16:40:28.315Z"
   },
   {
    "duration": 0,
    "start_time": "2023-12-18T16:40:28.316Z"
   },
   {
    "duration": 0,
    "start_time": "2023-12-18T16:40:28.317Z"
   },
   {
    "duration": 0,
    "start_time": "2023-12-18T16:40:28.318Z"
   },
   {
    "duration": 0,
    "start_time": "2023-12-18T16:40:28.319Z"
   },
   {
    "duration": 0,
    "start_time": "2023-12-18T16:40:28.320Z"
   },
   {
    "duration": 0,
    "start_time": "2023-12-18T16:40:28.321Z"
   },
   {
    "duration": 0,
    "start_time": "2023-12-18T16:40:28.322Z"
   },
   {
    "duration": 0,
    "start_time": "2023-12-18T16:40:28.323Z"
   },
   {
    "duration": 0,
    "start_time": "2023-12-18T16:40:28.324Z"
   },
   {
    "duration": 0,
    "start_time": "2023-12-18T16:40:28.326Z"
   },
   {
    "duration": 0,
    "start_time": "2023-12-18T16:40:28.327Z"
   },
   {
    "duration": 4,
    "start_time": "2023-12-18T16:41:29.341Z"
   },
   {
    "duration": 741,
    "start_time": "2023-12-18T16:41:29.347Z"
   },
   {
    "duration": 24,
    "start_time": "2023-12-18T16:41:30.090Z"
   },
   {
    "duration": 142,
    "start_time": "2023-12-18T16:41:30.116Z"
   },
   {
    "duration": 112,
    "start_time": "2023-12-18T16:41:30.260Z"
   },
   {
    "duration": 172,
    "start_time": "2023-12-18T16:41:30.373Z"
   },
   {
    "duration": 141,
    "start_time": "2023-12-18T16:41:30.546Z"
   },
   {
    "duration": 21,
    "start_time": "2023-12-18T16:41:30.689Z"
   },
   {
    "duration": 74,
    "start_time": "2023-12-18T16:41:30.715Z"
   },
   {
    "duration": 82,
    "start_time": "2023-12-18T16:41:30.790Z"
   },
   {
    "duration": 78,
    "start_time": "2023-12-18T16:41:30.874Z"
   },
   {
    "duration": 50,
    "start_time": "2023-12-18T16:41:30.954Z"
   },
   {
    "duration": 48,
    "start_time": "2023-12-18T16:41:31.006Z"
   },
   {
    "duration": 73,
    "start_time": "2023-12-18T16:41:31.056Z"
   },
   {
    "duration": 55,
    "start_time": "2023-12-18T16:41:31.131Z"
   },
   {
    "duration": 529,
    "start_time": "2023-12-18T16:41:31.188Z"
   },
   {
    "duration": 41,
    "start_time": "2023-12-18T16:41:31.719Z"
   },
   {
    "duration": 20,
    "start_time": "2023-12-18T16:41:31.761Z"
   },
   {
    "duration": 29,
    "start_time": "2023-12-18T16:41:31.782Z"
   },
   {
    "duration": 70,
    "start_time": "2023-12-18T16:41:31.813Z"
   },
   {
    "duration": 54,
    "start_time": "2023-12-18T16:41:31.885Z"
   },
   {
    "duration": 46,
    "start_time": "2023-12-18T16:41:31.940Z"
   },
   {
    "duration": 17,
    "start_time": "2023-12-18T16:41:31.988Z"
   },
   {
    "duration": 47,
    "start_time": "2023-12-18T16:41:32.006Z"
   },
   {
    "duration": 38,
    "start_time": "2023-12-18T16:41:32.055Z"
   },
   {
    "duration": 1,
    "start_time": "2023-12-18T16:41:32.095Z"
   },
   {
    "duration": 0,
    "start_time": "2023-12-18T16:41:32.097Z"
   },
   {
    "duration": 0,
    "start_time": "2023-12-18T16:41:32.098Z"
   },
   {
    "duration": 0,
    "start_time": "2023-12-18T16:41:32.110Z"
   },
   {
    "duration": 0,
    "start_time": "2023-12-18T16:41:32.111Z"
   },
   {
    "duration": 0,
    "start_time": "2023-12-18T16:41:32.111Z"
   },
   {
    "duration": 0,
    "start_time": "2023-12-18T16:41:32.112Z"
   },
   {
    "duration": 0,
    "start_time": "2023-12-18T16:41:32.113Z"
   },
   {
    "duration": 0,
    "start_time": "2023-12-18T16:41:32.117Z"
   },
   {
    "duration": 0,
    "start_time": "2023-12-18T16:41:32.118Z"
   },
   {
    "duration": 0,
    "start_time": "2023-12-18T16:41:32.119Z"
   },
   {
    "duration": 0,
    "start_time": "2023-12-18T16:41:32.120Z"
   },
   {
    "duration": 0,
    "start_time": "2023-12-18T16:41:32.121Z"
   },
   {
    "duration": 0,
    "start_time": "2023-12-18T16:41:32.122Z"
   },
   {
    "duration": 0,
    "start_time": "2023-12-18T16:41:32.123Z"
   },
   {
    "duration": 0,
    "start_time": "2023-12-18T16:41:32.124Z"
   },
   {
    "duration": 0,
    "start_time": "2023-12-18T16:41:32.125Z"
   },
   {
    "duration": 0,
    "start_time": "2023-12-18T16:41:32.126Z"
   },
   {
    "duration": 0,
    "start_time": "2023-12-18T16:41:32.127Z"
   },
   {
    "duration": 0,
    "start_time": "2023-12-18T16:41:32.127Z"
   },
   {
    "duration": 0,
    "start_time": "2023-12-18T16:41:32.129Z"
   },
   {
    "duration": 0,
    "start_time": "2023-12-18T16:41:32.129Z"
   },
   {
    "duration": 0,
    "start_time": "2023-12-18T16:41:32.130Z"
   },
   {
    "duration": 0,
    "start_time": "2023-12-18T16:41:32.131Z"
   },
   {
    "duration": 0,
    "start_time": "2023-12-18T16:41:32.132Z"
   },
   {
    "duration": 0,
    "start_time": "2023-12-18T16:41:32.133Z"
   },
   {
    "duration": 0,
    "start_time": "2023-12-18T16:41:32.135Z"
   },
   {
    "duration": 0,
    "start_time": "2023-12-18T16:41:32.136Z"
   },
   {
    "duration": 0,
    "start_time": "2023-12-18T16:41:32.137Z"
   },
   {
    "duration": 0,
    "start_time": "2023-12-18T16:41:32.138Z"
   },
   {
    "duration": 0,
    "start_time": "2023-12-18T16:41:32.139Z"
   },
   {
    "duration": 0,
    "start_time": "2023-12-18T16:41:32.140Z"
   },
   {
    "duration": 0,
    "start_time": "2023-12-18T16:41:32.141Z"
   },
   {
    "duration": 1,
    "start_time": "2023-12-18T16:41:32.141Z"
   },
   {
    "duration": 0,
    "start_time": "2023-12-18T16:41:32.142Z"
   },
   {
    "duration": 0,
    "start_time": "2023-12-18T16:41:32.143Z"
   },
   {
    "duration": 0,
    "start_time": "2023-12-18T16:41:32.144Z"
   },
   {
    "duration": 0,
    "start_time": "2023-12-18T16:41:32.145Z"
   },
   {
    "duration": 0,
    "start_time": "2023-12-18T16:41:32.146Z"
   },
   {
    "duration": 0,
    "start_time": "2023-12-18T16:41:32.147Z"
   },
   {
    "duration": 0,
    "start_time": "2023-12-18T16:41:32.148Z"
   },
   {
    "duration": 0,
    "start_time": "2023-12-18T16:41:32.149Z"
   },
   {
    "duration": 0,
    "start_time": "2023-12-18T16:41:32.150Z"
   },
   {
    "duration": 0,
    "start_time": "2023-12-18T16:41:32.150Z"
   },
   {
    "duration": 0,
    "start_time": "2023-12-18T16:41:32.151Z"
   },
   {
    "duration": 0,
    "start_time": "2023-12-18T16:41:32.151Z"
   },
   {
    "duration": 9,
    "start_time": "2023-12-18T16:41:43.453Z"
   },
   {
    "duration": 7,
    "start_time": "2023-12-18T16:42:03.185Z"
   },
   {
    "duration": 6,
    "start_time": "2023-12-18T16:42:04.235Z"
   },
   {
    "duration": 11,
    "start_time": "2023-12-18T16:42:05.187Z"
   },
   {
    "duration": 9,
    "start_time": "2023-12-18T16:42:06.124Z"
   },
   {
    "duration": 3,
    "start_time": "2023-12-18T16:42:07.085Z"
   },
   {
    "duration": 9,
    "start_time": "2023-12-18T16:42:07.952Z"
   },
   {
    "duration": 6,
    "start_time": "2023-12-18T16:42:09.965Z"
   },
   {
    "duration": 10,
    "start_time": "2023-12-18T16:42:11.633Z"
   },
   {
    "duration": 435,
    "start_time": "2023-12-18T16:42:14.646Z"
   },
   {
    "duration": 50,
    "start_time": "2023-12-18T16:42:15.287Z"
   },
   {
    "duration": 5,
    "start_time": "2023-12-18T16:42:19.752Z"
   },
   {
    "duration": 17,
    "start_time": "2023-12-18T16:43:04.217Z"
   },
   {
    "duration": 18,
    "start_time": "2023-12-18T16:43:35.366Z"
   },
   {
    "duration": 5,
    "start_time": "2023-12-18T16:44:09.958Z"
   },
   {
    "duration": 680,
    "start_time": "2023-12-18T16:44:09.964Z"
   },
   {
    "duration": 15,
    "start_time": "2023-12-18T16:44:10.646Z"
   },
   {
    "duration": 89,
    "start_time": "2023-12-18T16:44:10.662Z"
   },
   {
    "duration": 103,
    "start_time": "2023-12-18T16:44:10.754Z"
   },
   {
    "duration": 174,
    "start_time": "2023-12-18T16:44:10.859Z"
   },
   {
    "duration": 119,
    "start_time": "2023-12-18T16:44:11.035Z"
   },
   {
    "duration": 7,
    "start_time": "2023-12-18T16:44:11.156Z"
   },
   {
    "duration": 15,
    "start_time": "2023-12-18T16:44:11.164Z"
   },
   {
    "duration": 9,
    "start_time": "2023-12-18T16:44:11.181Z"
   },
   {
    "duration": 16,
    "start_time": "2023-12-18T16:44:11.201Z"
   },
   {
    "duration": 14,
    "start_time": "2023-12-18T16:44:11.218Z"
   },
   {
    "duration": 8,
    "start_time": "2023-12-18T16:44:11.233Z"
   },
   {
    "duration": 9,
    "start_time": "2023-12-18T16:44:11.243Z"
   },
   {
    "duration": 9,
    "start_time": "2023-12-18T16:44:11.253Z"
   },
   {
    "duration": 416,
    "start_time": "2023-12-18T16:44:11.263Z"
   },
   {
    "duration": 57,
    "start_time": "2023-12-18T16:44:11.681Z"
   },
   {
    "duration": 26,
    "start_time": "2023-12-18T16:44:11.739Z"
   },
   {
    "duration": 45,
    "start_time": "2023-12-18T16:44:11.767Z"
   },
   {
    "duration": 71,
    "start_time": "2023-12-18T16:44:11.815Z"
   },
   {
    "duration": 43,
    "start_time": "2023-12-18T16:44:11.888Z"
   },
   {
    "duration": 57,
    "start_time": "2023-12-18T16:44:11.932Z"
   },
   {
    "duration": 7,
    "start_time": "2023-12-18T16:44:11.990Z"
   },
   {
    "duration": 57,
    "start_time": "2023-12-18T16:44:11.998Z"
   },
   {
    "duration": 26,
    "start_time": "2023-12-18T16:44:13.996Z"
   },
   {
    "duration": 16,
    "start_time": "2023-12-18T16:44:39.161Z"
   },
   {
    "duration": 8,
    "start_time": "2023-12-18T16:46:02.908Z"
   },
   {
    "duration": 23,
    "start_time": "2023-12-18T16:46:55.910Z"
   },
   {
    "duration": 19,
    "start_time": "2023-12-18T16:47:11.073Z"
   },
   {
    "duration": 28,
    "start_time": "2023-12-18T16:47:29.140Z"
   },
   {
    "duration": 26,
    "start_time": "2023-12-18T16:47:53.304Z"
   },
   {
    "duration": 17,
    "start_time": "2023-12-18T16:47:58.742Z"
   },
   {
    "duration": 64,
    "start_time": "2023-12-18T16:49:10.090Z"
   },
   {
    "duration": 17,
    "start_time": "2023-12-18T16:49:30.075Z"
   },
   {
    "duration": 59,
    "start_time": "2023-12-18T16:55:24.521Z"
   },
   {
    "duration": 55,
    "start_time": "2023-12-18T16:55:31.161Z"
   },
   {
    "duration": 53,
    "start_time": "2023-12-18T16:55:49.867Z"
   },
   {
    "duration": 132,
    "start_time": "2023-12-18T16:56:02.998Z"
   },
   {
    "duration": 198,
    "start_time": "2023-12-18T16:56:23.550Z"
   },
   {
    "duration": 1055,
    "start_time": "2023-12-18T16:56:58.512Z"
   },
   {
    "duration": 623,
    "start_time": "2023-12-18T16:56:59.569Z"
   },
   {
    "duration": 20,
    "start_time": "2023-12-18T16:57:00.194Z"
   },
   {
    "duration": 146,
    "start_time": "2023-12-18T16:57:00.216Z"
   },
   {
    "duration": 159,
    "start_time": "2023-12-18T16:57:00.364Z"
   },
   {
    "duration": 192,
    "start_time": "2023-12-18T16:57:00.525Z"
   },
   {
    "duration": 134,
    "start_time": "2023-12-18T16:57:00.718Z"
   },
   {
    "duration": 8,
    "start_time": "2023-12-18T16:57:00.853Z"
   },
   {
    "duration": 92,
    "start_time": "2023-12-18T16:57:00.862Z"
   },
   {
    "duration": 77,
    "start_time": "2023-12-18T16:57:00.957Z"
   },
   {
    "duration": 104,
    "start_time": "2023-12-18T16:57:01.035Z"
   },
   {
    "duration": 73,
    "start_time": "2023-12-18T16:57:01.140Z"
   },
   {
    "duration": 30,
    "start_time": "2023-12-18T16:57:01.214Z"
   },
   {
    "duration": 55,
    "start_time": "2023-12-18T16:57:01.245Z"
   },
   {
    "duration": 127,
    "start_time": "2023-12-18T16:57:01.302Z"
   },
   {
    "duration": 539,
    "start_time": "2023-12-18T16:57:01.431Z"
   },
   {
    "duration": 40,
    "start_time": "2023-12-18T16:57:01.971Z"
   },
   {
    "duration": 20,
    "start_time": "2023-12-18T16:57:02.012Z"
   },
   {
    "duration": 30,
    "start_time": "2023-12-18T16:57:02.034Z"
   },
   {
    "duration": 86,
    "start_time": "2023-12-18T16:57:02.066Z"
   },
   {
    "duration": 39,
    "start_time": "2023-12-18T16:57:02.154Z"
   },
   {
    "duration": 63,
    "start_time": "2023-12-18T16:57:02.194Z"
   },
   {
    "duration": 3,
    "start_time": "2023-12-18T16:57:02.258Z"
   },
   {
    "duration": 47,
    "start_time": "2023-12-18T16:57:02.262Z"
   },
   {
    "duration": 210,
    "start_time": "2023-12-18T16:57:02.311Z"
   },
   {
    "duration": 355,
    "start_time": "2023-12-18T16:57:02.522Z"
   },
   {
    "duration": 37,
    "start_time": "2023-12-18T16:57:02.878Z"
   },
   {
    "duration": 243,
    "start_time": "2023-12-18T16:57:02.919Z"
   },
   {
    "duration": 49,
    "start_time": "2023-12-18T16:57:03.163Z"
   },
   {
    "duration": 21,
    "start_time": "2023-12-18T16:57:03.214Z"
   },
   {
    "duration": 241,
    "start_time": "2023-12-18T16:57:03.237Z"
   },
   {
    "duration": 44,
    "start_time": "2023-12-18T16:57:03.479Z"
   },
   {
    "duration": 2,
    "start_time": "2023-12-18T16:57:03.525Z"
   },
   {
    "duration": 140,
    "start_time": "2023-12-18T16:57:03.529Z"
   },
   {
    "duration": 20,
    "start_time": "2023-12-18T16:57:03.671Z"
   },
   {
    "duration": 1306,
    "start_time": "2023-12-18T16:57:03.698Z"
   },
   {
    "duration": 27,
    "start_time": "2023-12-18T16:57:05.006Z"
   },
   {
    "duration": 11,
    "start_time": "2023-12-18T16:57:05.034Z"
   },
   {
    "duration": 15,
    "start_time": "2023-12-18T16:57:05.047Z"
   },
   {
    "duration": 606,
    "start_time": "2023-12-18T16:57:05.063Z"
   },
   {
    "duration": 9,
    "start_time": "2023-12-18T16:57:05.670Z"
   },
   {
    "duration": 261,
    "start_time": "2023-12-18T16:57:05.680Z"
   },
   {
    "duration": 776,
    "start_time": "2023-12-18T16:57:05.943Z"
   },
   {
    "duration": 41,
    "start_time": "2023-12-18T16:57:06.721Z"
   },
   {
    "duration": 23,
    "start_time": "2023-12-18T16:57:06.763Z"
   },
   {
    "duration": 1679,
    "start_time": "2023-12-18T16:57:06.787Z"
   },
   {
    "duration": 10,
    "start_time": "2023-12-18T16:57:08.468Z"
   },
   {
    "duration": 16,
    "start_time": "2023-12-18T16:57:08.501Z"
   },
   {
    "duration": 11,
    "start_time": "2023-12-18T16:57:08.518Z"
   },
   {
    "duration": 730,
    "start_time": "2023-12-18T16:57:08.530Z"
   },
   {
    "duration": 7,
    "start_time": "2023-12-18T16:57:09.262Z"
   },
   {
    "duration": 1196,
    "start_time": "2023-12-18T16:57:09.270Z"
   },
   {
    "duration": 10,
    "start_time": "2023-12-18T16:57:10.467Z"
   },
   {
    "duration": 1679,
    "start_time": "2023-12-18T16:57:10.479Z"
   },
   {
    "duration": 7,
    "start_time": "2023-12-18T16:57:12.160Z"
   },
   {
    "duration": 13,
    "start_time": "2023-12-18T16:57:12.168Z"
   },
   {
    "duration": 9,
    "start_time": "2023-12-18T16:57:12.182Z"
   },
   {
    "duration": 744,
    "start_time": "2023-12-18T16:57:12.192Z"
   },
   {
    "duration": 7,
    "start_time": "2023-12-18T16:57:12.938Z"
   },
   {
    "duration": 1178,
    "start_time": "2023-12-18T16:57:12.946Z"
   },
   {
    "duration": 10,
    "start_time": "2023-12-18T16:57:14.126Z"
   },
   {
    "duration": 29,
    "start_time": "2023-12-18T16:57:14.138Z"
   },
   {
    "duration": 1976,
    "start_time": "2023-12-18T16:57:14.168Z"
   },
   {
    "duration": 10,
    "start_time": "2023-12-18T16:57:16.146Z"
   },
   {
    "duration": 10,
    "start_time": "2023-12-18T16:57:16.158Z"
   },
   {
    "duration": 32,
    "start_time": "2023-12-18T16:57:16.170Z"
   },
   {
    "duration": 930,
    "start_time": "2023-12-18T16:57:16.206Z"
   },
   {
    "duration": 9,
    "start_time": "2023-12-18T16:57:17.138Z"
   },
   {
    "duration": 1738,
    "start_time": "2023-12-18T16:57:17.149Z"
   },
   {
    "duration": 28,
    "start_time": "2023-12-18T16:57:18.889Z"
   },
   {
    "duration": 25,
    "start_time": "2023-12-18T16:57:18.918Z"
   },
   {
    "duration": 1148,
    "start_time": "2023-12-18T17:48:21.460Z"
   },
   {
    "duration": 723,
    "start_time": "2023-12-18T17:48:22.610Z"
   },
   {
    "duration": 21,
    "start_time": "2023-12-18T17:48:23.334Z"
   },
   {
    "duration": 96,
    "start_time": "2023-12-18T17:48:23.357Z"
   },
   {
    "duration": 104,
    "start_time": "2023-12-18T17:48:23.454Z"
   },
   {
    "duration": 213,
    "start_time": "2023-12-18T17:48:23.560Z"
   },
   {
    "duration": 147,
    "start_time": "2023-12-18T17:48:23.775Z"
   },
   {
    "duration": 10,
    "start_time": "2023-12-18T17:48:23.924Z"
   },
   {
    "duration": 28,
    "start_time": "2023-12-18T17:48:23.935Z"
   },
   {
    "duration": 24,
    "start_time": "2023-12-18T17:48:23.966Z"
   },
   {
    "duration": 33,
    "start_time": "2023-12-18T17:48:23.992Z"
   },
   {
    "duration": 23,
    "start_time": "2023-12-18T17:48:24.027Z"
   },
   {
    "duration": 20,
    "start_time": "2023-12-18T17:48:24.051Z"
   },
   {
    "duration": 32,
    "start_time": "2023-12-18T17:48:24.073Z"
   },
   {
    "duration": 25,
    "start_time": "2023-12-18T17:48:24.107Z"
   },
   {
    "duration": 537,
    "start_time": "2023-12-18T17:48:24.134Z"
   },
   {
    "duration": 38,
    "start_time": "2023-12-18T17:48:24.672Z"
   },
   {
    "duration": 32,
    "start_time": "2023-12-18T17:48:24.712Z"
   },
   {
    "duration": 6,
    "start_time": "2023-12-18T17:48:24.746Z"
   },
   {
    "duration": 64,
    "start_time": "2023-12-18T17:48:24.753Z"
   },
   {
    "duration": 48,
    "start_time": "2023-12-18T17:48:24.819Z"
   },
   {
    "duration": 71,
    "start_time": "2023-12-18T17:48:24.868Z"
   },
   {
    "duration": 3,
    "start_time": "2023-12-18T17:48:24.941Z"
   },
   {
    "duration": 31,
    "start_time": "2023-12-18T17:48:24.945Z"
   },
   {
    "duration": 266,
    "start_time": "2023-12-18T17:48:24.977Z"
   },
   {
    "duration": 344,
    "start_time": "2023-12-18T17:48:25.244Z"
   },
   {
    "duration": 40,
    "start_time": "2023-12-18T17:48:25.589Z"
   },
   {
    "duration": 304,
    "start_time": "2023-12-18T17:48:25.633Z"
   },
   {
    "duration": 33,
    "start_time": "2023-12-18T17:48:25.939Z"
   },
   {
    "duration": 24,
    "start_time": "2023-12-18T17:48:25.973Z"
   },
   {
    "duration": 304,
    "start_time": "2023-12-18T17:48:25.998Z"
   },
   {
    "duration": 41,
    "start_time": "2023-12-18T17:48:26.304Z"
   },
   {
    "duration": 2,
    "start_time": "2023-12-18T17:48:26.347Z"
   },
   {
    "duration": 159,
    "start_time": "2023-12-18T17:48:26.352Z"
   },
   {
    "duration": 30,
    "start_time": "2023-12-18T17:48:26.512Z"
   },
   {
    "duration": 1558,
    "start_time": "2023-12-18T17:48:26.544Z"
   },
   {
    "duration": 35,
    "start_time": "2023-12-18T17:48:28.103Z"
   },
   {
    "duration": 23,
    "start_time": "2023-12-18T17:48:28.140Z"
   },
   {
    "duration": 19,
    "start_time": "2023-12-18T17:48:28.164Z"
   },
   {
    "duration": 675,
    "start_time": "2023-12-18T17:48:28.184Z"
   },
   {
    "duration": 9,
    "start_time": "2023-12-18T17:48:28.862Z"
   },
   {
    "duration": 319,
    "start_time": "2023-12-18T17:48:28.873Z"
   },
   {
    "duration": 947,
    "start_time": "2023-12-18T17:48:29.194Z"
   },
   {
    "duration": 48,
    "start_time": "2023-12-18T17:48:30.143Z"
   },
   {
    "duration": 24,
    "start_time": "2023-12-18T17:48:30.193Z"
   },
   {
    "duration": 1935,
    "start_time": "2023-12-18T17:48:30.219Z"
   },
   {
    "duration": 8,
    "start_time": "2023-12-18T17:48:32.156Z"
   },
   {
    "duration": 11,
    "start_time": "2023-12-18T17:48:32.166Z"
   },
   {
    "duration": 4,
    "start_time": "2023-12-18T17:48:32.179Z"
   },
   {
    "duration": 825,
    "start_time": "2023-12-18T17:48:32.184Z"
   },
   {
    "duration": 17,
    "start_time": "2023-12-18T17:48:33.011Z"
   },
   {
    "duration": 1384,
    "start_time": "2023-12-18T17:48:33.029Z"
   },
   {
    "duration": 16,
    "start_time": "2023-12-18T17:48:34.420Z"
   },
   {
    "duration": 1863,
    "start_time": "2023-12-18T17:48:34.437Z"
   },
   {
    "duration": 9,
    "start_time": "2023-12-18T17:48:36.302Z"
   },
   {
    "duration": 18,
    "start_time": "2023-12-18T17:48:36.315Z"
   },
   {
    "duration": 3,
    "start_time": "2023-12-18T17:48:36.335Z"
   },
   {
    "duration": 870,
    "start_time": "2023-12-18T17:48:36.339Z"
   },
   {
    "duration": 19,
    "start_time": "2023-12-18T17:48:37.211Z"
   },
   {
    "duration": 1344,
    "start_time": "2023-12-18T17:48:37.232Z"
   },
   {
    "duration": 11,
    "start_time": "2023-12-18T17:48:38.577Z"
   },
   {
    "duration": 42,
    "start_time": "2023-12-18T17:48:38.590Z"
   },
   {
    "duration": 2259,
    "start_time": "2023-12-18T17:48:38.634Z"
   },
   {
    "duration": 20,
    "start_time": "2023-12-18T17:48:40.895Z"
   },
   {
    "duration": 15,
    "start_time": "2023-12-18T17:48:40.918Z"
   },
   {
    "duration": 3,
    "start_time": "2023-12-18T17:48:40.935Z"
   },
   {
    "duration": 1149,
    "start_time": "2023-12-18T17:48:40.940Z"
   },
   {
    "duration": 9,
    "start_time": "2023-12-18T17:48:42.091Z"
   },
   {
    "duration": 2131,
    "start_time": "2023-12-18T17:48:42.101Z"
   },
   {
    "duration": 12,
    "start_time": "2023-12-18T17:48:44.233Z"
   },
   {
    "duration": 31,
    "start_time": "2023-12-18T17:48:44.246Z"
   },
   {
    "duration": 44,
    "start_time": "2023-12-18T18:24:25.581Z"
   },
   {
    "duration": 6,
    "start_time": "2023-12-18T18:24:41.121Z"
   },
   {
    "duration": 1246,
    "start_time": "2023-12-18T18:24:47.322Z"
   },
   {
    "duration": 886,
    "start_time": "2023-12-18T18:24:48.570Z"
   },
   {
    "duration": 17,
    "start_time": "2023-12-18T18:24:49.458Z"
   },
   {
    "duration": 128,
    "start_time": "2023-12-18T18:24:49.477Z"
   },
   {
    "duration": 3,
    "start_time": "2023-12-18T18:24:57.817Z"
   },
   {
    "duration": 90,
    "start_time": "2023-12-18T18:25:49.958Z"
   },
   {
    "duration": 352,
    "start_time": "2023-12-18T18:26:00.883Z"
   },
   {
    "duration": 5,
    "start_time": "2023-12-18T18:26:21.728Z"
   },
   {
    "duration": 84,
    "start_time": "2023-12-18T18:26:24.408Z"
   },
   {
    "duration": 168,
    "start_time": "2023-12-18T18:26:40.319Z"
   },
   {
    "duration": 118,
    "start_time": "2023-12-18T18:26:44.561Z"
   },
   {
    "duration": 60,
    "start_time": "2023-12-18T18:26:57.304Z"
   },
   {
    "duration": 8,
    "start_time": "2023-12-18T18:38:07.730Z"
   },
   {
    "duration": 5,
    "start_time": "2023-12-18T18:38:19.379Z"
   },
   {
    "duration": 619,
    "start_time": "2023-12-18T18:38:19.386Z"
   },
   {
    "duration": 15,
    "start_time": "2023-12-18T18:38:20.006Z"
   },
   {
    "duration": 79,
    "start_time": "2023-12-18T18:38:20.022Z"
   },
   {
    "duration": 83,
    "start_time": "2023-12-18T18:38:20.103Z"
   },
   {
    "duration": 150,
    "start_time": "2023-12-18T18:38:20.187Z"
   },
   {
    "duration": 107,
    "start_time": "2023-12-18T18:38:20.339Z"
   },
   {
    "duration": 6,
    "start_time": "2023-12-18T18:38:20.448Z"
   },
   {
    "duration": 9,
    "start_time": "2023-12-18T18:38:20.456Z"
   },
   {
    "duration": 17,
    "start_time": "2023-12-18T18:38:20.467Z"
   },
   {
    "duration": 10,
    "start_time": "2023-12-18T18:38:20.488Z"
   },
   {
    "duration": 5,
    "start_time": "2023-12-18T18:38:20.499Z"
   },
   {
    "duration": 9,
    "start_time": "2023-12-18T18:38:20.505Z"
   },
   {
    "duration": 6,
    "start_time": "2023-12-18T18:38:20.516Z"
   },
   {
    "duration": 9,
    "start_time": "2023-12-18T18:38:20.524Z"
   },
   {
    "duration": 453,
    "start_time": "2023-12-18T18:38:20.534Z"
   },
   {
    "duration": 33,
    "start_time": "2023-12-18T18:38:20.989Z"
   },
   {
    "duration": 28,
    "start_time": "2023-12-18T18:38:21.024Z"
   },
   {
    "duration": 4,
    "start_time": "2023-12-18T18:38:21.054Z"
   },
   {
    "duration": 63,
    "start_time": "2023-12-18T18:38:21.059Z"
   },
   {
    "duration": 40,
    "start_time": "2023-12-18T18:38:21.123Z"
   },
   {
    "duration": 56,
    "start_time": "2023-12-18T18:38:21.164Z"
   },
   {
    "duration": 3,
    "start_time": "2023-12-18T18:38:21.221Z"
   },
   {
    "duration": 24,
    "start_time": "2023-12-18T18:38:21.226Z"
   },
   {
    "duration": 218,
    "start_time": "2023-12-18T18:38:21.252Z"
   },
   {
    "duration": 325,
    "start_time": "2023-12-18T18:38:21.471Z"
   },
   {
    "duration": 33,
    "start_time": "2023-12-18T18:38:21.797Z"
   },
   {
    "duration": 234,
    "start_time": "2023-12-18T18:38:21.832Z"
   },
   {
    "duration": 35,
    "start_time": "2023-12-18T18:38:22.068Z"
   },
   {
    "duration": 22,
    "start_time": "2023-12-18T18:38:22.104Z"
   },
   {
    "duration": 21,
    "start_time": "2023-12-18T18:38:24.690Z"
   },
   {
    "duration": 27,
    "start_time": "2023-12-18T18:47:19.902Z"
   },
   {
    "duration": 22,
    "start_time": "2023-12-18T18:48:18.156Z"
   },
   {
    "duration": 22,
    "start_time": "2023-12-18T18:48:27.105Z"
   },
   {
    "duration": 22,
    "start_time": "2023-12-18T18:49:15.924Z"
   },
   {
    "duration": 21,
    "start_time": "2023-12-18T18:49:25.288Z"
   },
   {
    "duration": 7,
    "start_time": "2023-12-18T18:49:29.268Z"
   },
   {
    "duration": 16,
    "start_time": "2023-12-18T18:49:39.997Z"
   },
   {
    "duration": 13,
    "start_time": "2023-12-18T18:50:21.734Z"
   },
   {
    "duration": 9,
    "start_time": "2023-12-18T18:51:21.030Z"
   },
   {
    "duration": 4,
    "start_time": "2023-12-18T18:51:34.874Z"
   },
   {
    "duration": 646,
    "start_time": "2023-12-18T18:51:34.880Z"
   },
   {
    "duration": 15,
    "start_time": "2023-12-18T18:51:35.528Z"
   },
   {
    "duration": 197,
    "start_time": "2023-12-18T18:51:35.544Z"
   },
   {
    "duration": 82,
    "start_time": "2023-12-18T18:51:35.743Z"
   },
   {
    "duration": 162,
    "start_time": "2023-12-18T18:51:35.827Z"
   },
   {
    "duration": 120,
    "start_time": "2023-12-18T18:51:35.991Z"
   },
   {
    "duration": 7,
    "start_time": "2023-12-18T18:51:36.112Z"
   },
   {
    "duration": 8,
    "start_time": "2023-12-18T18:51:36.120Z"
   },
   {
    "duration": 10,
    "start_time": "2023-12-18T18:51:36.130Z"
   },
   {
    "duration": 9,
    "start_time": "2023-12-18T18:51:36.143Z"
   },
   {
    "duration": 28,
    "start_time": "2023-12-18T18:51:36.154Z"
   },
   {
    "duration": 8,
    "start_time": "2023-12-18T18:51:36.184Z"
   },
   {
    "duration": 10,
    "start_time": "2023-12-18T18:51:36.194Z"
   },
   {
    "duration": 10,
    "start_time": "2023-12-18T18:51:36.205Z"
   },
   {
    "duration": 436,
    "start_time": "2023-12-18T18:51:36.217Z"
   },
   {
    "duration": 41,
    "start_time": "2023-12-18T18:51:36.655Z"
   },
   {
    "duration": 21,
    "start_time": "2023-12-18T18:51:36.697Z"
   },
   {
    "duration": 5,
    "start_time": "2023-12-18T18:51:36.719Z"
   },
   {
    "duration": 59,
    "start_time": "2023-12-18T18:51:36.725Z"
   },
   {
    "duration": 41,
    "start_time": "2023-12-18T18:51:36.785Z"
   },
   {
    "duration": 55,
    "start_time": "2023-12-18T18:51:36.827Z"
   },
   {
    "duration": 4,
    "start_time": "2023-12-18T18:51:36.883Z"
   },
   {
    "duration": 36,
    "start_time": "2023-12-18T18:51:36.888Z"
   },
   {
    "duration": 202,
    "start_time": "2023-12-18T18:51:36.925Z"
   },
   {
    "duration": 354,
    "start_time": "2023-12-18T18:51:37.128Z"
   },
   {
    "duration": 30,
    "start_time": "2023-12-18T18:51:37.483Z"
   },
   {
    "duration": 256,
    "start_time": "2023-12-18T18:51:37.514Z"
   },
   {
    "duration": 35,
    "start_time": "2023-12-18T18:51:37.773Z"
   },
   {
    "duration": 22,
    "start_time": "2023-12-18T18:51:37.809Z"
   },
   {
    "duration": 22,
    "start_time": "2023-12-18T18:51:37.833Z"
   },
   {
    "duration": 32,
    "start_time": "2023-12-18T18:51:37.856Z"
   },
   {
    "duration": 275,
    "start_time": "2023-12-18T18:51:37.890Z"
   },
   {
    "duration": 35,
    "start_time": "2023-12-18T18:51:38.167Z"
   },
   {
    "duration": 2,
    "start_time": "2023-12-18T18:51:38.203Z"
   },
   {
    "duration": 130,
    "start_time": "2023-12-18T18:51:38.206Z"
   },
   {
    "duration": 20,
    "start_time": "2023-12-18T18:51:38.337Z"
   },
   {
    "duration": 1451,
    "start_time": "2023-12-18T18:51:41.043Z"
   },
   {
    "duration": 15,
    "start_time": "2023-12-18T18:52:16.730Z"
   },
   {
    "duration": 10,
    "start_time": "2023-12-18T18:52:57.192Z"
   },
   {
    "duration": 1235,
    "start_time": "2023-12-18T18:53:16.604Z"
   },
   {
    "duration": 21,
    "start_time": "2023-12-18T18:53:26.986Z"
   },
   {
    "duration": 11,
    "start_time": "2023-12-18T18:57:11.460Z"
   },
   {
    "duration": 1131,
    "start_time": "2023-12-18T19:02:33.996Z"
   },
   {
    "duration": 1131,
    "start_time": "2023-12-18T19:03:05.990Z"
   },
   {
    "duration": 11,
    "start_time": "2023-12-18T19:03:30.342Z"
   },
   {
    "duration": 70,
    "start_time": "2023-12-18T19:04:55.151Z"
   },
   {
    "duration": 11,
    "start_time": "2023-12-18T19:05:13.295Z"
   },
   {
    "duration": 10,
    "start_time": "2023-12-18T19:05:58.314Z"
   },
   {
    "duration": 9,
    "start_time": "2023-12-18T19:08:36.574Z"
   },
   {
    "duration": 20,
    "start_time": "2023-12-18T19:08:47.523Z"
   },
   {
    "duration": 20,
    "start_time": "2023-12-18T19:10:03.800Z"
   },
   {
    "duration": 15,
    "start_time": "2023-12-18T19:10:25.652Z"
   },
   {
    "duration": 330,
    "start_time": "2023-12-18T19:10:32.941Z"
   },
   {
    "duration": 12,
    "start_time": "2023-12-18T19:10:37.307Z"
   },
   {
    "duration": 9,
    "start_time": "2023-12-18T19:12:12.887Z"
   },
   {
    "duration": 14,
    "start_time": "2023-12-18T19:12:17.664Z"
   },
   {
    "duration": 14,
    "start_time": "2023-12-18T19:13:21.728Z"
   },
   {
    "duration": 14,
    "start_time": "2023-12-18T19:15:16.526Z"
   },
   {
    "duration": 247,
    "start_time": "2023-12-18T19:17:40.502Z"
   },
   {
    "duration": 14,
    "start_time": "2023-12-18T19:18:14.788Z"
   },
   {
    "duration": 241,
    "start_time": "2023-12-18T19:18:37.958Z"
   },
   {
    "duration": 251,
    "start_time": "2023-12-18T19:19:11.050Z"
   },
   {
    "duration": 268,
    "start_time": "2023-12-18T19:20:07.833Z"
   },
   {
    "duration": 34,
    "start_time": "2023-12-18T19:21:10.317Z"
   },
   {
    "duration": 13,
    "start_time": "2023-12-18T19:21:55.005Z"
   },
   {
    "duration": 74,
    "start_time": "2023-12-18T19:24:35.945Z"
   },
   {
    "duration": 1060,
    "start_time": "2023-12-18T19:47:19.814Z"
   },
   {
    "duration": 618,
    "start_time": "2023-12-18T19:47:20.875Z"
   },
   {
    "duration": 18,
    "start_time": "2023-12-18T19:47:21.495Z"
   },
   {
    "duration": 81,
    "start_time": "2023-12-18T19:47:21.514Z"
   },
   {
    "duration": 86,
    "start_time": "2023-12-18T19:47:21.596Z"
   },
   {
    "duration": 200,
    "start_time": "2023-12-18T19:47:21.684Z"
   },
   {
    "duration": 124,
    "start_time": "2023-12-18T19:47:21.885Z"
   },
   {
    "duration": 6,
    "start_time": "2023-12-18T19:47:22.011Z"
   },
   {
    "duration": 22,
    "start_time": "2023-12-18T19:47:22.018Z"
   },
   {
    "duration": 35,
    "start_time": "2023-12-18T19:47:22.042Z"
   },
   {
    "duration": 40,
    "start_time": "2023-12-18T19:47:22.079Z"
   },
   {
    "duration": 29,
    "start_time": "2023-12-18T19:47:22.120Z"
   },
   {
    "duration": 14,
    "start_time": "2023-12-18T19:47:22.150Z"
   },
   {
    "duration": 22,
    "start_time": "2023-12-18T19:47:22.167Z"
   },
   {
    "duration": 33,
    "start_time": "2023-12-18T19:47:22.190Z"
   },
   {
    "duration": 473,
    "start_time": "2023-12-18T19:47:22.224Z"
   },
   {
    "duration": 34,
    "start_time": "2023-12-18T19:47:22.699Z"
   },
   {
    "duration": 21,
    "start_time": "2023-12-18T19:47:22.735Z"
   },
   {
    "duration": 25,
    "start_time": "2023-12-18T19:47:22.757Z"
   },
   {
    "duration": 46,
    "start_time": "2023-12-18T19:47:22.783Z"
   },
   {
    "duration": 52,
    "start_time": "2023-12-18T19:47:22.831Z"
   },
   {
    "duration": 44,
    "start_time": "2023-12-18T19:47:22.884Z"
   },
   {
    "duration": 3,
    "start_time": "2023-12-18T19:47:22.930Z"
   },
   {
    "duration": 49,
    "start_time": "2023-12-18T19:47:22.934Z"
   },
   {
    "duration": 235,
    "start_time": "2023-12-18T19:47:22.984Z"
   },
   {
    "duration": 327,
    "start_time": "2023-12-18T19:47:23.221Z"
   },
   {
    "duration": 31,
    "start_time": "2023-12-18T19:47:23.550Z"
   },
   {
    "duration": 247,
    "start_time": "2023-12-18T19:47:23.582Z"
   },
   {
    "duration": 35,
    "start_time": "2023-12-18T19:47:23.831Z"
   },
   {
    "duration": 37,
    "start_time": "2023-12-18T19:47:23.867Z"
   },
   {
    "duration": 20,
    "start_time": "2023-12-18T19:47:23.905Z"
   },
   {
    "duration": 283,
    "start_time": "2023-12-18T19:47:23.926Z"
   },
   {
    "duration": 13,
    "start_time": "2023-12-18T19:47:24.211Z"
   },
   {
    "duration": 48,
    "start_time": "2023-12-18T19:47:24.225Z"
   },
   {
    "duration": 2,
    "start_time": "2023-12-18T19:47:24.275Z"
   },
   {
    "duration": 140,
    "start_time": "2023-12-18T19:47:24.282Z"
   },
   {
    "duration": 21,
    "start_time": "2023-12-18T19:47:24.424Z"
   },
   {
    "duration": 1351,
    "start_time": "2023-12-18T19:47:24.447Z"
   },
   {
    "duration": 19,
    "start_time": "2023-12-18T19:47:25.799Z"
   },
   {
    "duration": 21,
    "start_time": "2023-12-18T19:47:25.819Z"
   },
   {
    "duration": 14,
    "start_time": "2023-12-18T19:47:25.845Z"
   },
   {
    "duration": 636,
    "start_time": "2023-12-18T19:47:25.862Z"
   },
   {
    "duration": 7,
    "start_time": "2023-12-18T19:47:26.500Z"
   },
   {
    "duration": 262,
    "start_time": "2023-12-18T19:47:26.508Z"
   },
   {
    "duration": 823,
    "start_time": "2023-12-18T19:47:26.771Z"
   },
   {
    "duration": 40,
    "start_time": "2023-12-18T19:47:27.596Z"
   },
   {
    "duration": 10,
    "start_time": "2023-12-18T19:47:27.637Z"
   },
   {
    "duration": 1596,
    "start_time": "2023-12-18T19:47:27.648Z"
   },
   {
    "duration": 9,
    "start_time": "2023-12-18T19:47:29.245Z"
   },
   {
    "duration": 13,
    "start_time": "2023-12-18T19:47:29.255Z"
   },
   {
    "duration": 13,
    "start_time": "2023-12-18T19:47:29.269Z"
   },
   {
    "duration": 710,
    "start_time": "2023-12-18T19:47:29.284Z"
   },
   {
    "duration": 9,
    "start_time": "2023-12-18T19:47:29.996Z"
   },
   {
    "duration": 1254,
    "start_time": "2023-12-18T19:47:30.006Z"
   },
   {
    "duration": 11,
    "start_time": "2023-12-18T19:47:31.262Z"
   },
   {
    "duration": 1684,
    "start_time": "2023-12-18T19:47:31.274Z"
   },
   {
    "duration": 9,
    "start_time": "2023-12-18T19:47:32.959Z"
   },
   {
    "duration": 17,
    "start_time": "2023-12-18T19:47:32.982Z"
   },
   {
    "duration": 18,
    "start_time": "2023-12-18T19:47:33.000Z"
   },
   {
    "duration": 792,
    "start_time": "2023-12-18T19:47:33.019Z"
   },
   {
    "duration": 8,
    "start_time": "2023-12-18T19:47:33.812Z"
   },
   {
    "duration": 1251,
    "start_time": "2023-12-18T19:47:33.822Z"
   },
   {
    "duration": 23,
    "start_time": "2023-12-18T19:47:35.074Z"
   },
   {
    "duration": 40,
    "start_time": "2023-12-18T19:47:35.098Z"
   },
   {
    "duration": 2078,
    "start_time": "2023-12-18T19:47:35.140Z"
   },
   {
    "duration": 10,
    "start_time": "2023-12-18T19:47:37.220Z"
   },
   {
    "duration": 14,
    "start_time": "2023-12-18T19:47:37.232Z"
   },
   {
    "duration": 3,
    "start_time": "2023-12-18T19:47:37.247Z"
   },
   {
    "duration": 959,
    "start_time": "2023-12-18T19:47:37.251Z"
   },
   {
    "duration": 10,
    "start_time": "2023-12-18T19:47:38.211Z"
   },
   {
    "duration": 1803,
    "start_time": "2023-12-18T19:47:38.223Z"
   },
   {
    "duration": 13,
    "start_time": "2023-12-18T19:47:40.028Z"
   },
   {
    "duration": 59,
    "start_time": "2023-12-18T19:47:40.043Z"
   },
   {
    "duration": 1155,
    "start_time": "2023-12-18T20:30:29.685Z"
   },
   {
    "duration": 702,
    "start_time": "2023-12-18T20:30:30.842Z"
   },
   {
    "duration": 19,
    "start_time": "2023-12-18T20:30:31.546Z"
   },
   {
    "duration": 105,
    "start_time": "2023-12-18T20:30:31.566Z"
   },
   {
    "duration": 87,
    "start_time": "2023-12-18T20:30:31.672Z"
   },
   {
    "duration": 191,
    "start_time": "2023-12-18T20:30:31.760Z"
   },
   {
    "duration": 137,
    "start_time": "2023-12-18T20:30:31.953Z"
   },
   {
    "duration": 8,
    "start_time": "2023-12-18T20:30:32.092Z"
   },
   {
    "duration": 47,
    "start_time": "2023-12-18T20:30:32.101Z"
   },
   {
    "duration": 38,
    "start_time": "2023-12-18T20:30:32.150Z"
   },
   {
    "duration": 34,
    "start_time": "2023-12-18T20:30:32.190Z"
   },
   {
    "duration": 38,
    "start_time": "2023-12-18T20:30:32.226Z"
   },
   {
    "duration": 25,
    "start_time": "2023-12-18T20:30:32.266Z"
   },
   {
    "duration": 41,
    "start_time": "2023-12-18T20:30:32.292Z"
   },
   {
    "duration": 46,
    "start_time": "2023-12-18T20:30:32.334Z"
   },
   {
    "duration": 529,
    "start_time": "2023-12-18T20:30:32.382Z"
   },
   {
    "duration": 38,
    "start_time": "2023-12-18T20:30:32.914Z"
   },
   {
    "duration": 21,
    "start_time": "2023-12-18T20:30:32.954Z"
   },
   {
    "duration": 21,
    "start_time": "2023-12-18T20:30:32.976Z"
   },
   {
    "duration": 82,
    "start_time": "2023-12-18T20:30:32.998Z"
   },
   {
    "duration": 43,
    "start_time": "2023-12-18T20:30:33.082Z"
   },
   {
    "duration": 44,
    "start_time": "2023-12-18T20:30:33.126Z"
   },
   {
    "duration": 3,
    "start_time": "2023-12-18T20:30:33.172Z"
   },
   {
    "duration": 50,
    "start_time": "2023-12-18T20:30:33.176Z"
   },
   {
    "duration": 222,
    "start_time": "2023-12-18T20:30:33.228Z"
   },
   {
    "duration": 328,
    "start_time": "2023-12-18T20:30:33.451Z"
   },
   {
    "duration": 45,
    "start_time": "2023-12-18T20:30:33.781Z"
   },
   {
    "duration": 267,
    "start_time": "2023-12-18T20:30:33.830Z"
   },
   {
    "duration": 49,
    "start_time": "2023-12-18T20:30:34.099Z"
   },
   {
    "duration": 27,
    "start_time": "2023-12-18T20:30:34.150Z"
   },
   {
    "duration": 37,
    "start_time": "2023-12-18T20:30:34.179Z"
   },
   {
    "duration": 282,
    "start_time": "2023-12-18T20:30:34.218Z"
   },
   {
    "duration": 24,
    "start_time": "2023-12-18T20:30:34.501Z"
   },
   {
    "duration": 40,
    "start_time": "2023-12-18T20:30:34.526Z"
   },
   {
    "duration": 2,
    "start_time": "2023-12-18T20:30:34.567Z"
   },
   {
    "duration": 169,
    "start_time": "2023-12-18T20:30:34.571Z"
   },
   {
    "duration": 23,
    "start_time": "2023-12-18T20:30:34.742Z"
   },
   {
    "duration": 1394,
    "start_time": "2023-12-18T20:30:34.767Z"
   },
   {
    "duration": 20,
    "start_time": "2023-12-18T20:30:36.163Z"
   },
   {
    "duration": 23,
    "start_time": "2023-12-18T20:30:36.184Z"
   },
   {
    "duration": 45,
    "start_time": "2023-12-18T20:30:36.209Z"
   },
   {
    "duration": 641,
    "start_time": "2023-12-18T20:30:36.256Z"
   },
   {
    "duration": 9,
    "start_time": "2023-12-18T20:30:36.898Z"
   },
   {
    "duration": 292,
    "start_time": "2023-12-18T20:30:36.915Z"
   },
   {
    "duration": 840,
    "start_time": "2023-12-18T20:30:37.209Z"
   },
   {
    "duration": 47,
    "start_time": "2023-12-18T20:30:38.050Z"
   },
   {
    "duration": 40,
    "start_time": "2023-12-18T20:30:38.099Z"
   },
   {
    "duration": 1799,
    "start_time": "2023-12-18T20:30:38.140Z"
   },
   {
    "duration": 9,
    "start_time": "2023-12-18T20:30:39.941Z"
   },
   {
    "duration": 24,
    "start_time": "2023-12-18T20:30:39.951Z"
   },
   {
    "duration": 23,
    "start_time": "2023-12-18T20:30:39.977Z"
   },
   {
    "duration": 793,
    "start_time": "2023-12-18T20:30:40.002Z"
   },
   {
    "duration": 8,
    "start_time": "2023-12-18T20:30:40.796Z"
   },
   {
    "duration": 1306,
    "start_time": "2023-12-18T20:30:40.814Z"
   },
   {
    "duration": 12,
    "start_time": "2023-12-18T20:30:42.121Z"
   },
   {
    "duration": 1789,
    "start_time": "2023-12-18T20:30:42.135Z"
   },
   {
    "duration": 8,
    "start_time": "2023-12-18T20:30:43.926Z"
   },
   {
    "duration": 10,
    "start_time": "2023-12-18T20:30:43.935Z"
   },
   {
    "duration": 5,
    "start_time": "2023-12-18T20:30:43.946Z"
   },
   {
    "duration": 816,
    "start_time": "2023-12-18T20:30:43.952Z"
   },
   {
    "duration": 9,
    "start_time": "2023-12-18T20:30:44.769Z"
   },
   {
    "duration": 1292,
    "start_time": "2023-12-18T20:30:44.779Z"
   },
   {
    "duration": 12,
    "start_time": "2023-12-18T20:30:46.073Z"
   },
   {
    "duration": 44,
    "start_time": "2023-12-18T20:30:46.086Z"
   },
   {
    "duration": 2158,
    "start_time": "2023-12-18T20:30:46.131Z"
   },
   {
    "duration": 8,
    "start_time": "2023-12-18T20:30:48.291Z"
   },
   {
    "duration": 41,
    "start_time": "2023-12-18T20:30:48.315Z"
   },
   {
    "duration": 17,
    "start_time": "2023-12-18T20:30:48.357Z"
   },
   {
    "duration": 1050,
    "start_time": "2023-12-18T20:30:48.375Z"
   },
   {
    "duration": 9,
    "start_time": "2023-12-18T20:30:49.427Z"
   },
   {
    "duration": 1938,
    "start_time": "2023-12-18T20:30:49.437Z"
   },
   {
    "duration": 12,
    "start_time": "2023-12-18T20:30:51.377Z"
   },
   {
    "duration": 44,
    "start_time": "2023-12-18T20:30:51.391Z"
   },
   {
    "duration": 1278,
    "start_time": "2023-12-26T13:17:27.867Z"
   },
   {
    "duration": 180,
    "start_time": "2023-12-26T13:17:29.147Z"
   },
   {
    "duration": 20,
    "start_time": "2023-12-26T13:17:29.332Z"
   },
   {
    "duration": 22,
    "start_time": "2023-12-26T13:17:29.353Z"
   },
   {
    "duration": 16,
    "start_time": "2023-12-26T13:17:29.377Z"
   },
   {
    "duration": 16,
    "start_time": "2023-12-26T13:17:29.395Z"
   },
   {
    "duration": 4,
    "start_time": "2023-12-26T13:17:29.412Z"
   },
   {
    "duration": 11,
    "start_time": "2023-12-26T13:17:29.417Z"
   },
   {
    "duration": 13,
    "start_time": "2023-12-26T13:17:29.432Z"
   },
   {
    "duration": 9,
    "start_time": "2023-12-26T13:17:29.447Z"
   },
   {
    "duration": 11,
    "start_time": "2023-12-26T13:17:29.457Z"
   },
   {
    "duration": 43,
    "start_time": "2023-12-26T13:17:29.469Z"
   },
   {
    "duration": 187,
    "start_time": "2023-12-26T13:17:29.514Z"
   },
   {
    "duration": 129,
    "start_time": "2023-12-26T13:17:29.703Z"
   },
   {
    "duration": 10,
    "start_time": "2023-12-26T13:17:29.833Z"
   },
   {
    "duration": 320,
    "start_time": "2023-12-26T13:17:29.844Z"
   },
   {
    "duration": 215,
    "start_time": "2023-12-26T13:17:30.165Z"
   },
   {
    "duration": 353,
    "start_time": "2023-12-26T13:17:30.381Z"
   },
   {
    "duration": 193,
    "start_time": "2023-12-26T13:17:30.736Z"
   },
   {
    "duration": 261,
    "start_time": "2023-12-26T13:17:30.931Z"
   },
   {
    "duration": 142,
    "start_time": "2023-12-26T13:17:31.194Z"
   },
   {
    "duration": 127,
    "start_time": "2023-12-26T13:17:31.338Z"
   },
   {
    "duration": 4,
    "start_time": "2023-12-26T13:17:31.467Z"
   },
   {
    "duration": 335,
    "start_time": "2023-12-26T13:17:31.473Z"
   },
   {
    "duration": 144,
    "start_time": "2023-12-26T13:17:31.811Z"
   },
   {
    "duration": 4,
    "start_time": "2023-12-26T13:17:31.957Z"
   },
   {
    "duration": 278,
    "start_time": "2023-12-26T13:17:31.964Z"
   },
   {
    "duration": 135,
    "start_time": "2023-12-26T13:17:32.244Z"
   },
   {
    "duration": 7,
    "start_time": "2023-12-26T13:17:32.381Z"
   },
   {
    "duration": 35,
    "start_time": "2023-12-26T13:17:32.390Z"
   },
   {
    "duration": 9,
    "start_time": "2023-12-26T13:17:32.427Z"
   },
   {
    "duration": 11,
    "start_time": "2023-12-26T13:17:32.437Z"
   },
   {
    "duration": 8,
    "start_time": "2023-12-26T13:17:32.449Z"
   },
   {
    "duration": 24,
    "start_time": "2023-12-26T13:17:32.458Z"
   },
   {
    "duration": 11,
    "start_time": "2023-12-26T13:17:32.511Z"
   },
   {
    "duration": 187,
    "start_time": "2023-12-26T13:17:32.524Z"
   },
   {
    "duration": 179,
    "start_time": "2023-12-26T13:17:32.712Z"
   },
   {
    "duration": 182,
    "start_time": "2023-12-26T13:17:32.893Z"
   },
   {
    "duration": 71,
    "start_time": "2023-12-26T13:24:45.386Z"
   },
   {
    "duration": 90,
    "start_time": "2023-12-26T13:27:55.160Z"
   },
   {
    "duration": 51,
    "start_time": "2023-12-26T13:44:33.025Z"
   },
   {
    "duration": 1443,
    "start_time": "2023-12-26T13:44:35.656Z"
   },
   {
    "duration": 194,
    "start_time": "2023-12-26T13:44:37.102Z"
   },
   {
    "duration": 24,
    "start_time": "2023-12-26T13:44:37.298Z"
   },
   {
    "duration": 31,
    "start_time": "2023-12-26T13:44:37.324Z"
   },
   {
    "duration": 14,
    "start_time": "2023-12-26T13:44:37.356Z"
   },
   {
    "duration": 11,
    "start_time": "2023-12-26T13:44:37.372Z"
   },
   {
    "duration": 4,
    "start_time": "2023-12-26T13:44:37.385Z"
   },
   {
    "duration": 11,
    "start_time": "2023-12-26T13:44:37.391Z"
   },
   {
    "duration": 13,
    "start_time": "2023-12-26T13:44:37.431Z"
   },
   {
    "duration": 12,
    "start_time": "2023-12-26T13:44:37.446Z"
   },
   {
    "duration": 13,
    "start_time": "2023-12-26T13:44:37.460Z"
   },
   {
    "duration": 13,
    "start_time": "2023-12-26T13:44:37.475Z"
   },
   {
    "duration": 247,
    "start_time": "2023-12-26T13:44:37.490Z"
   },
   {
    "duration": 148,
    "start_time": "2023-12-26T13:44:37.740Z"
   },
   {
    "duration": 11,
    "start_time": "2023-12-26T13:44:37.891Z"
   },
   {
    "duration": 320,
    "start_time": "2023-12-26T13:44:37.904Z"
   },
   {
    "duration": 210,
    "start_time": "2023-12-26T13:44:38.230Z"
   },
   {
    "duration": 327,
    "start_time": "2023-12-26T13:44:38.443Z"
   },
   {
    "duration": 221,
    "start_time": "2023-12-26T13:44:38.773Z"
   },
   {
    "duration": 325,
    "start_time": "2023-12-26T13:44:38.996Z"
   },
   {
    "duration": 167,
    "start_time": "2023-12-26T13:44:39.323Z"
   },
   {
    "duration": 147,
    "start_time": "2023-12-26T13:44:39.492Z"
   },
   {
    "duration": 5,
    "start_time": "2023-12-26T13:44:39.640Z"
   },
   {
    "duration": 356,
    "start_time": "2023-12-26T13:44:39.646Z"
   },
   {
    "duration": 157,
    "start_time": "2023-12-26T13:44:40.004Z"
   },
   {
    "duration": 5,
    "start_time": "2023-12-26T13:44:40.163Z"
   },
   {
    "duration": 247,
    "start_time": "2023-12-26T13:44:40.169Z"
   },
   {
    "duration": 138,
    "start_time": "2023-12-26T13:44:40.419Z"
   },
   {
    "duration": 8,
    "start_time": "2023-12-26T13:44:40.558Z"
   },
   {
    "duration": 43,
    "start_time": "2023-12-26T13:44:40.568Z"
   },
   {
    "duration": 25,
    "start_time": "2023-12-26T13:44:40.613Z"
   },
   {
    "duration": 31,
    "start_time": "2023-12-26T13:44:40.640Z"
   },
   {
    "duration": 34,
    "start_time": "2023-12-26T13:44:40.673Z"
   },
   {
    "duration": 33,
    "start_time": "2023-12-26T13:44:40.709Z"
   },
   {
    "duration": 33,
    "start_time": "2023-12-26T13:44:40.744Z"
   },
   {
    "duration": 191,
    "start_time": "2023-12-26T13:44:40.779Z"
   },
   {
    "duration": 217,
    "start_time": "2023-12-26T13:44:40.972Z"
   },
   {
    "duration": 218,
    "start_time": "2023-12-26T13:44:41.191Z"
   },
   {
    "duration": 4,
    "start_time": "2023-12-26T13:47:47.087Z"
   },
   {
    "duration": 4,
    "start_time": "2023-12-26T13:47:58.648Z"
   },
   {
    "duration": 5,
    "start_time": "2023-12-26T13:48:36.218Z"
   },
   {
    "duration": 381,
    "start_time": "2023-12-26T13:52:15.435Z"
   },
   {
    "duration": 194,
    "start_time": "2023-12-26T13:52:24.742Z"
   },
   {
    "duration": 372,
    "start_time": "2023-12-26T13:53:33.062Z"
   },
   {
    "duration": 231,
    "start_time": "2023-12-26T13:54:18.696Z"
   },
   {
    "duration": 217,
    "start_time": "2023-12-26T13:54:51.951Z"
   },
   {
    "duration": 249,
    "start_time": "2023-12-26T13:55:02.663Z"
   },
   {
    "duration": 321,
    "start_time": "2023-12-26T13:55:31.161Z"
   },
   {
    "duration": 215,
    "start_time": "2023-12-26T13:55:38.158Z"
   },
   {
    "duration": 304,
    "start_time": "2023-12-26T13:55:51.552Z"
   },
   {
    "duration": 279,
    "start_time": "2023-12-26T13:56:05.431Z"
   },
   {
    "duration": 346,
    "start_time": "2023-12-26T13:56:19.985Z"
   },
   {
    "duration": 291,
    "start_time": "2023-12-26T13:56:38.875Z"
   },
   {
    "duration": 45,
    "start_time": "2023-12-26T13:57:36.927Z"
   },
   {
    "duration": 143,
    "start_time": "2023-12-26T13:58:18.219Z"
   },
   {
    "duration": 135,
    "start_time": "2023-12-26T13:58:28.673Z"
   },
   {
    "duration": 145,
    "start_time": "2023-12-26T13:58:40.149Z"
   },
   {
    "duration": 328,
    "start_time": "2023-12-26T13:58:58.430Z"
   },
   {
    "duration": 266,
    "start_time": "2023-12-26T13:59:19.751Z"
   },
   {
    "duration": 161,
    "start_time": "2023-12-26T14:00:25.478Z"
   },
   {
    "duration": 165,
    "start_time": "2023-12-26T14:00:47.101Z"
   },
   {
    "duration": 159,
    "start_time": "2023-12-26T14:02:17.408Z"
   },
   {
    "duration": 5,
    "start_time": "2023-12-26T14:09:52.913Z"
   },
   {
    "duration": 68,
    "start_time": "2023-12-26T14:10:31.114Z"
   },
   {
    "duration": 5,
    "start_time": "2023-12-26T14:11:10.359Z"
   },
   {
    "duration": 49,
    "start_time": "2023-12-26T14:11:22.133Z"
   },
   {
    "duration": 662,
    "start_time": "2023-12-26T14:11:37.171Z"
   },
   {
    "duration": 78,
    "start_time": "2023-12-26T14:12:34.017Z"
   },
   {
    "duration": 26,
    "start_time": "2023-12-26T14:13:14.768Z"
   },
   {
    "duration": 17,
    "start_time": "2023-12-26T14:13:31.592Z"
   },
   {
    "duration": 17,
    "start_time": "2023-12-26T14:15:03.332Z"
   },
   {
    "duration": 220,
    "start_time": "2023-12-26T14:27:45.048Z"
   },
   {
    "duration": 227,
    "start_time": "2023-12-26T14:28:05.031Z"
   },
   {
    "duration": 42,
    "start_time": "2023-12-26T14:32:43.422Z"
   },
   {
    "duration": 146,
    "start_time": "2023-12-26T14:33:37.566Z"
   },
   {
    "duration": 8,
    "start_time": "2023-12-26T14:33:43.270Z"
   },
   {
    "duration": 3,
    "start_time": "2023-12-26T14:34:02.445Z"
   },
   {
    "duration": 98,
    "start_time": "2023-12-26T14:34:02.450Z"
   },
   {
    "duration": 27,
    "start_time": "2023-12-26T14:34:02.550Z"
   },
   {
    "duration": 36,
    "start_time": "2023-12-26T14:34:02.579Z"
   },
   {
    "duration": 29,
    "start_time": "2023-12-26T14:34:02.617Z"
   },
   {
    "duration": 7,
    "start_time": "2023-12-26T14:34:02.943Z"
   },
   {
    "duration": 85,
    "start_time": "2023-12-26T14:34:02.952Z"
   },
   {
    "duration": 65,
    "start_time": "2023-12-26T14:34:03.040Z"
   },
   {
    "duration": 83,
    "start_time": "2023-12-26T14:34:03.107Z"
   },
   {
    "duration": 58,
    "start_time": "2023-12-26T14:34:03.193Z"
   },
   {
    "duration": 74,
    "start_time": "2023-12-26T14:34:03.253Z"
   },
   {
    "duration": 73,
    "start_time": "2023-12-26T14:34:03.329Z"
   },
   {
    "duration": 247,
    "start_time": "2023-12-26T14:34:03.404Z"
   },
   {
    "duration": 140,
    "start_time": "2023-12-26T14:34:03.653Z"
   },
   {
    "duration": 11,
    "start_time": "2023-12-26T14:34:03.795Z"
   },
   {
    "duration": 32,
    "start_time": "2023-12-26T14:34:03.808Z"
   },
   {
    "duration": 253,
    "start_time": "2023-12-26T14:34:03.841Z"
   },
   {
    "duration": 222,
    "start_time": "2023-12-26T14:34:04.096Z"
   },
   {
    "duration": 317,
    "start_time": "2023-12-26T14:34:04.330Z"
   },
   {
    "duration": 233,
    "start_time": "2023-12-26T14:34:04.649Z"
   },
   {
    "duration": 331,
    "start_time": "2023-12-26T14:34:04.884Z"
   },
   {
    "duration": 239,
    "start_time": "2023-12-26T14:34:05.216Z"
   },
   {
    "duration": 166,
    "start_time": "2023-12-26T14:34:05.457Z"
   },
   {
    "duration": 8,
    "start_time": "2023-12-26T14:34:05.625Z"
   },
   {
    "duration": 324,
    "start_time": "2023-12-26T14:34:05.635Z"
   },
   {
    "duration": 170,
    "start_time": "2023-12-26T14:34:05.960Z"
   },
   {
    "duration": 5,
    "start_time": "2023-12-26T14:34:06.132Z"
   },
   {
    "duration": 60,
    "start_time": "2023-12-26T14:34:06.139Z"
   },
   {
    "duration": 178,
    "start_time": "2023-12-26T14:34:06.201Z"
   },
   {
    "duration": 9,
    "start_time": "2023-12-26T14:34:06.381Z"
   },
   {
    "duration": 61,
    "start_time": "2023-12-26T14:34:06.392Z"
   },
   {
    "duration": 46,
    "start_time": "2023-12-26T14:34:06.456Z"
   },
   {
    "duration": 43,
    "start_time": "2023-12-26T14:34:06.504Z"
   },
   {
    "duration": 34,
    "start_time": "2023-12-26T14:34:06.549Z"
   },
   {
    "duration": 55,
    "start_time": "2023-12-26T14:34:06.585Z"
   },
   {
    "duration": 18,
    "start_time": "2023-12-26T14:34:06.642Z"
   },
   {
    "duration": 231,
    "start_time": "2023-12-26T14:34:06.661Z"
   },
   {
    "duration": 242,
    "start_time": "2023-12-26T14:34:06.896Z"
   },
   {
    "duration": 264,
    "start_time": "2023-12-26T14:34:07.140Z"
   },
   {
    "duration": 48,
    "start_time": "2023-12-26T14:36:10.245Z"
   },
   {
    "duration": 155,
    "start_time": "2023-12-26T14:37:22.914Z"
   },
   {
    "duration": 356,
    "start_time": "2023-12-26T14:43:06.616Z"
   },
   {
    "duration": 262,
    "start_time": "2023-12-26T14:45:47.631Z"
   },
   {
    "duration": 4,
    "start_time": "2023-12-26T14:48:59.018Z"
   },
   {
    "duration": 85,
    "start_time": "2023-12-26T14:48:59.024Z"
   },
   {
    "duration": 17,
    "start_time": "2023-12-26T14:48:59.110Z"
   },
   {
    "duration": 21,
    "start_time": "2023-12-26T14:48:59.128Z"
   },
   {
    "duration": 27,
    "start_time": "2023-12-26T14:48:59.151Z"
   },
   {
    "duration": 22,
    "start_time": "2023-12-26T14:48:59.180Z"
   },
   {
    "duration": 7,
    "start_time": "2023-12-26T14:48:59.204Z"
   },
   {
    "duration": 11,
    "start_time": "2023-12-26T14:49:01.165Z"
   },
   {
    "duration": 84,
    "start_time": "2023-12-26T14:49:01.178Z"
   },
   {
    "duration": 51,
    "start_time": "2023-12-26T14:49:01.264Z"
   },
   {
    "duration": 81,
    "start_time": "2023-12-26T14:49:01.317Z"
   },
   {
    "duration": 53,
    "start_time": "2023-12-26T14:49:01.401Z"
   },
   {
    "duration": 375,
    "start_time": "2023-12-26T14:49:01.456Z"
   },
   {
    "duration": 138,
    "start_time": "2023-12-26T14:49:01.833Z"
   },
   {
    "duration": 11,
    "start_time": "2023-12-26T14:49:01.973Z"
   },
   {
    "duration": 107,
    "start_time": "2023-12-26T14:49:01.986Z"
   },
   {
    "duration": 253,
    "start_time": "2023-12-26T14:49:02.095Z"
   },
   {
    "duration": 227,
    "start_time": "2023-12-26T14:49:02.349Z"
   },
   {
    "duration": 305,
    "start_time": "2023-12-26T14:49:02.578Z"
   },
   {
    "duration": 227,
    "start_time": "2023-12-26T14:49:02.886Z"
   },
   {
    "duration": 341,
    "start_time": "2023-12-26T14:49:03.130Z"
   },
   {
    "duration": 152,
    "start_time": "2023-12-26T14:49:03.474Z"
   },
   {
    "duration": 146,
    "start_time": "2023-12-26T14:49:03.631Z"
   },
   {
    "duration": 5,
    "start_time": "2023-12-26T14:49:03.779Z"
   },
   {
    "duration": 302,
    "start_time": "2023-12-26T14:49:03.786Z"
   },
   {
    "duration": 162,
    "start_time": "2023-12-26T14:49:04.090Z"
   },
   {
    "duration": 176,
    "start_time": "2023-12-26T14:49:04.254Z"
   },
   {
    "duration": 6,
    "start_time": "2023-12-26T14:49:04.432Z"
   },
   {
    "duration": 147,
    "start_time": "2023-12-26T14:49:04.440Z"
   },
   {
    "duration": 158,
    "start_time": "2023-12-26T14:49:04.588Z"
   },
   {
    "duration": 8,
    "start_time": "2023-12-26T14:49:04.748Z"
   },
   {
    "duration": 26,
    "start_time": "2023-12-26T14:49:04.758Z"
   },
   {
    "duration": 10,
    "start_time": "2023-12-26T14:49:04.787Z"
   },
   {
    "duration": 40,
    "start_time": "2023-12-26T14:49:04.799Z"
   },
   {
    "duration": 8,
    "start_time": "2023-12-26T14:49:04.841Z"
   },
   {
    "duration": 27,
    "start_time": "2023-12-26T14:49:04.850Z"
   },
   {
    "duration": 13,
    "start_time": "2023-12-26T14:49:04.879Z"
   },
   {
    "duration": 237,
    "start_time": "2023-12-26T14:49:04.894Z"
   },
   {
    "duration": 239,
    "start_time": "2023-12-26T14:49:05.133Z"
   },
   {
    "duration": 238,
    "start_time": "2023-12-26T14:49:05.373Z"
   }
  ],
  "kernelspec": {
   "display_name": "Python 3 (ipykernel)",
   "language": "python",
   "name": "python3"
  },
  "language_info": {
   "codemirror_mode": {
    "name": "ipython",
    "version": 3
   },
   "file_extension": ".py",
   "mimetype": "text/x-python",
   "name": "python",
   "nbconvert_exporter": "python",
   "pygments_lexer": "ipython3",
   "version": "3.9.18"
  },
  "toc": {
   "base_numbering": 1,
   "nav_menu": {},
   "number_sections": true,
   "sideBar": true,
   "skip_h1_title": true,
   "title_cell": "Содержание",
   "title_sidebar": "Contents",
   "toc_cell": true,
   "toc_position": {
    "height": "355.364px",
    "left": "54.9924px",
    "top": "110.099px",
    "width": "230.049px"
   },
   "toc_section_display": true,
   "toc_window_display": true
  }
 },
 "nbformat": 4,
 "nbformat_minor": 4
}
