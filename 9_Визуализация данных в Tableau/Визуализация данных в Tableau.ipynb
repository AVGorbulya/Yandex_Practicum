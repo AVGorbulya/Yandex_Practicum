{
 "cells": [
  {
   "cell_type": "markdown",
   "id": "930cd79d",
   "metadata": {},
   "source": [
    "# Проект \"Визуализация данных в Tableau Исследование данных конференций TED\""
   ]
  },
  {
   "cell_type": "markdown",
   "id": "f1fe3f3b",
   "metadata": {},
   "source": [
    "Дашборд размещен по ссылке:\n",
    "\n",
    "https://public.tableau.com/shared/8PBCFHQHZ?:display_count=n&:origin=viz_share_link"
   ]
  }
 ],
 "metadata": {
  "kernelspec": {
   "display_name": "Python 3 (ipykernel)",
   "language": "python",
   "name": "python3"
  },
  "language_info": {
   "codemirror_mode": {
    "name": "ipython",
    "version": 3
   },
   "file_extension": ".py",
   "mimetype": "text/x-python",
   "name": "python",
   "nbconvert_exporter": "python",
   "pygments_lexer": "ipython3",
   "version": "3.9.18"
  },
  "toc": {
   "base_numbering": 1,
   "nav_menu": {},
   "number_sections": true,
   "sideBar": true,
   "skip_h1_title": true,
   "title_cell": "Table of Contents",
   "title_sidebar": "Contents",
   "toc_cell": false,
   "toc_position": {},
   "toc_section_display": true,
   "toc_window_display": false
  }
 },
 "nbformat": 4,
 "nbformat_minor": 5
}
